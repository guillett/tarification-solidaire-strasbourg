{
 "cells": [
  {
   "cell_type": "code",
   "execution_count": null,
   "id": "b48d0bea",
   "metadata": {},
   "outputs": [],
   "source": [
    "1"
   ]
  },
  {
   "cell_type": "code",
   "execution_count": null,
   "id": "e7fd3d51",
   "metadata": {},
   "outputs": [],
   "source": [
    "import sys\n",
    "\n",
    "sys.path.append(\"./technique\")\n",
    "from qf import determine_qf, qf_mapping"
   ]
  },
  {
   "cell_type": "code",
   "execution_count": null,
   "id": "6dcfde7e",
   "metadata": {},
   "outputs": [],
   "source": [
    "import pandas as pd"
   ]
  },
  {
   "cell_type": "code",
   "execution_count": null,
   "id": "59845c5d",
   "metadata": {},
   "outputs": [],
   "source": [
    "df = pd.DataFrame({\"sample_id\": range(10000), \"qfrule\": \"QF<2000\"})\n",
    "df"
   ]
  },
  {
   "cell_type": "code",
   "execution_count": null,
   "id": "1af2f592",
   "metadata": {},
   "outputs": [],
   "source": [
    "qf_mapping"
   ]
  },
  {
   "cell_type": "code",
   "execution_count": null,
   "id": "fa6a46b8",
   "metadata": {},
   "outputs": [],
   "source": [
    "qf_mapping"
   ]
  },
  {
   "cell_type": "code",
   "execution_count": null,
   "id": "7b1c7809",
   "metadata": {},
   "outputs": [],
   "source": [
    "determine_qf(\n",
    "    df,\n",
    "    qf_mapping[\n",
    "        qf_mapping.TYPOLOGIE.isin([\"Couple avec enfant(s)\", \"Famille monoparentale\"])\n",
    "    ],\n",
    ")\n",
    "df"
   ]
  },
  {
   "cell_type": "code",
   "execution_count": null,
   "id": "51fa1ce1",
   "metadata": {},
   "outputs": [],
   "source": [
    "import seaborn"
   ]
  },
  {
   "cell_type": "code",
   "execution_count": null,
   "id": "868e1021",
   "metadata": {},
   "outputs": [],
   "source": [
    "l = 2000\n",
    "p = seaborn.jointplot(\n",
    "    df[df.qf_fiscal != 0],\n",
    "    x=\"qf_caf\",\n",
    "    y=\"qf_fiscal\",\n",
    "    kind=\"hist\",\n",
    "    xlim=[0, l],\n",
    "    ylim=[0, l],\n",
    "    bins=50,\n",
    ")"
   ]
  },
  {
   "cell_type": "code",
   "execution_count": null,
   "id": "c8880f40",
   "metadata": {},
   "outputs": [],
   "source": [
    "df[[\"qf_caf\", \"qf_fiscal\"]].plot.hist(bins=50, alpha=0.5)"
   ]
  },
  {
   "cell_type": "code",
   "execution_count": null,
   "id": "e2e2f378",
   "metadata": {},
   "outputs": [],
   "source": [
    "qf_mapping"
   ]
  },
  {
   "cell_type": "code",
   "execution_count": null,
   "id": "104bbc9f",
   "metadata": {},
   "outputs": [],
   "source": [
    "qf_mapping[\n",
    "    qf_mapping.TYPOLOGIE.isin([\"Couple avec enfant(s)\", \"Famille monoparentale\"])\n",
    "]"
   ]
  },
  {
   "cell_type": "code",
   "execution_count": null,
   "id": "57856649",
   "metadata": {},
   "outputs": [],
   "source": []
  }
 ],
 "metadata": {
  "kernelspec": {
   "display_name": "Python 3 (ipykernel)",
   "language": "python",
   "name": "python3"
  },
  "language_info": {
   "codemirror_mode": {
    "name": "ipython",
    "version": 3
   },
   "file_extension": ".py",
   "mimetype": "text/x-python",
   "name": "python",
   "nbconvert_exporter": "python",
   "pygments_lexer": "ipython3",
   "version": "3.9.16"
  }
 },
 "nbformat": 4,
 "nbformat_minor": 5
}
