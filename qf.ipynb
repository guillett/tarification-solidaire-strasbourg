{
 "cells": [
  {
   "cell_type": "code",
   "execution_count": null,
   "id": "b48d0bea",
   "metadata": {},
   "outputs": [],
   "source": [
    "1"
   ]
  },
  {
   "cell_type": "code",
   "execution_count": null,
   "id": "23f03dbe",
   "metadata": {},
   "outputs": [],
   "source": [
    "from dotenv import load_dotenv\n",
    "\n",
    "load_dotenv()\n",
    "import os\n",
    "import sys"
   ]
  },
  {
   "cell_type": "code",
   "execution_count": null,
   "id": "e7fd3d51",
   "metadata": {},
   "outputs": [],
   "source": [
    "import sys\n",
    "\n",
    "sys.path.append(\"./technique\")\n",
    "from qf import determine_qf, qf_mapping"
   ]
  },
  {
   "cell_type": "code",
   "execution_count": null,
   "id": "6dcfde7e",
   "metadata": {},
   "outputs": [],
   "source": [
    "import pandas as pd"
   ]
  },
  {
   "cell_type": "code",
   "execution_count": null,
   "id": "aedb9db1",
   "metadata": {},
   "outputs": [],
   "source": [
    "import seaborn"
   ]
  },
  {
   "cell_type": "code",
   "execution_count": null,
   "id": "a01c50d3",
   "metadata": {},
   "outputs": [],
   "source": [
    "qf_mapping"
   ]
  },
  {
   "cell_type": "code",
   "execution_count": null,
   "id": "ee5323f3",
   "metadata": {},
   "outputs": [],
   "source": [
    "import numpy as np"
   ]
  },
  {
   "cell_type": "code",
   "execution_count": null,
   "id": "d93111da",
   "metadata": {},
   "outputs": [],
   "source": [
    "coef = np.select(\n",
    "    [\n",
    "        qf_mapping.TYPOLOGIE == \"Isolé(s) sans enfant\",\n",
    "        qf_mapping.TYPOLOGIE == \"Famille monoparentale\",\n",
    "    ],\n",
    "    [2, 2.5 / 1.5],\n",
    "    default=1,\n",
    ")"
   ]
  },
  {
   "cell_type": "code",
   "execution_count": null,
   "id": "d4243428",
   "metadata": {},
   "outputs": [],
   "source": [
    "qf_mappingv2 = pd.DataFrame(\n",
    "    {\n",
    "        \"CAF\": qf_mapping.CAF,\n",
    "        \"EMSv2\": qf_mapping.EMS / coef,\n",
    "        \"EMSv1\": qf_mapping.EMS,\n",
    "        \"coef\": coef,\n",
    "        \"TYPOLOGIE\": qf_mapping.TYPOLOGIE,\n",
    "    }\n",
    ")"
   ]
  }
 ],
 "metadata": {
  "kernelspec": {
   "display_name": "Python 3 (ipykernel)",
   "language": "python",
   "name": "python3"
  },
  "language_info": {
   "codemirror_mode": {
    "name": "ipython",
    "version": 3
   },
   "file_extension": ".py",
   "mimetype": "text/x-python",
   "name": "python",
   "nbconvert_exporter": "python",
   "pygments_lexer": "ipython3",
   "version": "3.9.16"
  }
 },
 "nbformat": 4,
 "nbformat_minor": 5
}
