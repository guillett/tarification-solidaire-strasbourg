{
 "cells": [
  {
   "cell_type": "code",
   "execution_count": null,
   "id": "09835440",
   "metadata": {},
   "outputs": [],
   "source": [
    "import pandas as pd"
   ]
  },
  {
   "cell_type": "code",
   "execution_count": null,
   "id": "1b71c982",
   "metadata": {},
   "outputs": [],
   "source": [
    "df_copil = pd.read_pickle(\n",
    "    \"/home/thomas/Nextcloud/CodeursEnLiberte/EMS/dee/pres410/base_copil.pickle\"\n",
    ")"
   ]
  },
  {
   "cell_type": "code",
   "execution_count": null,
   "id": "db83d228",
   "metadata": {},
   "outputs": [],
   "source": [
    "pub = (\n",
    "    df_copil[df_copil.service == \"Repas standard\"]\n",
    "    .groupby([\"sample_id\", \"pu\"])\n",
    "    .quantité.sum()\n",
    "    .groupby(\"pu\")\n",
    "    .median()\n",
    ")\n",
    "pub"
   ]
  },
  {
   "cell_type": "code",
   "execution_count": null,
   "id": "93c8d1de",
   "metadata": {},
   "outputs": [],
   "source": [
    "puc = (\n",
    "    df_copil[df_copil.service == \"Repas standard\"]\n",
    "    .groupby([\"sample_id\", \"pu_r\"])\n",
    "    .quantité.sum()\n",
    "    .groupby(\"pu_r\")\n",
    "    .median()\n",
    ")\n",
    "puc"
   ]
  },
  {
   "cell_type": "code",
   "execution_count": null,
   "id": "546741be",
   "metadata": {},
   "outputs": [],
   "source": [
    "df_copil_mieux = pd.read_pickle(\n",
    "    \"/home/thomas/Nextcloud/CodeursEnLiberte/EMS/dee/pres410/base_copil_mieux.pickle\"\n",
    ")"
   ]
  },
  {
   "cell_type": "code",
   "execution_count": null,
   "id": "f5bfa7f5",
   "metadata": {},
   "outputs": [],
   "source": [
    "df_copil_mieux[df_copil_mieux.service == \"Repas standard\"].groupby(\n",
    "    [\"sample_id\", \"pu\"]\n",
    ").quantité.sum().groupby(\"pu\").median()"
   ]
  },
  {
   "cell_type": "code",
   "execution_count": null,
   "id": "a0a269fa",
   "metadata": {},
   "outputs": [],
   "source": [
    "pum = (\n",
    "    df_copil_mieux[df_copil_mieux.service == \"Repas standard\"]\n",
    "    .groupby([\"sample_id\", \"pu_r\"])\n",
    "    .quantité.sum()\n",
    "    .groupby(\"pu_r\")\n",
    "    .median()\n",
    ")\n",
    "pum"
   ]
  },
  {
   "cell_type": "code",
   "execution_count": null,
   "id": "c126a922",
   "metadata": {},
   "outputs": [],
   "source": [
    "recettes_cts = pd.read_pickle(\n",
    "    \"/home/thomas/Nextcloud/CodeursEnLiberte/EMS/dee/pres410/recettes_std_constant.pickle\"\n",
    ")"
   ]
  },
  {
   "cell_type": "code",
   "execution_count": null,
   "id": "c04a979e",
   "metadata": {},
   "outputs": [],
   "source": [
    "purc = (\n",
    "    recettes_cts[recettes_cts.service == \"Repas standard\"]\n",
    "    .groupby([\"sample_id\", \"pu_r\"])\n",
    "    .quantité.sum()\n",
    "    .groupby(\"pu_r\")\n",
    "    .median()\n",
    ")\n",
    "purc"
   ]
  },
  {
   "cell_type": "code",
   "execution_count": null,
   "id": "55253adf",
   "metadata": {},
   "outputs": [],
   "source": [
    "dpxc = pd.DataFrame(\n",
    "    {\n",
    "        \"p\": puc.index,\n",
    "        \"nb_base\": pub.values,\n",
    "        \"nb_copil\": puc.values,\n",
    "        \"nb_enf\": pum.values,\n",
    "        \"nb_cts\": purc.values,\n",
    "    }\n",
    ")"
   ]
  },
  {
   "cell_type": "code",
   "execution_count": null,
   "id": "d67537a7",
   "metadata": {},
   "outputs": [],
   "source": [
    "dpxc.plot.bar(x=\"p\")"
   ]
  },
  {
   "cell_type": "code",
   "execution_count": null,
   "id": "2149276d",
   "metadata": {},
   "outputs": [],
   "source": [
    "dpxc.to_excel(\n",
    "    \"/home/thomas/Nextcloud/CodeursEnLiberte/EMS/dee/pres410/population2.xlsx\"\n",
    ")"
   ]
  },
  {
   "cell_type": "code",
   "execution_count": null,
   "id": "a9e0dfc8",
   "metadata": {},
   "outputs": [],
   "source": [
    "cible = pd.read_pickle(\n",
    "    \"/home/thomas/Nextcloud/CodeursEnLiberte/EMS/dee/pres410/cible.pickle\"\n",
    ")"
   ]
  },
  {
   "cell_type": "code",
   "execution_count": null,
   "id": "a0637de7",
   "metadata": {},
   "outputs": [],
   "source": []
  },
  {
   "cell_type": "code",
   "execution_count": null,
   "id": "d47162cd",
   "metadata": {},
   "outputs": [],
   "source": [
    "cible_rs = cible[cible.service == \"Repas standard\"]"
   ]
  },
  {
   "cell_type": "code",
   "execution_count": null,
   "id": "84902fc4",
   "metadata": {},
   "outputs": [],
   "source": [
    "cible_rs"
   ]
  },
  {
   "cell_type": "code",
   "execution_count": null,
   "id": "5e992ada",
   "metadata": {},
   "outputs": [],
   "source": [
    "mcible_rs = cible_rs[[\"sample_id\", \"pu\", \"pu_r\", \"quantité\"]]"
   ]
  },
  {
   "cell_type": "code",
   "execution_count": null,
   "id": "8a151775",
   "metadata": {},
   "outputs": [],
   "source": [
    "import numpy as np"
   ]
  },
  {
   "cell_type": "code",
   "execution_count": null,
   "id": "78482260",
   "metadata": {},
   "outputs": [],
   "source": [
    "cible"
   ]
  },
  {
   "cell_type": "code",
   "execution_count": null,
   "id": "6b04612f",
   "metadata": {},
   "outputs": [],
   "source": [
    "lcible = mcible_rs.loc[mcible_rs.index.repeat(mcible_rs.quantité)]"
   ]
  },
  {
   "cell_type": "code",
   "execution_count": null,
   "id": "a8dadcd5",
   "metadata": {},
   "outputs": [],
   "source": [
    "lcible[\"id\"] = np.tile(range(1430517), 10)"
   ]
  },
  {
   "cell_type": "code",
   "execution_count": null,
   "id": "e77e1e6c",
   "metadata": {},
   "outputs": [],
   "source": [
    "import seaborn as sns"
   ]
  },
  {
   "cell_type": "code",
   "execution_count": null,
   "id": "5869b427",
   "metadata": {},
   "outputs": [],
   "source": [
    "lcible"
   ]
  },
  {
   "cell_type": "code",
   "execution_count": null,
   "id": "17b6a06c",
   "metadata": {},
   "outputs": [],
   "source": [
    "move_df = pd.DataFrame(\n",
    "    {\n",
    "        \"prix_avant\": lcible.groupby(\"id\").pu.mean().round(2),\n",
    "        \"prix_après\": lcible.groupby(\"id\").pu_r.mean(),\n",
    "        \"prix_après_median\": lcible.groupby(\"id\").pu_r.median().round(1),\n",
    "    }\n",
    ")"
   ]
  },
  {
   "cell_type": "code",
   "execution_count": null,
   "id": "c4d8c742",
   "metadata": {},
   "outputs": [],
   "source": [
    "move_df"
   ]
  },
  {
   "cell_type": "code",
   "execution_count": null,
   "id": "7f9079b5",
   "metadata": {},
   "outputs": [],
   "source": [
    "move_df[\"difference\"] = move_df.prix_après - move_df.prix_avant"
   ]
  },
  {
   "cell_type": "code",
   "execution_count": null,
   "id": "e111e637",
   "metadata": {},
   "outputs": [],
   "source": [
    "move_df[\"ratio\"] = move_df.prix_après / move_df.prix_avant"
   ]
  },
  {
   "cell_type": "code",
   "execution_count": null,
   "id": "b03d7bfb",
   "metadata": {},
   "outputs": [],
   "source": [
    "sns.ecdfplot(move_df, x=\"ratio\")"
   ]
  },
  {
   "cell_type": "code",
   "execution_count": null,
   "id": "42c7b3a9",
   "metadata": {},
   "outputs": [],
   "source": [
    "sns.ecdfplot(move_df, x=\"difference\")"
   ]
  },
  {
   "cell_type": "code",
   "execution_count": null,
   "id": "10b2f544",
   "metadata": {},
   "outputs": [],
   "source": [
    "c = move_df.prix_avant.round(2).astype(\"category\")\n",
    "move_df[\"prix avant\"] = c.cat.rename_categories(\n",
    "    [round(r, 2) for r in c.dtype.categories.values]\n",
    ")"
   ]
  },
  {
   "cell_type": "code",
   "execution_count": null,
   "id": "3925de01",
   "metadata": {},
   "outputs": [],
   "source": [
    "move_df[\"prix_après_r\"] = move_df.prix_après.round(1)"
   ]
  },
  {
   "cell_type": "code",
   "execution_count": null,
   "id": "b736cabb",
   "metadata": {},
   "outputs": [],
   "source": [
    "g = sns.ecdfplot(move_df, stat=\"count\", x=\"prix_après\", hue=\"prix avant\")\n",
    "g.set(xticks=range(1, 9))œ\n",
    "g.figure.suptitle(\"TITLE!\")\n"
   ]
  },
  {
   "cell_type": "code",
   "execution_count": null,
   "id": "b19394bd",
   "metadata": {},
   "outputs": [],
   "source": [
    "g = sns.ecdfplot(move_df, stat=\"count\", x=\"difference\", hue=\"prix avant\")\n",
    "g.axvline(0, c=\"black\", zorder=-1, linestyle=\"--\", linewidth=0.5)"
   ]
  },
  {
   "cell_type": "code",
   "execution_count": null,
   "id": "cec9947b",
   "metadata": {},
   "outputs": [],
   "source": [
    "g = sns.ecdfplot(move_df, stat=\"count\", x=\"difference\", hue=\"prix avant\")\n",
    "g.axvline(0, c=\"black\", zorder=-1, linestyle=\"--\", linewidth=0.5)"
   ]
  },
  {
   "cell_type": "code",
   "execution_count": null,
   "id": "d83679c6",
   "metadata": {},
   "outputs": [],
   "source": [
    "g = sns.ecdfplot(\n",
    "    move_df[move_df.prix_avant != 1.5],\n",
    "    stat=\"count\",\n",
    "    x=\"ratio\",\n",
    "    hue=\"prix avant\",\n",
    ")\n",
    "g.axvline(1, c=\"black\", zorder=-1, linestyle=\"--\", linewidth=0.5)"
   ]
  },
  {
   "cell_type": "code",
   "execution_count": null,
   "id": "6b15534c",
   "metadata": {},
   "outputs": [],
   "source": [
    "g = sns.ecdfplot(\n",
    "    move_df[move_df.prix_avant != 1.5],\n",
    "    stat=\"count\",\n",
    "    x=\"ratio\",\n",
    "    hue=\"prix avant\",\n",
    ")\n",
    "g.axvline(1, c=\"black\", zorder=-1, linestyle=\"--\", linewidth=0.5)"
   ]
  }
 ],
 "metadata": {
  "kernelspec": {
   "display_name": "Python 3 (ipykernel)",
   "language": "python",
   "name": "python3"
  },
  "language_info": {
   "codemirror_mode": {
    "name": "ipython",
    "version": 3
   },
   "file_extension": ".py",
   "mimetype": "text/x-python",
   "name": "python",
   "nbconvert_exporter": "python",
   "pygments_lexer": "ipython3",
   "version": "3.9.16"
  }
 },
 "nbformat": 4,
 "nbformat_minor": 5
}
