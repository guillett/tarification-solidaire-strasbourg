{
 "cells": [
  {
   "cell_type": "code",
   "execution_count": null,
   "id": "96fa7eeb",
   "metadata": {},
   "outputs": [],
   "source": [
    "1"
   ]
  },
  {
   "cell_type": "code",
   "execution_count": null,
   "id": "af5d1003",
   "metadata": {},
   "outputs": [],
   "source": [
    "import numpy as np\n",
    "import pandas as pd\n",
    "\n",
    "pd.options.display.float_format = lambda v: \"{:_.2f}\".format(v).replace(\"_\", \" \")"
   ]
  },
  {
   "cell_type": "code",
   "execution_count": null,
   "id": "5cef2e9d",
   "metadata": {},
   "outputs": [],
   "source": [
    "from openfisca_france import CountryTaxBenefitSystem"
   ]
  },
  {
   "cell_type": "code",
   "execution_count": null,
   "id": "edc267b1",
   "metadata": {},
   "outputs": [],
   "source": [
    "base = CountryTaxBenefitSystem()\n",
    "base.load_extension(\"openfisca_france_local\")"
   ]
  },
  {
   "cell_type": "code",
   "execution_count": null,
   "id": "ead8f31a",
   "metadata": {},
   "outputs": [],
   "source": [
    "from cantine import get_df, get_results"
   ]
  },
  {
   "cell_type": "code",
   "execution_count": null,
   "id": "25eaccf0",
   "metadata": {},
   "outputs": [],
   "source": [
    "from scenario import (\n",
    "    QfFiscalReform,\n",
    "    StatutReform,\n",
    "    CEReform,\n",
    "    gristSimulationReform,\n",
    "    period,\n",
    ")"
   ]
  },
  {
   "cell_type": "code",
   "execution_count": null,
   "id": "76d534fc",
   "metadata": {},
   "outputs": [],
   "source": [
    "rebase = CountryTaxBenefitSystem()\n",
    "rebase.load_extension(\"openfisca_france_local\")\n",
    "re_qf_fiscal_reform = QfFiscalReform(rebase)\n",
    "# re_grist_reform = gristSimulationReform(re_qf_fiscal_reform)\n",
    "# re_max_reform = customReform(re_qf_fiscal_reform)\n",
    "re_statuts_reform = StatutReform(re_qf_fiscal_reform)\n",
    "# re_statuts_reform = StatutReform(re_max_reform)\n",
    "# re_statuts_reform = StatutReform(re_grist_reform)\n",
    "re_ce_reform = CEReform(re_statuts_reform)\n",
    "full_reform = re_ce_reform"
   ]
  },
  {
   "cell_type": "code",
   "execution_count": null,
   "id": "f3f78990",
   "metadata": {},
   "outputs": [],
   "source": [
    "res = get_results(base, sample_count=10, reform=full_reform)"
   ]
  },
  {
   "cell_type": "code",
   "execution_count": null,
   "id": "2d3b44d2",
   "metadata": {},
   "outputs": [],
   "source": [
    "res[0]"
   ]
  },
  {
   "cell_type": "code",
   "execution_count": null,
   "id": "5af585ac",
   "metadata": {},
   "outputs": [],
   "source": [
    "res[0]"
   ]
  },
  {
   "cell_type": "code",
   "execution_count": null,
   "id": "2d0ee47a",
   "metadata": {},
   "outputs": [],
   "source": [
    "res[0]"
   ]
  },
  {
   "cell_type": "code",
   "execution_count": null,
   "id": "122e655e",
   "metadata": {},
   "outputs": [],
   "source": [
    "df = res[1][0][1]"
   ]
  },
  {
   "cell_type": "code",
   "execution_count": null,
   "id": "d279bbea",
   "metadata": {},
   "outputs": [],
   "source": [
    "df"
   ]
  },
  {
   "cell_type": "code",
   "execution_count": null,
   "id": "a54ab6f3",
   "metadata": {},
   "outputs": [],
   "source": [
    "df = res[1][0][1]\n",
    "df[\"prix_rs\"] = df.prix_r.astype(\"str\")"
   ]
  },
  {
   "cell_type": "code",
   "execution_count": null,
   "id": "7aeb3b77",
   "metadata": {},
   "outputs": [],
   "source": [
    "res[0].to_excel(\"cantine.xlsx\")"
   ]
  },
  {
   "cell_type": "code",
   "execution_count": null,
   "id": "3bf16893",
   "metadata": {},
   "outputs": [],
   "source": [
    "quantite_ancien_qf = (\n",
    "    df.groupby([\"sample_id\", \"prix\"]).quantité.sum().groupby(\"prix\").median()\n",
    ")\n",
    "quantite_ancien_qf"
   ]
  },
  {
   "cell_type": "code",
   "execution_count": null,
   "id": "da7ba396",
   "metadata": {},
   "outputs": [],
   "source": [
    "quantite_nouveau_qf = (\n",
    "    df.groupby([\"sample_id\", \"prix_r\"]).quantité.sum().groupby(\"prix_r\").median()\n",
    ")\n",
    "quantite_nouveau_qf"
   ]
  },
  {
   "cell_type": "code",
   "execution_count": null,
   "id": "861f2558",
   "metadata": {},
   "outputs": [],
   "source": [
    "res = get_results(base, sample_count=1, reform=full_reform)"
   ]
  },
  {
   "cell_type": "code",
   "execution_count": null,
   "id": "fb54964e",
   "metadata": {},
   "outputs": [],
   "source": [
    "res[0]"
   ]
  },
  {
   "cell_type": "code",
   "execution_count": null,
   "id": "628968ed",
   "metadata": {},
   "outputs": [],
   "source": [
    "df = res[1][0][1]\n",
    "df[\"prix_rs\"] = df.prix_r.astype(\"str\")"
   ]
  },
  {
   "cell_type": "code",
   "execution_count": null,
   "id": "83ac83d0",
   "metadata": {},
   "outputs": [],
   "source": [
    "df"
   ]
  },
  {
   "cell_type": "code",
   "execution_count": null,
   "id": "3a1f8e00",
   "metadata": {},
   "outputs": [],
   "source": [
    "quantite_ancien_qf = (\n",
    "    df.groupby([\"sample_id\", \"prix\"]).quantité.sum().groupby(\"prix\").median()\n",
    ")\n",
    "quantite_ancien_qf"
   ]
  },
  {
   "cell_type": "code",
   "execution_count": null,
   "id": "4f69106b",
   "metadata": {},
   "outputs": [],
   "source": [
    "quantite_nouveau_qf = (\n",
    "    df.groupby([\"sample_id\", \"prix_r\"]).quantité.sum().groupby(\"prix_r\").median()\n",
    ")\n",
    "quantite_nouveau_qf"
   ]
  },
  {
   "cell_type": "code",
   "execution_count": null,
   "id": "978d0cf1",
   "metadata": {},
   "outputs": [],
   "source": [
    "df[df.qf_fiscal == 0].groupby(\"sample_id\").quantité.sum().median()"
   ]
  },
  {
   "cell_type": "code",
   "execution_count": null,
   "id": "741a8b66",
   "metadata": {},
   "outputs": [],
   "source": [
    "if False:\n",
    "    writer = pd.ExcelWriter(\"tables_cantine.xlsx\")\n",
    "    df_qf = pd.DataFrame(\n",
    "        {\"quantité QF CAF\": quantite_ancien_qf, \"quantité QF EMS\": quantite_nouveau_qf},\n",
    "        index=quantite_ancien_qf.index,\n",
    "    )\n",
    "    df_qf.to_excel(writer, sheet_name=\"Prix\")\n",
    "    qf_nul = pd.DataFrame(\n",
    "        {\n",
    "            \"quantité\": [\n",
    "                df[df.qf_fiscal == 0].groupby(\"sample_id\").quantité.sum().median()\n",
    "            ]\n",
    "        }\n",
    "    )\n",
    "    qf_nul.to_excel(writer, sheet_name=\"QF_fiscal_nul\")\n",
    "    writer.close()"
   ]
  },
  {
   "cell_type": "code",
   "execution_count": null,
   "id": "8abb285b",
   "metadata": {},
   "outputs": [],
   "source": [
    "import seaborn"
   ]
  },
  {
   "cell_type": "code",
   "execution_count": null,
   "id": "d2a51147",
   "metadata": {},
   "outputs": [],
   "source": [
    "df.describe()"
   ]
  },
  {
   "cell_type": "code",
   "execution_count": null,
   "id": "546786f3",
   "metadata": {},
   "outputs": [],
   "source": [
    "for g, gdf in df.groupby(\"TYPOLOGIE\"):\n",
    "    print(g)\n",
    "    display(gdf.describe())\n",
    "    display(\n",
    "        pd.pivot_table(\n",
    "            gdf,\n",
    "            index=[\"prix\", \"sample_id\"],\n",
    "            columns=\"prix_rs\",\n",
    "            values=\"quantité\",\n",
    "            aggfunc=sum,\n",
    "        )\n",
    "        .reset_index(\"prix\")\n",
    "        .groupby([\"prix\"])\n",
    "        .median()\n",
    "    )"
   ]
  },
  {
   "cell_type": "code",
   "execution_count": null,
   "id": "8a770416",
   "metadata": {},
   "outputs": [],
   "source": [
    "df[df.quantité == 0]"
   ]
  },
  {
   "cell_type": "code",
   "execution_count": null,
   "id": "af45df27",
   "metadata": {},
   "outputs": [],
   "source": [
    "df[df.TYPOLOGIE == \"NA\"]"
   ]
  },
  {
   "cell_type": "code",
   "execution_count": null,
   "id": "5366bcc2",
   "metadata": {},
   "outputs": [],
   "source": [
    "pd.pivot_table(\n",
    "    df, index=[\"prix\", \"sample_id\"], columns=\"prix_rs\", values=\"quantité_r\", aggfunc=sum\n",
    ").reset_index(\"prix\").groupby([\"prix\"]).median()"
   ]
  },
  {
   "cell_type": "code",
   "execution_count": null,
   "id": "599dcf61",
   "metadata": {},
   "outputs": [],
   "source": [
    "pd.pivot_table(\n",
    "    df, index=[\"prix\", \"sample_id\"], columns=\"prix_rs\", values=\"quantité\", aggfunc=sum\n",
    ").reset_index(\"prix\").groupby([\"prix\"]).median()"
   ]
  }
 ],
 "metadata": {
  "kernelspec": {
   "display_name": "Python 3 (ipykernel)",
   "language": "python",
   "name": "python3"
  },
  "language_info": {
   "codemirror_mode": {
    "name": "ipython",
    "version": 3
   },
   "file_extension": ".py",
   "mimetype": "text/x-python",
   "name": "python",
   "nbconvert_exporter": "python",
   "pygments_lexer": "ipython3",
   "version": "3.9.16"
  }
 },
 "nbformat": 4,
 "nbformat_minor": 5
}
