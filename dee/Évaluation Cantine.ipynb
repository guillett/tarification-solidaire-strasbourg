{
 "cells": [
  {
   "cell_type": "code",
   "execution_count": null,
   "id": "af5d1003",
   "metadata": {},
   "outputs": [],
   "source": [
    "import numpy as np\n",
    "import pandas as pd"
   ]
  },
  {
   "cell_type": "code",
   "execution_count": null,
   "id": "5cef2e9d",
   "metadata": {},
   "outputs": [],
   "source": [
    "from openfisca_france import CountryTaxBenefitSystem"
   ]
  },
  {
   "cell_type": "code",
   "execution_count": null,
   "id": "edc267b1",
   "metadata": {},
   "outputs": [],
   "source": [
    "base = CountryTaxBenefitSystem()\n",
    "base.load_extension(\"openfisca_france_local\")"
   ]
  },
  {
   "cell_type": "code",
   "execution_count": null,
   "id": "ead8f31a",
   "metadata": {},
   "outputs": [],
   "source": [
    "from cantine import get_df, get_results"
   ]
  },
  {
   "cell_type": "code",
   "execution_count": null,
   "id": "861f2558",
   "metadata": {},
   "outputs": [],
   "source": [
    "get_results(base, sample_count=2)"
   ]
  },
  {
   "cell_type": "code",
   "execution_count": null,
   "id": "4fe683f0",
   "metadata": {},
   "outputs": [],
   "source": [
    "from scenario import QfFiscalReform"
   ]
  },
  {
   "cell_type": "code",
   "execution_count": null,
   "id": "553779ac",
   "metadata": {},
   "outputs": [],
   "source": [
    "qf_fiscal_reform = QfFiscalReform(base)"
   ]
  },
  {
   "cell_type": "code",
   "execution_count": null,
   "id": "d0c7a559",
   "metadata": {},
   "outputs": [],
   "source": [
    "get_results(base, sample_count=2, reform=qf_fiscal_reform)"
   ]
  },
  {
   "cell_type": "code",
   "execution_count": null,
   "id": "6d64ee7a",
   "metadata": {},
   "outputs": [],
   "source": [
    "get_results(base, sample_count=2)"
   ]
  }
 ],
 "metadata": {
  "kernelspec": {
   "display_name": "Python 3 (ipykernel)",
   "language": "python",
   "name": "python3"
  },
  "language_info": {
   "codemirror_mode": {
    "name": "ipython",
    "version": 3
   },
   "file_extension": ".py",
   "mimetype": "text/x-python",
   "name": "python",
   "nbconvert_exporter": "python",
   "pygments_lexer": "ipython3",
   "version": "3.9.16"
  }
 },
 "nbformat": 4,
 "nbformat_minor": 5
}
