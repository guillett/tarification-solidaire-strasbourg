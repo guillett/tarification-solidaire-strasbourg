{
 "cells": [
  {
   "cell_type": "code",
   "execution_count": null,
   "id": "af5d1003",
   "metadata": {},
   "outputs": [],
   "source": [
    "import numpy as np\n",
    "import pandas as pd"
   ]
  },
  {
   "cell_type": "code",
   "execution_count": null,
   "id": "5cef2e9d",
   "metadata": {},
   "outputs": [],
   "source": [
    "from openfisca_france import CountryTaxBenefitSystem"
   ]
  },
  {
   "cell_type": "code",
   "execution_count": null,
   "id": "edc267b1",
   "metadata": {},
   "outputs": [],
   "source": [
    "base = CountryTaxBenefitSystem()\n",
    "base.load_extension(\"openfisca_france_local\")"
   ]
  },
  {
   "cell_type": "code",
   "execution_count": null,
   "id": "ead8f31a",
   "metadata": {},
   "outputs": [],
   "source": [
    "from cantine import get_df, get_results"
   ]
  },
  {
   "cell_type": "code",
   "execution_count": null,
   "id": "6d64ee7a",
   "metadata": {},
   "outputs": [],
   "source": [
    "get_results(base)"
   ]
  },
  {
   "cell_type": "code",
   "execution_count": null,
   "id": "7272f2dc",
   "metadata": {},
   "outputs": [],
   "source": [
    "df = get_df()"
   ]
  },
  {
   "cell_type": "code",
   "execution_count": null,
   "id": "b619978f",
   "metadata": {},
   "outputs": [],
   "source": [
    "resume = (\n",
    "    df.groupby([\"QF\", \"N° FAM\", \"N° PER\"])\n",
    "    .NOMBRE.sum()\n",
    "    .reset_index()\n",
    "    .sort_values(\"QF\", ascending=False)\n",
    ")\n",
    "\n",
    "resume[resume.QF < 90000].QF.hist(bins=50)"
   ]
  },
  {
   "cell_type": "code",
   "execution_count": null,
   "id": "c52d967b",
   "metadata": {},
   "outputs": [],
   "source": [
    "resume[resume.QF < 1000].QF.hist(bins=26)"
   ]
  },
  {
   "cell_type": "code",
   "execution_count": null,
   "id": "58880b29",
   "metadata": {},
   "outputs": [],
   "source": [
    "resume[resume.QF < 1000].QF.hist(bins=26)"
   ]
  },
  {
   "cell_type": "code",
   "execution_count": null,
   "id": "fbe5bcb0",
   "metadata": {},
   "outputs": [],
   "source": [
    "resume[resume.QF < 90000]"
   ]
  },
  {
   "cell_type": "code",
   "execution_count": null,
   "id": "732e41b5",
   "metadata": {},
   "outputs": [],
   "source": [
    "resume.QF.describe()"
   ]
  },
  {
   "cell_type": "code",
   "execution_count": null,
   "id": "1b0fbf9c",
   "metadata": {},
   "outputs": [],
   "source": [
    "resume.NOMBRE.describe()"
   ]
  },
  {
   "cell_type": "code",
   "execution_count": null,
   "id": "3c6ce1b3",
   "metadata": {},
   "outputs": [],
   "source": [
    "resume.NOMBRE.hist(bins=128, cumulative=True, density=True)"
   ]
  },
  {
   "cell_type": "code",
   "execution_count": null,
   "id": "499222d7",
   "metadata": {},
   "outputs": [],
   "source": [
    "df.NOMBRE.sum() / 240"
   ]
  },
  {
   "cell_type": "code",
   "execution_count": null,
   "id": "644c0cae",
   "metadata": {},
   "outputs": [],
   "source": [
    "with pd.option_context(\"display.max_rows\", None):\n",
    "    display(df[[\"QF\", \"NOMBRE\"]].groupby(by=\"QF\").sum())"
   ]
  },
  {
   "cell_type": "code",
   "execution_count": null,
   "id": "861af5e9",
   "metadata": {},
   "outputs": [],
   "source": [
    "df[df.QF != df.QF.max()].sort_values(by=\"QF\", ascending=False)"
   ]
  },
  {
   "cell_type": "code",
   "execution_count": null,
   "id": "c423bad9",
   "metadata": {},
   "outputs": [],
   "source": [
    "df[df.QF < df.QF.max()].QF.describe(\n",
    "    percentiles=[0.01, 0.1, 0.25, 0.50, 0.75, 0.9, 0.99]\n",
    ")"
   ]
  },
  {
   "cell_type": "code",
   "execution_count": null,
   "id": "b6f48e9c",
   "metadata": {},
   "outputs": [],
   "source": [
    "df[df.QF < df.QF.max()].QF.hist(bins=500, cumulative=True, density=True)"
   ]
  },
  {
   "cell_type": "code",
   "execution_count": null,
   "id": "20962ed2",
   "metadata": {},
   "outputs": [],
   "source": [
    "df[df.QF < 5000].QF.hist(bins=500, cumulative=True, density=True)"
   ]
  },
  {
   "cell_type": "code",
   "execution_count": null,
   "id": "05928dda",
   "metadata": {},
   "outputs": [],
   "source": [
    "df[df.QF < 2000].QF.hist(bins=40)"
   ]
  },
  {
   "cell_type": "code",
   "execution_count": null,
   "id": "47ab8008",
   "metadata": {},
   "outputs": [],
   "source": [
    "df[df.QF < 1000].QF.hist(bins=50)"
   ]
  },
  {
   "cell_type": "code",
   "execution_count": null,
   "id": "d69cacb4",
   "metadata": {},
   "outputs": [],
   "source": [
    "r = get_results(base)\n",
    "r"
   ]
  },
  {
   "cell_type": "code",
   "execution_count": null,
   "id": "189f76db",
   "metadata": {},
   "outputs": [],
   "source": [
    "r.sum()"
   ]
  }
 ],
 "metadata": {
  "kernelspec": {
   "display_name": "Python 3 (ipykernel)",
   "language": "python",
   "name": "python3"
  },
  "language_info": {
   "codemirror_mode": {
    "name": "ipython",
    "version": 3
   },
   "file_extension": ".py",
   "mimetype": "text/x-python",
   "name": "python",
   "nbconvert_exporter": "python",
   "pygments_lexer": "ipython3",
   "version": "3.9.16"
  }
 },
 "nbformat": 4,
 "nbformat_minor": 5
}
