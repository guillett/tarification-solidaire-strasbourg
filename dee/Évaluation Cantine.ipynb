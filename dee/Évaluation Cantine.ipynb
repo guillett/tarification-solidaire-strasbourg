{
 "cells": [
  {
   "cell_type": "code",
   "execution_count": null,
   "id": "af5d1003",
   "metadata": {},
   "outputs": [],
   "source": [
    "import numpy as np\n",
    "import pandas as pd"
   ]
  },
  {
   "cell_type": "code",
   "execution_count": null,
   "id": "5cef2e9d",
   "metadata": {},
   "outputs": [],
   "source": [
    "from openfisca_survey_manager.scenarios import AbstractSurveyScenario\n",
    "from openfisca_france import CountryTaxBenefitSystem\n",
    "from openfisca_france.model.base import Famille, FoyerFiscal, Menage\n",
    "from openfisca_core import periods"
   ]
  },
  {
   "cell_type": "code",
   "execution_count": null,
   "id": "edc267b1",
   "metadata": {},
   "outputs": [],
   "source": [
    "base_period = \"2023-01\"\n",
    "\n",
    "base = CountryTaxBenefitSystem()\n",
    "base.load_extension(\"openfisca_france_local\")\n",
    "\n",
    "\n",
    "class StrasbourgSurveyScenario(AbstractSurveyScenario):\n",
    "    def __init__(\n",
    "        self,\n",
    "        data=None,\n",
    "    ):\n",
    "        super(StrasbourgSurveyScenario, self).__init__()\n",
    "\n",
    "        self.year = base_period\n",
    "\n",
    "        if \"input_data_frame_by_entity\" in data:\n",
    "            dataframe_variables = set()\n",
    "            for entity_dataframe in data[\"input_data_frame_by_entity\"].values():\n",
    "                if not isinstance(entity_dataframe, pd.DataFrame):\n",
    "                    continue\n",
    "                dataframe_variables = dataframe_variables.union(\n",
    "                    set(entity_dataframe.columns)\n",
    "                )\n",
    "            self.used_as_input_variables = list(\n",
    "                set(base.variables.keys()).intersection(dataframe_variables)\n",
    "            )\n",
    "\n",
    "        self.set_tax_benefit_systems(base)\n",
    "        self.init_from_data(data=data)"
   ]
  },
  {
   "cell_type": "code",
   "execution_count": null,
   "id": "9916aecc",
   "metadata": {},
   "outputs": [],
   "source": [
    "full_df = pd.read_excel(\n",
    "    \"/home/thomas/Nextcloud/CodeursEnLiberte/EMS/dee/Données cantines scolaires 2021.xlsx\",\n",
    "    usecols=[\"N° FAM\", \"QF\", \"N° PER\", \"REPAS\", \"MOIS\", \"NOMBRE\"],\n",
    "    dtype={\n",
    "        \"Activite\": \"category\",\n",
    "        \"N° FAM\": np.int64.__name__,\n",
    "        \"QF\": np.int64.__name__,\n",
    "        \"N° PER\": np.int64.__name__,\n",
    "        \"MOIS\": np.datetime64.__name__,\n",
    "        # \"REPAS\": 'category',\n",
    "        \"NOMBRE\": np.int64.__name__,\n",
    "    },\n",
    ")"
   ]
  },
  {
   "cell_type": "code",
   "execution_count": null,
   "id": "8dd4999c",
   "metadata": {},
   "outputs": [],
   "source": [
    "max(full_df.QF)"
   ]
  },
  {
   "cell_type": "code",
   "execution_count": null,
   "id": "c8ac48d5",
   "metadata": {},
   "outputs": [],
   "source": [
    "len(full_df.NOMBRE[full_df.QF == 999999])"
   ]
  },
  {
   "cell_type": "code",
   "execution_count": null,
   "id": "4b8a0fb8",
   "metadata": {},
   "outputs": [],
   "source": [
    "full_df[\"BQF\"] = full_df.QF"
   ]
  },
  {
   "cell_type": "code",
   "execution_count": null,
   "id": "179e1817",
   "metadata": {},
   "outputs": [],
   "source": [
    "full_df.BQF.iloc[full_df.QF == 999999] = 0"
   ]
  },
  {
   "cell_type": "code",
   "execution_count": null,
   "id": "313f1178",
   "metadata": {},
   "outputs": [],
   "source": [
    "max(full_df.BQF)"
   ]
  },
  {
   "cell_type": "code",
   "execution_count": null,
   "id": "45e92a13",
   "metadata": {},
   "outputs": [],
   "source": [
    "full_df"
   ]
  },
  {
   "cell_type": "code",
   "execution_count": null,
   "id": "46c3310f",
   "metadata": {},
   "outputs": [],
   "source": [
    "resa = (\n",
    "    full_df[[\"N° PER\", \"REPAS\", \"NOMBRE\"]]\n",
    "    .groupby([\"N° PER\", \"REPAS\"])\n",
    "    .sum()\n",
    "    .sort_values(by=\"NOMBRE\", ascending=False)\n",
    "    .reset_index()\n",
    ")"
   ]
  },
  {
   "cell_type": "code",
   "execution_count": null,
   "id": "de45b153",
   "metadata": {},
   "outputs": [],
   "source": [
    "resa"
   ]
  },
  {
   "cell_type": "code",
   "execution_count": null,
   "id": "601e65d0",
   "metadata": {},
   "outputs": [],
   "source": [
    "resa_table = pd.pivot_table(\n",
    "    resa,\n",
    "    index=[\"N° PER\"],\n",
    "    columns=\"REPAS\",\n",
    "    values=\"NOMBRE\",\n",
    "    fill_value=0,\n",
    "    aggfunc=np.sum,\n",
    "    margins=True,\n",
    ").sort_values(by=\"All\", ascending=False)\n",
    "resa_table"
   ]
  },
  {
   "cell_type": "code",
   "execution_count": null,
   "id": "8f89c916",
   "metadata": {},
   "outputs": [],
   "source": [
    "resa[\"RESA\"] = resa.REPAS.str.contains(\"avec résa\")"
   ]
  },
  {
   "cell_type": "code",
   "execution_count": null,
   "id": "44d6d95b",
   "metadata": {},
   "outputs": [],
   "source": [
    "resa[resa[\"N° PER\"] == 295679]"
   ]
  },
  {
   "cell_type": "code",
   "execution_count": null,
   "id": "b89b4929",
   "metadata": {},
   "outputs": [],
   "source": [
    "resa.loc[~resa.RESA, [\"N° PER\", \"NOMBRE\"]].groupby(by=\"N° PER\").sum().sort_values(\n",
    "    by=\"NOMBRE\", ascending=False\n",
    ").reset_index()"
   ]
  },
  {
   "cell_type": "code",
   "execution_count": null,
   "id": "d90ca9e9",
   "metadata": {},
   "outputs": [],
   "source": [
    "pd.pivot_table(\n",
    "    resa,\n",
    "    index=[\"N° PER\"],\n",
    "    columns=\"RESA\",\n",
    "    values=\"NOMBRE\",\n",
    "    fill_value=0,\n",
    "    aggfunc=np.sum,\n",
    "    margins=True,\n",
    ").sort_values(by=\"All\", ascending=False)"
   ]
  },
  {
   "cell_type": "code",
   "execution_count": null,
   "id": "56ac019f",
   "metadata": {},
   "outputs": [],
   "source": [
    "[\n",
    "    i.threshold.values_list[0].value\n",
    "    for i in base.parameters.metropoles.strasbourg.tarifs_cantine.brackets\n",
    "]"
   ]
  },
  {
   "cell_type": "code",
   "execution_count": null,
   "id": "da3953e2",
   "metadata": {},
   "outputs": [],
   "source": [
    "for i in base.parameters.metropoles.strasbourg.tarifs_cantine.brackets:\n",
    "    v = i.threshold.values_list[0].value\n",
    "    print((v, full_df[full_df.QF == v].NOMBRE.sum()))"
   ]
  },
  {
   "cell_type": "code",
   "execution_count": null,
   "id": "858677c7",
   "metadata": {},
   "outputs": [],
   "source": [
    "sum(full_df.QF == full_df.BQF)"
   ]
  },
  {
   "cell_type": "code",
   "execution_count": null,
   "id": "aa72b02a",
   "metadata": {},
   "outputs": [],
   "source": [
    "full_df[[\"REPAS\", \"NOMBRE\"]].groupby(\n",
    "    \"REPAS\"\n",
    ").sum()  # .sort_values(by=\"NOMBRE\",ascending=False)"
   ]
  },
  {
   "cell_type": "code",
   "execution_count": null,
   "id": "66a5cef7",
   "metadata": {},
   "outputs": [],
   "source": [
    "sum(\n",
    "    full_df[[\"REPAS\", \"NOMBRE\"]].groupby(\"REPAS\").sum().NOMBRE\n",
    ")  # .sort_values(by=\"NOMBRE\",ascending=False))"
   ]
  },
  {
   "cell_type": "code",
   "execution_count": null,
   "id": "cb672907",
   "metadata": {},
   "outputs": [],
   "source": [
    "def get_result(df, QF_field=\"QF\"):\n",
    "    coef_sans_resa = 1\n",
    "    raw_df = pd.pivot_table(\n",
    "        df,\n",
    "        index=[\"N° FAM\", \"N° PER\", QF_field],\n",
    "        columns=\"REPAS\",\n",
    "        values=\"NOMBRE\",\n",
    "        fill_value=0,\n",
    "        aggfunc=np.sum,\n",
    "    )\n",
    "    assert raw_df.index.names[2] == QF_field\n",
    "    individu_df = pd.DataFrame(\n",
    "        {\n",
    "            \"famille_id\": list(range(len(raw_df))),\n",
    "            \"strasbourg_metropole_nombre_repas_cantine\": (\n",
    "                raw_df[\"Standard avec résa\"]\n",
    "                + raw_df[\"Halal avec résa\"]\n",
    "                + raw_df[\"Sans Porc avec résa\"]\n",
    "                + coef_sans_resa\n",
    "                * (\n",
    "                    raw_df[\"Standard sans résa\"]\n",
    "                    + raw_df[\"Halal sans résa\"]\n",
    "                    + raw_df[\"Sans Porc sans résa\"]\n",
    "                )\n",
    "            ),\n",
    "            \"strasbourg_metropole_nombre_repas_cantine_vegetarien\": (\n",
    "                raw_df[\"Végétarien avec résa\"]\n",
    "                + coef_sans_resa * raw_df[\"Végétarien sans résa\"]\n",
    "            ),\n",
    "            \"strasbourg_metropole_nombre_repas_cantine_panier\": (\n",
    "                raw_df[\"Panier avec résa\"]\n",
    "                + coef_sans_resa\n",
    "                * (raw_df[\"Panier sans résa\"] if \"Panier sans résa\" in raw_df else 0)\n",
    "            ),\n",
    "        }\n",
    "    )\n",
    "    famille_df = pd.DataFrame(\n",
    "        {\n",
    "            \"strasbourg_metropole_quotient_familial\": [\n",
    "                1.0 * q for (f, p, q) in raw_df.index\n",
    "            ],\n",
    "        }\n",
    "    )\n",
    "    menage_df = pd.DataFrame({})\n",
    "    foyerfiscaux_df = pd.DataFrame({})\n",
    "\n",
    "    individu_df[\"famille_role_index\"] = 0\n",
    "    individu_df[\"foyer_fiscal_id\"] = individu_df.famille_id\n",
    "    individu_df[\"foyer_fiscal_role_index\"] = 0\n",
    "    individu_df[\"menage_id\"] = individu_df.famille_id\n",
    "    individu_df[\"menage_role_index\"] = 0\n",
    "\n",
    "    data = dict(\n",
    "        input_data_frame_by_entity=dict(\n",
    "            individu=individu_df,\n",
    "            famille=famille_df,\n",
    "            menage=menage_df,\n",
    "            foyer_fiscal=foyerfiscaux_df,\n",
    "        )\n",
    "    )\n",
    "\n",
    "    scenario = StrasbourgSurveyScenario(data=data)\n",
    "\n",
    "    var = [\n",
    "        #    \"strasbourg_metropole_quotient_familial\",\n",
    "        \"strasbourg_metropole_cout_cantine_individu\",\n",
    "        \"strasbourg_metropole_cout_cantine_individu_repas_vegetarien\",\n",
    "        \"strasbourg_metropole_cout_cantine_individu_repas_panier\",\n",
    "    ]\n",
    "    res = pd.DataFrame(\n",
    "        data={n: scenario.simulation.calculate(n, base_period) for n in var}\n",
    "    )\n",
    "\n",
    "    return (sum(res.sum()), res, individu_df, famille_df)"
   ]
  },
  {
   "cell_type": "code",
   "execution_count": null,
   "id": "89833f9c",
   "metadata": {},
   "outputs": [],
   "source": [
    "get_result(\n",
    "    full_df.groupby([\"N° FAM\", \"BQF\", \"N° PER\", \"REPAS\"])\n",
    "    .sum(numeric_only=True)\n",
    "    .reset_index(),\n",
    "    \"BQF\",\n",
    ")"
   ]
  },
  {
   "cell_type": "code",
   "execution_count": null,
   "id": "07f1d36f",
   "metadata": {},
   "outputs": [],
   "source": [
    "v = get_result(\n",
    "    full_df.groupby([\"N° FAM\", \"QF\", \"N° PER\", \"REPAS\"])\n",
    "    .sum(numeric_only=True)\n",
    "    .reset_index(),\n",
    "    \"QF\",\n",
    ")\n",
    "v"
   ]
  },
  {
   "cell_type": "code",
   "execution_count": null,
   "id": "4544aab8",
   "metadata": {},
   "outputs": [],
   "source": [
    "(s, r, i, f) = v"
   ]
  },
  {
   "cell_type": "code",
   "execution_count": null,
   "id": "eaaba59a",
   "metadata": {},
   "outputs": [],
   "source": [
    "i.reset_index()"
   ]
  },
  {
   "cell_type": "code",
   "execution_count": null,
   "id": "59979dea",
   "metadata": {},
   "outputs": [],
   "source": [
    "ir = i.reset_index()"
   ]
  },
  {
   "cell_type": "code",
   "execution_count": null,
   "id": "a387ed4b",
   "metadata": {},
   "outputs": [],
   "source": [
    "res = r.join(ir)"
   ]
  },
  {
   "cell_type": "code",
   "execution_count": null,
   "id": "ccfa864e",
   "metadata": {},
   "outputs": [],
   "source": [
    "res[res.strasbourg_metropole_cout_cantine_individu_repas_vegetarien != 0]"
   ]
  },
  {
   "cell_type": "code",
   "execution_count": null,
   "id": "c7a5a776",
   "metadata": {},
   "outputs": [],
   "source": [
    "full_df[\n",
    "    full_df.REPAS.str.contains(\"Panier\")\n",
    "]  # .groupby([\"N° FAM\", \"QF\", \"N° PER\", \"REPAS\"]).sum(numeric_only=True).reset_index()"
   ]
  },
  {
   "cell_type": "code",
   "execution_count": null,
   "id": "846adb90",
   "metadata": {},
   "outputs": [],
   "source": [
    "months = full_df.MOIS.unique()\n",
    "months.sort()\n",
    "total = []\n",
    "for month in months:\n",
    "    mdf = full_df[full_df.MOIS == month]\n",
    "    v = get_result(mdf, \"BQF\")\n",
    "    total.append(v[0])\n",
    "\n",
    "monthly = pd.DataFrame(data={\"month\": months, \"total\": total})\n",
    "monthly"
   ]
  },
  {
   "cell_type": "code",
   "execution_count": null,
   "id": "49a8bba7",
   "metadata": {},
   "outputs": [],
   "source": [
    "monthly.total"
   ]
  },
  {
   "cell_type": "code",
   "execution_count": null,
   "id": "5e5bb0e2",
   "metadata": {},
   "outputs": [],
   "source": [
    "df = full_df"
   ]
  },
  {
   "cell_type": "code",
   "execution_count": null,
   "id": "94a50b57",
   "metadata": {},
   "outputs": [],
   "source": [
    "raw_df = pd.pivot_table(\n",
    "    df,\n",
    "    index=[\"N° FAM\", \"N° PER\", \"QF\"],\n",
    "    columns=\"REPAS\",\n",
    "    values=\"NOMBRE\",\n",
    "    fill_value=0,\n",
    "    aggfunc=np.sum,\n",
    ")"
   ]
  },
  {
   "cell_type": "code",
   "execution_count": null,
   "id": "b638c527",
   "metadata": {},
   "outputs": [],
   "source": [
    "# df.groupby([\"REPAS\"]).sum().sort_values(by=\"NOMBRE\", ascending=False)"
   ]
  },
  {
   "cell_type": "code",
   "execution_count": null,
   "id": "0a378413",
   "metadata": {},
   "outputs": [],
   "source": [
    "# df.groupby([\"N° FAM\", \"N° PER\", \"QF\", \"REPAS\"]).sum()"
   ]
  },
  {
   "cell_type": "code",
   "execution_count": null,
   "id": "96497402",
   "metadata": {},
   "outputs": [],
   "source": [
    "# raw_df.sum().sort_values(ascending=False)"
   ]
  },
  {
   "cell_type": "code",
   "execution_count": null,
   "id": "690648ea",
   "metadata": {},
   "outputs": [],
   "source": [
    "assert raw_df.index.names[2] == \"QF\"\n",
    "individu_df = pd.DataFrame(\n",
    "    {\n",
    "        \"famille_id\": list(range(len(raw_df))),\n",
    "        \"strasbourg_metropole_nombre_repas_cantine\": raw_df[\"Standard avec résa\"]\n",
    "        + raw_df[\"Halal avec résa\"]\n",
    "        + raw_df[\"Sans Porc avec résa\"],\n",
    "        \"strasbourg_metropole_nombre_repas_cantine_vegetarien\": raw_df[\n",
    "            \"Végétarien avec résa\"\n",
    "        ],\n",
    "        \"strasbourg_metropole_nombre_repas_cantine_panier\": raw_df[\"Panier avec résa\"],\n",
    "    }\n",
    ")\n",
    "individu_df"
   ]
  },
  {
   "cell_type": "code",
   "execution_count": null,
   "id": "266c5208",
   "metadata": {},
   "outputs": [],
   "source": [
    "famille_df = pd.DataFrame(\n",
    "    {\n",
    "        \"strasbourg_metropole_quotient_familial\": [\n",
    "            1.0 * q for (f, p, q) in raw_df.index\n",
    "        ],\n",
    "    }\n",
    ")\n",
    "menage_df = pd.DataFrame({})\n",
    "foyerfiscaux_df = pd.DataFrame({})\n",
    "\n",
    "individu_df[\"famille_role_index\"] = 0\n",
    "individu_df[\"foyer_fiscal_id\"] = individu_df.famille_id\n",
    "individu_df[\"foyer_fiscal_role_index\"] = 0\n",
    "individu_df[\"menage_id\"] = individu_df.famille_id\n",
    "individu_df[\"menage_role_index\"] = 0"
   ]
  },
  {
   "cell_type": "code",
   "execution_count": null,
   "id": "d9e81017",
   "metadata": {},
   "outputs": [],
   "source": [
    "raw_df = pd.pivot_table(\n",
    "    df,\n",
    "    index=[\"N° FAM\", \"N° PER\", \"QF\"],\n",
    "    columns=\"REPAS\",\n",
    "    values=\"NOMBRE\",\n",
    "    fill_value=0,\n",
    "    aggfunc=np.sum,\n",
    ")\n",
    "raw_df"
   ]
  },
  {
   "cell_type": "code",
   "execution_count": null,
   "id": "4296f2d2",
   "metadata": {},
   "outputs": [],
   "source": [
    "data = dict(\n",
    "    input_data_frame_by_entity=dict(\n",
    "        individu=individu_df,\n",
    "        famille=famille_df,\n",
    "        menage=menage_df,\n",
    "        foyer_fiscal=foyerfiscaux_df,\n",
    "    )\n",
    ")"
   ]
  },
  {
   "cell_type": "code",
   "execution_count": null,
   "id": "dc676c10",
   "metadata": {},
   "outputs": [],
   "source": [
    "scenario = StrasbourgSurveyScenario(data=data)"
   ]
  },
  {
   "cell_type": "code",
   "execution_count": null,
   "id": "7375ca5c",
   "metadata": {},
   "outputs": [],
   "source": [
    "var = [\n",
    "    #    \"strasbourg_metropole_quotient_familial\",\n",
    "    \"strasbourg_metropole_cout_cantine_individu\",\n",
    "    \"strasbourg_metropole_cout_cantine_individu_repas_vegetarien\",\n",
    "    \"strasbourg_metropole_cout_cantine_individu_repas_panier\",\n",
    "]\n",
    "res = pd.DataFrame(data={n: scenario.simulation.calculate(n, base_period) for n in var})\n",
    "res"
   ]
  },
  {
   "cell_type": "code",
   "execution_count": null,
   "id": "2f78c0d9",
   "metadata": {},
   "outputs": [],
   "source": [
    "res.sum()"
   ]
  },
  {
   "cell_type": "code",
   "execution_count": null,
   "id": "08da48cf",
   "metadata": {},
   "outputs": [],
   "source": [
    "sum(res.sum())"
   ]
  },
  {
   "cell_type": "code",
   "execution_count": null,
   "id": "1bfdf4be",
   "metadata": {},
   "outputs": [],
   "source": [
    "input_res = 5534720.55"
   ]
  }
 ],
 "metadata": {
  "kernelspec": {
   "display_name": "Python 3 (ipykernel)",
   "language": "python",
   "name": "python3"
  },
  "language_info": {
   "codemirror_mode": {
    "name": "ipython",
    "version": 3
   },
   "file_extension": ".py",
   "mimetype": "text/x-python",
   "name": "python",
   "nbconvert_exporter": "python",
   "pygments_lexer": "ipython3",
   "version": "3.9.16"
  }
 },
 "nbformat": 4,
 "nbformat_minor": 5
}
