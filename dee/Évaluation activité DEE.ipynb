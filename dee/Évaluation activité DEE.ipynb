{
 "cells": [
  {
   "cell_type": "code",
   "execution_count": null,
   "id": "c6544579",
   "metadata": {},
   "outputs": [],
   "source": [
    "import numpy as np\n",
    "import pandas as pd"
   ]
  },
  {
   "cell_type": "code",
   "execution_count": null,
   "id": "3d899794",
   "metadata": {},
   "outputs": [],
   "source": [
    "import sys\n",
    "\n",
    "sys.path.append(\"../technique\")\n",
    "from utils import *"
   ]
  },
  {
   "cell_type": "code",
   "execution_count": null,
   "id": "d35b0dc7",
   "metadata": {},
   "outputs": [],
   "source": [
    "def get(file):\n",
    "    sheet_name = \"2022-2023\"\n",
    "    return pd.read_excel(\n",
    "        file,\n",
    "        sheet_name=sheet_name,\n",
    "    )"
   ]
  },
  {
   "cell_type": "code",
   "execution_count": null,
   "id": "3f0bcd69",
   "metadata": {},
   "outputs": [],
   "source": [
    "df = get_data(\n",
    "    \"/home/thomas/Nextcloud/CodeursEnLiberte/EMS/dee/DEE_20230719_Données activités QF.xlsx\",\n",
    "    get,\n",
    ")"
   ]
  },
  {
   "cell_type": "code",
   "execution_count": null,
   "id": "192e193b",
   "metadata": {},
   "outputs": [],
   "source": [
    "df.Activite.unique()"
   ]
  },
  {
   "cell_type": "code",
   "execution_count": null,
   "id": "2ffe18ff",
   "metadata": {},
   "outputs": [],
   "source": [
    "df.UNITE.unique()"
   ]
  },
  {
   "cell_type": "code",
   "execution_count": null,
   "id": "535b3809",
   "metadata": {},
   "outputs": [],
   "source": [
    "df[\"SERVICE\"] = df.Activite + \"_\" + df.UNITE"
   ]
  },
  {
   "cell_type": "code",
   "execution_count": null,
   "id": "b9971a9d",
   "metadata": {},
   "outputs": [],
   "source": [
    "len(df.SERVICE.unique())"
   ]
  },
  {
   "cell_type": "code",
   "execution_count": null,
   "id": "22563b3b",
   "metadata": {},
   "outputs": [],
   "source": [
    "df[[\"SERVICE\", \"NOMBRE\"]].groupby(by=\"SERVICE\").sum().sort_values(\n",
    "    \"NOMBRE\", ascending=False\n",
    ")"
   ]
  },
  {
   "cell_type": "code",
   "execution_count": null,
   "id": "77969425",
   "metadata": {},
   "outputs": [],
   "source": [
    "df[\"SERVICE2\"] = df.Activite.str.replace(\"AL .*\", \"AL\", regex=True) + \"_\" + df.UNITE"
   ]
  },
  {
   "cell_type": "code",
   "execution_count": null,
   "id": "74975183",
   "metadata": {},
   "outputs": [],
   "source": [
    "df[[\"SERVICE2\", \"NOMBRE\"]].groupby(by=\"SERVICE2\").sum().sort_values(\n",
    "    \"NOMBRE\", ascending=False\n",
    ")"
   ]
  },
  {
   "cell_type": "code",
   "execution_count": null,
   "id": "9c22b81c",
   "metadata": {},
   "outputs": [],
   "source": [
    "usage = (\n",
    "    df[[\"SERVICE\", \"N° PER\", \"MOIS\", \"NOMBRE\"]]\n",
    "    .groupby(by=[\"N° PER\", \"MOIS\", \"SERVICE\"])\n",
    "    .sum()\n",
    ")  # .reset_index()"
   ]
  },
  {
   "cell_type": "code",
   "execution_count": null,
   "id": "4a516f48",
   "metadata": {},
   "outputs": [],
   "source": [
    "usage"
   ]
  },
  {
   "cell_type": "code",
   "execution_count": null,
   "id": "851dbbc0",
   "metadata": {},
   "outputs": [],
   "source": [
    "flat_usage = usage.reset_index()\n",
    "flat_usage"
   ]
  },
  {
   "cell_type": "code",
   "execution_count": null,
   "id": "b143f691",
   "metadata": {},
   "outputs": [],
   "source": [
    "multiple = (\n",
    "    flat_usage[[\"N° PER\", \"MOIS\", \"SERVICE\"]].groupby(by=[\"N° PER\", \"MOIS\"]).count()\n",
    ")\n",
    "multiple[multiple.SERVICE > 1].index"
   ]
  },
  {
   "cell_type": "code",
   "execution_count": null,
   "id": "ab63f217",
   "metadata": {},
   "outputs": [],
   "source": [
    "data = flat_usage.join(\n",
    "    multiple[multiple.SERVICE > 1], on=[\"N° PER\", \"MOIS\"], rsuffix=\"r\", how=\"inner\"\n",
    ").set_index([\"N° PER\", \"MOIS\"])"
   ]
  },
  {
   "cell_type": "code",
   "execution_count": null,
   "id": "1e17bb61",
   "metadata": {},
   "outputs": [],
   "source": [
    "data"
   ]
  },
  {
   "cell_type": "code",
   "execution_count": null,
   "id": "67f4ed11",
   "metadata": {},
   "outputs": [],
   "source": [
    "with pd.option_context(\"display.max_rows\", 300):\n",
    "    display(data[0:100])"
   ]
  },
  {
   "cell_type": "code",
   "execution_count": null,
   "id": "761fea5f",
   "metadata": {},
   "outputs": [],
   "source": [
    "data[data.SERVICE.str.contains(\"APM\")][[\"SERVICE\", \"NOMBRE\"]].groupby(\"SERVICE\").count()"
   ]
  },
  {
   "cell_type": "code",
   "execution_count": null,
   "id": "600fbcfa",
   "metadata": {},
   "outputs": [],
   "source": [
    "data[data.SERVICE.str.contains(\"APM_M\")].index.values"
   ]
  },
  {
   "cell_type": "code",
   "execution_count": null,
   "id": "e4aaaa9c",
   "metadata": {},
   "outputs": [],
   "source": [
    "data.loc[(217881, pd.Timestamp(\"2022-10-01 00:00:00\"))]"
   ]
  },
  {
   "cell_type": "code",
   "execution_count": null,
   "id": "02363aa3",
   "metadata": {},
   "outputs": [],
   "source": [
    "with pd.option_context(\"display.max_rows\", 800):\n",
    "    display(data.loc[data[data.SERVICE.str.contains(\"APM_M\")].index.values])"
   ]
  },
  {
   "cell_type": "code",
   "execution_count": null,
   "id": "50609c9a",
   "metadata": {},
   "outputs": [],
   "source": [
    "# Il semblerait que les données soient de la fréquentation et donc\n",
    "# qu'il faille faire le lien avec les services/tarifications"
   ]
  },
  {
   "cell_type": "code",
   "execution_count": null,
   "id": "fc0fabc4",
   "metadata": {},
   "outputs": [],
   "source": [
    "df"
   ]
  },
  {
   "cell_type": "code",
   "execution_count": null,
   "id": "5be52c94",
   "metadata": {},
   "outputs": [],
   "source": [
    "df_apm = df[df.Activite == \"APM\"].pivot(\n",
    "    index=[\"N° FAM\", \"QF\", \"N° PER\", \"MOIS\"], columns=\"UNITE\", values=\"NOMBRE\"\n",
    ")"
   ]
  },
  {
   "cell_type": "code",
   "execution_count": null,
   "id": "3598bbbd",
   "metadata": {},
   "outputs": [],
   "source": [
    "df_apm[(~df_apm.M.isna()) * (df_apm.S == 0)]"
   ]
  },
  {
   "cell_type": "code",
   "execution_count": null,
   "id": "dec34d91",
   "metadata": {},
   "outputs": [],
   "source": [
    "df_apm[df_apm.S == 0]"
   ]
  },
  {
   "cell_type": "code",
   "execution_count": null,
   "id": "65475ff9",
   "metadata": {},
   "outputs": [],
   "source": [
    "df_apm_base = df_apm.reset_index()"
   ]
  },
  {
   "cell_type": "code",
   "execution_count": null,
   "id": "84be7c9f",
   "metadata": {},
   "outputs": [],
   "source": [
    "df_apm_base"
   ]
  },
  {
   "cell_type": "code",
   "execution_count": null,
   "id": "6b8303e9",
   "metadata": {},
   "outputs": [],
   "source": [
    "df_apm_base[\"USE\"] = True"
   ]
  },
  {
   "cell_type": "code",
   "execution_count": null,
   "id": "b9a226fb",
   "metadata": {},
   "outputs": [],
   "source": [
    "df_apm_mensuel = (\n",
    "    df_apm_base[[\"N° FAM\", \"QF\", \"N° PER\", \"MOIS\", \"USE\"]]\n",
    "    .groupby([\"N° FAM\", \"QF\", \"N° PER\", \"MOIS\"])\n",
    "    .count()\n",
    ")"
   ]
  },
  {
   "cell_type": "code",
   "execution_count": null,
   "id": "943a23d5",
   "metadata": {},
   "outputs": [],
   "source": [
    "df_apm_usage = (\n",
    "    df_apm_mensuel.reset_index()[[\"N° FAM\", \"QF\", \"N° PER\", \"MOIS\"]]\n",
    "    .groupby([\"N° FAM\", \"QF\", \"N° PER\"])\n",
    "    .count()\n",
    "    .reset_index()\n",
    ")"
   ]
  },
  {
   "cell_type": "code",
   "execution_count": null,
   "id": "0c9a683b",
   "metadata": {},
   "outputs": [],
   "source": [
    "df_apm_usage"
   ]
  },
  {
   "cell_type": "code",
   "execution_count": null,
   "id": "a0235ab9",
   "metadata": {},
   "outputs": [],
   "source": [
    "df_apm_usage"
   ]
  },
  {
   "cell_type": "code",
   "execution_count": null,
   "id": "6bf53f43",
   "metadata": {},
   "outputs": [],
   "source": [
    "from openfisca_survey_manager.scenarios import AbstractSurveyScenario\n",
    "from openfisca_france import CountryTaxBenefitSystem\n",
    "from openfisca_france.model.base import Famille, FoyerFiscal, Menage\n",
    "from openfisca_core import periods"
   ]
  },
  {
   "cell_type": "code",
   "execution_count": null,
   "id": "987fa09d",
   "metadata": {},
   "outputs": [],
   "source": [
    "base = CountryTaxBenefitSystem()\n",
    "base.load_extension(\"openfisca_france_local\")"
   ]
  },
  {
   "cell_type": "code",
   "execution_count": null,
   "id": "94ec52a8",
   "metadata": {},
   "outputs": [],
   "source": [
    "df_apm_usage"
   ]
  },
  {
   "cell_type": "code",
   "execution_count": null,
   "id": "490c68b6",
   "metadata": {},
   "outputs": [],
   "source": [
    "def build_data(df):\n",
    "    individu_df = pd.DataFrame(\n",
    "        {\n",
    "            \"famille_id\": list(range(len(df))),\n",
    "        }\n",
    "    )\n",
    "    famille_df = pd.DataFrame(\n",
    "        {\n",
    "            \"qfrule\": \"QF==\" + df.QF.astype(\"str\"),\n",
    "        }\n",
    "    )\n",
    "    determine_qf(famille_df, qfrules_constant)\n",
    "    menage_df = pd.DataFrame({})\n",
    "    foyerfiscaux_df = pd.DataFrame({})\n",
    "\n",
    "    individu_df[\"famille_role_index\"] = 0\n",
    "    individu_df[\"foyer_fiscal_id\"] = individu_df.famille_id\n",
    "    individu_df[\"foyer_fiscal_role_index\"] = 0\n",
    "    individu_df[\"menage_id\"] = individu_df.famille_id\n",
    "    individu_df[\"menage_role_index\"] = 0\n",
    "\n",
    "    return dict(\n",
    "        input_data_frame_by_entity=dict(\n",
    "            individu=individu_df,\n",
    "            famille=famille_df,\n",
    "            menage=menage_df,\n",
    "            foyer_fiscal=foyerfiscaux_df,\n",
    "        )\n",
    "    )"
   ]
  },
  {
   "cell_type": "code",
   "execution_count": null,
   "id": "aa5ba65f",
   "metadata": {},
   "outputs": [],
   "source": [
    "data = build_data(df_apm_usage)\n",
    "scenario = StrasbourgSurveyScenario(base, data=data)"
   ]
  },
  {
   "cell_type": "code",
   "execution_count": null,
   "id": "c1cf3b22",
   "metadata": {},
   "outputs": [],
   "source": [
    "prix = scenario.simulation.calculate(\n",
    "    \"strasbourg_prix_periscolaire_maternelle\", base_period\n",
    ")\n",
    "prix"
   ]
  },
  {
   "cell_type": "code",
   "execution_count": null,
   "id": "0d558800",
   "metadata": {},
   "outputs": [],
   "source": [
    "(prix * df_apm_usage.MOIS).sum()"
   ]
  },
  {
   "cell_type": "code",
   "execution_count": null,
   "id": "6f0ffced",
   "metadata": {},
   "outputs": [],
   "source": [
    "df.SERVICE2.unique()"
   ]
  },
  {
   "cell_type": "code",
   "execution_count": null,
   "id": "560fcf93",
   "metadata": {},
   "outputs": [],
   "source": [
    "fields = {\n",
    "    \"AL_J\": \"strasbourg_prix_periscolaire_loisirs_journee\",\n",
    "    \"AL_1/2J\": \"strasbourg_prix_periscolaire_loisirs_demi_journee\",\n",
    "    \"AL_R\": \"strasbourg_prix_periscolaire_loisirs_repas\",\n",
    "    \"AL_P\": \"strasbourg_prix_periscolaire_loisirs_panier\",\n",
    "}"
   ]
  },
  {
   "cell_type": "code",
   "execution_count": null,
   "id": "de5dffbb",
   "metadata": {},
   "outputs": [],
   "source": [
    "df_al = (\n",
    "    df[df.SERVICE2.str.contains(\"AL_\")][\n",
    "        [\"N° FAM\", \"QF\", \"N° PER\", \"SERVICE2\", \"NOMBRE\"]\n",
    "    ]\n",
    "    .groupby([\"N° FAM\", \"QF\", \"N° PER\", \"SERVICE2\"])\n",
    "    .sum()\n",
    "    .reset_index()\n",
    ")"
   ]
  },
  {
   "cell_type": "code",
   "execution_count": null,
   "id": "f2b2bf1b",
   "metadata": {},
   "outputs": [],
   "source": [
    "df_al"
   ]
  },
  {
   "cell_type": "code",
   "execution_count": null,
   "id": "b29bb727",
   "metadata": {},
   "outputs": [],
   "source": [
    "df_al.SERVICE2.unique()"
   ]
  },
  {
   "cell_type": "code",
   "execution_count": null,
   "id": "a83d99d3",
   "metadata": {},
   "outputs": [],
   "source": [
    "data_al = build_data(df_al)"
   ]
  },
  {
   "cell_type": "code",
   "execution_count": null,
   "id": "eb2928a4",
   "metadata": {},
   "outputs": [],
   "source": [
    "scenario_al = StrasbourgSurveyScenario(base, data=data_al)"
   ]
  },
  {
   "cell_type": "code",
   "execution_count": null,
   "id": "018ba91b",
   "metadata": {},
   "outputs": [],
   "source": [
    "res_al = pd.DataFrame(\n",
    "    data={v: scenario_al.simulation.calculate(fields[v], base_period) for v in fields}\n",
    ")\n",
    "res_al"
   ]
  },
  {
   "cell_type": "code",
   "execution_count": null,
   "id": "034d3845",
   "metadata": {},
   "outputs": [],
   "source": [
    "df_al"
   ]
  },
  {
   "cell_type": "code",
   "execution_count": null,
   "id": "80cb1e16",
   "metadata": {},
   "outputs": [],
   "source": [
    "idx, cols = pd.factorize(df_al.SERVICE2)\n",
    "idx, cols"
   ]
  },
  {
   "cell_type": "code",
   "execution_count": null,
   "id": "0623fbde",
   "metadata": {},
   "outputs": [],
   "source": [
    "idx.shape"
   ]
  },
  {
   "cell_type": "code",
   "execution_count": null,
   "id": "59e3631f",
   "metadata": {},
   "outputs": [],
   "source": [
    "res_al.shape"
   ]
  },
  {
   "cell_type": "code",
   "execution_count": null,
   "id": "76308e3a",
   "metadata": {},
   "outputs": [],
   "source": [
    "df_al[\"PRIX\"] = res_al.reindex(cols, axis=1).to_numpy()[np.arange(len(res_al)), idx]\n",
    "df_al"
   ]
  },
  {
   "cell_type": "code",
   "execution_count": null,
   "id": "c4e33920",
   "metadata": {},
   "outputs": [],
   "source": [
    "df_al[\"COUT\"] = df_al.PRIX * df_al.NOMBRE"
   ]
  },
  {
   "cell_type": "code",
   "execution_count": null,
   "id": "b6754c14",
   "metadata": {},
   "outputs": [],
   "source": [
    "df_al[\"COUT\"].sum()"
   ]
  },
  {
   "cell_type": "code",
   "execution_count": null,
   "id": "8b3b1fc8",
   "metadata": {},
   "outputs": [],
   "source": [
    "df_al[[\"COUT\", \"SERVICE2\"]].groupby(\"SERVICE2\").sum()"
   ]
  },
  {
   "cell_type": "code",
   "execution_count": null,
   "id": "cf4e9a13",
   "metadata": {},
   "outputs": [],
   "source": [
    "df_al[[\"PRIX\", \"SERVICE2\"]].groupby(\"SERVICE2\").hist(bins=20)"
   ]
  },
  {
   "cell_type": "code",
   "execution_count": null,
   "id": "39ce15e6",
   "metadata": {},
   "outputs": [],
   "source": []
  }
 ],
 "metadata": {
  "kernelspec": {
   "display_name": "Python 3 (ipykernel)",
   "language": "python",
   "name": "python3"
  },
  "language_info": {
   "codemirror_mode": {
    "name": "ipython",
    "version": 3
   },
   "file_extension": ".py",
   "mimetype": "text/x-python",
   "name": "python",
   "nbconvert_exporter": "python",
   "pygments_lexer": "ipython3",
   "version": "3.9.16"
  }
 },
 "nbformat": 4,
 "nbformat_minor": 5
}
