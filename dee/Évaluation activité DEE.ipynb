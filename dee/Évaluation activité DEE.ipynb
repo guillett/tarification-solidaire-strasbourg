{
 "cells": [
  {
   "cell_type": "code",
   "execution_count": null,
   "id": "ce63d4c8",
   "metadata": {},
   "outputs": [],
   "source": [
    "from activite import build_data, al_fields, get, get_dfs, get_results"
   ]
  },
  {
   "cell_type": "code",
   "execution_count": null,
   "id": "7cf444ea",
   "metadata": {},
   "outputs": [],
   "source": [
    "from openfisca_france import CountryTaxBenefitSystem\n",
    "\n",
    "base = CountryTaxBenefitSystem()\n",
    "base.load_extension(\"openfisca_france_local\")\n",
    "res = get_results(base)\n",
    "res"
   ]
  },
  {
   "cell_type": "code",
   "execution_count": null,
   "id": "c6544579",
   "metadata": {},
   "outputs": [],
   "source": [
    "import numpy as np\n",
    "import pandas as pd"
   ]
  },
  {
   "cell_type": "code",
   "execution_count": null,
   "id": "3d899794",
   "metadata": {},
   "outputs": [],
   "source": [
    "import sys\n",
    "\n",
    "sys.path.append(\"../technique\")\n",
    "from utils import *"
   ]
  },
  {
   "cell_type": "code",
   "execution_count": null,
   "id": "3f0bcd69",
   "metadata": {},
   "outputs": [],
   "source": [
    "df = get_data(\n",
    "    \"/home/thomas/Nextcloud/CodeursEnLiberte/EMS/dee/DEE_20230719_Données activités QF.xlsx\",\n",
    "    get,\n",
    ")"
   ]
  },
  {
   "cell_type": "code",
   "execution_count": null,
   "id": "192e193b",
   "metadata": {},
   "outputs": [],
   "source": [
    "df.Activite.unique()"
   ]
  },
  {
   "cell_type": "code",
   "execution_count": null,
   "id": "2ffe18ff",
   "metadata": {},
   "outputs": [],
   "source": [
    "df.UNITE.unique()"
   ]
  },
  {
   "cell_type": "code",
   "execution_count": null,
   "id": "535b3809",
   "metadata": {},
   "outputs": [],
   "source": [
    "df[\"SERVICE\"] = df.Activite + \"_\" + df.UNITE"
   ]
  },
  {
   "cell_type": "code",
   "execution_count": null,
   "id": "b9971a9d",
   "metadata": {},
   "outputs": [],
   "source": [
    "len(df.SERVICE.unique())"
   ]
  },
  {
   "cell_type": "code",
   "execution_count": null,
   "id": "22563b3b",
   "metadata": {},
   "outputs": [],
   "source": [
    "df[[\"SERVICE\", \"NOMBRE\"]].groupby(by=\"SERVICE\").sum().sort_values(\n",
    "    \"NOMBRE\", ascending=False\n",
    ")"
   ]
  },
  {
   "cell_type": "code",
   "execution_count": null,
   "id": "77969425",
   "metadata": {},
   "outputs": [],
   "source": [
    "df[\"SERVICE2\"] = df.Activite.str.replace(\"AL .*\", \"AL\", regex=True) + \"_\" + df.UNITE"
   ]
  },
  {
   "cell_type": "code",
   "execution_count": null,
   "id": "74975183",
   "metadata": {},
   "outputs": [],
   "source": [
    "df[[\"SERVICE2\", \"NOMBRE\"]].groupby(by=\"SERVICE2\").sum().sort_values(\n",
    "    \"NOMBRE\", ascending=False\n",
    ")"
   ]
  },
  {
   "cell_type": "code",
   "execution_count": null,
   "id": "9c22b81c",
   "metadata": {},
   "outputs": [],
   "source": [
    "usage = (\n",
    "    df[[\"SERVICE\", \"N° PER\", \"MOIS\", \"NOMBRE\"]]\n",
    "    .groupby(by=[\"N° PER\", \"MOIS\", \"SERVICE\"])\n",
    "    .sum()\n",
    ")  # .reset_index()"
   ]
  },
  {
   "cell_type": "code",
   "execution_count": null,
   "id": "4a516f48",
   "metadata": {},
   "outputs": [],
   "source": [
    "usage"
   ]
  },
  {
   "cell_type": "code",
   "execution_count": null,
   "id": "851dbbc0",
   "metadata": {},
   "outputs": [],
   "source": [
    "flat_usage = usage.reset_index()\n",
    "flat_usage"
   ]
  },
  {
   "cell_type": "code",
   "execution_count": null,
   "id": "b143f691",
   "metadata": {},
   "outputs": [],
   "source": [
    "multiple = (\n",
    "    flat_usage[[\"N° PER\", \"MOIS\", \"SERVICE\"]].groupby(by=[\"N° PER\", \"MOIS\"]).count()\n",
    ")\n",
    "multiple[multiple.SERVICE > 1].index"
   ]
  },
  {
   "cell_type": "code",
   "execution_count": null,
   "id": "ab63f217",
   "metadata": {},
   "outputs": [],
   "source": [
    "data = flat_usage.join(\n",
    "    multiple[multiple.SERVICE > 1], on=[\"N° PER\", \"MOIS\"], rsuffix=\"r\", how=\"inner\"\n",
    ").set_index([\"N° PER\", \"MOIS\"])"
   ]
  },
  {
   "cell_type": "code",
   "execution_count": null,
   "id": "67f4ed11",
   "metadata": {},
   "outputs": [],
   "source": [
    "with pd.option_context(\"display.max_rows\", 300):\n",
    "    display(data[0:100])"
   ]
  },
  {
   "cell_type": "code",
   "execution_count": null,
   "id": "761fea5f",
   "metadata": {},
   "outputs": [],
   "source": [
    "data[data.SERVICE.str.contains(\"APM\")][[\"SERVICE\", \"NOMBRE\"]].groupby(\"SERVICE\").count()"
   ]
  }
 ],
 "metadata": {
  "kernelspec": {
   "display_name": "Python 3 (ipykernel)",
   "language": "python",
   "name": "python3"
  },
  "language_info": {
   "codemirror_mode": {
    "name": "ipython",
    "version": 3
   },
   "file_extension": ".py",
   "mimetype": "text/x-python",
   "name": "python",
   "nbconvert_exporter": "python",
   "pygments_lexer": "ipython3",
   "version": "3.9.16"
  }
 },
 "nbformat": 4,
 "nbformat_minor": 5
}
