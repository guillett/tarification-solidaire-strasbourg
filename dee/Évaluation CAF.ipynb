{
 "cells": [
  {
   "cell_type": "code",
   "execution_count": null,
   "id": "dccfbc26",
   "metadata": {},
   "outputs": [],
   "source": [
    "import pandas as pd"
   ]
  },
  {
   "cell_type": "code",
   "execution_count": null,
   "id": "766a5e97",
   "metadata": {},
   "outputs": [],
   "source": [
    "from dotenv import load_dotenv\n",
    "\n",
    "load_dotenv()\n",
    "import os\n",
    "import sys"
   ]
  },
  {
   "cell_type": "code",
   "execution_count": null,
   "id": "0d6ff1c1",
   "metadata": {},
   "outputs": [],
   "source": [
    "import sys\n",
    "\n",
    "sys.path.append(\"../technique\")"
   ]
  },
  {
   "cell_type": "code",
   "execution_count": null,
   "id": "bc26f97f",
   "metadata": {},
   "outputs": [],
   "source": [
    "from utils import base_period"
   ]
  },
  {
   "cell_type": "code",
   "execution_count": null,
   "id": "b2f8b8d2",
   "metadata": {},
   "outputs": [],
   "source": []
  },
  {
   "cell_type": "code",
   "execution_count": null,
   "id": "1dfc9697",
   "metadata": {},
   "outputs": [],
   "source": [
    "raw_df_dee = pd.read_csv(\n",
    "    f\"{os.getenv('DATA_FOLDER')}dee/DEE_v3_20231003_QFCAF.csv\",\n",
    "    delimiter=\";\",\n",
    "    encoding=\"windows-1250\",\n",
    "    index_col=0,\n",
    "    decimal=\",\",\n",
    ")"
   ]
  },
  {
   "cell_type": "code",
   "execution_count": null,
   "id": "c4fd852b",
   "metadata": {},
   "outputs": [],
   "source": [
    "raw_df_dee.groupby(\"REPAS\").NBR_ANNUEL.sum()"
   ]
  },
  {
   "cell_type": "code",
   "execution_count": null,
   "id": "1bdfa1ac",
   "metadata": {},
   "outputs": [],
   "source": [
    "raw_df = pd.read_csv(\n",
    "    f\"{os.getenv('DATA_FOLDER')}dee/DEE_v3_20231003_QFCAFQFEMS.csv\",\n",
    "    delimiter=\";\",\n",
    "    encoding=\"windows-1250\",\n",
    "    index_col=0,\n",
    "    decimal=\",\",\n",
    ")"
   ]
  },
  {
   "cell_type": "code",
   "execution_count": null,
   "id": "0cb0ccc0",
   "metadata": {},
   "outputs": [],
   "source": [
    "raw_df"
   ]
  },
  {
   "cell_type": "code",
   "execution_count": null,
   "id": "55e09a59",
   "metadata": {},
   "outputs": [],
   "source": [
    "raw_df_c = pd.read_csv(\n",
    "    f\"{os.getenv('DATA_FOLDER')}dee/DEE_calcul_anonym_decode_V2.csv\",\n",
    "    delimiter=\";\",\n",
    "    encoding=\"windows-1250\",\n",
    "    index_col=0,\n",
    "    decimal=\",\",\n",
    ")"
   ]
  },
  {
   "cell_type": "code",
   "execution_count": null,
   "id": "b83434d8",
   "metadata": {},
   "outputs": [],
   "source": [
    "raw_df_c.groupby(\"LIB_SERVICE\").NB.sum()"
   ]
  },
  {
   "cell_type": "code",
   "execution_count": null,
   "id": "81593d3a",
   "metadata": {},
   "outputs": [],
   "source": [
    "raw_df.groupby(\"REPAS\").NBR_ANNUEL.sum()"
   ]
  },
  {
   "cell_type": "code",
   "execution_count": null,
   "id": "b260389a",
   "metadata": {},
   "outputs": [],
   "source": [
    "raw_df.NBR_ANNUEL.sum()"
   ]
  },
  {
   "cell_type": "code",
   "execution_count": null,
   "id": "eb92d11a",
   "metadata": {},
   "outputs": [],
   "source": [
    "raw_df_c"
   ]
  },
  {
   "cell_type": "code",
   "execution_count": null,
   "id": "88c56051",
   "metadata": {},
   "outputs": [],
   "source": []
  },
  {
   "cell_type": "code",
   "execution_count": null,
   "id": "deff694b",
   "metadata": {},
   "outputs": [],
   "source": [
    "df.groupby(\"openfisca\").NB.sum().sort_values(ascending=False)"
   ]
  },
  {
   "cell_type": "code",
   "execution_count": null,
   "id": "930572fd",
   "metadata": {},
   "outputs": [],
   "source": []
  },
  {
   "cell_type": "code",
   "execution_count": null,
   "id": "007a2e4c",
   "metadata": {},
   "outputs": [],
   "source": [
    "from openfisca_france import CountryTaxBenefitSystem"
   ]
  },
  {
   "cell_type": "code",
   "execution_count": null,
   "id": "af15e1b4",
   "metadata": {},
   "outputs": [],
   "source": [
    "base = CountryTaxBenefitSystem()\n",
    "base.load_extension(\"openfisca_france_local\")"
   ]
  },
  {
   "cell_type": "code",
   "execution_count": null,
   "id": "3e03411c",
   "metadata": {},
   "outputs": [],
   "source": [
    "from scenario import (\n",
    "    QfFiscalReform,\n",
    "    StatutReform,\n",
    "    CEReform,\n",
    "    gristSimulationReform,\n",
    "    period,\n",
    "    StrasbourgSurveyScenario,\n",
    ")"
   ]
  },
  {
   "cell_type": "code",
   "execution_count": null,
   "id": "a2eb3f19",
   "metadata": {},
   "outputs": [],
   "source": [
    "for field_cout, gdf in df.groupby(\"openfisca\"):\n",
    "    if field_cout not in nombre_fields or not nombre_fields[field_cout]:\n",
    "        print(field_cout)\n",
    "        raise BaseException(\"o\")\n",
    "    tbs = base\n",
    "    scenario = StrasbourgSurveyScenario(tbs, data=data)\n",
    "    res = scenario.simulation.calculate(field_cout, base_period)\n",
    "    print(res.sum())"
   ]
  },
  {
   "cell_type": "code",
   "execution_count": null,
   "id": "48787fcc",
   "metadata": {},
   "outputs": [],
   "source": [
    "df[df.openfisca == \"strasbourg_periscolaire_loisirs_journee_cout\"]"
   ]
  },
  {
   "cell_type": "code",
   "execution_count": null,
   "id": "9a63cc42",
   "metadata": {},
   "outputs": [],
   "source": []
  }
 ],
 "metadata": {
  "kernelspec": {
   "display_name": "Python 3 (ipykernel)",
   "language": "python",
   "name": "python3"
  },
  "language_info": {
   "codemirror_mode": {
    "name": "ipython",
    "version": 3
   },
   "file_extension": ".py",
   "mimetype": "text/x-python",
   "name": "python",
   "nbconvert_exporter": "python",
   "pygments_lexer": "ipython3",
   "version": "3.9.16"
  }
 },
 "nbformat": 4,
 "nbformat_minor": 5
}
