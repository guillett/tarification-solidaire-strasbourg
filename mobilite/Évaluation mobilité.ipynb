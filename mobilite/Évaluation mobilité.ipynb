{
 "cells": [
  {
   "cell_type": "code",
   "execution_count": null,
   "id": "e6fecc64",
   "metadata": {},
   "outputs": [],
   "source": [
    "1"
   ]
  },
  {
   "cell_type": "code",
   "execution_count": null,
   "id": "dc774efc",
   "metadata": {},
   "outputs": [],
   "source": [
    "import pandas as pd\n",
    "import numpy as np"
   ]
  },
  {
   "cell_type": "code",
   "execution_count": null,
   "id": "931def20",
   "metadata": {},
   "outputs": [],
   "source": [
    "from openfisca_france import CountryTaxBenefitSystem\n",
    "from openfisca_core.reforms import Reform"
   ]
  },
  {
   "cell_type": "code",
   "execution_count": null,
   "id": "afdd6544",
   "metadata": {},
   "outputs": [],
   "source": [
    "import sys\n",
    "\n",
    "sys.path.append(\"../technique\")"
   ]
  },
  {
   "cell_type": "code",
   "execution_count": null,
   "id": "d623214f",
   "metadata": {},
   "outputs": [],
   "source": [
    "from dotenv import load_dotenv\n",
    "\n",
    "load_dotenv()\n",
    "import os"
   ]
  },
  {
   "cell_type": "code",
   "execution_count": null,
   "id": "ea329692",
   "metadata": {},
   "outputs": [],
   "source": [
    "from utils import *"
   ]
  },
  {
   "cell_type": "code",
   "execution_count": null,
   "id": "779dc951",
   "metadata": {},
   "outputs": [],
   "source": [
    "from scenario import CEReform, new_bracket"
   ]
  },
  {
   "cell_type": "code",
   "execution_count": null,
   "id": "d5ce058a",
   "metadata": {},
   "outputs": [],
   "source": [
    "from mobilite import add_compensation, build_data, compute_result, get_df, get_results"
   ]
  },
  {
   "cell_type": "code",
   "execution_count": null,
   "id": "c38026e9",
   "metadata": {},
   "outputs": [],
   "source": [
    "base = CountryTaxBenefitSystem()\n",
    "base.load_extension(\"openfisca_france_local\")"
   ]
  },
  {
   "cell_type": "code",
   "execution_count": null,
   "id": "7d5fd837",
   "metadata": {},
   "outputs": [],
   "source": [
    "qf_fiscal_reform = QfFiscalReform(base)"
   ]
  },
  {
   "cell_type": "code",
   "execution_count": null,
   "id": "48a8bfbf",
   "metadata": {},
   "outputs": [],
   "source": [
    "statut_reform = StatutReform(qf_fiscal_reform)"
   ]
  },
  {
   "cell_type": "code",
   "execution_count": null,
   "id": "19529291",
   "metadata": {},
   "outputs": [],
   "source": [
    "pd.options.display.float_format = lambda v: \"{:_.2f}\".format(v).replace(\"_\", \" \")"
   ]
  },
  {
   "cell_type": "code",
   "execution_count": null,
   "id": "e19e47e3",
   "metadata": {},
   "outputs": [],
   "source": [
    "recap_f, [(_, res_f)] = get_results(base, sample_count=10, reform=qf_fiscal_reform)"
   ]
  },
  {
   "cell_type": "code",
   "execution_count": null,
   "id": "db07ad43",
   "metadata": {},
   "outputs": [],
   "source": [
    "res_f.groupby([\"sample_id\", \"titre_fichier\"]).ajustement_mensuel_num.sum().groupby(\n",
    "    \"titre_fichier\"\n",
    ").describe()"
   ]
  },
  {
   "cell_type": "code",
   "execution_count": null,
   "id": "aef48e6a",
   "metadata": {},
   "outputs": [],
   "source": [
    "res_f.groupby([\"sample_id\", \"titre_fichier\"]).pu_calc_ht.sum().groupby(\n",
    "    \"titre_fichier\"\n",
    ").median()"
   ]
  },
  {
   "cell_type": "code",
   "execution_count": null,
   "id": "612080aa",
   "metadata": {},
   "outputs": [],
   "source": [
    "recap_f"
   ]
  },
  {
   "cell_type": "code",
   "execution_count": null,
   "id": "0ccaa7ce",
   "metadata": {},
   "outputs": [],
   "source": [
    "quantite_ancien_qf = (\n",
    "    res_f.groupby([\"sample_id\", \"pu_calc\"])\n",
    "    .ajustement_mensuel_num.sum()\n",
    "    .groupby(\"pu_calc\")\n",
    "    .median()\n",
    ")\n",
    "quantite_ancien_qf"
   ]
  },
  {
   "cell_type": "code",
   "execution_count": null,
   "id": "559680ee",
   "metadata": {},
   "outputs": [],
   "source": [
    "quantite_nouveau_qf = (\n",
    "    res_f.groupby([\"sample_id\", \"pu_calc_r\"])\n",
    "    .ajustement_mensuel_num.sum()\n",
    "    .groupby(\"pu_calc_r\")\n",
    "    .median()\n",
    ")\n",
    "quantite_nouveau_qf"
   ]
  },
  {
   "cell_type": "code",
   "execution_count": null,
   "id": "2057e129",
   "metadata": {},
   "outputs": [],
   "source": [
    "res_f[~res_f.ok]"
   ]
  },
  {
   "cell_type": "code",
   "execution_count": null,
   "id": "35809429",
   "metadata": {},
   "outputs": [],
   "source": [
    "assert [*res_f[~res_f.ok].titre_fichier.unique()] == [\" +65 Annuel\", \"PMR Gratuit\"]"
   ]
  },
  {
   "cell_type": "code",
   "execution_count": null,
   "id": "1d602e4b",
   "metadata": {},
   "outputs": [],
   "source": [
    "res_f[res_f.titre_fichier.isin([*res_f[~res_f.ok].titre_fichier.unique()])][\n",
    "    [\"sample_id\", \"titre_fichier\", \"pu_fichier\", \"pu_calc_ht\"]\n",
    "].groupby([\"sample_id\", \"titre_fichier\"]).sum().groupby(\"titre_fichier\").describe()"
   ]
  },
  {
   "cell_type": "code",
   "execution_count": null,
   "id": "72ea14a8",
   "metadata": {},
   "outputs": [],
   "source": [
    "ecarts = (\n",
    "    res_f[res_f.titre_fichier.isin([*res_f[~res_f.ok].titre_fichier.unique()])][\n",
    "        [\n",
    "            \"sample_id\",\n",
    "            \"titre_fichier\",\n",
    "            \"ajustement_mensuel_num\",\n",
    "            \"pu_fichier\",\n",
    "            \"pu_calc_ht\",\n",
    "        ]\n",
    "    ]\n",
    "    .rename(\n",
    "        columns={\n",
    "            \"ajustement_mensuel_num\": \"quantité ajustée\",\n",
    "            \"pu_fichier\": \"recettes fichier\",\n",
    "            \"pu_calc_ht\": \"recettes recalculées\",\n",
    "        }\n",
    "    )\n",
    "    .groupby([\"sample_id\", \"titre_fichier\"])\n",
    "    .sum()\n",
    "    .groupby(\"titre_fichier\")\n",
    "    .agg([\"mean\", \"std\"])\n",
    ")\n",
    "ecarts"
   ]
  },
  {
   "cell_type": "code",
   "execution_count": null,
   "id": "fb236ca2",
   "metadata": {},
   "outputs": [],
   "source": [
    "ecarts.to_excel(\"ecarts.xlsx\", sheet_name=\"Écarts\")"
   ]
  },
  {
   "cell_type": "code",
   "execution_count": null,
   "id": "172ed553",
   "metadata": {},
   "outputs": [],
   "source": [
    "field = \"pu_calc\"\n",
    "# field = \"pu_fichier\"\n",
    "pd.pivot_table(\n",
    "    res_f[[field, field + \"_r\", \"quantité\"]],\n",
    "    columns=field + \"_r\",\n",
    "    index=field,\n",
    "    values=\"quantité\",\n",
    "    aggfunc=len,\n",
    ")"
   ]
  },
  {
   "cell_type": "code",
   "execution_count": null,
   "id": "3dfc8ac9",
   "metadata": {},
   "outputs": [],
   "source": [
    "res_f"
   ]
  },
  {
   "cell_type": "code",
   "execution_count": null,
   "id": "93ebfd07",
   "metadata": {},
   "outputs": [],
   "source": [
    "res_f[[field, field + \"_r\", \"quantité\"]]"
   ]
  },
  {
   "cell_type": "code",
   "execution_count": null,
   "id": "561f9d7c",
   "metadata": {},
   "outputs": [],
   "source": [
    "res_f[field + \"_rs\"] = res_f[field + \"_r\"].astype(\"str\")\n",
    "suffix = \"_r\"\n",
    "count_field = \"quantité\"\n",
    "# count_field = \"ajustement_mensuel_num\"\n",
    "matrice = (\n",
    "    pd.pivot_table(\n",
    "        res_f[[field, field + suffix, count_field, \"sample_id\"]],\n",
    "        columns=field + suffix,\n",
    "        index=[field, \"sample_id\"],\n",
    "        values=count_field,\n",
    "        aggfunc=sum,\n",
    "        fill_value=0,\n",
    "    )\n",
    "    .reset_index(field)\n",
    "    .groupby([field])\n",
    "    .median()\n",
    ")"
   ]
  },
  {
   "cell_type": "code",
   "execution_count": null,
   "id": "ed5b765b",
   "metadata": {},
   "outputs": [],
   "source": [
    "matrice"
   ]
  },
  {
   "cell_type": "code",
   "execution_count": null,
   "id": "415b7422",
   "metadata": {},
   "outputs": [],
   "source": [
    "matrice.columns = pd.Index(\n",
    "    matrice.columns.values.astype(\"float64\").round(2)\n",
    ")  # .astype('str'))"
   ]
  },
  {
   "cell_type": "code",
   "execution_count": null,
   "id": "2644b318",
   "metadata": {},
   "outputs": [],
   "source": [
    "matrice / 12"
   ]
  },
  {
   "cell_type": "code",
   "execution_count": null,
   "id": "d29a0e2b",
   "metadata": {},
   "outputs": [],
   "source": [
    "matrice.sum().sum()"
   ]
  },
  {
   "cell_type": "code",
   "execution_count": null,
   "id": "905e1e8d",
   "metadata": {},
   "outputs": [],
   "source": [
    "# matrice.to_excel('matrice_prix.xlsx')"
   ]
  },
  {
   "cell_type": "code",
   "execution_count": null,
   "id": "e0306b0d",
   "metadata": {},
   "outputs": [],
   "source": [
    "res_f.groupby(\"sample_id\").quantité.sum()"
   ]
  },
  {
   "cell_type": "code",
   "execution_count": null,
   "id": "75aa7a20",
   "metadata": {},
   "outputs": [],
   "source": [
    "res_f[\"delta_p\"] = res_f.pu_calc_r - res_f.pu_calc"
   ]
  },
  {
   "cell_type": "code",
   "execution_count": null,
   "id": "b33442bd",
   "metadata": {},
   "outputs": [],
   "source": [
    "res_f.groupby([\"pu_calc\", \"pu_calc_r\"]).quantité.count().apply(\n",
    "    np.sqrt\n",
    ").reset_index().plot.scatter(x=\"pu_calc\", y=\"pu_calc_r\", s=\"quantité\")"
   ]
  },
  {
   "cell_type": "code",
   "execution_count": null,
   "id": "016a545c",
   "metadata": {},
   "outputs": [],
   "source": [
    "df, compens_constant = get_df()"
   ]
  },
  {
   "cell_type": "code",
   "execution_count": null,
   "id": "b5508521",
   "metadata": {},
   "outputs": [],
   "source": [
    "rdf = pd.DataFrame(\n",
    "    data={\n",
    "        \"pu_fichier\": df.PU,\n",
    "        \"pu_calc\": df.PU * 0,\n",
    "        \"tp\": df.PU * 0,\n",
    "    }\n",
    ")\n",
    "data, complement_df = build_data(df, rdf, 30)"
   ]
  },
  {
   "cell_type": "code",
   "execution_count": null,
   "id": "d12cb939",
   "metadata": {},
   "outputs": [],
   "source": [
    "complement_df[\"qf_caf\"] = data[\"input_data_frame_by_entity\"][\"famille\"][\"qf_caf\"]\n",
    "complement_df[\"qf_fiscal\"] = data[\"input_data_frame_by_entity\"][\"famille\"][\"qf_fiscal\"]"
   ]
  },
  {
   "cell_type": "code",
   "execution_count": null,
   "id": "7800e8d8",
   "metadata": {},
   "outputs": [],
   "source": [
    "prix_max = res_f.pu_calc.max()\n",
    "count_max = (\n",
    "    res_f[(res_f.pu_calc == prix_max)]\n",
    "    .groupby(\"sample_id\")\n",
    "    .ajustement_mensuel_num.sum()\n",
    "    .median()\n",
    ")"
   ]
  },
  {
   "cell_type": "code",
   "execution_count": null,
   "id": "caacd776",
   "metadata": {},
   "outputs": [],
   "source": [
    "index_max = (df.quantité.sum() - count_max + 1).astype(\"int64\")\n",
    "ranks = (\n",
    "    complement_df.groupby(\"sample_id\").qf_fiscal.rank(method=\"first\").astype(\"int64\")\n",
    ")\n",
    "ranks_max = (\n",
    "    complement_df.groupby(\"sample_id\").qf_fiscal.rank(method=\"max\").astype(\"int64\")\n",
    ")\n",
    "complement_df.qf_fiscal[ranks[ranks == index_max].index].describe()"
   ]
  },
  {
   "cell_type": "code",
   "execution_count": null,
   "id": "e702152b",
   "metadata": {},
   "outputs": [],
   "source": [
    "complement_df[ranks == 1]"
   ]
  },
  {
   "cell_type": "code",
   "execution_count": null,
   "id": "942580d8",
   "metadata": {},
   "outputs": [],
   "source": [
    "count_total = len(res_f[res_f.sample_id == 0])\n",
    "count_total"
   ]
  },
  {
   "cell_type": "code",
   "execution_count": null,
   "id": "8dc5227f",
   "metadata": {},
   "outputs": [],
   "source": [
    "counts_zero = ranks_max[ranks == 1]\n",
    "counts_restants = count_total - counts_zero - count_max"
   ]
  },
  {
   "cell_type": "code",
   "execution_count": null,
   "id": "1da13853",
   "metadata": {},
   "outputs": [],
   "source": [
    "cr = counts_restants.median()\n",
    "cr"
   ]
  },
  {
   "cell_type": "code",
   "execution_count": null,
   "id": "80bf7975",
   "metadata": {},
   "outputs": [],
   "source": [
    "counts_zero.median()"
   ]
  },
  {
   "cell_type": "code",
   "execution_count": null,
   "id": "9f598de4",
   "metadata": {},
   "outputs": [],
   "source": [
    "res_f[\"qf_fiscal_nul\"] = res_f.qf_fiscal == 0\n",
    "count_min = (\n",
    "    res_f[res_f.qf_fiscal == 0]\n",
    "    .groupby(\"sample_id\")\n",
    "    .ajustement_mensuel_num.sum()\n",
    "    .median()\n",
    ")\n",
    "prix_min = res_f.pu_calc[res_f.pu_calc > 0].min()"
   ]
  },
  {
   "cell_type": "code",
   "execution_count": null,
   "id": "06e2539c",
   "metadata": {},
   "outputs": [],
   "source": [
    "recettes_totales = (res_f.ajustement_mensuel_num * res_f.pu_calc).sum()\n",
    "recettes_totales"
   ]
  },
  {
   "cell_type": "code",
   "execution_count": null,
   "id": "0acf80df",
   "metadata": {},
   "outputs": [],
   "source": [
    "recettes_restantes = recettes_totales - count_max * prix_max - count_min * prix_min\n",
    "recettes_restantes"
   ]
  },
  {
   "cell_type": "code",
   "execution_count": null,
   "id": "58055a3b",
   "metadata": {},
   "outputs": [],
   "source": [
    "for i in range(1, 6, 2):\n",
    "    steps = [*range(1, i + 1)]\n",
    "    cell_m = round(recettes_restantes / sum(steps))\n",
    "    # linéaire\n",
    "    print((i, [cell_m * c for c in steps]))\n",
    "    #"
   ]
  },
  {
   "cell_type": "code",
   "execution_count": null,
   "id": "7707c7e5",
   "metadata": {},
   "outputs": [],
   "source": []
  },
  {
   "cell_type": "code",
   "execution_count": null,
   "id": "80178fc4",
   "metadata": {},
   "outputs": [],
   "source": [
    "count_restant = res_f.ajustement_mensuel_num.sum() - count_max - count_min\n",
    "count_restant"
   ]
  },
  {
   "cell_type": "code",
   "execution_count": null,
   "id": "4720d4ab",
   "metadata": {},
   "outputs": [],
   "source": [
    "recettes_restantes / count_restant"
   ]
  },
  {
   "cell_type": "code",
   "execution_count": null,
   "id": "315d09b5",
   "metadata": {},
   "outputs": [],
   "source": [
    "complement_df[\"qf_fiscal_nul\"] = complement_df.qf_fiscal == 0\n",
    "complement_df.groupby(\"sample_id\").qf_fiscal_nul.sum().describe()"
   ]
  },
  {
   "cell_type": "code",
   "execution_count": null,
   "id": "5759ed5d",
   "metadata": {},
   "outputs": [],
   "source": [
    "for i in range(1, 6, 2):\n",
    "    steps = [*range(1, i + 1)]\n",
    "    cell_m = round(recettes_restantes / sum(steps))\n",
    "    print((i, [cell_m * c for c in steps]))"
   ]
  },
  {
   "cell_type": "code",
   "execution_count": null,
   "id": "a006ba6b",
   "metadata": {},
   "outputs": [],
   "source": [
    "recap_s, [(_, res_s)] = get_results(base, sample_count=1, reform=statut_reform)"
   ]
  },
  {
   "cell_type": "code",
   "execution_count": null,
   "id": "5e85320e",
   "metadata": {},
   "outputs": [],
   "source": [
    "recap_s"
   ]
  },
  {
   "cell_type": "code",
   "execution_count": null,
   "id": "ff7f46c8",
   "metadata": {},
   "outputs": [],
   "source": [
    "res_s[\"pu_calc_rs\"] = res_s.pu_calc_r.round(2).astype(\"str\").astype(\"category\")"
   ]
  },
  {
   "cell_type": "code",
   "execution_count": null,
   "id": "9d219d02",
   "metadata": {},
   "outputs": [],
   "source": [
    "rebase = CountryTaxBenefitSystem()\n",
    "rebase.load_extension(\"openfisca_france_local\")\n",
    "re_qf_fiscal_reform = QfFiscalReform(rebase)"
   ]
  },
  {
   "cell_type": "code",
   "execution_count": null,
   "id": "b2c8b16a",
   "metadata": {},
   "outputs": [],
   "source": [
    "def f_replace(local_parameters):\n",
    "    bfs = [\n",
    "        local_parameters.metropoles.strasbourg.tarification_solidaire.bareme,\n",
    "        local_parameters.metropoles.strasbourg.tarification_solidaire.bareme_reduit,\n",
    "    ]\n",
    "    for b in bfs:\n",
    "        brackets = [new_bracket(0, 3.4), new_bracket(1, 20), new_bracket(1000, 51.8)]\n",
    "        bbrackets = [\n",
    "            new_bracket(0, 3.4),\n",
    "            new_bracket(1, 5.8),\n",
    "            new_bracket(300, 14.4),\n",
    "            new_bracket(500, 25.6),\n",
    "            new_bracket(1000, 51.8),\n",
    "        ]\n",
    "        b.brackets = brackets\n",
    "\n",
    "    return local_parameters\n",
    "\n",
    "\n",
    "class FCustomReform(Reform):\n",
    "    def __init__(self, tbs):\n",
    "        super().__init__(tbs)\n",
    "\n",
    "    def apply(self):\n",
    "        self.modify_parameters(modifier_function=f_replace)\n",
    "\n",
    "\n",
    "re_max_reform = FCustomReform(re_qf_fiscal_reform)\n",
    "re_statuts_reform = StatutReform(re_max_reform)\n",
    "# re_statuts_reform = StatutReform(re_grist_reform)\n",
    "re_ce_reform = CEReform(re_statuts_reform)\n",
    "full_reform = re_ce_reform\n",
    "full_reform = re_ce_reform"
   ]
  },
  {
   "cell_type": "code",
   "execution_count": null,
   "id": "08e0edcc",
   "metadata": {},
   "outputs": [],
   "source": [
    "recap_r, [(_, res_r)] = get_results(base, sample_count=10, reform=full_reform)"
   ]
  },
  {
   "cell_type": "code",
   "execution_count": null,
   "id": "487cccaf",
   "metadata": {},
   "outputs": [],
   "source": [
    "res_r"
   ]
  },
  {
   "cell_type": "code",
   "execution_count": null,
   "id": "27035891",
   "metadata": {},
   "outputs": [],
   "source": [
    "res_r[res_r.qf_fiscal == 0].groupby(\"sample_id\").ajustement_mensuel_num.sum().median()"
   ]
  },
  {
   "cell_type": "code",
   "execution_count": null,
   "id": "bffa895f",
   "metadata": {},
   "outputs": [],
   "source": [
    "if False:\n",
    "    writer = pd.ExcelWriter(\"tables_mobilité.xlsx\")\n",
    "    df_qf = pd.DataFrame(\n",
    "        {\"quantité QF CAF\": quantite_ancien_qf, \"quantité QF EMS\": quantite_nouveau_qf},\n",
    "        index=quantite_ancien_qf.index,\n",
    "    )\n",
    "    df_qf.to_excel(writer, sheet_name=\"Prix\")\n",
    "    qf_nul = pd.DataFrame(\n",
    "        {\n",
    "            \"quantité\": [\n",
    "                res_r[res_r.qf_fiscal == 0]\n",
    "                .groupby(\"sample_id\")\n",
    "                .ajustement_mensuel_num.sum()\n",
    "                .median()\n",
    "            ]\n",
    "        }\n",
    "    )\n",
    "    qf_nul.to_excel(writer, sheet_name=\"QF_EMS_nul\")\n",
    "    writer.close()"
   ]
  },
  {
   "cell_type": "code",
   "execution_count": null,
   "id": "07c74349",
   "metadata": {},
   "outputs": [],
   "source": [
    "field = \"pu_calc\"\n",
    "# field = \"pu_fichier\"\n",
    "pd.pivot_table(\n",
    "    res_f[[field, field + \"_r\", \"quantité\"]],\n",
    "    columns=field + \"_r\",\n",
    "    index=field,\n",
    "    values=\"quantité\",\n",
    "    aggfunc=len,\n",
    ")"
   ]
  },
  {
   "cell_type": "code",
   "execution_count": null,
   "id": "0f1aa828",
   "metadata": {},
   "outputs": [],
   "source": [
    "res_f"
   ]
  },
  {
   "cell_type": "code",
   "execution_count": null,
   "id": "45fd9ce6",
   "metadata": {},
   "outputs": [],
   "source": [
    "prix_calc_df = (\n",
    "    res_f.groupby([\"pu_calc\", \"sample_id\"])\n",
    "    .quantité.count()\n",
    "    .reset_index(name=\"quantité\")\n",
    "    .rename(columns={\"pu_calc\": \"prix\"})\n",
    ")\n",
    "prix_calc_r_df = (\n",
    "    res_f.groupby([\"pu_calc_r\", \"sample_id\"])\n",
    "    .quantité.count()\n",
    "    .reset_index(name=\"quantité\")\n",
    "    .rename(columns={\"pu_calc_r\": \"prix\"})\n",
    ")\n",
    "\n",
    "prix_calc_df[\"scenario\"] = \"c\"  #'qf_caf'\n",
    "prix_calc_r_df[\"scenario\"] = \"f\"  #'qf_fiscal'"
   ]
  },
  {
   "cell_type": "code",
   "execution_count": null,
   "id": "6a71f979",
   "metadata": {},
   "outputs": [],
   "source": [
    "prix_df = pd.concat([prix_calc_df, prix_calc_r_df])\n",
    "prix_df.prix = prix_df.prix.round(2)"
   ]
  },
  {
   "cell_type": "code",
   "execution_count": null,
   "id": "c42274c9",
   "metadata": {},
   "outputs": [],
   "source": [
    "prix_df.groupby([\"prix\", \"scenario\"]).quantité.median()"
   ]
  },
  {
   "cell_type": "code",
   "execution_count": null,
   "id": "9214e638",
   "metadata": {},
   "outputs": [],
   "source": [
    "prix_calc_df"
   ]
  },
  {
   "cell_type": "code",
   "execution_count": null,
   "id": "b1aaa9e6",
   "metadata": {},
   "outputs": [],
   "source": [
    "prix_calc_r_df"
   ]
  },
  {
   "cell_type": "code",
   "execution_count": null,
   "id": "b3953dd2",
   "metadata": {},
   "outputs": [],
   "source": [
    "recap_statut, [(_, res_statut)] = get_results(\n",
    "    base, sample_count=10, reform=statut_reform\n",
    ")"
   ]
  },
  {
   "cell_type": "code",
   "execution_count": null,
   "id": "d24825ea",
   "metadata": {},
   "outputs": [],
   "source": [
    "recap_statut"
   ]
  },
  {
   "cell_type": "code",
   "execution_count": null,
   "id": "984d3e8c",
   "metadata": {},
   "outputs": [],
   "source": [
    "if False:\n",
    "    count = df.quantité.sum().astype(\"int64\")\n",
    "    static_sample_count = 3\n",
    "    static_sample_ids = np.repeat(list(range(static_sample_count)), count)\n",
    "    static_sample_individu_df = pd.DataFrame(\n",
    "        {\n",
    "            \"sample_id\": static_sample_ids,\n",
    "            \"famille_id\": list(range(count * static_sample_count)),\n",
    "            \"qfrule\": np.tile(np.repeat(df.QF, df.quantité), static_sample_count),\n",
    "            \"agerule\": np.tile(np.repeat(df.AGE, df.quantité), static_sample_count),\n",
    "            \"taux_incapacite\": np.tile(\n",
    "                np.repeat(np.where(df.Titres.str.contains(\"PMR\"), 0.8, 0), df.quantité),\n",
    "                static_sample_count,\n",
    "            ),\n",
    "        }\n",
    "    )\n",
    "\n",
    "    determine_qf(static_sample_individu_df)\n",
    "\n",
    "    rr = static_sample_individu_df.groupby(by=\"sample_id\").qf_fiscal.rank(\n",
    "        method=\"first\"\n",
    "    )\n",
    "\n",
    "    df[[\"QF\", \"quantité\"]].groupby(by=\"QF\").sum()\n",
    "\n",
    "    indexes = rr.isin(df[[\"QF\", \"quantité\"]].groupby(by=\"QF\").sum().cumsum().quantité)\n",
    "    rr_res = pd.DataFrame(\n",
    "        data={\n",
    "            \"rank\": rr[indexes],\n",
    "            \"value\": static_sample_individu_df.qf_fiscal[indexes],\n",
    "        }\n",
    "    )\n",
    "\n",
    "    rr_res.groupby(by=\"rank\").describe()\n",
    "\n",
    "    no_reduit_indexes = rr.isin(merge_bareme_population)\n",
    "    no_reduit_rr_res = pd.DataFrame(\n",
    "        data={\n",
    "            \"rank\": rr[no_reduit_indexes],\n",
    "            \"value\": static_sample_individu_df.qf_fiscal[no_reduit_indexes],\n",
    "        }\n",
    "    )\n",
    "\n",
    "    no_reduit_rr_res_desc = no_reduit_rr_res.groupby(by=\"rank\").value.describe()\n",
    "    no_reduit_rr_res_desc\n",
    "\n",
    "    no_reduit_rr_res_desc[\"50%\"].round().astype(\"int64\")"
   ]
  }
 ],
 "metadata": {
  "kernelspec": {
   "display_name": "Python 3 (ipykernel)",
   "language": "python",
   "name": "python3"
  },
  "language_info": {
   "codemirror_mode": {
    "name": "ipython",
    "version": 3
   },
   "file_extension": ".py",
   "mimetype": "text/x-python",
   "name": "python",
   "nbconvert_exporter": "python",
   "pygments_lexer": "ipython3",
   "version": "3.9.16"
  }
 },
 "nbformat": 4,
 "nbformat_minor": 5
}
