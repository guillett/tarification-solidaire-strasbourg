{
 "cells": [
  {
   "cell_type": "code",
   "execution_count": null,
   "id": "e6fecc64",
   "metadata": {},
   "outputs": [],
   "source": [
    "1"
   ]
  },
  {
   "cell_type": "code",
   "execution_count": null,
   "id": "dc774efc",
   "metadata": {},
   "outputs": [],
   "source": [
    "import pandas as pd\n",
    "import numpy as np"
   ]
  },
  {
   "cell_type": "code",
   "execution_count": null,
   "id": "931def20",
   "metadata": {},
   "outputs": [],
   "source": [
    "from openfisca_france import CountryTaxBenefitSystem"
   ]
  },
  {
   "cell_type": "code",
   "execution_count": null,
   "id": "afdd6544",
   "metadata": {},
   "outputs": [],
   "source": [
    "import sys\n",
    "\n",
    "sys.path.append(\"../technique\")"
   ]
  },
  {
   "cell_type": "code",
   "execution_count": null,
   "id": "d623214f",
   "metadata": {},
   "outputs": [],
   "source": [
    "from dotenv import load_dotenv\n",
    "\n",
    "load_dotenv()\n",
    "import os"
   ]
  },
  {
   "cell_type": "code",
   "execution_count": null,
   "id": "ea329692",
   "metadata": {},
   "outputs": [],
   "source": [
    "from utils import *"
   ]
  },
  {
   "cell_type": "code",
   "execution_count": null,
   "id": "d5ce058a",
   "metadata": {},
   "outputs": [],
   "source": [
    "from mobilite import add_compensation, build_data, compute_result, get_df, get_results"
   ]
  },
  {
   "cell_type": "code",
   "execution_count": null,
   "id": "c38026e9",
   "metadata": {},
   "outputs": [],
   "source": [
    "base = CountryTaxBenefitSystem()\n",
    "base.load_extension(\"openfisca_france_local\")"
   ]
  },
  {
   "cell_type": "code",
   "execution_count": null,
   "id": "7d5fd837",
   "metadata": {},
   "outputs": [],
   "source": [
    "qf_fiscal_reform = QfFiscalReform(base)"
   ]
  },
  {
   "cell_type": "code",
   "execution_count": null,
   "id": "48a8bfbf",
   "metadata": {},
   "outputs": [],
   "source": [
    "statut_reform = StatutReform(qf_fiscal_reform)"
   ]
  },
  {
   "cell_type": "code",
   "execution_count": null,
   "id": "751e01c5",
   "metadata": {},
   "outputs": [],
   "source": [
    "reform = statut_reform"
   ]
  },
  {
   "cell_type": "code",
   "execution_count": null,
   "id": "19529291",
   "metadata": {},
   "outputs": [],
   "source": [
    "pd.options.display.float_format = lambda v: \"{:_.2f}\".format(v).replace(\"_\", \" \")"
   ]
  },
  {
   "cell_type": "code",
   "execution_count": null,
   "id": "b3953dd2",
   "metadata": {},
   "outputs": [],
   "source": [
    "get_results(base, sample_count=3, reform=reform)"
   ]
  },
  {
   "cell_type": "code",
   "execution_count": null,
   "id": "a1938eb9",
   "metadata": {},
   "outputs": [],
   "source": [
    "df, compens_constant = get_df()"
   ]
  },
  {
   "cell_type": "code",
   "execution_count": null,
   "id": "8a4d4d4e",
   "metadata": {},
   "outputs": [],
   "source": [
    "rdf = pd.DataFrame(\n",
    "    data={\n",
    "        \"pu_fichier\": df.PU,\n",
    "        \"pu_calc\": df.PU * 0,\n",
    "        \"tp\": df.PU * 0,\n",
    "    }\n",
    ")\n",
    "data, complement_df = build_data(df, rdf, sample_count=3)\n",
    "scenario = StrasbourgSurveyScenario(base, data=data)\n",
    "(res, recettes) = compute_result(scenario, complement_df, 0, compens_constant)"
   ]
  },
  {
   "cell_type": "code",
   "execution_count": null,
   "id": "7739eb0b",
   "metadata": {},
   "outputs": [],
   "source": [
    "r_scenario = StrasbourgSurveyScenario(reform, data=data)\n",
    "(r_res, r_recettes) = compute_result(r_scenario, complement_df, 0, compens_constant)"
   ]
  },
  {
   "cell_type": "code",
   "execution_count": null,
   "id": "f8b9d7d5",
   "metadata": {},
   "outputs": [],
   "source": [
    "pd.options.display.float_format = lambda v: \"{:_.2f}\".format(v).replace(\"_\", \" \")"
   ]
  },
  {
   "cell_type": "code",
   "execution_count": null,
   "id": "4530f419",
   "metadata": {},
   "outputs": [],
   "source": [
    "pd.DataFrame(res.groupby([\"sample_id\"]).pu_calc_ht.sum().describe()).transpose()"
   ]
  },
  {
   "cell_type": "code",
   "execution_count": null,
   "id": "d112f3fe",
   "metadata": {},
   "outputs": [],
   "source": [
    "res[~res.ok].titre_fichier.unique()"
   ]
  },
  {
   "cell_type": "code",
   "execution_count": null,
   "id": "9cbe3bbc",
   "metadata": {},
   "outputs": [],
   "source": [
    "assert [*res[~res.ok].titre_fichier.unique()] == [\" +65 Annuel\", \"PMR Gratuit\"] or [\n",
    "    *res[~res.ok].titre_fichier.unique()\n",
    "] == [\n",
    "    \" +65 Annuel\",\n",
    "    \"19-25 annuel\",\n",
    "    \"26-64 annuel\",\n",
    "    \"Annuel 4-18\",\n",
    "    \"Annuel PMR\",\n",
    "    \"PMR Gratuit\",\n",
    "]"
   ]
  },
  {
   "cell_type": "code",
   "execution_count": null,
   "id": "cde51134",
   "metadata": {},
   "outputs": [],
   "source": [
    "stat_df = pd.DataFrame(\n",
    "    {\n",
    "        \"sample_id\": res.sample_id,\n",
    "        \"individu_id\": res.individu_id,\n",
    "        \"count\": 1,\n",
    "        \"CAF\": data[\"input_data_frame_by_entity\"][\"famille\"][\"qf_caf\"],\n",
    "        \"EMS\": data[\"input_data_frame_by_entity\"][\"famille\"][\"qf_fiscal\"],\n",
    "        \"input\": res.pu_calc,\n",
    "    }\n",
    ")\n",
    "stat_df\n",
    "res_s = stat_df[stat_df.sample_id == 0]"
   ]
  },
  {
   "cell_type": "code",
   "execution_count": null,
   "id": "218a55aa",
   "metadata": {},
   "outputs": [],
   "source": [
    "counts = res_s.groupby(\"input\").EMS.count()\n",
    "print(counts)\n",
    "if sum(counts.index == 0):\n",
    "    pre_sum = counts.sum()\n",
    "    assert sum(counts.index == 0) == 1\n",
    "    assert counts.index[0] == 0\n",
    "    counts[counts.index == counts.index[counts.index != 0].min()] += counts[0]\n",
    "    counts[0] = 0\n",
    "    assert counts.sum() == pre_sum\n",
    "    print(counts)"
   ]
  },
  {
   "cell_type": "code",
   "execution_count": null,
   "id": "6b1a4331",
   "metadata": {},
   "outputs": [],
   "source": [
    "bracket_limits = counts.cumsum()\n",
    "bracket_limits"
   ]
  },
  {
   "cell_type": "code",
   "execution_count": null,
   "id": "c0ea4d6b",
   "metadata": {},
   "outputs": [],
   "source": [
    "ranks = res_s.EMS.rank(method=\"first\")\n",
    "ranks"
   ]
  },
  {
   "cell_type": "code",
   "execution_count": null,
   "id": "e7a6f320",
   "metadata": {},
   "outputs": [],
   "source": [
    "indexes = ranks.isin(bracket_limits)\n",
    "rr_res = pd.DataFrame(\n",
    "    data={\n",
    "        \"rank\": ranks[indexes],\n",
    "        \"value\": res_s.EMS[indexes],\n",
    "    }\n",
    ")"
   ]
  },
  {
   "cell_type": "code",
   "execution_count": null,
   "id": "3911e5f0",
   "metadata": {},
   "outputs": [],
   "source": [
    "(res_s.EMS == 0).sum() / (res_s.EMS == 0).count()"
   ]
  },
  {
   "cell_type": "code",
   "execution_count": null,
   "id": "57e80482",
   "metadata": {},
   "outputs": [],
   "source": [
    "import seaborn"
   ]
  },
  {
   "cell_type": "code",
   "execution_count": null,
   "id": "6240d7af",
   "metadata": {},
   "outputs": [],
   "source": [
    "seaborn.ecdfplot(stat_df[[\"CAF\", \"EMS\"]])"
   ]
  },
  {
   "cell_type": "code",
   "execution_count": null,
   "id": "9f7bd852",
   "metadata": {},
   "outputs": [],
   "source": [
    "rr_res"
   ]
  },
  {
   "cell_type": "code",
   "execution_count": null,
   "id": "984d3e8c",
   "metadata": {},
   "outputs": [],
   "source": [
    "if False:\n",
    "    count = df.quantité.sum().astype(\"int64\")\n",
    "    static_sample_count = 3\n",
    "    static_sample_ids = np.repeat(list(range(static_sample_count)), count)\n",
    "    static_sample_individu_df = pd.DataFrame(\n",
    "        {\n",
    "            \"sample_id\": static_sample_ids,\n",
    "            \"famille_id\": list(range(count * static_sample_count)),\n",
    "            \"qfrule\": np.tile(np.repeat(df.QF, df.quantité), static_sample_count),\n",
    "            \"agerule\": np.tile(np.repeat(df.AGE, df.quantité), static_sample_count),\n",
    "            \"taux_incapacite\": np.tile(\n",
    "                np.repeat(np.where(df.Titres.str.contains(\"PMR\"), 0.8, 0), df.quantité),\n",
    "                static_sample_count,\n",
    "            ),\n",
    "        }\n",
    "    )\n",
    "\n",
    "    determine_qf(static_sample_individu_df)\n",
    "\n",
    "    rr = static_sample_individu_df.groupby(by=\"sample_id\").qf_fiscal.rank(\n",
    "        method=\"first\"\n",
    "    )\n",
    "\n",
    "    df[[\"QF\", \"quantité\"]].groupby(by=\"QF\").sum()\n",
    "\n",
    "    indexes = rr.isin(df[[\"QF\", \"quantité\"]].groupby(by=\"QF\").sum().cumsum().quantité)\n",
    "    rr_res = pd.DataFrame(\n",
    "        data={\n",
    "            \"rank\": rr[indexes],\n",
    "            \"value\": static_sample_individu_df.qf_fiscal[indexes],\n",
    "        }\n",
    "    )\n",
    "\n",
    "    rr_res.groupby(by=\"rank\").describe()\n",
    "\n",
    "    no_reduit_indexes = rr.isin(merge_bareme_population)\n",
    "    no_reduit_rr_res = pd.DataFrame(\n",
    "        data={\n",
    "            \"rank\": rr[no_reduit_indexes],\n",
    "            \"value\": static_sample_individu_df.qf_fiscal[no_reduit_indexes],\n",
    "        }\n",
    "    )\n",
    "\n",
    "    no_reduit_rr_res_desc = no_reduit_rr_res.groupby(by=\"rank\").value.describe()\n",
    "    no_reduit_rr_res_desc\n",
    "\n",
    "    no_reduit_rr_res_desc[\"50%\"].round().astype(\"int64\")"
   ]
  }
 ],
 "metadata": {
  "kernelspec": {
   "display_name": "Python 3 (ipykernel)",
   "language": "python",
   "name": "python3"
  },
  "language_info": {
   "codemirror_mode": {
    "name": "ipython",
    "version": 3
   },
   "file_extension": ".py",
   "mimetype": "text/x-python",
   "name": "python",
   "nbconvert_exporter": "python",
   "pygments_lexer": "ipython3",
   "version": "3.9.16"
  }
 },
 "nbformat": 4,
 "nbformat_minor": 5
}
