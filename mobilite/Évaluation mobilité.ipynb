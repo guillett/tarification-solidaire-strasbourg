{
 "cells": [
  {
   "cell_type": "code",
   "execution_count": null,
   "id": "e6fecc64",
   "metadata": {},
   "outputs": [],
   "source": [
    "1"
   ]
  },
  {
   "cell_type": "code",
   "execution_count": null,
   "id": "dc774efc",
   "metadata": {},
   "outputs": [],
   "source": [
    "import pandas as pd\n",
    "import numpy as np"
   ]
  },
  {
   "cell_type": "code",
   "execution_count": null,
   "id": "931def20",
   "metadata": {},
   "outputs": [],
   "source": [
    "from openfisca_france import CountryTaxBenefitSystem"
   ]
  },
  {
   "cell_type": "code",
   "execution_count": null,
   "id": "afdd6544",
   "metadata": {},
   "outputs": [],
   "source": [
    "import sys\n",
    "\n",
    "sys.path.append(\"../technique\")"
   ]
  },
  {
   "cell_type": "code",
   "execution_count": null,
   "id": "d623214f",
   "metadata": {},
   "outputs": [],
   "source": [
    "from dotenv import load_dotenv\n",
    "\n",
    "load_dotenv()\n",
    "import os"
   ]
  },
  {
   "cell_type": "code",
   "execution_count": null,
   "id": "ea329692",
   "metadata": {},
   "outputs": [],
   "source": [
    "from utils import *"
   ]
  },
  {
   "cell_type": "code",
   "execution_count": null,
   "id": "d5ce058a",
   "metadata": {},
   "outputs": [],
   "source": [
    "from mobilite import add_compensation, build_data, compute_result, get_df, get_results"
   ]
  },
  {
   "cell_type": "code",
   "execution_count": null,
   "id": "c38026e9",
   "metadata": {},
   "outputs": [],
   "source": [
    "base = CountryTaxBenefitSystem()\n",
    "base.load_extension(\"openfisca_france_local\")"
   ]
  },
  {
   "cell_type": "code",
   "execution_count": null,
   "id": "7d5fd837",
   "metadata": {},
   "outputs": [],
   "source": [
    "qf_fiscal_reform = QfFiscalReform(base)"
   ]
  },
  {
   "cell_type": "code",
   "execution_count": null,
   "id": "19529291",
   "metadata": {},
   "outputs": [],
   "source": [
    "pd.options.display.float_format = lambda v: \"{:_.0f}\".format(v).replace(\"_\", \" \")"
   ]
  },
  {
   "cell_type": "code",
   "execution_count": null,
   "id": "91c21313",
   "metadata": {},
   "outputs": [],
   "source": [
    "get_results(base, sample_count=1)"
   ]
  },
  {
   "cell_type": "code",
   "execution_count": null,
   "id": "7546b890",
   "metadata": {},
   "outputs": [],
   "source": [
    "get_results(base, sample_count=10, reform=qf_fiscal_reform)"
   ]
  },
  {
   "cell_type": "code",
   "execution_count": null,
   "id": "a1938eb9",
   "metadata": {},
   "outputs": [],
   "source": [
    "df, compens_constant = get_df()"
   ]
  },
  {
   "cell_type": "code",
   "execution_count": null,
   "id": "8a4d4d4e",
   "metadata": {},
   "outputs": [],
   "source": [
    "rdf = pd.DataFrame(\n",
    "    data={\n",
    "        \"pu_fichier\": df.PU,\n",
    "        \"pu_calc\": df.PU * 0,\n",
    "        \"tp\": df.PU * 0,\n",
    "    }\n",
    ")\n",
    "data, complement_df = build_data(df, rdf, sample_count=1)\n",
    "scenario = StrasbourgSurveyScenario(base, data=data)\n",
    "(res, recettes) = compute_result(scenario, complement_df, 0, compens_constant)"
   ]
  },
  {
   "cell_type": "code",
   "execution_count": null,
   "id": "7739eb0b",
   "metadata": {},
   "outputs": [],
   "source": [
    "f_scenario = StrasbourgSurveyScenario(qf_fiscal_reform, data=data)\n",
    "(f_res, f_recettes) = compute_result(f_scenario, complement_df, 0, compens_constant)"
   ]
  },
  {
   "cell_type": "code",
   "execution_count": null,
   "id": "35708a6e",
   "metadata": {},
   "outputs": [],
   "source": [
    "comp_res = res.merge(\n",
    "    f_res, left_index=True, right_index=True, suffixes=[\"_pre\", \"_post\"]\n",
    ")"
   ]
  },
  {
   "cell_type": "code",
   "execution_count": null,
   "id": "f8b9d7d5",
   "metadata": {},
   "outputs": [],
   "source": [
    "pd.options.display.float_format = lambda v: \"{:_.2f}\".format(v).replace(\"_\", \" \")"
   ]
  },
  {
   "cell_type": "code",
   "execution_count": null,
   "id": "8082a304",
   "metadata": {},
   "outputs": [],
   "source": [
    "v = pd.pivot_table(\n",
    "    comp_res,\n",
    "    index=\"pu_calc_ht_pre\",\n",
    "    columns=\"pu_calc_ht_post\",\n",
    "    values=\"sample_id_pre\",\n",
    "    aggfunc=len,\n",
    "    fill_value=0,\n",
    ")\n",
    "v"
   ]
  },
  {
   "cell_type": "code",
   "execution_count": null,
   "id": "c393a670",
   "metadata": {},
   "outputs": [],
   "source": [
    "v.plot.barh(stacked=True, colormap=\"jet\")"
   ]
  },
  {
   "cell_type": "code",
   "execution_count": null,
   "id": "6c7915e3",
   "metadata": {},
   "outputs": [],
   "source": [
    "pd.options.display.float_format = lambda v: \"{:_.0f}\".format(v).replace(\"_\", \" \")"
   ]
  },
  {
   "cell_type": "code",
   "execution_count": null,
   "id": "4530f419",
   "metadata": {},
   "outputs": [],
   "source": [
    "pd.DataFrame(res.groupby([\"sample_id\"]).pu_calc_ht.sum().describe()).transpose()"
   ]
  },
  {
   "cell_type": "code",
   "execution_count": null,
   "id": "9cbe3bbc",
   "metadata": {},
   "outputs": [],
   "source": [
    "assert [*res[~res.ok].titre_fichier.unique()] == [\" +65 Annuel\", \"PMR Gratuit\"]"
   ]
  },
  {
   "cell_type": "code",
   "execution_count": null,
   "id": "dee33a32",
   "metadata": {},
   "outputs": [],
   "source": [
    "if False:\n",
    "    denomb_df = pd.DataFrame(\n",
    "        data={\n",
    "            \"QF\": res_df.QF,\n",
    "            \"plein\": ~res_df.reduit,\n",
    "            \"quantité_fichier\": res_df.quantité_fichier,\n",
    "        }\n",
    "    )\n",
    "    denomb = pd.pivot_table(\n",
    "        denomb_df, index=[\"QF\", \"plein\"], values=\"quantité_fichier\", aggfunc=sum\n",
    "    )\n",
    "    denomb\n",
    "    merge_bareme_population = denomb.quantité_fichier.cumsum()\n",
    "    df[[\"QF\", \"quantité\"]].groupby(by=\"QF\").sum().cumsum()"
   ]
  },
  {
   "cell_type": "code",
   "execution_count": null,
   "id": "984d3e8c",
   "metadata": {},
   "outputs": [],
   "source": [
    "if False:\n",
    "    static_sample_count = 50\n",
    "    static_sample_ids = np.repeat(list(range(static_sample_count)), count)\n",
    "    static_sample_individu_df = pd.DataFrame(\n",
    "        {\n",
    "            \"sample_id\": static_sample_ids,\n",
    "            \"famille_id\": list(range(count * static_sample_count)),\n",
    "            \"qfrule\": np.tile(np.repeat(df.QF, df.quantité), static_sample_count),\n",
    "            \"agerule\": np.tile(np.repeat(df.AGE, df.quantité), static_sample_count),\n",
    "            \"taux_incapacite\": np.tile(\n",
    "                np.repeat(np.where(df.Titres.str.contains(\"PMR\"), 0.8, 0), df.quantité),\n",
    "                static_sample_count,\n",
    "            ),\n",
    "        }\n",
    "    )\n",
    "\n",
    "    determine_qf(static_sample_individu_df, unif_qf, alea_caf_fiscal)\n",
    "\n",
    "    rr = static_sample_individu_df.groupby(\n",
    "        by=\"sample_id\"\n",
    "    ).eurometropole_strasbourg_tarification_solidaire_transport_quotient_familial.rank(\n",
    "        method=\"first\"\n",
    "    )\n",
    "\n",
    "    df[[\"QF\", \"quantité\"]].groupby(by=\"QF\").sum()\n",
    "\n",
    "    indexes = rr.isin(df[[\"QF\", \"quantité\"]].groupby(by=\"QF\").sum().cumsum().quantité)\n",
    "    rr_res = pd.DataFrame(\n",
    "        data={\n",
    "            \"rank\": rr[indexes],\n",
    "            \"value\": static_sample_individu_df.eurometropole_strasbourg_tarification_solidaire_transport_quotient_familial[\n",
    "                indexes\n",
    "            ],\n",
    "        }\n",
    "    )\n",
    "\n",
    "    rr_res.groupby(by=\"rank\").describe()\n",
    "\n",
    "    no_reduit_indexes = rr.isin(merge_bareme_population)\n",
    "    no_reduit_rr_res = pd.DataFrame(\n",
    "        data={\n",
    "            \"rank\": rr[no_reduit_indexes],\n",
    "            \"value\": static_sample_individu_df.eurometropole_strasbourg_tarification_solidaire_transport_quotient_familial[\n",
    "                no_reduit_indexes\n",
    "            ],\n",
    "        }\n",
    "    )\n",
    "\n",
    "    no_reduit_rr_res_desc = no_reduit_rr_res.groupby(by=\"rank\").value.describe()\n",
    "    no_reduit_rr_res_desc\n",
    "\n",
    "    no_reduit_rr_res_desc[\"50%\"].round().astype(\"int64\")"
   ]
  }
 ],
 "metadata": {
  "kernelspec": {
   "display_name": "Python 3 (ipykernel)",
   "language": "python",
   "name": "python3"
  },
  "language_info": {
   "codemirror_mode": {
    "name": "ipython",
    "version": 3
   },
   "file_extension": ".py",
   "mimetype": "text/x-python",
   "name": "python",
   "nbconvert_exporter": "python",
   "pygments_lexer": "ipython3",
   "version": "3.9.16"
  }
 },
 "nbformat": 4,
 "nbformat_minor": 5
}
