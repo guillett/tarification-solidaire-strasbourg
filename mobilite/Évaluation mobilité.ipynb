{
 "cells": [
  {
   "cell_type": "code",
   "execution_count": null,
   "id": "dc774efc",
   "metadata": {},
   "outputs": [],
   "source": [
    "import pandas as pd\n",
    "import numpy as np"
   ]
  },
  {
   "cell_type": "code",
   "execution_count": null,
   "id": "931def20",
   "metadata": {},
   "outputs": [],
   "source": [
    "from openfisca_france import CountryTaxBenefitSystem"
   ]
  },
  {
   "cell_type": "code",
   "execution_count": null,
   "id": "afdd6544",
   "metadata": {},
   "outputs": [],
   "source": [
    "import sys\n",
    "\n",
    "sys.path.append(\"../technique\")"
   ]
  },
  {
   "cell_type": "code",
   "execution_count": null,
   "id": "d623214f",
   "metadata": {},
   "outputs": [],
   "source": [
    "from dotenv import load_dotenv\n",
    "\n",
    "load_dotenv()\n",
    "import os"
   ]
  },
  {
   "cell_type": "code",
   "execution_count": null,
   "id": "ea329692",
   "metadata": {},
   "outputs": [],
   "source": [
    "from utils import *"
   ]
  },
  {
   "cell_type": "code",
   "execution_count": null,
   "id": "d5ce058a",
   "metadata": {},
   "outputs": [],
   "source": [
    "from mobilite import add_compensation, build_data, compute_result, get_df, get_results"
   ]
  },
  {
   "cell_type": "code",
   "execution_count": null,
   "id": "c38026e9",
   "metadata": {},
   "outputs": [],
   "source": [
    "base = CountryTaxBenefitSystem()\n",
    "base.load_extension(\"openfisca_france_local\")"
   ]
  },
  {
   "cell_type": "code",
   "execution_count": null,
   "id": "9a29961a",
   "metadata": {},
   "outputs": [],
   "source": [
    "a = get_results(base)\n",
    "a"
   ]
  },
  {
   "cell_type": "code",
   "execution_count": null,
   "id": "a1938eb9",
   "metadata": {},
   "outputs": [],
   "source": [
    "df, compens_constant = get_df()"
   ]
  },
  {
   "cell_type": "code",
   "execution_count": null,
   "id": "e3aeb88d",
   "metadata": {},
   "outputs": [],
   "source": [
    "df"
   ]
  },
  {
   "cell_type": "code",
   "execution_count": null,
   "id": "8a4d4d4e",
   "metadata": {},
   "outputs": [],
   "source": [
    "count = len(df)\n",
    "\n",
    "individu_df = pd.DataFrame(\n",
    "    {\n",
    "        \"famille_id\": list(range(count)),\n",
    "        \"agerule\": df.AGE,\n",
    "        \"taux_incapacite\": np.where(df.Titres.str.contains(\"PMR\"), 0.8, 0),\n",
    "        \"eurometropole_strasbourg_tarification_solidaire_transport_quotient_familial_etudiant\": 10000,\n",
    "    }\n",
    ")"
   ]
  },
  {
   "cell_type": "code",
   "execution_count": null,
   "id": "91e3649c",
   "metadata": {},
   "outputs": [],
   "source": [
    "determine_age(individu_df)"
   ]
  },
  {
   "cell_type": "code",
   "execution_count": null,
   "id": "3682de46",
   "metadata": {},
   "outputs": [],
   "source": [
    "famille_df = pd.DataFrame(\n",
    "    {\n",
    "        \"qfrule\": df.QF,\n",
    "    }\n",
    ")\n",
    "determine_qf(famille_df, qfrules_constant)\n",
    "menage_df = pd.DataFrame(\n",
    "    {\n",
    "        \"eurometropole_strasbourg_tarification_solidaire_transport_eligibilite_geographique\": np.ones(\n",
    "            count\n",
    "        ),\n",
    "    }\n",
    ")\n",
    "foyerfiscaux_df = pd.DataFrame({})\n",
    "\n",
    "individu_df[\"famille_role_index\"] = 0\n",
    "individu_df[\"foyer_fiscal_id\"] = individu_df.famille_id\n",
    "individu_df[\"foyer_fiscal_role_index\"] = 0\n",
    "individu_df[\"menage_id\"] = individu_df.famille_id\n",
    "individu_df[\"menage_role_index\"] = 0\n",
    "\n",
    "data = dict(\n",
    "    input_data_frame_by_entity=dict(\n",
    "        individu=individu_df,\n",
    "        famille=famille_df,\n",
    "        menage=menage_df,\n",
    "        foyer_fiscal=foyerfiscaux_df,\n",
    "    )\n",
    ")"
   ]
  },
  {
   "cell_type": "code",
   "execution_count": null,
   "id": "4bc14ce4",
   "metadata": {},
   "outputs": [],
   "source": [
    "scenario = StrasbourgSurveyScenario(tbs=base, data=data)"
   ]
  },
  {
   "cell_type": "code",
   "execution_count": null,
   "id": "c09c51a4",
   "metadata": {},
   "outputs": [],
   "source": [
    "res = scenario.simulation.calculate(\n",
    "    \"eurometropole_strasbourg_tarification_transport\", base_period\n",
    ")"
   ]
  },
  {
   "cell_type": "code",
   "execution_count": null,
   "id": "df782ec4",
   "metadata": {},
   "outputs": [],
   "source": [
    "res_elig_reduit = scenario.simulation.calculate(\n",
    "    \"eurometropole_strasbourg_tarification_solidaire_transport_eligible_tarif_reduit\",\n",
    "    base_period,\n",
    ")"
   ]
  },
  {
   "cell_type": "code",
   "execution_count": null,
   "id": "f02efb85",
   "metadata": {},
   "outputs": [],
   "source": [
    "res_df = pd.DataFrame(\n",
    "    data={\n",
    "        \"idx\": df.idx,\n",
    "        \"titre_fichier\": df.Titres,\n",
    "        \"AGEr\": df.AGE,\n",
    "        \"AGE\": individu_df.age,\n",
    "        \"QF\": df.QF,\n",
    "        \"recettes_fichier\": df.recettes,\n",
    "        \"recettes_calc_ht\": res * df.quantité / 1.1 * df.ajustement_mensuel_num,\n",
    "        \"quantité_fichier\": df.quantité,\n",
    "        \"pu_fichier\": df.PU,\n",
    "        \"pu_calc\": res,\n",
    "        \"pu_calc_ht\": res / 1.1 * df.ajustement_mensuel_num,\n",
    "        \"reduit\": res_elig_reduit,\n",
    "    }\n",
    ")\n",
    "\n",
    "res_df[\"ok\"] = (res_df.pu_calc_ht - res_df.pu_fichier).abs() < 1\n",
    "\n",
    "assert (~res_df[\"ok\"]).sum() == 3\n",
    "# res_df.to_excel('/home/thomas/Nextcloud/CodeursEnLiberte/EMSb/mobilite/recalcul_prix_unitaire_titres_2.xlsx')\n",
    "# pd.pivot(res_df, columns=[\"QF\"], index=[\"AGE\"], values=\"quantité_fichier\")"
   ]
  },
  {
   "cell_type": "code",
   "execution_count": null,
   "id": "1b9e7bc6",
   "metadata": {},
   "outputs": [],
   "source": [
    "res_df[~res_df[\"ok\"]]"
   ]
  },
  {
   "cell_type": "code",
   "execution_count": null,
   "id": "e312be4c",
   "metadata": {},
   "outputs": [],
   "source": [
    "add_compensation(res_df)"
   ]
  },
  {
   "cell_type": "code",
   "execution_count": null,
   "id": "88169235",
   "metadata": {},
   "outputs": [],
   "source": [
    "pd.pivot_table(res_df, index=[\"tp\"], values=\"quantité_fichier\", aggfunc=sum)"
   ]
  },
  {
   "cell_type": "code",
   "execution_count": null,
   "id": "e5e469c3",
   "metadata": {},
   "outputs": [],
   "source": [
    "recette_base = res_df.recettes_calc_ht.sum()\n",
    "recette_base"
   ]
  },
  {
   "cell_type": "code",
   "execution_count": null,
   "id": "fa9af783",
   "metadata": {},
   "outputs": [],
   "source": [
    "def alea_caf_fiscal(a):\n",
    "    return np.maximum(\n",
    "        0, np.random.normal(a * 0.9 - 150, np.maximum(0, (a * 0.9 - 100) * 0 + 100))\n",
    "    ).astype(\"int64\")"
   ]
  },
  {
   "cell_type": "code",
   "execution_count": null,
   "id": "956de04b",
   "metadata": {},
   "outputs": [],
   "source": [
    "sample_data, complement_df = build_data(df, res_df)"
   ]
  },
  {
   "cell_type": "code",
   "execution_count": null,
   "id": "e1b5065a",
   "metadata": {},
   "outputs": [],
   "source": [
    "sample_scenario = StrasbourgSurveyScenario(base, data=sample_data)"
   ]
  },
  {
   "cell_type": "code",
   "execution_count": null,
   "id": "f958a0ff",
   "metadata": {},
   "outputs": [],
   "source": [
    "(sample_res, sample_recette) = compute_result(\n",
    "    sample_scenario, complement_df, recette_base, compens_constant\n",
    ")"
   ]
  },
  {
   "cell_type": "code",
   "execution_count": null,
   "id": "cc5da066",
   "metadata": {},
   "outputs": [],
   "source": [
    "sample_recette"
   ]
  },
  {
   "cell_type": "code",
   "execution_count": null,
   "id": "2441522d",
   "metadata": {},
   "outputs": [],
   "source": [
    "sample_res"
   ]
  },
  {
   "cell_type": "code",
   "execution_count": null,
   "id": "d56f9221",
   "metadata": {},
   "outputs": [],
   "source": [
    "sample_res.groupby([\"sample_id\"])[[\"pu_fichier\", \"pu_calc_ht\"]].sum()"
   ]
  },
  {
   "cell_type": "code",
   "execution_count": null,
   "id": "78cdfbd5",
   "metadata": {},
   "outputs": [],
   "source": [
    "pd.pivot_table(\n",
    "    sample_res[[\"pu_calc_base\", \"pu_calc\"]],\n",
    "    index=\"pu_calc_base\",\n",
    "    columns=\"pu_calc\",\n",
    "    aggfunc=len,\n",
    "    fill_value=0,\n",
    ")"
   ]
  },
  {
   "cell_type": "code",
   "execution_count": null,
   "id": "7374a565",
   "metadata": {},
   "outputs": [],
   "source": [
    "sample_recette"
   ]
  },
  {
   "cell_type": "code",
   "execution_count": null,
   "id": "2e6c1828",
   "metadata": {},
   "outputs": [],
   "source": [
    "# res_df.idx[~res_df.ok]"
   ]
  },
  {
   "cell_type": "code",
   "execution_count": null,
   "id": "24439eb2",
   "metadata": {},
   "outputs": [],
   "source": [
    "# sample_res[['idx', 'ecart']].groupby(by=\"idx\").describe()"
   ]
  },
  {
   "cell_type": "code",
   "execution_count": null,
   "id": "bbf49307",
   "metadata": {},
   "outputs": [],
   "source": [
    "sample_recette.describe()"
   ]
  },
  {
   "cell_type": "code",
   "execution_count": null,
   "id": "2081cf5e",
   "metadata": {},
   "outputs": [],
   "source": [
    "tp_df = pd.DataFrame(\n",
    "    data={\n",
    "        \"sample_id\": sample_res.sample_id,\n",
    "        \"avant\": sample_res.tp_base,\n",
    "        \"apres\": sample_res.tp,\n",
    "    }\n",
    ")"
   ]
  },
  {
   "cell_type": "code",
   "execution_count": null,
   "id": "ba50d6f0",
   "metadata": {},
   "outputs": [],
   "source": [
    "pd.pivot_table(tp_df, index=[\"sample_id\", \"avant\"], columns=\"apres\", aggfunc=len)"
   ]
  },
  {
   "cell_type": "code",
   "execution_count": null,
   "id": "e4146024",
   "metadata": {},
   "outputs": [],
   "source": [
    "# print(\n",
    "pd.pivot_table(\n",
    "    res_df, index=[\"QF\"], columns=[\"reduit\"], values=\"quantité_fichier\", aggfunc=sum\n",
    ")\n",
    "# .to_csv(sep=\";\",decimal=\",\"))"
   ]
  },
  {
   "cell_type": "code",
   "execution_count": null,
   "id": "dee33a32",
   "metadata": {},
   "outputs": [],
   "source": [
    "if False:\n",
    "    denomb_df = pd.DataFrame(\n",
    "        data={\n",
    "            \"QF\": res_df.QF,\n",
    "            \"plein\": ~res_df.reduit,\n",
    "            \"quantité_fichier\": res_df.quantité_fichier,\n",
    "        }\n",
    "    )\n",
    "    denomb = pd.pivot_table(\n",
    "        denomb_df, index=[\"QF\", \"plein\"], values=\"quantité_fichier\", aggfunc=sum\n",
    "    )\n",
    "    denomb\n",
    "    merge_bareme_population = denomb.quantité_fichier.cumsum()\n",
    "    df[[\"QF\", \"quantité\"]].groupby(by=\"QF\").sum().cumsum()"
   ]
  },
  {
   "cell_type": "code",
   "execution_count": null,
   "id": "984d3e8c",
   "metadata": {},
   "outputs": [],
   "source": [
    "if False:\n",
    "    static_sample_count = 50\n",
    "    static_sample_ids = np.repeat(list(range(static_sample_count)), count)\n",
    "    static_sample_individu_df = pd.DataFrame(\n",
    "        {\n",
    "            \"sample_id\": static_sample_ids,\n",
    "            \"famille_id\": list(range(count * static_sample_count)),\n",
    "            \"qfrule\": np.tile(np.repeat(df.QF, df.quantité), static_sample_count),\n",
    "            \"agerule\": np.tile(np.repeat(df.AGE, df.quantité), static_sample_count),\n",
    "            \"taux_incapacite\": np.tile(\n",
    "                np.repeat(np.where(df.Titres.str.contains(\"PMR\"), 0.8, 0), df.quantité),\n",
    "                static_sample_count,\n",
    "            ),\n",
    "        }\n",
    "    )\n",
    "\n",
    "    determine_qf(static_sample_individu_df, unif_qf, alea_caf_fiscal)\n",
    "\n",
    "    rr = static_sample_individu_df.groupby(\n",
    "        by=\"sample_id\"\n",
    "    ).eurometropole_strasbourg_tarification_solidaire_transport_quotient_familial.rank(\n",
    "        method=\"first\"\n",
    "    )\n",
    "\n",
    "    df[[\"QF\", \"quantité\"]].groupby(by=\"QF\").sum()\n",
    "\n",
    "    indexes = rr.isin(df[[\"QF\", \"quantité\"]].groupby(by=\"QF\").sum().cumsum().quantité)\n",
    "    rr_res = pd.DataFrame(\n",
    "        data={\n",
    "            \"rank\": rr[indexes],\n",
    "            \"value\": static_sample_individu_df.eurometropole_strasbourg_tarification_solidaire_transport_quotient_familial[\n",
    "                indexes\n",
    "            ],\n",
    "        }\n",
    "    )\n",
    "\n",
    "    rr_res.groupby(by=\"rank\").describe()\n",
    "\n",
    "    no_reduit_indexes = rr.isin(merge_bareme_population)\n",
    "    no_reduit_rr_res = pd.DataFrame(\n",
    "        data={\n",
    "            \"rank\": rr[no_reduit_indexes],\n",
    "            \"value\": static_sample_individu_df.eurometropole_strasbourg_tarification_solidaire_transport_quotient_familial[\n",
    "                no_reduit_indexes\n",
    "            ],\n",
    "        }\n",
    "    )\n",
    "\n",
    "    no_reduit_rr_res_desc = no_reduit_rr_res.groupby(by=\"rank\").value.describe()\n",
    "    no_reduit_rr_res_desc\n",
    "\n",
    "    no_reduit_rr_res_desc[\"50%\"].round().astype(\"int64\")"
   ]
  },
  {
   "cell_type": "code",
   "execution_count": null,
   "id": "ad8ff1b7",
   "metadata": {},
   "outputs": [],
   "source": []
  }
 ],
 "metadata": {
  "kernelspec": {
   "display_name": "Python 3 (ipykernel)",
   "language": "python",
   "name": "python3"
  },
  "language_info": {
   "codemirror_mode": {
    "name": "ipython",
    "version": 3
   },
   "file_extension": ".py",
   "mimetype": "text/x-python",
   "name": "python",
   "nbconvert_exporter": "python",
   "pygments_lexer": "ipython3",
   "version": "3.9.16"
  }
 },
 "nbformat": 4,
 "nbformat_minor": 5
}
