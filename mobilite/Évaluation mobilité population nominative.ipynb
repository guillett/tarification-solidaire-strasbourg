{
 "cells": [
  {
   "cell_type": "code",
   "execution_count": null,
   "id": "93d74a33",
   "metadata": {},
   "outputs": [],
   "source": [
    "1"
   ]
  },
  {
   "cell_type": "code",
   "execution_count": null,
   "id": "86a409e3",
   "metadata": {},
   "outputs": [],
   "source": [
    "import sys\n",
    "\n",
    "sys.path.append(\"../technique\")"
   ]
  },
  {
   "cell_type": "code",
   "execution_count": null,
   "id": "7b45792c",
   "metadata": {},
   "outputs": [],
   "source": [
    "from dotenv import load_dotenv\n",
    "\n",
    "load_dotenv()\n",
    "import os"
   ]
  },
  {
   "cell_type": "code",
   "execution_count": null,
   "id": "3b18c6b3",
   "metadata": {},
   "outputs": [],
   "source": [
    "import pandas as pd"
   ]
  },
  {
   "cell_type": "code",
   "execution_count": null,
   "id": "f5a7eaf3",
   "metadata": {},
   "outputs": [],
   "source": [
    "from openfisca_france import CountryTaxBenefitSystem"
   ]
  },
  {
   "cell_type": "code",
   "execution_count": null,
   "id": "6d47c921",
   "metadata": {},
   "outputs": [],
   "source": [
    "from scenario import StrasbourgSurveyScenario"
   ]
  },
  {
   "cell_type": "code",
   "execution_count": null,
   "id": "f03e33bf",
   "metadata": {},
   "outputs": [],
   "source": [
    "from mobilite import build_data, compute_result, set_ajustement_mensuel_num"
   ]
  },
  {
   "cell_type": "code",
   "execution_count": null,
   "id": "89d6f6e4",
   "metadata": {},
   "outputs": [],
   "source": [
    "df2 = pd.read_csv(\n",
    "    \"/home/thomas/Nextcloud/CodeursEnLiberte/EMS/mobilite/20230612_CTS_AbonnésCorrigé.csv\",\n",
    "    encoding=\"latin_1\",\n",
    "    sep=\";\",\n",
    ")"
   ]
  },
  {
   "cell_type": "code",
   "execution_count": null,
   "id": "ae372992",
   "metadata": {},
   "outputs": [],
   "source": [
    "df2.shape"
   ]
  },
  {
   "cell_type": "code",
   "execution_count": null,
   "id": "d5befa33",
   "metadata": {},
   "outputs": [],
   "source": [
    "df2"
   ]
  },
  {
   "cell_type": "code",
   "execution_count": null,
   "id": "a10404b1",
   "metadata": {},
   "outputs": [],
   "source": [
    "meta_df = pd.read_excel(\n",
    "    \"/home/thomas/Nextcloud/CodeursEnLiberte/EMS/mobilite/titres_individuels_jointure.xlsx\"\n",
    ")"
   ]
  },
  {
   "cell_type": "code",
   "execution_count": null,
   "id": "e7d60e3b",
   "metadata": {},
   "outputs": [],
   "source": [
    "df3 = df2.merge(meta_df, on=\"DERN_LIB_PRODUIT\")"
   ]
  },
  {
   "cell_type": "code",
   "execution_count": null,
   "id": "8ecc6859",
   "metadata": {},
   "outputs": [],
   "source": [
    "df3[\"idx\"] = df3.index.values\n",
    "set_ajustement_mensuel_num(df3)"
   ]
  },
  {
   "cell_type": "code",
   "execution_count": null,
   "id": "3a367f49",
   "metadata": {},
   "outputs": [],
   "source": [
    "df4 = df3[df3.exclu.isna()]"
   ]
  },
  {
   "cell_type": "code",
   "execution_count": null,
   "id": "8a16d6bf",
   "metadata": {},
   "outputs": [],
   "source": [
    "dff = df4\n",
    "rdf = pd.DataFrame(\n",
    "    data={\n",
    "        \"pu_fichier\": dff.ajustement_mensuel_num,\n",
    "        \"pu_calc\": dff.ajustement_mensuel_num * 0,\n",
    "        \"tp\": dff.ajustement_mensuel_num * 0,\n",
    "    }\n",
    ")"
   ]
  },
  {
   "cell_type": "code",
   "execution_count": null,
   "id": "972f6416",
   "metadata": {},
   "outputs": [],
   "source": [
    "compens_constant = 0"
   ]
  },
  {
   "cell_type": "code",
   "execution_count": null,
   "id": "6075e3f3",
   "metadata": {},
   "outputs": [],
   "source": [
    "data, complement_df = build_data(dff, rdf, 20)"
   ]
  },
  {
   "cell_type": "code",
   "execution_count": null,
   "id": "80676472",
   "metadata": {},
   "outputs": [],
   "source": [
    "base = CountryTaxBenefitSystem()\n",
    "base.load_extension(\"openfisca_france_local\")"
   ]
  },
  {
   "cell_type": "code",
   "execution_count": null,
   "id": "b2087b6c",
   "metadata": {},
   "outputs": [],
   "source": [
    "reform = base"
   ]
  },
  {
   "cell_type": "code",
   "execution_count": null,
   "id": "5b8a0e18",
   "metadata": {},
   "outputs": [],
   "source": [
    "reform_scenario = StrasbourgSurveyScenario(reform, data=data)"
   ]
  },
  {
   "cell_type": "code",
   "execution_count": null,
   "id": "b88b8a4e",
   "metadata": {},
   "outputs": [],
   "source": [
    "res = compute_result(reform_scenario, complement_df, 0, compens_constant)"
   ]
  },
  {
   "cell_type": "code",
   "execution_count": null,
   "id": "a335ba1c",
   "metadata": {},
   "outputs": [],
   "source": [
    "res[0].groupby(\"sample_id\").recettes.sum().describe()"
   ]
  },
  {
   "cell_type": "code",
   "execution_count": null,
   "id": "086a0454",
   "metadata": {},
   "outputs": [],
   "source": [
    "new_period = \"2023-09\""
   ]
  },
  {
   "cell_type": "code",
   "execution_count": null,
   "id": "3ddf92ef",
   "metadata": {},
   "outputs": [],
   "source": [
    "reform_scenario2 = StrasbourgSurveyScenario(reform, data=data, period=new_period)"
   ]
  },
  {
   "cell_type": "code",
   "execution_count": null,
   "id": "092873ff",
   "metadata": {},
   "outputs": [],
   "source": [
    "res2 = compute_result(\n",
    "    reform_scenario2, complement_df, 0, compens_constant, period=new_period\n",
    ")"
   ]
  },
  {
   "cell_type": "code",
   "execution_count": null,
   "id": "950989a1",
   "metadata": {},
   "outputs": [],
   "source": [
    "res2[0].groupby(\"sample_id\").recettes.sum().describe()"
   ]
  },
  {
   "cell_type": "code",
   "execution_count": null,
   "id": "c81c21c9",
   "metadata": {},
   "outputs": [],
   "source": [
    "1.825270 / 1.834543"
   ]
  },
  {
   "cell_type": "code",
   "execution_count": null,
   "id": "ebfe2ddb",
   "metadata": {},
   "outputs": [],
   "source": [
    "res_pp = pd.DataFrame(\n",
    "    data={\n",
    "        \"sample_id\": res[0].sample_id,\n",
    "        \"prix\": res[0].pu_calc,\n",
    "        \"prix_r\": res2[0].pu_calc,\n",
    "        \"quantité\": 1,\n",
    "        \"ajustement_mensuel_num\": complement_df.ajustement_mensuel_num.values,\n",
    "    }\n",
    ")\n",
    "res_pp"
   ]
  },
  {
   "cell_type": "code",
   "execution_count": null,
   "id": "1efd87de",
   "metadata": {},
   "outputs": [],
   "source": [
    "field = \"prix\"\n",
    "res_pp[field + \"_rs\"] = res_pp[field + \"_r\"].astype(\"str\")\n",
    "suffix = \"_r\"\n",
    "count_field = \"quantité\"\n",
    "# count_field = \"ajustement_mensuel_num\"\n",
    "matrice = (\n",
    "    pd.pivot_table(\n",
    "        res_pp[[field, field + suffix, count_field, \"sample_id\"]],\n",
    "        columns=field + suffix,\n",
    "        index=[field, \"sample_id\"],\n",
    "        values=count_field,\n",
    "        aggfunc=sum,\n",
    "        fill_value=0,\n",
    "    )\n",
    "    .reset_index(field)\n",
    "    .groupby([field])\n",
    "    .median()\n",
    ")"
   ]
  },
  {
   "cell_type": "code",
   "execution_count": null,
   "id": "bd0fa201",
   "metadata": {},
   "outputs": [],
   "source": [
    "res_pp"
   ]
  },
  {
   "cell_type": "code",
   "execution_count": null,
   "id": "16c51f9b",
   "metadata": {},
   "outputs": [],
   "source": [
    "(\n",
    "    (res_pp[\"prix\"] != res_pp[\"prix_r\"]) * (res_pp[\"ajustement_mensuel_num\"] == 1)\n",
    ").sum() / 12 / 20"
   ]
  },
  {
   "cell_type": "code",
   "execution_count": null,
   "id": "8ec1e263",
   "metadata": {},
   "outputs": [],
   "source": [
    "matrice"
   ]
  },
  {
   "cell_type": "code",
   "execution_count": null,
   "id": "3eefd121",
   "metadata": {},
   "outputs": [],
   "source": [
    "matrice.columns = pd.Index(\n",
    "    matrice.columns.values.astype(\"float64\").round(2)\n",
    ")  # .astype('str'))"
   ]
  },
  {
   "cell_type": "code",
   "execution_count": null,
   "id": "91f7ad17",
   "metadata": {},
   "outputs": [],
   "source": [
    "matrice"
   ]
  },
  {
   "cell_type": "code",
   "execution_count": null,
   "id": "2f0e9d92",
   "metadata": {},
   "outputs": [],
   "source": [
    "862 + 2442 + 56 + 592 + 505"
   ]
  },
  {
   "cell_type": "code",
   "execution_count": null,
   "id": "5e1576c2",
   "metadata": {},
   "outputs": [],
   "source": [
    "11525 + 32320"
   ]
  }
 ],
 "metadata": {
  "kernelspec": {
   "display_name": "Python 3 (ipykernel)",
   "language": "python",
   "name": "python3"
  },
  "language_info": {
   "codemirror_mode": {
    "name": "ipython",
    "version": 3
   },
   "file_extension": ".py",
   "mimetype": "text/x-python",
   "name": "python",
   "nbconvert_exporter": "python",
   "pygments_lexer": "ipython3",
   "version": "3.9.16"
  }
 },
 "nbformat": 4,
 "nbformat_minor": 5
}
