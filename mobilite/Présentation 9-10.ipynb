{
 "cells": [
  {
   "cell_type": "code",
   "execution_count": null,
   "id": "d81ad3ce",
   "metadata": {},
   "outputs": [],
   "source": [
    "import pandas as pd"
   ]
  },
  {
   "cell_type": "code",
   "execution_count": null,
   "id": "43091602",
   "metadata": {},
   "outputs": [],
   "source": [
    "from dotenv import load_dotenv\n",
    "\n",
    "load_dotenv()\n",
    "import os"
   ]
  },
  {
   "cell_type": "code",
   "execution_count": null,
   "id": "0e9c698f",
   "metadata": {},
   "outputs": [],
   "source": [
    "decode = pd.read_csv(\n",
    "    f\"{os.getenv('DATA_FOLDER')}mobilite/CTS_calcul_anonym_decode.csv\",\n",
    "    delimiter=\";\",\n",
    "    encoding=\"windows-1250\",\n",
    "    index_col=0,\n",
    "    decimal=\",\",\n",
    ")"
   ]
  },
  {
   "cell_type": "code",
   "execution_count": null,
   "id": "610b0f0c",
   "metadata": {},
   "outputs": [],
   "source": [
    "decode.shape"
   ]
  },
  {
   "cell_type": "code",
   "execution_count": null,
   "id": "ac8e8a7d",
   "metadata": {},
   "outputs": [],
   "source": [
    "residuel = pd.read_excel(\n",
    "    f\"{os.getenv('DATA_FOLDER')}mobilite/Résiduel_liste_CTS.xlsx\",\n",
    ")"
   ]
  },
  {
   "cell_type": "code",
   "execution_count": null,
   "id": "1abfb961",
   "metadata": {},
   "outputs": [],
   "source": [
    "residuel.shape"
   ]
  },
  {
   "cell_type": "code",
   "execution_count": null,
   "id": "d8bc7616",
   "metadata": {},
   "outputs": [],
   "source": [
    "len(decode) + len(residuel)"
   ]
  },
  {
   "cell_type": "code",
   "execution_count": null,
   "id": "98a13253",
   "metadata": {},
   "outputs": [],
   "source": []
  }
 ],
 "metadata": {
  "kernelspec": {
   "display_name": "Python 3 (ipykernel)",
   "language": "python",
   "name": "python3"
  },
  "language_info": {
   "codemirror_mode": {
    "name": "ipython",
    "version": 3
   },
   "file_extension": ".py",
   "mimetype": "text/x-python",
   "name": "python",
   "nbconvert_exporter": "python",
   "pygments_lexer": "ipython3",
   "version": "3.9.16"
  }
 },
 "nbformat": 4,
 "nbformat_minor": 5
}
