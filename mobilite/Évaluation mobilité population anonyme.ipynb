{
 "cells": [
  {
   "cell_type": "code",
   "execution_count": null,
   "id": "d6d889de",
   "metadata": {},
   "outputs": [],
   "source": [
    "1"
   ]
  },
  {
   "cell_type": "code",
   "execution_count": null,
   "id": "038fc048",
   "metadata": {},
   "outputs": [],
   "source": [
    "import pandas as pd\n",
    "import numpy as np"
   ]
  },
  {
   "cell_type": "code",
   "execution_count": null,
   "id": "e462defd",
   "metadata": {},
   "outputs": [],
   "source": [
    "pd.options.display.float_format = lambda v: \"{:_.2f}\".format(v).replace(\"_\", \" \")"
   ]
  },
  {
   "cell_type": "code",
   "execution_count": null,
   "id": "dfbe8ab3",
   "metadata": {},
   "outputs": [],
   "source": [
    "df_to_caf = pd.read_csv(\n",
    "    \"/home/thomas/Nextcloud/CodeursEnLiberte/EMS/mobilite/CTS_2023.csv\",\n",
    "    encoding=\"windows-1250\",\n",
    "    sep=\";\",\n",
    ")"
   ]
  },
  {
   "cell_type": "code",
   "execution_count": null,
   "id": "1681d64e",
   "metadata": {},
   "outputs": [],
   "source": [
    "df_from_caf = pd.read_csv(\n",
    "    \"/home/thomas/Nextcloud/CodeursEnLiberte/EMS/mobilite/CTS_calcul_anonym_decode.csv\",\n",
    "    encoding=\"windows-1250\",\n",
    "    sep=\";\",\n",
    ")"
   ]
  },
  {
   "cell_type": "code",
   "execution_count": null,
   "id": "44a1631c",
   "metadata": {},
   "outputs": [],
   "source": [
    "df_to_caf.shape"
   ]
  },
  {
   "cell_type": "code",
   "execution_count": null,
   "id": "8ae7bd7b",
   "metadata": {},
   "outputs": [],
   "source": [
    "df_from_caf"
   ]
  },
  {
   "cell_type": "code",
   "execution_count": null,
   "id": "dc1f7758",
   "metadata": {},
   "outputs": [],
   "source": [
    "df_from_caf.shape"
   ]
  },
  {
   "cell_type": "code",
   "execution_count": null,
   "id": "4712460f",
   "metadata": {},
   "outputs": [],
   "source": [
    "resume_data = pd.DataFrame(\n",
    "    {\n",
    "        \"NB_ABO\": df_to_caf.groupby(\"SERVICE\").NOM.count(),\n",
    "        \"NB_CAF\": df_from_caf.groupby(\"SERVICE\").LIB_SERVICE.count(),\n",
    "        \"SERVICE_EMS\": df_from_caf.groupby(\"SERVICE\").LIB_SERVICE.first(),\n",
    "    }\n",
    ").reset_index()\n",
    "resume_data[\"NB_MANQUANT\"] = resume_data.NB_ABO - resume_data.NB_CAF\n",
    "resume_data"
   ]
  },
  {
   "cell_type": "code",
   "execution_count": null,
   "id": "dc8800b7",
   "metadata": {},
   "outputs": [],
   "source": [
    "resume_data.to_excel(\"resume_data.xlsx\")"
   ]
  },
  {
   "cell_type": "code",
   "execution_count": null,
   "id": "53638084",
   "metadata": {},
   "outputs": [],
   "source": [
    "resume_data.NB_ABO.sum() - 1894 - 29717"
   ]
  },
  {
   "cell_type": "code",
   "execution_count": null,
   "id": "a423a245",
   "metadata": {},
   "outputs": [],
   "source": [
    "resume_data.NB_CAF.sum() - 18386 - 447"
   ]
  },
  {
   "cell_type": "code",
   "execution_count": null,
   "id": "4df95b2f",
   "metadata": {},
   "outputs": [],
   "source": [
    "resume_data.NB_MANQUANT.sum() - 1447 - 11331"
   ]
  },
  {
   "cell_type": "code",
   "execution_count": null,
   "id": "0380eef0",
   "metadata": {},
   "outputs": [],
   "source": [
    "tdf = pd.DataFrame({\"LIB\": df_from_caf.LIB_SERVICE.unique()})\n",
    "tdf[\"ajustement_mensuel_num\"] = np.where(tdf.LIB.str.contains(\"ANN\"), 10 / 12, 1)\n",
    "ttdf = tdf.join(\n",
    "    tdf.LIB.str.split(\"_\", expand=True).rename(\n",
    "        columns={0: \"AGE_BASE\", 1: \"PÉRIODE\", 2: \"TARIF\"}\n",
    "    )\n",
    ")\n",
    "age_df = pd.DataFrame(\n",
    "    data={\n",
    "        \"key\": [\n",
    "            \"4-17\",\n",
    "            \"18-25\",\n",
    "            \"26-64\",\n",
    "            \"65 et +\",\n",
    "            \"+ 65\",\n",
    "            \"PMR\",\n",
    "            \"ANNUEL  P+R\",\n",
    "            \"EMERAUDE\",\n",
    "        ],\n",
    "        \"AGE\": [\n",
    "            \"4<=AGE<=17\",\n",
    "            \"18<=AGE<=25\",\n",
    "            \"26<=AGE<=64\",\n",
    "            \"65<=AGE\",\n",
    "            \"65<=AGE\",\n",
    "            \"AGE_PMR\",\n",
    "            \"AGE\",  # P+R\n",
    "            \"AGE_EMERAUDE\",\n",
    "        ],\n",
    "    }\n",
    ")\n",
    "tttdf = ttdf.merge(age_df, left_on=\"AGE_BASE\", right_on=\"key\")\n",
    "assert len(tttdf) == len(tdf)\n",
    "qf_df = pd.DataFrame(\n",
    "    {\n",
    "        \"key\": [\"QF1\", \" QF1\", \"QF2\", \"QF3\", \"TP\", \"GRATUIT\", None],\n",
    "        \"QF\": [\n",
    "            \"0<=QF<=355\",\n",
    "            \"0<=QF<=355\",\n",
    "            \"355<QF<=560\",\n",
    "            \"560<QF<=765\",\n",
    "            \"765<QF\",\n",
    "            \"QF_AGE418\",\n",
    "            \"QF_EMERAUDE\",\n",
    "        ],\n",
    "    }\n",
    ")\n",
    "meta_df = tttdf.merge(qf_df, left_on=\"TARIF\", right_on=\"key\")  # , how=\"outer\")\n",
    "meta_df[\"exclu\"] = meta_df.LIB.str.contains(\"P\\+R\") + meta_df.LIB.str.contains(\n",
    "    \"GRATUIT\"\n",
    ")\n",
    "assert len(meta_df) == len(tdf)"
   ]
  },
  {
   "cell_type": "code",
   "execution_count": null,
   "id": "aa5d8d7e",
   "metadata": {},
   "outputs": [],
   "source": [
    "qf_df"
   ]
  },
  {
   "cell_type": "code",
   "execution_count": null,
   "id": "822af4e1",
   "metadata": {},
   "outputs": [],
   "source": [
    "meta_df"
   ]
  },
  {
   "cell_type": "code",
   "execution_count": null,
   "id": "4974018b",
   "metadata": {},
   "outputs": [],
   "source": [
    "df = df_from_caf"
   ]
  },
  {
   "cell_type": "code",
   "execution_count": null,
   "id": "edbd2f71",
   "metadata": {},
   "outputs": [],
   "source": [
    "df3 = df.merge(meta_df, left_on=\"LIB_SERVICE\", right_on=\"LIB\")"
   ]
  },
  {
   "cell_type": "code",
   "execution_count": null,
   "id": "0539f97c",
   "metadata": {},
   "outputs": [],
   "source": [
    "df3"
   ]
  },
  {
   "cell_type": "code",
   "execution_count": null,
   "id": "4eb23410",
   "metadata": {},
   "outputs": [],
   "source": [
    "from mobilite import build_data, compute_result, set_ajustement_mensuel_num"
   ]
  },
  {
   "cell_type": "code",
   "execution_count": null,
   "id": "e8f07fac",
   "metadata": {},
   "outputs": [],
   "source": [
    "df3[\"quantité\"] = 1\n",
    "df3[\"Titres\"] = df3.LIB\n",
    "df3[\"idx\"] = range(len(df3))\n",
    "dff = df3[~df3.exclu]\n",
    "rdf_base = pd.DataFrame(\n",
    "    data={\n",
    "        \"pu_fichier\": dff.ajustement_mensuel_num,\n",
    "        \"pu_calc\": dff.ajustement_mensuel_num * 0,\n",
    "        \"tp\": dff.ajustement_mensuel_num * 0,\n",
    "    }\n",
    ")"
   ]
  },
  {
   "cell_type": "code",
   "execution_count": null,
   "id": "0562a25e",
   "metadata": {},
   "outputs": [],
   "source": [
    "dff.shape"
   ]
  },
  {
   "cell_type": "code",
   "execution_count": null,
   "id": "b97fc926",
   "metadata": {},
   "outputs": [],
   "source": [
    "data_base, complement_df_base = build_data(dff, rdf_base)"
   ]
  },
  {
   "cell_type": "code",
   "execution_count": null,
   "id": "3d792b19",
   "metadata": {},
   "outputs": [],
   "source": [
    "dff"
   ]
  },
  {
   "cell_type": "code",
   "execution_count": null,
   "id": "52876faf",
   "metadata": {},
   "outputs": [],
   "source": [
    "data_base[\"input_data_frame_by_entity\"][\"famille\"]"
   ]
  },
  {
   "cell_type": "code",
   "execution_count": null,
   "id": "fd383cac",
   "metadata": {},
   "outputs": [],
   "source": [
    "data_base[\"input_data_frame_by_entity\"][\"famille\"].shape"
   ]
  },
  {
   "cell_type": "code",
   "execution_count": null,
   "id": "0a5b699d",
   "metadata": {},
   "outputs": [],
   "source": [
    "from openfisca_france import CountryTaxBenefitSystem"
   ]
  },
  {
   "cell_type": "code",
   "execution_count": null,
   "id": "4c73c517",
   "metadata": {},
   "outputs": [],
   "source": [
    "from scenario import StrasbourgSurveyScenario"
   ]
  },
  {
   "cell_type": "code",
   "execution_count": null,
   "id": "c31a9f21",
   "metadata": {},
   "outputs": [],
   "source": [
    "base = CountryTaxBenefitSystem()\n",
    "base.load_extension(\"openfisca_france_local\")"
   ]
  },
  {
   "cell_type": "code",
   "execution_count": null,
   "id": "51b1e44a",
   "metadata": {},
   "outputs": [],
   "source": [
    "compens_constant = 0"
   ]
  },
  {
   "cell_type": "code",
   "execution_count": null,
   "id": "61696c04",
   "metadata": {},
   "outputs": [],
   "source": [
    "scenario_base = StrasbourgSurveyScenario(base, data=data_base)"
   ]
  },
  {
   "cell_type": "code",
   "execution_count": null,
   "id": "205c539e",
   "metadata": {},
   "outputs": [],
   "source": [
    "res_base = compute_result(scenario_base, complement_df_base, 0, compens_constant)"
   ]
  },
  {
   "cell_type": "code",
   "execution_count": null,
   "id": "4dc27147",
   "metadata": {},
   "outputs": [],
   "source": [
    "45929"
   ]
  },
  {
   "cell_type": "code",
   "execution_count": null,
   "id": "b21f333b",
   "metadata": {},
   "outputs": [],
   "source": [
    "res_base[0].shape"
   ]
  },
  {
   "cell_type": "code",
   "execution_count": null,
   "id": "e3d9f0cb",
   "metadata": {},
   "outputs": [],
   "source": [
    "res_base[1]"
   ]
  },
  {
   "cell_type": "code",
   "execution_count": null,
   "id": "03ab87f6",
   "metadata": {},
   "outputs": [],
   "source": [
    "df_qf_caf = pd.DataFrame(\n",
    "    {\n",
    "        \"idx\": range(len(dff)),\n",
    "        \"QF\": \"QF==\" + dff[\"MONTANT.QF.CNAF\"].astype(\"str\"),\n",
    "        \"AGE\": dff.AGE,\n",
    "        \"ajustement_mensuel_num\": dff.ajustement_mensuel_num,\n",
    "        \"quantité\": 1,\n",
    "        \"Titres\": dff.LIB,\n",
    "    }\n",
    ")\n",
    "rdf_qf_caf = pd.DataFrame(\n",
    "    data={\n",
    "        \"pu_fichier\": df_qf_caf.ajustement_mensuel_num,\n",
    "        \"pu_calc\": df_qf_caf.ajustement_mensuel_num * 0,\n",
    "        \"tp\": df_qf_caf.ajustement_mensuel_num * 0,\n",
    "    }\n",
    ")"
   ]
  },
  {
   "cell_type": "code",
   "execution_count": null,
   "id": "fa7a378f",
   "metadata": {},
   "outputs": [],
   "source": [
    "data_qf_caf, complement_df_qf_caf = build_data(df_qf_caf, rdf_qf_caf)"
   ]
  },
  {
   "cell_type": "code",
   "execution_count": null,
   "id": "58d48add",
   "metadata": {},
   "outputs": [],
   "source": [
    "scenario_qf_caf = StrasbourgSurveyScenario(base, data=data_qf_caf)"
   ]
  },
  {
   "cell_type": "code",
   "execution_count": null,
   "id": "dfb3fc6d",
   "metadata": {},
   "outputs": [],
   "source": [
    "res_qf_caf = compute_result(scenario_qf_caf, complement_df_qf_caf, 0, compens_constant)"
   ]
  },
  {
   "cell_type": "code",
   "execution_count": null,
   "id": "b41d729c",
   "metadata": {},
   "outputs": [],
   "source": [
    "res_qf_caf[0].shape"
   ]
  },
  {
   "cell_type": "code",
   "execution_count": null,
   "id": "38518dc5",
   "metadata": {},
   "outputs": [],
   "source": [
    "res_qf_caf[1]"
   ]
  },
  {
   "cell_type": "code",
   "execution_count": null,
   "id": "be08af6e",
   "metadata": {},
   "outputs": [],
   "source": [
    "comp_base_caf = res_base[0].merge(\n",
    "    res_qf_caf[0], on=\"individu_id\", suffixes=[\"_base\", \"_caf\"]\n",
    ")"
   ]
  },
  {
   "cell_type": "code",
   "execution_count": null,
   "id": "6147db1b",
   "metadata": {},
   "outputs": [],
   "source": [
    "comp_base_caf[\"QF_CAF\"] = data_qf_caf[\"input_data_frame_by_entity\"][\n",
    "    \"famille\"\n",
    "].qf_caf.values"
   ]
  },
  {
   "cell_type": "code",
   "execution_count": null,
   "id": "af3d4fb7",
   "metadata": {},
   "outputs": [],
   "source": [
    "comp_base_caf[\"QF_EMS\"] = data_qf_caf[\"input_data_frame_by_entity\"][\n",
    "    \"famille\"\n",
    "].qf_fiscal.values"
   ]
  },
  {
   "cell_type": "code",
   "execution_count": null,
   "id": "860a884f",
   "metadata": {},
   "outputs": [],
   "source": [
    "comp_base_caf[\"QF_RULE\"] = dff.QF.values"
   ]
  },
  {
   "cell_type": "code",
   "execution_count": null,
   "id": "a67cbd45",
   "metadata": {},
   "outputs": [],
   "source": [
    "comp_base_caf[\n",
    "    comp_base_caf.titre_fichier_base.str.contains(\"_TP\")\n",
    "    * (~comp_base_caf.QF_RULE.isna())\n",
    "].QF_RULE.unique()"
   ]
  },
  {
   "cell_type": "code",
   "execution_count": null,
   "id": "793059ea",
   "metadata": {},
   "outputs": [],
   "source": [
    "aout23 = \"2023-08\""
   ]
  },
  {
   "cell_type": "code",
   "execution_count": null,
   "id": "feb386b4",
   "metadata": {},
   "outputs": [],
   "source": [
    "scenario_qf_caf_aout = StrasbourgSurveyScenario(base, data=data_qf_caf, period=aout23)"
   ]
  },
  {
   "cell_type": "code",
   "execution_count": null,
   "id": "ba75b6b6",
   "metadata": {},
   "outputs": [],
   "source": [
    "res_qf_caf_aout = compute_result(\n",
    "    scenario_qf_caf_aout, complement_df_qf_caf, 0, compens_constant, aout23\n",
    ")"
   ]
  },
  {
   "cell_type": "code",
   "execution_count": null,
   "id": "80e3ba7a",
   "metadata": {},
   "outputs": [],
   "source": [
    "res_qf_caf_aout[1]"
   ]
  },
  {
   "cell_type": "code",
   "execution_count": null,
   "id": "0554e61d",
   "metadata": {},
   "outputs": [],
   "source": [
    "comp_base_caf[\"pu_calc_aout23\"] = res_qf_caf_aout[0].pu_calc.values"
   ]
  },
  {
   "cell_type": "code",
   "execution_count": null,
   "id": "61f782c4",
   "metadata": {},
   "outputs": [],
   "source": [
    "clean_comp = comp_base_caf[\n",
    "    [\n",
    "        \"titre_fichier_base\",\n",
    "        \"QF_RULE\",\n",
    "        \"pu_calc_base\",\n",
    "        \"QF_CAF\",\n",
    "        \"pu_calc_caf\",\n",
    "        \"pu_calc_aout23\",\n",
    "        \"QF_EMS\",\n",
    "    ]\n",
    "]"
   ]
  },
  {
   "cell_type": "code",
   "execution_count": null,
   "id": "72a2d518",
   "metadata": {},
   "outputs": [],
   "source": [
    "clean_comp"
   ]
  },
  {
   "cell_type": "code",
   "execution_count": null,
   "id": "8754cd40",
   "metadata": {},
   "outputs": [],
   "source": [
    "# clean_comp.to_excel('resultats_correspondances_caf_v2.xlsx')"
   ]
  },
  {
   "cell_type": "code",
   "execution_count": null,
   "id": "c63e570e",
   "metadata": {},
   "outputs": [],
   "source": [
    "clean_comp[clean_comp.titre_fichier_base.str.contains(\"_TP\")]"
   ]
  }
 ],
 "metadata": {
  "kernelspec": {
   "display_name": "Python 3 (ipykernel)",
   "language": "python",
   "name": "python3"
  },
  "language_info": {
   "codemirror_mode": {
    "name": "ipython",
    "version": 3
   },
   "file_extension": ".py",
   "mimetype": "text/x-python",
   "name": "python",
   "nbconvert_exporter": "python",
   "pygments_lexer": "ipython3",
   "version": "3.9.16"
  }
 },
 "nbformat": 4,
 "nbformat_minor": 5
}
