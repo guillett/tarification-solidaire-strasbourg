{
 "cells": [
  {
   "cell_type": "code",
   "execution_count": null,
   "id": "2ba429f8",
   "metadata": {},
   "outputs": [],
   "source": [
    "import pandas as pd\n",
    "import numpy as np"
   ]
  },
  {
   "cell_type": "code",
   "execution_count": null,
   "id": "931def20",
   "metadata": {},
   "outputs": [],
   "source": [
    "from openfisca_france import CountryTaxBenefitSystem\n",
    "from openfisca_france.model.base import Famille, FoyerFiscal, Menage\n",
    "from openfisca_core import periods, parameters\n",
    "from openfisca_core.model_api import Reform"
   ]
  },
  {
   "cell_type": "code",
   "execution_count": null,
   "id": "ea98ad2d",
   "metadata": {},
   "outputs": [],
   "source": [
    "from dotenv import load_dotenv\n",
    "load_dotenv()\n",
    "import os"
   ]
  },
  {
   "cell_type": "code",
   "execution_count": null,
   "id": "afdd6544",
   "metadata": {},
   "outputs": [],
   "source": [
    "import sys\n",
    "sys.path.append('../technique')"
   ]
  },
  {
   "cell_type": "code",
   "execution_count": null,
   "id": "ea329692",
   "metadata": {},
   "outputs": [],
   "source": [
    "from utils import *"
   ]
  },
  {
   "cell_type": "code",
   "execution_count": null,
   "id": "c38026e9",
   "metadata": {},
   "outputs": [],
   "source": [
    "base_period = \"2023-01\"\n",
    "\n",
    "base = CountryTaxBenefitSystem()\n",
    "base.load_extension('openfisca_france_local')"
   ]
  },
  {
   "cell_type": "code",
   "execution_count": null,
   "id": "2cfc5ade",
   "metadata": {},
   "outputs": [],
   "source": [
    "full_df = pd.read_excel(os.getenv('DATA_FOLDER') + \"mobilite/extrait-Tableau_de_Bord_CTS_Valeurs 012023_ajout_qf_age.xlsx\", sheet_name=\"QRD - Quantités\")"
   ]
  },
  {
   "cell_type": "code",
   "execution_count": null,
   "id": "9a29961a",
   "metadata": {},
   "outputs": [],
   "source": [
    "full_df = pd.read_excel(os.getenv('DATA_FOLDER') + \"mobilite/extrait-Tableau_de_Bord_CTS_Valeurs 012023_ajout_qf_age.xlsx\", sheet_name=\"QRD - Quantités\")\n",
    "full_df['ajustement_mensuel_num'] = full_df.ajustement_mensuel.astype('str').apply(lambda x: eval(str(x)) if x != \"nan\" else 1)"
   ]
  },
  {
   "cell_type": "code",
   "execution_count": null,
   "id": "bbc6b4fc",
   "metadata": {},
   "outputs": [],
   "source": [
    "compens_df = full_df[~full_df.Exclu.isna() * ~full_df.ajustement_mensuel.isna()][['Titres', 'quantité', 'ajustement_mensuel_num']]"
   ]
  },
  {
   "cell_type": "code",
   "execution_count": null,
   "id": "378ddbbb",
   "metadata": {},
   "outputs": [],
   "source": [
    "compens_constant = sum(compens_df.quantité * compens_df.ajustement_mensuel_num)\n",
    "compens_constant"
   ]
  },
  {
   "cell_type": "code",
   "execution_count": null,
   "id": "7c35392a",
   "metadata": {},
   "outputs": [],
   "source": [
    "df = full_df[full_df.Exclu.isna()]"
   ]
  },
  {
   "cell_type": "code",
   "execution_count": null,
   "id": "8a4d4d4e",
   "metadata": {},
   "outputs": [],
   "source": [
    "count = len(df)\n",
    "\n",
    "individu_df = pd.DataFrame({\n",
    "    'famille_id': list(range(count)),\n",
    "    'qfrule': df.QF,\n",
    "    'agerule': df.AGE,\n",
    "    'taux_incapacite': np.where(df.Titres.str.contains('PMR'), 0.8, 0)\n",
    "})"
   ]
  },
  {
   "cell_type": "code",
   "execution_count": null,
   "id": "28ea56e5",
   "metadata": {},
   "outputs": [],
   "source": [
    "determine_qf(individu_df, qfrules_constant)"
   ]
  },
  {
   "cell_type": "code",
   "execution_count": null,
   "id": "91e3649c",
   "metadata": {},
   "outputs": [],
   "source": [
    "determine_age(individu_df)"
   ]
  },
  {
   "cell_type": "code",
   "execution_count": null,
   "id": "3682de46",
   "metadata": {},
   "outputs": [],
   "source": [
    "famille_df = pd.DataFrame({})\n",
    "menage_df = pd.DataFrame({\n",
    "    'eurometropole_strasbourg_tarification_solidaire_transport_eligibilite_geographique': np.ones(count),\n",
    "})\n",
    "foyerfiscaux_df = pd.DataFrame({})\n",
    "\n",
    "individu_df['famille_role_index'] = 0\n",
    "individu_df['foyer_fiscal_id'] = individu_df.famille_id\n",
    "individu_df['foyer_fiscal_role_index'] = 0\n",
    "individu_df['menage_id'] = individu_df.famille_id\n",
    "individu_df['menage_role_index'] = 0\n",
    "\n",
    "data = dict(input_data_frame_by_entity = dict(\n",
    "individu=individu_df,\n",
    "famille=famille_df,\n",
    "menage=menage_df,\n",
    "foyer_fiscal=foyerfiscaux_df))"
   ]
  },
  {
   "cell_type": "code",
   "execution_count": null,
   "id": "4bc14ce4",
   "metadata": {},
   "outputs": [],
   "source": [
    "scenario = StrasbourgSurveyScenario(tbs=base, data = data)"
   ]
  },
  {
   "cell_type": "code",
   "execution_count": null,
   "id": "c09c51a4",
   "metadata": {},
   "outputs": [],
   "source": [
    "res = scenario.simulation.calculate('eurometropole_strasbourg_tarification_transport', base_period)"
   ]
  },
  {
   "cell_type": "code",
   "execution_count": null,
   "id": "df782ec4",
   "metadata": {},
   "outputs": [],
   "source": [
    "res_elig_reduit = scenario.simulation.calculate('eurometropole_strasbourg_tarification_solidaire_transport_eligible_tarif_reduit', base_period)"
   ]
  },
  {
   "cell_type": "code",
   "execution_count": null,
   "id": "f02efb85",
   "metadata": {},
   "outputs": [],
   "source": [
    "res_df = pd.DataFrame(data= {\n",
    "    'idx': df.idx,\n",
    "    'titre_fichier': df.Titres,\n",
    "    'AGE': df.AGE,\n",
    "    'QF': df.QF,\n",
    "    'recettes_fichier': df.recettes,\n",
    "    'recettes_calc_ht': res * df.quantité/1.1* df.ajustement_mensuel_num,\n",
    "    'quantité_fichier': df.quantité,\n",
    "    'pu_fichier': df.PU,\n",
    "    'pu_calc': res,\n",
    "    'pu_calc_ht': res/1.1* df.ajustement_mensuel_num,\n",
    "    'reduit': res_elig_reduit,\n",
    "})\n",
    "\n",
    "res_df['ok'] = (res_df.pu_calc_ht - res_df.pu_fichier).abs()< 1\n",
    "assert((~res_df['ok']).sum() == 3)\n",
    "#res_df.to_excel('/home/thomas/Nextcloud/CodeursEnLiberte/EMSb/mobilite/recalcul_prix_unitaire_titres_2.xlsx')\n",
    "# pd.pivot(res_df, columns=[\"QF\"], index=[\"AGE\"], values=\"quantité_fichier\")"
   ]
  },
  {
   "cell_type": "code",
   "execution_count": null,
   "id": "cea2368e",
   "metadata": {},
   "outputs": [],
   "source": [
    "def add_compensation(df):\n",
    "    max_prix = df[['reduit', 'pu_calc']].groupby(by='reduit').max().pu_calc\n",
    "    max_prix_grille = np.where(df.reduit, max_prix[1], max_prix[0])\n",
    "    df['tp'] = df.pu_calc == max_prix_grille\n",
    "    df['compensation'] = np.where(df['tp'], (max_prix_grille/max(max_prix_grille)).round(1), 0)"
   ]
  },
  {
   "cell_type": "code",
   "execution_count": null,
   "id": "e312be4c",
   "metadata": {},
   "outputs": [],
   "source": [
    "add_compensation(res_df)"
   ]
  },
  {
   "cell_type": "code",
   "execution_count": null,
   "id": "88169235",
   "metadata": {},
   "outputs": [],
   "source": [
    "pd.pivot_table(res_df, index=[\"tp\"], values=\"quantité_fichier\", aggfunc=sum)"
   ]
  },
  {
   "cell_type": "code",
   "execution_count": null,
   "id": "e5e469c3",
   "metadata": {},
   "outputs": [],
   "source": [
    "recette_base = res_df.recettes_calc_ht.sum()\n",
    "recette_base"
   ]
  },
  {
   "cell_type": "code",
   "execution_count": null,
   "id": "ffbfe70b",
   "metadata": {},
   "outputs": [],
   "source": [
    "count = int(sum(df.quantité))\n",
    "sample_count = 2\n",
    "(count, sample_count)"
   ]
  },
  {
   "cell_type": "code",
   "execution_count": null,
   "id": "a70d4b56",
   "metadata": {},
   "outputs": [],
   "source": [
    "sample_ids = np.repeat(list(range(sample_count)), count)\n",
    "indiv_ids = np.tile(list(range(count)), sample_count)\n",
    "sample_qfrule = np.tile(np.repeat(df.QF, df.quantité), sample_count)\n",
    "ajustement_mensuel_num = np.tile(np.repeat(df.ajustement_mensuel_num, df.quantité), sample_count)\n",
    "\n",
    "sample_individu_df = pd.DataFrame({\n",
    "    'sample_id': sample_ids,\n",
    "    'famille_id': list(range(count * sample_count)),\n",
    "    'qfrule': sample_qfrule,\n",
    "    'agerule': np.tile(np.repeat(df.AGE, df.quantité), sample_count),\n",
    "    'taux_incapacite': np.tile(np.repeat(np.where(df.Titres.str.contains('PMR'), 0.8, 0), df.quantité), sample_count)\n",
    "})"
   ]
  },
  {
   "cell_type": "code",
   "execution_count": null,
   "id": "fa9af783",
   "metadata": {},
   "outputs": [],
   "source": [
    "def alea_caf_fiscal(a):\n",
    "    return np.maximum(0, np.random.normal(a*0.9 - 150, np.maximum(0, (a*0.9 - 100)*0+100))).astype('int64')"
   ]
  },
  {
   "cell_type": "code",
   "execution_count": null,
   "id": "e583c891",
   "metadata": {},
   "outputs": [],
   "source": [
    "determine_qf(sample_individu_df, unif_qf, alea_caf_fiscal)"
   ]
  },
  {
   "cell_type": "code",
   "execution_count": null,
   "id": "9b114902",
   "metadata": {},
   "outputs": [],
   "source": [
    "determine_age(sample_individu_df)"
   ]
  },
  {
   "cell_type": "code",
   "execution_count": null,
   "id": "2f307dbe",
   "metadata": {},
   "outputs": [],
   "source": [
    "len(sample_individu_df)"
   ]
  },
  {
   "cell_type": "code",
   "execution_count": null,
   "id": "63e0ff6d",
   "metadata": {},
   "outputs": [],
   "source": [
    "def build_data(sample_individu_df):\n",
    "    sample_famille_df = pd.DataFrame({})\n",
    "    sample_menage_df = pd.DataFrame({\n",
    "        'eurometropole_strasbourg_tarification_solidaire_transport_eligibilite_geographique': np.ones(len(sample_individu_df)),\n",
    "    })\n",
    "    sample_foyerfiscaux_df = pd.DataFrame({})\n",
    "\n",
    "    sample_individu_df['famille_role_index'] = 0\n",
    "    sample_individu_df['foyer_fiscal_id'] = sample_individu_df.famille_id\n",
    "    sample_individu_df['foyer_fiscal_role_index'] = 0\n",
    "    sample_individu_df['menage_id'] = sample_individu_df.famille_id\n",
    "    sample_individu_df['menage_role_index'] = 0\n",
    "\n",
    "    sample_data = dict(input_data_frame_by_entity = dict(\n",
    "    individu=sample_individu_df,\n",
    "    famille=sample_famille_df,\n",
    "    menage=sample_menage_df,\n",
    "    foyer_fiscal=sample_foyerfiscaux_df))\n",
    "    return sample_data"
   ]
  },
  {
   "cell_type": "code",
   "execution_count": null,
   "id": "e1b5065a",
   "metadata": {},
   "outputs": [],
   "source": [
    "sample_scenario = StrasbourgSurveyScenario(base, data = build_data(sample_individu_df))"
   ]
  },
  {
   "cell_type": "code",
   "execution_count": null,
   "id": "45dcd749",
   "metadata": {},
   "outputs": [],
   "source": [
    "def compute_result(scenario):\n",
    "    sample_calc = scenario.simulation.calculate('eurometropole_strasbourg_tarification_transport', base_period)\n",
    "    sample_reduit = scenario.simulation.calculate('eurometropole_strasbourg_tarification_solidaire_transport_eligible_tarif_reduit', base_period)\n",
    "\n",
    "    sample_res = pd.DataFrame(data= {\n",
    "        \"sample_id\": sample_ids,\n",
    "        \"individu_id\": indiv_ids,\n",
    "        \"recettes\": sample_calc / 1.1 * ajustement_mensuel_num,\n",
    "        \"pu_calc\": sample_calc,\n",
    "        \"pu_calc_ht\": sample_calc / 1.1 * ajustement_mensuel_num,\n",
    "        \"reduit\": sample_reduit,\n",
    "        \"idx\": np.tile(np.repeat(df.idx, df.quantité), sample_count),\n",
    "        \"pu_fichier\": np.tile(np.repeat(res_df.pu_fichier, df.quantité), sample_count),\n",
    "        \"pu_calc_base\": np.tile(np.repeat(res_df.pu_calc, df.quantité), sample_count),\n",
    "        \"tp_base\": np.tile(np.repeat(res_df.tp, df.quantité), sample_count),\n",
    "    })\n",
    "    sample_res['ecart'] = sample_res.pu_calc_ht - sample_res.pu_fichier\n",
    "    add_compensation(sample_res)\n",
    "    \n",
    "    sample_recette = sample_res[['sample_id', \"recettes\"]].groupby(by=\"sample_id\").sum()\n",
    "    sample_recette['equiv_tp'] = sample_res[['sample_id', \"compensation\"]].groupby(by=\"sample_id\").sum()\n",
    "    sample_recette['tp'] = sample_res[['sample_id', \"tp\"]].groupby(by=\"sample_id\").sum()\n",
    "    sample_recette[\"pertes\"] = sample_recette.recettes-recette_base\n",
    "    sample_recette['compens'] = -sample_recette.pertes/(sample_recette.equiv_tp + compens_constant)\n",
    "\n",
    "    return (sample_res, sample_recette)"
   ]
  },
  {
   "cell_type": "code",
   "execution_count": null,
   "id": "f958a0ff",
   "metadata": {},
   "outputs": [],
   "source": [
    "(sample_res, sample_recette) = compute_result(sample_scenario)"
   ]
  },
  {
   "cell_type": "code",
   "execution_count": null,
   "id": "2441522d",
   "metadata": {},
   "outputs": [],
   "source": [
    "sample_res"
   ]
  },
  {
   "cell_type": "code",
   "execution_count": null,
   "id": "78cdfbd5",
   "metadata": {},
   "outputs": [],
   "source": [
    "pd.pivot_table(sample_res[[\"pu_calc_base\", \"pu_calc\"]], index=\"pu_calc_base\", columns=\"pu_calc\", aggfunc=len, fill_value=0)"
   ]
  },
  {
   "cell_type": "code",
   "execution_count": null,
   "id": "7374a565",
   "metadata": {},
   "outputs": [],
   "source": [
    "sample_recette"
   ]
  },
  {
   "cell_type": "code",
   "execution_count": null,
   "id": "2e6c1828",
   "metadata": {},
   "outputs": [],
   "source": [
    "#res_df.idx[~res_df.ok]"
   ]
  },
  {
   "cell_type": "code",
   "execution_count": null,
   "id": "24439eb2",
   "metadata": {},
   "outputs": [],
   "source": [
    "#sample_res[['idx', 'ecart']].groupby(by=\"idx\").describe()"
   ]
  },
  {
   "cell_type": "code",
   "execution_count": null,
   "id": "bbf49307",
   "metadata": {},
   "outputs": [],
   "source": [
    "sample_recette.describe()"
   ]
  },
  {
   "cell_type": "code",
   "execution_count": null,
   "id": "2081cf5e",
   "metadata": {},
   "outputs": [],
   "source": [
    "tp_df = pd.DataFrame(data= {\n",
    "    \"sample_id\": sample_res.sample_id,\n",
    "    \"avant\": sample_res.tp_base,\n",
    "    \"apres\": sample_res.tp,\n",
    "})"
   ]
  },
  {
   "cell_type": "code",
   "execution_count": null,
   "id": "ba50d6f0",
   "metadata": {},
   "outputs": [],
   "source": [
    "pd.pivot_table(tp_df, index=[\"sample_id\", \"avant\"], columns=\"apres\", aggfunc=len)"
   ]
  },
  {
   "cell_type": "code",
   "execution_count": null,
   "id": "e4146024",
   "metadata": {},
   "outputs": [],
   "source": [
    "#print(\n",
    "pd.pivot_table(res_df, index=[\"QF\"], columns=[\"reduit\"], values=\"quantité_fichier\", aggfunc=sum)\n",
    "#.to_csv(sep=\";\",decimal=\",\"))"
   ]
  },
  {
   "cell_type": "code",
   "execution_count": null,
   "id": "dee33a32",
   "metadata": {},
   "outputs": [],
   "source": [
    "if False:\n",
    "    denomb_df = pd.DataFrame(data={\n",
    "        'QF': res_df.QF,\n",
    "        'plein': ~res_df.reduit,\n",
    "        'quantité_fichier': res_df.quantité_fichier\n",
    "    })\n",
    "    denomb = pd.pivot_table(denomb_df, index=[\"QF\", \"plein\"], values=\"quantité_fichier\", aggfunc=sum)\n",
    "    denomb\n",
    "    merge_bareme_population = denomb.quantité_fichier.cumsum()\n",
    "    df[[\"QF\", \"quantité\"]].groupby(by=\"QF\").sum().cumsum()"
   ]
  },
  {
   "cell_type": "code",
   "execution_count": null,
   "id": "984d3e8c",
   "metadata": {},
   "outputs": [],
   "source": [
    "if False:\n",
    "    static_sample_count = 50\n",
    "    static_sample_ids = np.repeat(list(range(static_sample_count)), count)\n",
    "    static_sample_individu_df = pd.DataFrame({\n",
    "        'sample_id': static_sample_ids,\n",
    "        'famille_id': list(range(count * static_sample_count)),\n",
    "        'qfrule': np.tile(np.repeat(df.QF, df.quantité), static_sample_count),\n",
    "        'agerule': np.tile(np.repeat(df.AGE, df.quantité), static_sample_count),\n",
    "        'taux_incapacite': np.tile(np.repeat(np.where(df.Titres.str.contains('PMR'), 0.8, 0), df.quantité), static_sample_count)\n",
    "    })\n",
    "\n",
    "\n",
    "    determine_qf(static_sample_individu_df,unif_qf, alea_caf_fiscal)\n",
    "\n",
    "    rr = static_sample_individu_df.groupby(by=\"sample_id\").eurometropole_strasbourg_tarification_solidaire_transport_quotient_familial.rank(method=\"first\")\n",
    "\n",
    "    df[[\"QF\", \"quantité\"]].groupby(by=\"QF\").sum()\n",
    "\n",
    "    indexes = rr.isin(df[[\"QF\", \"quantité\"]].groupby(by=\"QF\").sum().cumsum().quantité)\n",
    "    rr_res = pd.DataFrame(data={\n",
    "        \"rank\": rr[indexes],\n",
    "        \"value\": static_sample_individu_df.eurometropole_strasbourg_tarification_solidaire_transport_quotient_familial[indexes]\n",
    "    })\n",
    "\n",
    "    rr_res.groupby(by=\"rank\").describe()\n",
    "\n",
    "    no_reduit_indexes = rr.isin(merge_bareme_population)\n",
    "    no_reduit_rr_res = pd.DataFrame(data={\n",
    "        \"rank\": rr[no_reduit_indexes],\n",
    "        \"value\": static_sample_individu_df.eurometropole_strasbourg_tarification_solidaire_transport_quotient_familial[no_reduit_indexes]\n",
    "    })\n",
    "\n",
    "    no_reduit_rr_res_desc = no_reduit_rr_res.groupby(by=\"rank\").value.describe()\n",
    "    no_reduit_rr_res_desc\n",
    "\n",
    "    no_reduit_rr_res_desc[\"50%\"].round().astype('int64')"
   ]
  },
  {
   "cell_type": "code",
   "execution_count": null,
   "id": "a304ef78",
   "metadata": {},
   "outputs": [],
   "source": []
  }
 ],
 "metadata": {
  "kernelspec": {
   "display_name": "Python 3 (ipykernel)",
   "language": "python",
   "name": "python3"
  },
  "language_info": {
   "codemirror_mode": {
    "name": "ipython",
    "version": 3
   },
   "file_extension": ".py",
   "mimetype": "text/x-python",
   "name": "python",
   "nbconvert_exporter": "python",
   "pygments_lexer": "ipython3",
   "version": "3.9.16"
  }
 },
 "nbformat": 4,
 "nbformat_minor": 5
}
