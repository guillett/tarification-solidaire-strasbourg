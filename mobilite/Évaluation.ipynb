{
 "cells": [
  {
   "cell_type": "code",
   "execution_count": null,
   "id": "2ba429f8",
   "metadata": {},
   "outputs": [],
   "source": [
    "import pandas as pd\n",
    "import numpy as np"
   ]
  },
  {
   "cell_type": "code",
   "execution_count": null,
   "id": "931def20",
   "metadata": {},
   "outputs": [],
   "source": [
    "from openfisca_france import CountryTaxBenefitSystem\n",
    "from openfisca_france.model.base import Famille, FoyerFiscal, Menage\n",
    "from openfisca_core import periods, parameters\n",
    "from openfisca_core.model_api import Reform"
   ]
  },
  {
   "cell_type": "code",
   "execution_count": null,
   "id": "89969126",
   "metadata": {},
   "outputs": [],
   "source": [
    "import os"
   ]
  },
  {
   "cell_type": "code",
   "execution_count": null,
   "id": "7b867e20",
   "metadata": {},
   "outputs": [],
   "source": [
    "from utils import *"
   ]
  },
  {
   "cell_type": "code",
   "execution_count": null,
   "id": "c38026e9",
   "metadata": {},
   "outputs": [],
   "source": [
    "base_period = \"2023-01\"\n",
    "\n",
    "base = CountryTaxBenefitSystem()\n",
    "base.load_extension('openfisca_france_local')"
   ]
  },
  {
   "cell_type": "code",
   "execution_count": null,
   "id": "9a29961a",
   "metadata": {},
   "outputs": [],
   "source": [
    "full_df = pd.read_excel(os.getenv('DATA_FOLDER') + \"mobilite/extrait-Tableau_de_Bord_CTS_Valeurs 012023_ajout_qf_age.xlsx\", sheet_name=\"QRD - Quantités\")"
   ]
  },
  {
   "cell_type": "code",
   "execution_count": null,
   "id": "7c35392a",
   "metadata": {},
   "outputs": [],
   "source": [
    "df = full_df[~full_df.Exclu.notna()]\n",
    "df"
   ]
  },
  {
   "cell_type": "code",
   "execution_count": null,
   "id": "8a4d4d4e",
   "metadata": {},
   "outputs": [],
   "source": [
    "count = len(df)\n",
    "\n",
    "individu_df = pd.DataFrame({\n",
    "    'famille_id': list(range(count)),\n",
    "    'qfrule': df.QF,\n",
    "    'agerule': df.AGE,\n",
    "    'taux_incapacite': np.where(df.Titres.str.contains('PMR'), 0.8, 0)\n",
    "})"
   ]
  },
  {
   "cell_type": "code",
   "execution_count": null,
   "id": "28ea56e5",
   "metadata": {},
   "outputs": [],
   "source": [
    "determine_qf(individu_df, qfrules_constant)\n",
    "determine_age(individu_df)"
   ]
  },
  {
   "cell_type": "code",
   "execution_count": null,
   "id": "3682de46",
   "metadata": {},
   "outputs": [],
   "source": [
    "famille_df = pd.DataFrame({})\n",
    "menage_df = pd.DataFrame({\n",
    "    'eurometropole_strasbourg_tarification_solidaire_transport_eligibilite_geographique': np.ones(count),\n",
    "})\n",
    "foyerfiscaux_df = pd.DataFrame({})\n",
    "\n",
    "individu_df['famille_role_index'] = 0\n",
    "individu_df['foyer_fiscal_id'] = individu_df.famille_id\n",
    "individu_df['foyer_fiscal_role_index'] = 0\n",
    "individu_df['menage_id'] = individu_df.famille_id\n",
    "individu_df['menage_role_index'] = 0\n",
    "\n",
    "data = dict(input_data_frame_by_entity = dict(\n",
    "individu=individu_df,\n",
    "famille=famille_df,\n",
    "menage=menage_df,\n",
    "foyer_fiscal=foyerfiscaux_df))"
   ]
  },
  {
   "cell_type": "code",
   "execution_count": null,
   "id": "4bc14ce4",
   "metadata": {},
   "outputs": [],
   "source": [
    "scenario = StrasbourgSurveyScenario(tbs=base, data = data)"
   ]
  },
  {
   "cell_type": "code",
   "execution_count": null,
   "id": "c09c51a4",
   "metadata": {},
   "outputs": [],
   "source": [
    "res = scenario.simulation.calculate('eurometropole_strasbourg_tarification_transport', base_period)"
   ]
  },
  {
   "cell_type": "code",
   "execution_count": null,
   "id": "df782ec4",
   "metadata": {},
   "outputs": [],
   "source": [
    "res_elig_reduit = scenario.simulation.calculate('eurometropole_strasbourg_tarification_solidaire_transport_eligible_tarif_reduit', base_period)"
   ]
  },
  {
   "cell_type": "code",
   "execution_count": null,
   "id": "f02efb85",
   "metadata": {
    "scrolled": true
   },
   "outputs": [],
   "source": [
    "res_df = pd.DataFrame(data= {\n",
    "    'titre_fichier': df.Titres,\n",
    "    'AGE': df.AGE,\n",
    "    'QF': df.QF,\n",
    "    'pmr': individu_df.taux_incapacite > 0,\n",
    "    'recettes_fichier': df.recettes,\n",
    "    'quantité_fichier': df.quantité,\n",
    "    'pu_fichier': df.PU,\n",
    "    'pu_calc': res,\n",
    "    'reduit': res_elig_reduit,\n",
    "    'plein': ~res_elig_reduit\n",
    "})\n",
    "#res_df.to_excel('/home/thomas/Nextcloud/CodeursEnLiberte/EMS/mobilite/recalcul_prix_unitaire_titres_2.xlsx')\n",
    "# pd.pivot(res_df, columns=[\"QF\"], index=[\"AGE\"], values=\"quantité_fichier\")"
   ]
  },
  {
   "cell_type": "code",
   "execution_count": null,
   "id": "ffbfe70b",
   "metadata": {},
   "outputs": [],
   "source": [
    "count = int(sum(df.quantité))\n",
    "sample_count = 40\n",
    "(count, sample_count)"
   ]
  },
  {
   "cell_type": "code",
   "execution_count": null,
   "id": "a70d4b56",
   "metadata": {},
   "outputs": [],
   "source": [
    "sample_ids = np.repeat(list(range(sample_count)), count)\n",
    "sample_qfrule = np.tile(np.repeat(df.QF, df.quantité), sample_count)\n",
    "sample_individu_df = pd.DataFrame({\n",
    "    'sample_id': sample_ids,\n",
    "    'famille_id': list(range(count * sample_count)),\n",
    "    'qfrule': sample_qfrule,\n",
    "    'agerule': np.tile(np.repeat(df.AGE, df.quantité), sample_count),\n",
    "    'taux_incapacite': np.tile(np.repeat(np.where(df.Titres.str.contains('PMR'), 0.8, 0), df.quantité), sample_count)\n",
    "})"
   ]
  },
  {
   "cell_type": "code",
   "execution_count": null,
   "id": "e583c891",
   "metadata": {},
   "outputs": [],
   "source": [
    "determine_qf(sample_individu_df, qfrules_alea)"
   ]
  },
  {
   "cell_type": "code",
   "execution_count": null,
   "id": "9b114902",
   "metadata": {},
   "outputs": [],
   "source": [
    "determine_age(sample_individu_df)"
   ]
  },
  {
   "cell_type": "code",
   "execution_count": null,
   "id": "63e0ff6d",
   "metadata": {},
   "outputs": [],
   "source": [
    "sample_famille_df = pd.DataFrame({})\n",
    "sample_menage_df = pd.DataFrame({\n",
    "    'eurometropole_strasbourg_tarification_solidaire_transport_eligibilite_geographique': np.ones(count * sample_count),\n",
    "})\n",
    "sample_foyerfiscaux_df = pd.DataFrame({})\n",
    "\n",
    "sample_individu_df['famille_role_index'] = 0\n",
    "sample_individu_df['foyer_fiscal_id'] = sample_individu_df.famille_id\n",
    "sample_individu_df['foyer_fiscal_role_index'] = 0\n",
    "sample_individu_df['menage_id'] = sample_individu_df.famille_id\n",
    "sample_individu_df['menage_role_index'] = 0\n",
    "\n",
    "sample_data = dict(input_data_frame_by_entity = dict(\n",
    "individu=sample_individu_df,\n",
    "famille=sample_famille_df,\n",
    "menage=sample_menage_df,\n",
    "foyer_fiscal=sample_foyerfiscaux_df))"
   ]
  },
  {
   "cell_type": "code",
   "execution_count": null,
   "id": "e1b5065a",
   "metadata": {},
   "outputs": [],
   "source": [
    "sample_scenario = StrasbourgSurveyScenario(base, data = sample_data)"
   ]
  },
  {
   "cell_type": "code",
   "execution_count": null,
   "id": "45dcd749",
   "metadata": {},
   "outputs": [],
   "source": [
    "sample_res = pd.DataFrame(data= {\n",
    "    \"sample_id\": sample_ids,\n",
    "    \"recettes\":sample_scenario.simulation.calculate('eurometropole_strasbourg_tarification_transport', base_period)\n",
    "})\n",
    "sample_recette = sample_res.groupby(by=\"sample_id\").sum()\n",
    "sample_recette"
   ]
  },
  {
   "cell_type": "code",
   "execution_count": null,
   "id": "7e107276",
   "metadata": {},
   "outputs": [],
   "source": [
    "recette_base = sum(res*df.quantité)\n",
    "sample_recette[\"pertes\"] = sample_recette.recettes-recette_base"
   ]
  },
  {
   "cell_type": "code",
   "execution_count": null,
   "id": "dee33a32",
   "metadata": {},
   "outputs": [],
   "source": [
    "denomb = pd.pivot_table(res_df, index=[\"QF\", \"plein\"], values=\"quantité_fichier\", aggfunc=sum)\n",
    "denomb"
   ]
  },
  {
   "cell_type": "code",
   "execution_count": null,
   "id": "0de0d94f",
   "metadata": {},
   "outputs": [],
   "source": [
    "merge_bareme_population = denomb.quantité_fichier.cumsum()"
   ]
  },
  {
   "cell_type": "code",
   "execution_count": null,
   "id": "b816c8e6",
   "metadata": {},
   "outputs": [],
   "source": [
    "taux_plein = denomb.reset_index()\n",
    "taux_plein_demi_part = (\n",
    "    taux_plein[(taux_plein.QF == \"TP\") * taux_plein.plein].quantité_fichier.iloc[0] +\n",
    "    2*taux_plein[(taux_plein.QF == \"TP\") * ~taux_plein.plein].quantité_fichier.iloc[0])\n",
    "taux_plein_demi_part"
   ]
  },
  {
   "cell_type": "code",
   "execution_count": null,
   "id": "acecaea3",
   "metadata": {},
   "outputs": [],
   "source": [
    "sample_recette['compens'] = -sample_recette.pertes/taux_plein_demi_part"
   ]
  },
  {
   "cell_type": "code",
   "execution_count": null,
   "id": "443879e5",
   "metadata": {},
   "outputs": [],
   "source": [
    "# demi part abo annuels\n",
    "reduit_qfmax = 9082 + 3662 + 375 + 275 \n",
    "taux_plain_qfmax = 9266\n",
    "taux_plein_annuel_demi_part = taux_plain_qfmax * 2 + reduit_qfmax"
   ]
  },
  {
   "cell_type": "code",
   "execution_count": null,
   "id": "98f53db4",
   "metadata": {},
   "outputs": [],
   "source": [
    "sample_recette['compens_av_annuel'] = -sample_recette.pertes/(taux_plein_demi_part+taux_plein_annuel_demi_part)"
   ]
  },
  {
   "cell_type": "code",
   "execution_count": null,
   "id": "dd4c115a",
   "metadata": {},
   "outputs": [],
   "source": [
    "sample_recette[['compens', 'compens_av_annuel']].describe()"
   ]
  },
  {
   "cell_type": "code",
   "execution_count": null,
   "id": "34e9b09d",
   "metadata": {},
   "outputs": [],
   "source": [
    "df[[\"QF\", \"quantité\"]].groupby(by=\"QF\").sum().cumsum()"
   ]
  },
  {
   "cell_type": "code",
   "execution_count": null,
   "id": "3e51feba",
   "metadata": {},
   "outputs": [],
   "source": [
    "static_sample_count = 20\n",
    "static_sample_ids = np.repeat(list(range(static_sample_count)), count)\n",
    "static_sample_individu_df = pd.DataFrame({\n",
    "    'sample_id': static_sample_ids,\n",
    "    'famille_id': list(range(count * static_sample_count)),\n",
    "    'qfrule': np.tile(np.repeat(df.QF, df.quantité), static_sample_count),\n",
    "    'agerule': np.tile(np.repeat(df.AGE, df.quantité), static_sample_count),\n",
    "    'taux_incapacite': np.tile(np.repeat(np.where(df.Titres.str.contains('PMR'), 0.8, 0), df.quantité), static_sample_count)\n",
    "})\n",
    "\n",
    "determine_qf(static_sample_individu_df, qfrules_alea)"
   ]
  },
  {
   "cell_type": "code",
   "execution_count": null,
   "id": "ff49fa9f",
   "metadata": {},
   "outputs": [],
   "source": [
    "static_sample_individu_df"
   ]
  },
  {
   "cell_type": "code",
   "execution_count": null,
   "id": "984d3e8c",
   "metadata": {},
   "outputs": [],
   "source": [
    "rr = static_sample_individu_df.groupby(by=\"sample_id\").eurometropole_strasbourg_tarification_solidaire_transport_quotient_familial.rank(method=\"first\")"
   ]
  },
  {
   "cell_type": "code",
   "execution_count": null,
   "id": "025b3d35",
   "metadata": {},
   "outputs": [],
   "source": [
    "df[[\"QF\", \"quantité\"]].groupby(by=\"QF\").sum()"
   ]
  },
  {
   "cell_type": "code",
   "execution_count": null,
   "id": "a68ae2b4",
   "metadata": {},
   "outputs": [],
   "source": [
    "indexes = rr.isin(df[[\"QF\", \"quantité\"]].groupby(by=\"QF\").sum().cumsum().quantité)\n",
    "rr_res = pd.DataFrame(data={\n",
    "    \"rank\": rr[indexes],\n",
    "    \"value\": static_sample_individu_df.eurometropole_strasbourg_tarification_solidaire_transport_quotient_familial[indexes]\n",
    "})"
   ]
  },
  {
   "cell_type": "code",
   "execution_count": null,
   "id": "47b64078",
   "metadata": {},
   "outputs": [],
   "source": [
    "rr_res.groupby(by=\"rank\").describe()"
   ]
  },
  {
   "cell_type": "code",
   "execution_count": null,
   "id": "dc6ae029",
   "metadata": {},
   "outputs": [],
   "source": [
    "no_reduit_indexes = rr.isin(merge_bareme_population)\n",
    "no_reduit_rr_res = pd.DataFrame(data={\n",
    "    \"rank\": rr[no_reduit_indexes],\n",
    "    \"value\": static_sample_individu_df.eurometropole_strasbourg_tarification_solidaire_transport_quotient_familial[no_reduit_indexes]\n",
    "})"
   ]
  },
  {
   "cell_type": "code",
   "execution_count": null,
   "id": "9106149d",
   "metadata": {},
   "outputs": [],
   "source": [
    "no_reduit_rr_res.groupby(by=\"rank\").describe()"
   ]
  },
  {
   "cell_type": "code",
   "execution_count": null,
   "id": "6ddbaf3f",
   "metadata": {},
   "outputs": [],
   "source": [
    "from openfisca_core import periods, parameters\n",
    "from openfisca_core.model_api import Reform\n",
    "\n",
    "def modify_parameters(local_parameters):\n",
    "    period = base_period\n",
    "    reduit = []\n",
    "    classique = []\n",
    "\n",
    "    valeurs = [\n",
    "        # QF CAF\n",
    "        # [-1, 3.4, 3.4],\n",
    "        # [167, 5.8, 5.8],\n",
    "        # [370, 7.3, 7.3],\n",
    "        # [467, 13.4, 13.4],\n",
    "        # [582, 13.6, 13.6],\n",
    "        # [690, 25.7, 25.7],\n",
    "        # [795, 28, 28],\n",
    "        # [1021, 56, 56]\n",
    "        # QF fiscal\n",
    "        [-1, 3.4, 3.4],\n",
    "        [50, 5.8, 5.8],\n",
    "        [233, 7.3, 7.3],\n",
    "        [319, 13.4, 13.4],\n",
    "        [423, 13.6, 13.6],\n",
    "        [520, 25.7, 25.7],\n",
    "        [615, 28, 28],\n",
    "        [819, 56, 56],\n",
    "\n",
    "#        [410, 2.15, 1.80],\n",
    "#        [510, 2.70, 2.35],\n",
    "#        [620, 3.25, 2.90],\n",
    "#        [720, 3.80, 3.45],\n",
    "    ]\n",
    "\n",
    "    for tranche in valeurs:\n",
    "        (qf, r, c) = tranche\n",
    "        reduit.append(parameters.ParameterScaleBracket(data={\n",
    "            'threshold': { period: { 'value': qf } },\n",
    "            'amount': { period: { 'value': r } }\n",
    "        }))\n",
    "        classique.append(parameters.ParameterScaleBracket(data={\n",
    "            'threshold': { period: { 'value': qf } },\n",
    "            'amount': { period: { 'value': c } }\n",
    "        }))\n",
    "    local_parameters.metropoles.strasbourg.tarification_solidaire.bareme_reduit.brackets = reduit\n",
    "    local_parameters.metropoles.strasbourg.tarification_solidaire.bareme.brackets = classique\n",
    "\n",
    "    return local_parameters\n",
    "    \n",
    "class simulation(Reform):\n",
    "    name = u\"Fusionne les trois premières tranches\"\n",
    "\n",
    "    def apply(self):\n",
    "        self.modify_parameters(modifier_function = modify_parameters)\n",
    "\n",
    "        \n",
    "\n",
    "r = simulation(base)\n",
    "\n",
    "reform_scenario = StrasbourgSurveyScenario(r, data=sample_data)\n",
    "\n",
    "res_reform = reform_scenario.simulation.calculate('eurometropole_strasbourg_tarification_transport', base_period)\n",
    "res_reform"
   ]
  },
  {
   "cell_type": "code",
   "execution_count": null,
   "id": "3620760b",
   "metadata": {},
   "outputs": [],
   "source": [
    "sample_data['input_data_frame_by_entity']['individu']"
   ]
  },
  {
   "cell_type": "code",
   "execution_count": null,
   "id": "84b65ba0",
   "metadata": {},
   "outputs": [],
   "source": [
    "sample_res = pd.DataFrame(data= {\n",
    "    \"sample_id\": sample_ids,\n",
    "    \"recettes\": res_reform\n",
    "})\n",
    "sample_recette = sample_res.groupby(by=\"sample_id\").sum()"
   ]
  },
  {
   "cell_type": "code",
   "execution_count": null,
   "id": "3af5b51c",
   "metadata": {},
   "outputs": [],
   "source": [
    "sample_recette[\"pertes\"] = sample_recette.recettes-recette_base"
   ]
  },
  {
   "cell_type": "code",
   "execution_count": null,
   "id": "d10d43b8",
   "metadata": {},
   "outputs": [],
   "source": [
    "sample_recette.describe()"
   ]
  },
  {
   "cell_type": "code",
   "execution_count": null,
   "id": "0a14074d",
   "metadata": {},
   "outputs": [],
   "source": [
    "from grist_api import GristDocAPI"
   ]
  },
  {
   "cell_type": "code",
   "execution_count": null,
   "id": "e7280c19",
   "metadata": {},
   "outputs": [],
   "source": [
    "import json"
   ]
  },
  {
   "cell_type": "code",
   "execution_count": null,
   "id": "845136d5",
   "metadata": {},
   "outputs": [],
   "source": [
    "with open('../grist_info.json') as f:\n",
    "    grist_info = json.load(f)\n",
    "\n",
    "api = GristDocAPI(grist_info['docId'], api_key=grist_info['key'], server=grist_info['server'])"
   ]
  },
  {
   "cell_type": "code",
   "execution_count": null,
   "id": "6fed7411",
   "metadata": {},
   "outputs": [],
   "source": [
    "scale_data = api.fetch_table('Baremes_transports')\n",
    "scale_data"
   ]
  },
  {
   "cell_type": "code",
   "execution_count": null,
   "id": "fe3e7dcb",
   "metadata": {},
   "outputs": [],
   "source": [
    "scenario = \"QF_fiscal_bareme_unique\""
   ]
  },
  {
   "cell_type": "code",
   "execution_count": null,
   "id": "5dadca79",
   "metadata": {},
   "outputs": [],
   "source": [
    "getattr(scale_data[0], scenario)"
   ]
  },
  {
   "cell_type": "code",
   "execution_count": null,
   "id": "af3c2ab1",
   "metadata": {},
   "outputs": [],
   "source": [
    "has_reduit = None\n",
    "try:\n",
    "    getattr(scale_data[0], f\"{scenario}_reduit\")\n",
    "    has_reduit = True\n",
    "except AttributeError as e:\n",
    "    has_reduit = False\n",
    "has_reduit"
   ]
  },
  {
   "cell_type": "code",
   "execution_count": null,
   "id": "21487598",
   "metadata": {},
   "outputs": [],
   "source": [
    "scale_data.sort(key=lambda i: i.QF)"
   ]
  },
  {
   "cell_type": "code",
   "execution_count": null,
   "id": "2facdbc5",
   "metadata": {},
   "outputs": [],
   "source": [
    "steps = []\n",
    "\n",
    "for s in scale_data:\n",
    "    if getattr(s, scenario):\n",
    "        steps.append([s.QF-1, getattr(s, f\"{scenario}_reduit\") if has_reduit else getattr(s, scenario), getattr(s, scenario)])\n",
    "\n",
    "steps"
   ]
  },
  {
   "cell_type": "code",
   "execution_count": null,
   "id": "4dfe34f9",
   "metadata": {},
   "outputs": [],
   "source": [
    "from openfisca_core import periods, parameters\n",
    "from openfisca_core.model_api import Reform\n",
    "\n",
    "class grist_simulation(Reform):\n",
    "    name = u\"Fusionne les trois premières tranches\"\n",
    "\n",
    "    def __init__(self, tbs, steps):\n",
    "        self.steps = steps\n",
    "        super().__init__(tbs)\n",
    "\n",
    "    def apply(self):\n",
    "        def modify_parameters_grist(local_parameters):\n",
    "            period = base_period\n",
    "            reduit = []\n",
    "            classique = []\n",
    "\n",
    "            for tranche in self.steps:\n",
    "                (qf, r, c) = tranche\n",
    "                reduit.append(parameters.ParameterScaleBracket(data={\n",
    "                    'threshold': { period: { 'value': qf } },\n",
    "                    'amount': { period: { 'value': r } }\n",
    "                }))\n",
    "                classique.append(parameters.ParameterScaleBracket(data={\n",
    "                    'threshold': { period: { 'value': qf } },\n",
    "                    'amount': { period: { 'value': c } }\n",
    "                }))\n",
    "            local_parameters.metropoles.strasbourg.tarification_solidaire.bareme_reduit.brackets = reduit\n",
    "            local_parameters.metropoles.strasbourg.tarification_solidaire.bareme.brackets = classique\n",
    "            return local_parameters\n",
    "\n",
    "        self.modify_parameters(modifier_function = modify_parameters_grist)\n",
    "\n"
   ]
  },
  {
   "cell_type": "code",
   "execution_count": null,
   "id": "9bfb3d68",
   "metadata": {},
   "outputs": [],
   "source": [
    "r = grist_simulation(base, steps)"
   ]
  },
  {
   "cell_type": "code",
   "execution_count": null,
   "id": "c317f5c8",
   "metadata": {},
   "outputs": [],
   "source": [
    "reform_scenario = StrasbourgSurveyScenario(r, data=sample_data)\n",
    "\n",
    "res_reform = reform_scenario.simulation.calculate('eurometropole_strasbourg_tarification_transport', base_period)\n",
    "res_reform"
   ]
  },
  {
   "cell_type": "code",
   "execution_count": null,
   "id": "a9767710",
   "metadata": {},
   "outputs": [],
   "source": [
    "len(sample_ids)"
   ]
  },
  {
   "cell_type": "code",
   "execution_count": null,
   "id": "3aa9e2ca",
   "metadata": {},
   "outputs": [],
   "source": [
    "len(res_reform)"
   ]
  },
  {
   "cell_type": "code",
   "execution_count": null,
   "id": "4a2f02ed",
   "metadata": {},
   "outputs": [],
   "source": [
    "df_reform = pd.DataFrame(data={\n",
    "    'sample_id': sample_ids,\n",
    "    'qf': reform_scenario.simulation.calculate('eurometropole_strasbourg_tarification_solidaire_transport_quotient_familial', base_period),\n",
    "    'recettes': reform_scenario.simulation.calculate('eurometropole_strasbourg_tarification_transport', base_period),\n",
    "    'prix': reform_scenario.simulation.calculate('eurometropole_strasbourg_tarification_transport', base_period)\n",
    "})\n",
    "df_reform"
   ]
  },
  {
   "cell_type": "code",
   "execution_count": null,
   "id": "d45cb52e",
   "metadata": {},
   "outputs": [],
   "source": [
    "recettes = df_reform[['sample_id', 'recettes']].groupby(by='sample_id').sum().describe()\n",
    "recettes"
   ]
  },
  {
   "cell_type": "code",
   "execution_count": null,
   "id": "404e5d01",
   "metadata": {},
   "outputs": [],
   "source": [
    "from IPython.display import display, HTML"
   ]
  },
  {
   "cell_type": "code",
   "execution_count": null,
   "id": "f7d04719",
   "metadata": {},
   "outputs": [],
   "source": [
    "display(HTML(recettes.to_html(float_format=lambda x: \"{0:,.0f}\".format(x).replace(\",\", \" \"))))"
   ]
  },
  {
   "cell_type": "code",
   "execution_count": null,
   "id": "9706d5c1",
   "metadata": {},
   "outputs": [],
   "source": [
    "pd.pivot_table(df_reform, columns='recettes', index=\"sample_id\", values=\"prix\", aggfunc=len).describe()"
   ]
  },
  {
   "cell_type": "code",
   "execution_count": null,
   "id": "a34049aa",
   "metadata": {},
   "outputs": [],
   "source": [
    "pd.pivot_table(df_reform, columns='recettes', index=\"sample_id\", values=\"qf\", aggfunc=np.max)"
   ]
  },
  {
   "cell_type": "code",
   "execution_count": null,
   "id": "19c9482c",
   "metadata": {},
   "outputs": [],
   "source": []
  }
 ],
 "metadata": {
  "kernelspec": {
   "display_name": "Python 3 (ipykernel)",
   "language": "python",
   "name": "python3"
  },
  "language_info": {
   "codemirror_mode": {
    "name": "ipython",
    "version": 3
   },
   "file_extension": ".py",
   "mimetype": "text/x-python",
   "name": "python",
   "nbconvert_exporter": "python",
   "pygments_lexer": "ipython3",
   "version": "3.9.16"
  }
 },
 "nbformat": 4,
 "nbformat_minor": 5
}
