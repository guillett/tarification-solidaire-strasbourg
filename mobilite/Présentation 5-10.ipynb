{
 "cells": [
  {
   "cell_type": "code",
   "execution_count": null,
   "id": "c17625f7",
   "metadata": {},
   "outputs": [],
   "source": [
    "import pandas as pd"
   ]
  },
  {
   "cell_type": "code",
   "execution_count": null,
   "id": "ef3041b0",
   "metadata": {},
   "outputs": [],
   "source": [
    "df = pd.read_pickle(\n",
    "    \"/home/thomas/repos/tarification-solidaire-strasbourg/server/files/resultats_cts_2023-10-04T17-59-53_thomas.xlsx_base.pickle\"\n",
    ")"
   ]
  },
  {
   "cell_type": "code",
   "execution_count": null,
   "id": "e6adc7ca",
   "metadata": {},
   "outputs": [],
   "source": [
    "df_hors_handicap = df[~df.titre_fichier.str.contains(\"PMR\")]"
   ]
  },
  {
   "cell_type": "code",
   "execution_count": null,
   "id": "f215c9b5",
   "metadata": {},
   "outputs": [],
   "source": [
    "df.groupby(\"sample_id\").individu_id.count()"
   ]
  },
  {
   "cell_type": "code",
   "execution_count": null,
   "id": "d43f2ca6",
   "metadata": {},
   "outputs": [],
   "source": [
    "df_hors_handicap.groupby(\"sample_id\").individu_id.count()"
   ]
  },
  {
   "cell_type": "code",
   "execution_count": null,
   "id": "3037f997",
   "metadata": {},
   "outputs": [],
   "source": [
    "df_hors_handicap.columns"
   ]
  },
  {
   "cell_type": "code",
   "execution_count": null,
   "id": "b2851ae9",
   "metadata": {},
   "outputs": [],
   "source": [
    "px = (\n",
    "    df_hors_handicap[df_hors_handicap.sample_id == 0]\n",
    "    .groupby(\"pu_calc\")\n",
    "    .ajustement_mensuel_num.count()\n",
    "    .cumsum()\n",
    ")"
   ]
  },
  {
   "cell_type": "code",
   "execution_count": null,
   "id": "37dac99a",
   "metadata": {},
   "outputs": [],
   "source": [
    "px"
   ]
  },
  {
   "cell_type": "code",
   "execution_count": null,
   "id": "9e8e0c2b",
   "metadata": {},
   "outputs": [],
   "source": [
    "v = []\n",
    "for n, gdf in df_hors_handicap.groupby(\"sample_id\"):\n",
    "    qfs = gdf.qf_fiscal.sort_values()\n",
    "    v.append(\n",
    "        pd.DataFrame(\n",
    "            {\n",
    "                \"qf\": qfs.iloc[px.iloc[0 : (len(px) - 1)]].values,\n",
    "                \"seuil\": [*range(len(px) - 1)],\n",
    "            }\n",
    "        )\n",
    "    )\n",
    "seuils = pd.concat(v)\n",
    "seuils.groupby(\"seuil\").qf.median()"
   ]
  },
  {
   "cell_type": "code",
   "execution_count": null,
   "id": "3325c974",
   "metadata": {},
   "outputs": [],
   "source": [
    "pxa = (\n",
    "    df_hors_handicap[df_hors_handicap.sample_id == 0]\n",
    "    .groupby(\"pu_calc\")\n",
    "    .ajustement_mensuel_num.sum()\n",
    "    .cumsum()\n",
    ")"
   ]
  },
  {
   "cell_type": "code",
   "execution_count": null,
   "id": "f4e70767",
   "metadata": {},
   "outputs": [],
   "source": [
    "pxa"
   ]
  },
  {
   "cell_type": "code",
   "execution_count": null,
   "id": "2aa2f4e6",
   "metadata": {},
   "outputs": [],
   "source": [
    "v = []\n",
    "for n, gdf in df_hors_handicap.groupby(\"sample_id\"):\n",
    "    qfs = gdf.qf_fiscal.sort_values()\n",
    "    v.append(\n",
    "        pd.DataFrame(\n",
    "            {\n",
    "                \"qf\": qfs.iloc[pxa.iloc[0 : (len(pxa) - 1)]].values,\n",
    "                \"seuil\": [*range(len(pxa) - 1)],\n",
    "            }\n",
    "        )\n",
    "    )\n",
    "seuils = pd.concat(v)\n",
    "seuils.groupby(\"seuil\").qf.median()"
   ]
  },
  {
   "cell_type": "code",
   "execution_count": null,
   "id": "d4da359b",
   "metadata": {},
   "outputs": [],
   "source": [
    "v = []\n",
    "for n, gdf in df_hors_handicap.groupby(\"sample_id\"):\n",
    "    sgdf = gdf.sort_values(\"qf_fiscal\")\n",
    "    qfs = sgdf.qf_fiscal\n",
    "    adj = sgdf.ajustement_mensuel_num.cumsum()\n",
    "    qq = [qfs[adj.gt(pxa[v])].iloc[0] for v in pxa.index[0 : (len(pxa) - 1)]]\n",
    "    v.append(\n",
    "        pd.DataFrame(\n",
    "            {\n",
    "                \"qf\": qq,\n",
    "                \"seuil\": [*range(len(pxa) - 1)],\n",
    "            }\n",
    "        )\n",
    "    )\n",
    "seuils = pd.concat(v)\n",
    "seuils.groupby(\"seuil\").qf.median()"
   ]
  },
  {
   "cell_type": "code",
   "execution_count": null,
   "id": "53b6ab5f",
   "metadata": {},
   "outputs": [],
   "source": [
    "v = []\n",
    "for n, gdf in df.groupby(\"sample_id\"):\n",
    "    sgdf = gdf.sort_values(\"qf_fiscal\")\n",
    "    qfs = sgdf.qf_fiscal\n",
    "    adj = sgdf.ajustement_mensuel_num.cumsum()\n",
    "    qq = [qfs[adj.gt(pxa[v])].iloc[0] for v in pxa.index[0 : (len(pxa) - 1)]]\n",
    "    v.append(\n",
    "        pd.DataFrame(\n",
    "            {\n",
    "                \"qf\": qq,\n",
    "                \"seuil\": [*range(len(pxa) - 1)],\n",
    "            }\n",
    "        )\n",
    "    )\n",
    "seuils = pd.concat(v)\n",
    "seuils.groupby(\"seuil\").qf.median()"
   ]
  },
  {
   "cell_type": "code",
   "execution_count": null,
   "id": "499a5a37",
   "metadata": {},
   "outputs": [],
   "source": [
    "base_df = pd.read_pickle(\n",
    "    \"/home/thomas/Nextcloud/CodeursEnLiberte/EMS/mobilite/5-10/resultats_cts_2023-10-05T00-16-05_thomas.xlsx_base.pickle\"\n",
    ")"
   ]
  },
  {
   "cell_type": "code",
   "execution_count": null,
   "id": "f2d31a90",
   "metadata": {},
   "outputs": [],
   "source": [
    "cst_df = pd.read_pickle(\n",
    "    \"/home/thomas/Nextcloud/CodeursEnLiberte/EMS/mobilite/5-10/resultats_cts_2023-10-05T00-16-05_thomas.xlsx_seuils_equilibre_recettes.pickle\"\n",
    ")"
   ]
  },
  {
   "cell_type": "code",
   "execution_count": null,
   "id": "fc8bd795",
   "metadata": {},
   "outputs": [],
   "source": [
    "cst_df_yc_hand = pd.read_pickle(\n",
    "    \"/home/thomas/Nextcloud/CodeursEnLiberte/EMS/mobilite/5-10/resultats_cts_2023-10-05T00-28-40_thomas.xlsx_!seuils_equilibre_recettes_yc_handicap.pickle\"\n",
    ")"
   ]
  },
  {
   "cell_type": "code",
   "execution_count": null,
   "id": "de15f5ad",
   "metadata": {},
   "outputs": [],
   "source": [
    "nb_df = pd.DataFrame(\n",
    "    {\n",
    "        \"base\": base_df[~base_df.titre_fichier.str.contains(\"PMR\")]\n",
    "        .groupby([\"sample_id\", \"pu_calc\"])\n",
    "        .ajustement_mensuel_num.sum()\n",
    "        .groupby(\"pu_calc\")\n",
    "        .median(),\n",
    "        \"copil\": base_df[~base_df.titre_fichier.str.contains(\"PMR\")]\n",
    "        .groupby([\"sample_id\", \"pu_calc_r\"])\n",
    "        .ajustement_mensuel_num.sum()\n",
    "        .groupby(\"pu_calc_r\")\n",
    "        .median(),\n",
    "        \"cst\": cst_df[~cst_df.titre_fichier.str.contains(\"PMR\")]\n",
    "        .groupby([\"sample_id\", \"pu_calc_r\"])\n",
    "        .ajustement_mensuel_num.sum()\n",
    "        .groupby(\"pu_calc_r\")\n",
    "        .median(),\n",
    "        \"cst_h\": cst_df_yc_hand[~cst_df.titre_fichier.str.contains(\"PMR\")]\n",
    "        .groupby([\"sample_id\", \"pu_calc_r\"])\n",
    "        .ajustement_mensuel_num.sum()\n",
    "        .groupby(\"pu_calc_r\")\n",
    "        .median(),\n",
    "    }\n",
    ")\n",
    "nb_df"
   ]
  },
  {
   "cell_type": "code",
   "execution_count": null,
   "id": "e4477e4f",
   "metadata": {},
   "outputs": [],
   "source": [
    "nb_df.plot.bar()"
   ]
  },
  {
   "cell_type": "code",
   "execution_count": null,
   "id": "b641b404",
   "metadata": {},
   "outputs": [],
   "source": [
    "nb_df.to_excel(\"nb_par_prix.xlsx\")"
   ]
  },
  {
   "cell_type": "code",
   "execution_count": null,
   "id": "a63639db",
   "metadata": {},
   "outputs": [],
   "source": [
    "comm_df = pd.read_pickle(\n",
    "    \"/home/thomas/Nextcloud/CodeursEnLiberte/EMS/mobilite/5-10/resultats_cts_2023-10-05T00-45-24_thomas.xlsx_combinaison_lin_exp.pickle\"\n",
    ")"
   ]
  },
  {
   "cell_type": "code",
   "execution_count": null,
   "id": "b2d227d2",
   "metadata": {},
   "outputs": [],
   "source": [
    "comm_df.groupby([\"sample_id\", \"pu_calc_r\"]).ajustement_mensuel_num.sum().groupby(\n",
    "    \"pu_calc_r\"\n",
    ").median()"
   ]
  },
  {
   "cell_type": "code",
   "execution_count": null,
   "id": "0ecbc5da",
   "metadata": {},
   "outputs": [],
   "source": [
    "import numpy as np"
   ]
  },
  {
   "cell_type": "code",
   "execution_count": null,
   "id": "b6fa9134",
   "metadata": {},
   "outputs": [],
   "source": [
    "determine_prix_avant = lambda x: pd.Series.mode(x).min()\n",
    "move_df = pd.DataFrame(\n",
    "    {\n",
    "        \"prix_avant\": comm_df.groupby(\"individu_id\").pu_calc.agg(determine_prix_avant),\n",
    "        \"prix après\": comm_df.groupby(\"individu_id\").pu_calc_r.median(),\n",
    "    }\n",
    ")"
   ]
  },
  {
   "cell_type": "code",
   "execution_count": null,
   "id": "4b30bd79",
   "metadata": {},
   "outputs": [],
   "source": [
    "c = move_df.prix_avant.round(2).astype(\"category\")\n",
    "move_df[\"prix avant\"] = c.cat.rename_categories(\n",
    "    [round(r, 2) for r in c.dtype.categories.values]\n",
    ")"
   ]
  },
  {
   "cell_type": "code",
   "execution_count": null,
   "id": "31999128",
   "metadata": {},
   "outputs": [],
   "source": [
    "move_df[\"différence\"] = move_df[\"prix après\"] - move_df[\"prix_avant\"]\n",
    "move_df[\"ratio\"] = move_df[\"prix après\"] / move_df[\"prix_avant\"]"
   ]
  },
  {
   "cell_type": "code",
   "execution_count": null,
   "id": "d4e6c191",
   "metadata": {},
   "outputs": [],
   "source": [
    "move_df"
   ]
  },
  {
   "cell_type": "code",
   "execution_count": null,
   "id": "58c90b5e",
   "metadata": {},
   "outputs": [],
   "source": [
    "df_tp = move_df[move_df.prix_avant > 26]"
   ]
  },
  {
   "cell_type": "code",
   "execution_count": null,
   "id": "7737f273",
   "metadata": {},
   "outputs": [],
   "source": [
    "dd = df_tp.groupby([\"prix_avant\", \"prix après\"]).ratio.count()\n",
    "dd"
   ]
  },
  {
   "cell_type": "code",
   "execution_count": null,
   "id": "0e3e1532",
   "metadata": {},
   "outputs": [],
   "source": [
    "dd.name = \"count\""
   ]
  },
  {
   "cell_type": "code",
   "execution_count": null,
   "id": "e886be2d",
   "metadata": {},
   "outputs": [],
   "source": [
    "totaux = dd.groupby(\"prix_avant\").sum()\n",
    "totaux"
   ]
  },
  {
   "cell_type": "code",
   "execution_count": null,
   "id": "80df583b",
   "metadata": {},
   "outputs": [],
   "source": [
    "cible = dd * 1 / 2"
   ]
  },
  {
   "cell_type": "code",
   "execution_count": null,
   "id": "b8d04d77",
   "metadata": {},
   "outputs": [],
   "source": [
    "base = cible.groupby(\"prix_avant\").sum()\n",
    "base"
   ]
  },
  {
   "cell_type": "code",
   "execution_count": null,
   "id": "2a8f1987",
   "metadata": {},
   "outputs": [],
   "source": [
    "comp = totaux - base"
   ]
  },
  {
   "cell_type": "code",
   "execution_count": null,
   "id": "c16740c1",
   "metadata": {},
   "outputs": [],
   "source": [
    "cible.index[0][0]"
   ]
  },
  {
   "cell_type": "code",
   "execution_count": null,
   "id": "7fcb2639",
   "metadata": {},
   "outputs": [],
   "source": [
    "cible.index[-1][0]"
   ]
  },
  {
   "cell_type": "code",
   "execution_count": null,
   "id": "072cfdf4",
   "metadata": {},
   "outputs": [],
   "source": [
    "cible[(cible.index[0][0], cible.index[-1][0])] += comp.iloc[0]"
   ]
  },
  {
   "cell_type": "code",
   "execution_count": null,
   "id": "7c79d4f0",
   "metadata": {},
   "outputs": [],
   "source": [
    "cible[(cible.index[-1][0], cible.index[-1][0])] += comp.iloc[1]"
   ]
  },
  {
   "cell_type": "code",
   "execution_count": null,
   "id": "5a2c402a",
   "metadata": {},
   "outputs": [],
   "source": [
    "assert (cible.groupby(\"prix_avant\").sum() == totaux).all()"
   ]
  },
  {
   "cell_type": "code",
   "execution_count": null,
   "id": "f3b9483b",
   "metadata": {},
   "outputs": [],
   "source": [
    "fcible = cible.reset_index()"
   ]
  },
  {
   "cell_type": "code",
   "execution_count": null,
   "id": "e5da91f5",
   "metadata": {},
   "outputs": [],
   "source": [
    "(fcible[\"prix après\"] * fcible[\"count\"]).sum()"
   ]
  },
  {
   "cell_type": "code",
   "execution_count": null,
   "id": "c57568f5",
   "metadata": {},
   "outputs": [],
   "source": [
    "df_tp[\"prix après\"].sum()"
   ]
  },
  {
   "cell_type": "code",
   "execution_count": null,
   "id": "ebfa061f",
   "metadata": {},
   "outputs": [],
   "source": [
    "(fcible[\"prix après\"] * fcible[\"count\"]).sum() - df_tp[\"prix après\"].sum()"
   ]
  },
  {
   "cell_type": "code",
   "execution_count": null,
   "id": "c7228ef9",
   "metadata": {},
   "outputs": [],
   "source": [
    "cible[(cible.index.levels[0].max(), cible.index.levels[1].max())]"
   ]
  },
  {
   "cell_type": "code",
   "execution_count": null,
   "id": "ef7e7be7",
   "metadata": {},
   "outputs": [],
   "source": [
    "import seaborn"
   ]
  },
  {
   "cell_type": "code",
   "execution_count": null,
   "id": "da0868f9",
   "metadata": {},
   "outputs": [],
   "source": [
    "gp = seaborn.ecdfplot(move_df, stat=\"count\", x=\"prix après\", hue=\"prix avant\")\n",
    "gp.set(xticks=range(0, 52, 5))\n",
    "gp.set(title=\"Répartition des abonnements aux prix actuels vers des nouveaux tarifs\")"
   ]
  },
  {
   "cell_type": "code",
   "execution_count": null,
   "id": "f8c3c667",
   "metadata": {},
   "outputs": [],
   "source": [
    "gd = seaborn.ecdfplot(move_df, x=\"différence\", hue=\"prix avant\", stat=\"count\")\n",
    "gd.axvline(0, c=\"black\", zorder=-1, linestyle=\"--\", linewidth=0.5)\n",
    "gd.set(title=\"Différence entre les nouveaux prix et les prix actuels\")"
   ]
  },
  {
   "cell_type": "code",
   "execution_count": null,
   "id": "a9af6f5e",
   "metadata": {},
   "outputs": [],
   "source": [
    "gr = seaborn.ecdfplot(move_df, x=\"ratio\", hue=\"prix avant\", stat=\"count\")\n",
    "gr.axvline(1, c=\"black\", zorder=-1, linestyle=\"--\", linewidth=0.5)\n",
    "gr.set(title=\"Rapport des nouveaux prix sur les prix actuels\")"
   ]
  },
  {
   "cell_type": "code",
   "execution_count": null,
   "id": "043b3016",
   "metadata": {},
   "outputs": [],
   "source": [
    "gp.figure.savefig(\"1.evol_prix.png\", dpi=300)\n",
    "gd.figure.savefig(\"2.evol_diff.png\", dpi=300)\n",
    "gr.figure.savefig(\"3.evol_ratio.png\", dpi=300)"
   ]
  },
  {
   "cell_type": "code",
   "execution_count": null,
   "id": "11b5a9e7",
   "metadata": {},
   "outputs": [],
   "source": []
  },
  {
   "cell_type": "code",
   "execution_count": null,
   "id": "20bcb867",
   "metadata": {},
   "outputs": [],
   "source": [
    "oc_df = pd.read_csv(\n",
    "    \"/home/thomas/Nextcloud/CodeursEnLiberte/EMS/mobilite/2023-10-04_CTS_QFMES.csv\",\n",
    "    delimiter=\";\",\n",
    "    encoding=\"windows-1250\",\n",
    "    index_col=0,\n",
    "    decimal=\",\",\n",
    "    usecols=[\n",
    "        \"ID\",\n",
    "        \"ColNameK\",\n",
    "        \"COMP_FAM\",\n",
    "        \"DERN_LIB_PRODUIT\",\n",
    "        \"Ville\",\n",
    "        \"QFEMS\",\n",
    "        \"NSERIE\",\n",
    "    ],\n",
    ")"
   ]
  },
  {
   "cell_type": "code",
   "execution_count": null,
   "id": "7b40b14b",
   "metadata": {},
   "outputs": [],
   "source": [
    "oc_df.sort_index()"
   ]
  },
  {
   "cell_type": "code",
   "execution_count": null,
   "id": "1f730c65",
   "metadata": {},
   "outputs": [],
   "source": [
    "s1 = oc_df[oc_df.NSERIE == 1]"
   ]
  },
  {
   "cell_type": "code",
   "execution_count": null,
   "id": "f6d5aa8e",
   "metadata": {},
   "outputs": [],
   "source": [
    "s1.groupby(\"Ville\").COMP_FAM.count().sort_values(ascending=False)[0:5]"
   ]
  },
  {
   "cell_type": "code",
   "execution_count": null,
   "id": "432e9a50",
   "metadata": {},
   "outputs": [],
   "source": [
    "viv = s1[\n",
    "    s1.Ville.isin(\n",
    "        s1.groupby(\"Ville\").COMP_FAM.count().sort_values(ascending=False)[0:10].index\n",
    "    )\n",
    "]"
   ]
  },
  {
   "cell_type": "code",
   "execution_count": null,
   "id": "d5548262",
   "metadata": {},
   "outputs": [],
   "source": [
    "viv.groupby(\"Ville\").QFEMS.describe()"
   ]
  },
  {
   "cell_type": "code",
   "execution_count": null,
   "id": "37d33d91",
   "metadata": {},
   "outputs": [],
   "source": [
    "seaborn.ecdfplot(viv, x=\"QFEMS\", hue=\"Ville\")"
   ]
  },
  {
   "cell_type": "code",
   "execution_count": null,
   "id": "850ad47c",
   "metadata": {},
   "outputs": [],
   "source": [
    "viv.plot.hist(\n",
    "    \"QFEMS\",\n",
    "    alpha=0.5,\n",
    ")"
   ]
  },
  {
   "cell_type": "code",
   "execution_count": null,
   "id": "abf88879",
   "metadata": {},
   "outputs": [],
   "source": [
    "mm = oc_df.groupby(\"ID\").QFEMS.median()"
   ]
  },
  {
   "cell_type": "code",
   "execution_count": null,
   "id": "00dded47",
   "metadata": {},
   "outputs": [],
   "source": [
    "st = pd.DataFrame(\n",
    "    {\n",
    "        \"qf\": mm,\n",
    "        \"titre\": oc_df.groupby(\"ID\").DERN_LIB_PRODUIT.first(),\n",
    "        \"titre\": oc_df.groupby(\"ID\").DERN_LIB_PRODUIT.first(),\n",
    "        \"titre\": oc_df.groupby(\"ID\").DERN_LIB_PRODUIT.first(),\n",
    "    }\n",
    ")"
   ]
  },
  {
   "cell_type": "code",
   "execution_count": null,
   "id": "c99a74a2",
   "metadata": {},
   "outputs": [],
   "source": [
    "st"
   ]
  },
  {
   "cell_type": "code",
   "execution_count": null,
   "id": "bdce24e0",
   "metadata": {},
   "outputs": [],
   "source": []
  },
  {
   "cell_type": "code",
   "execution_count": null,
   "id": "08b94287",
   "metadata": {},
   "outputs": [],
   "source": [
    "mm.plot.hist(bins=50)"
   ]
  },
  {
   "cell_type": "code",
   "execution_count": null,
   "id": "2a01dfeb",
   "metadata": {},
   "outputs": [],
   "source": [
    "seaborn.ecdfplot(mm)"
   ]
  },
  {
   "cell_type": "code",
   "execution_count": null,
   "id": "71dfbaac",
   "metadata": {},
   "outputs": [],
   "source": [
    "import sysa\n",
    "\n",
    "sys.path.append(\"../technique\")\n",
    "from utils import *"
   ]
  },
  {
   "cell_type": "code",
   "execution_count": null,
   "id": "237ee2cb",
   "metadata": {},
   "outputs": [],
   "source": [
    "from scenario import build_reform"
   ]
  },
  {
   "cell_type": "code",
   "execution_count": null,
   "id": "c7add1f4",
   "metadata": {},
   "outputs": [],
   "source": [
    "from openfisca_france import CountryTaxBenefitSystem"
   ]
  },
  {
   "cell_type": "code",
   "execution_count": null,
   "id": "55f7a195",
   "metadata": {},
   "outputs": [],
   "source": [
    "base = CountryTaxBenefitSystem()\n",
    "base.load_extension(\"openfisca_france_local\")"
   ]
  },
  {
   "cell_type": "code",
   "execution_count": null,
   "id": "5980cbc9",
   "metadata": {},
   "outputs": [],
   "source": [
    "import ezodf"
   ]
  },
  {
   "cell_type": "code",
   "execution_count": null,
   "id": "b1fb08c6",
   "metadata": {},
   "outputs": [],
   "source": [
    "input_file = \"/home/thomas/repos/tarification-solidaire-strasbourg/server/files/baremes_cts_2023-10-04T23-23-54_thomas.ods\"\n",
    "doc = ezodf.opendoc(input_file)"
   ]
  },
  {
   "cell_type": "code",
   "execution_count": null,
   "id": "3e491f20",
   "metadata": {},
   "outputs": [],
   "source": [
    "reform = build_reform(base, doc.sheets[\"!seuils_equilibre_recettes\"])"
   ]
  },
  {
   "cell_type": "code",
   "execution_count": null,
   "id": "25e12839",
   "metadata": {},
   "outputs": [],
   "source": [
    "reform.parameters.metropoles.strasbourg.tarification_solidaire.bareme_emeraude"
   ]
  },
  {
   "cell_type": "code",
   "execution_count": null,
   "id": "7b91733c",
   "metadata": {},
   "outputs": [],
   "source": [
    "rdf[rdf.pu_calc_r == 0]"
   ]
  },
  {
   "cell_type": "code",
   "execution_count": null,
   "id": "d8d487ea",
   "metadata": {},
   "outputs": [],
   "source": []
  }
 ],
 "metadata": {
  "kernelspec": {
   "display_name": "Python 3 (ipykernel)",
   "language": "python",
   "name": "python3"
  },
  "language_info": {
   "codemirror_mode": {
    "name": "ipython",
    "version": 3
   },
   "file_extension": ".py",
   "mimetype": "text/x-python",
   "name": "python",
   "nbconvert_exporter": "python",
   "pygments_lexer": "ipython3",
   "version": "3.9.16"
  }
 },
 "nbformat": 4,
 "nbformat_minor": 5
}
