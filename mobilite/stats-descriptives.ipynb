{
 "cells": [
  {
   "cell_type": "code",
   "execution_count": null,
   "id": "465fa80e",
   "metadata": {},
   "outputs": [],
   "source": [
    "import pandas as pd\n",
    "import numpy as np"
   ]
  },
  {
   "cell_type": "code",
   "execution_count": null,
   "id": "e8e6a5b4",
   "metadata": {},
   "outputs": [],
   "source": [
    "df = pd.read_csv(\n",
    "    \"/home/thomas/Nextcloud/CodeursEnLiberte/EMS/mobilite/CTS_ToutABONNES_reduit.csv\",\n",
    "    encoding=\"latin_1\",\n",
    "    sep=\";\",\n",
    ")"
   ]
  },
  {
   "cell_type": "code",
   "execution_count": null,
   "id": "3ea753d0",
   "metadata": {},
   "outputs": [],
   "source": [
    "df"
   ]
  },
  {
   "cell_type": "code",
   "execution_count": null,
   "id": "559eee7f",
   "metadata": {},
   "outputs": [],
   "source": [
    "pt_produit = df.pivot_table(\n",
    "    values=\"NUM\", index=\"DERN_LIB_PRODUIT\", aggfunc=len\n",
    ").sort_values(\"NUM\", ascending=False)\n",
    "pt_produit"
   ]
  },
  {
   "cell_type": "code",
   "execution_count": null,
   "id": "1b1b6815",
   "metadata": {},
   "outputs": [],
   "source": []
  },
  {
   "cell_type": "code",
   "execution_count": null,
   "id": "8b98900d",
   "metadata": {},
   "outputs": [],
   "source": [
    "pt_produit.to_excel(\n",
    "    \"/home/thomas/Nextcloud/CodeursEnLiberte/EMS/mobilite/produits.xlsx\"\n",
    ")"
   ]
  },
  {
   "cell_type": "code",
   "execution_count": null,
   "id": "248f39fc",
   "metadata": {},
   "outputs": [],
   "source": [
    "pt_produit.shape"
   ]
  },
  {
   "cell_type": "code",
   "execution_count": null,
   "id": "0a96a567",
   "metadata": {},
   "outputs": [],
   "source": [
    "pt_localite = df.pivot_table(values=\"NUM\", index=\"LOCALITE\", aggfunc=len).sort_values(\n",
    "    \"NUM\", ascending=False\n",
    ")\n",
    "pt_localite"
   ]
  },
  {
   "cell_type": "code",
   "execution_count": null,
   "id": "0326be37",
   "metadata": {},
   "outputs": [],
   "source": [
    "with pd.option_context(\"display.max_rows\", None):\n",
    "    display(pt_localite)"
   ]
  },
  {
   "cell_type": "code",
   "execution_count": null,
   "id": "20d36b7c",
   "metadata": {},
   "outputs": [],
   "source": [
    "df[\"base QF\"] = df.DERN_LIB_PRODUIT.str.contains(\"QF\")"
   ]
  },
  {
   "cell_type": "code",
   "execution_count": null,
   "id": "6fe193ae",
   "metadata": {},
   "outputs": [],
   "source": [
    "df[\"gratuit\"] = df.DERN_LIB_PRODUIT.str.contains(\"gratuit\")"
   ]
  },
  {
   "cell_type": "code",
   "execution_count": null,
   "id": "14091526",
   "metadata": {},
   "outputs": [],
   "source": [
    "df[\"EMERAUDE\"] = df.DERN_LIB_PRODUIT.str.contains(\"EMERAUDE\")"
   ]
  },
  {
   "cell_type": "code",
   "execution_count": null,
   "id": "a22a81f3",
   "metadata": {},
   "outputs": [],
   "source": [
    "df.pivot_table(values=\"NUM\", index=[\"base QF\", \"gratuit\", \"EMERAUDE\"], aggfunc=len)"
   ]
  }
 ],
 "metadata": {
  "kernelspec": {
   "display_name": "Python 3 (ipykernel)",
   "language": "python",
   "name": "python3"
  },
  "language_info": {
   "codemirror_mode": {
    "name": "ipython",
    "version": 3
   },
   "file_extension": ".py",
   "mimetype": "text/x-python",
   "name": "python",
   "nbconvert_exporter": "python",
   "pygments_lexer": "ipython3",
   "version": "3.9.16"
  }
 },
 "nbformat": 4,
 "nbformat_minor": 5
}
