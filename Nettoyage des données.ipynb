{
 "cells": [
  {
   "cell_type": "code",
   "execution_count": null,
   "id": "975c89d9",
   "metadata": {},
   "outputs": [],
   "source": [
    "1"
   ]
  },
  {
   "cell_type": "code",
   "execution_count": null,
   "id": "8462d957",
   "metadata": {},
   "outputs": [],
   "source": [
    "from dotenv import load_dotenv\n",
    "\n",
    "load_dotenv()\n",
    "import os\n",
    "import sys\n",
    "\n",
    "sys.path.append(\"../technique\")\n",
    "import pandas as pd\n",
    "import numpy as np"
   ]
  },
  {
   "cell_type": "markdown",
   "id": "c0ddf8f5",
   "metadata": {},
   "source": [
    "# CCS"
   ]
  },
  {
   "cell_type": "markdown",
   "id": "0d4a297a",
   "metadata": {},
   "source": [
    "## Base"
   ]
  },
  {
   "cell_type": "code",
   "execution_count": null,
   "id": "8658cabd",
   "metadata": {},
   "outputs": [],
   "source": [
    "raw_df = pd.read_csv(\n",
    "    f\"{os.getenv('DATA_FOLDER')}culture/CCS_ELEVES_FULL.csv\",\n",
    "    delimiter=\";\",\n",
    "    encoding=\"windows-1250\",\n",
    "    index_col=0,\n",
    "    decimal=\",\",\n",
    ")\n",
    "version = 2\n",
    "raw_df = pd.read_excel(\n",
    "    f\"{os.getenv('DATA_FOLDER')}culture/ccs/Données Tarification solidaire Eléments familles Saison 2022-2023 simulation.xlsx\",\n",
    "    sheet_name=\"DuoNET-Export_Familles_25_09_20\",\n",
    ")\n",
    "version = 3"
   ]
  },
  {
   "cell_type": "code",
   "execution_count": null,
   "id": "1443d386",
   "metadata": {},
   "outputs": [],
   "source": [
    "insee_df = pd.read_csv(\n",
    "    f\"{os.getenv('DATA_FOLDER')}culture/ccs/2023-10-10_CCS_QFMES.csv\",\n",
    "    delimiter=\";\",\n",
    "    encoding=\"windows-1250\",\n",
    "    index_col=0,\n",
    "    decimal=\",\",\n",
    ")\n",
    "version = 4"
   ]
  },
  {
   "cell_type": "code",
   "execution_count": null,
   "id": "ad356669",
   "metadata": {},
   "outputs": [],
   "source": [
    "comp_df = pd.DataFrame(\n",
    "    {\n",
    "        \"caf\": raw_df.groupby(\"LABEL\")[\"Montant.facturé\"].count(),\n",
    "        \"insee\": (insee_df.groupby(\"LABEL\")[\"Montant.facturé\"].count() * 0.1),\n",
    "    }\n",
    ")\n",
    "comp_df[\"bug\"] = comp_df.insee > comp_df.caf"
   ]
  },
  {
   "cell_type": "code",
   "execution_count": null,
   "id": "5a8fde9a",
   "metadata": {},
   "outputs": [],
   "source": [
    "comp_df[comp_df.bug]"
   ]
  },
  {
   "cell_type": "code",
   "execution_count": null,
   "id": "5ee7ae6a",
   "metadata": {},
   "outputs": [],
   "source": [
    "raw_df[[\"Montant.facturé\", \"LABEL\"]].to_pickle(\n",
    "    f\"{os.getenv('DATA_FOLDER')}minimales/CCS_ELEVES_anon_base_v{version}.pickle\"\n",
    ")"
   ]
  },
  {
   "cell_type": "code",
   "execution_count": null,
   "id": "383c5322",
   "metadata": {},
   "outputs": [],
   "source": [
    "insee_df.rename(columns={\"SERIE\": \"sample_id\"})[\n",
    "    [\"Montant.facturé\", \"LABEL\", \"sample_id\", \"QFEMS\"]].to_pickle(\n",
    "    f\"{os.getenv('DATA_FOLDER')}minimales/CCS_ELEVES_anon_insee_v{version}.pickle\"\n",
    ")"
   ]
  },
  {
   "cell_type": "markdown",
   "id": "baa1e5a5",
   "metadata": {},
   "source": [
    "# CRR"
   ]
  },
  {
   "cell_type": "code",
   "execution_count": null,
   "id": "389c294c",
   "metadata": {},
   "outputs": [],
   "source": [
    "filename = \"Copie de Copie de Elèves 2022-23 - dominantes + montant facturé + tranche HA v2.xlsx\"\n",
    "version = 1\n",
    "filename = \"Copie de Copie de Copie de Elèves 2022-23 - dominantes + montant facturé + tranche HA.xlsx\"\n",
    "version = 2\n",
    "filename = \"0925 Elèves 2022-23 - dominantes + montant facturé + tranche HA.xlsx\"\n",
    "version = 3\n",
    "filename = (\n",
    "    \"Copie de 0925 Elèves 2022-23 - dominantes + montant facturé + tranche HA.xlsx\"\n",
    ")\n",
    "version = 4\n",
    "version = 5\n",
    "df_cours_crr_base = pd.read_excel(\n",
    "    f\"{os.getenv('DATA_FOLDER')}culture/Conservatoire/{filename}\"\n",
    ")\n",
    "\n",
    "source = \"base\""
   ]
  },
  {
   "cell_type": "code",
   "execution_count": null,
   "id": "e0735024",
   "metadata": {},
   "outputs": [],
   "source": [
    "df_cours_crr_base['ID'] = df_cours_crr_base.index.values\n",
    "df_cours_crr_base.rename(columns={\"habitant EMS\":\"habitant.EMS\"}, inplace=True)"
   ]
  },
  {
   "cell_type": "markdown",
   "id": "2fbb61ac",
   "metadata": {},
   "source": [
    "## INSEE"
   ]
  },
  {
   "cell_type": "code",
   "execution_count": null,
   "id": "1977f950",
   "metadata": {},
   "outputs": [],
   "source": [
    "df_crr_bourses_raw = pd.read_excel(\n",
    "    f\"{os.getenv('DATA_FOLDER')}culture/Conservatoire/PV commission d'attribution bourses 2022-23.xlsx\",\n",
    "    skiprows=1,\n",
    ")\n",
    "df_crr_bourses_raw_subset = df_crr_bourses_raw[\n",
    "    (~df_crr_bourses_raw.NIVEAU.isna())\n",
    "    * (~df_crr_bourses_raw[\"Montant Bourses 2022/2023\"].isna())\n",
    "]\n",
    "assert (\n",
    "    df_crr_bourses_raw_subset.merge(\n",
    "        df_crr_bourses_raw_subset, on=[\"NOM\", \"PRENOM\"]\n",
    "    ).shape[0]\n",
    "    == df_crr_bourses_raw_subset.shape[0]\n",
    ")\n",
    "\n",
    "def build(df_cours_crr, source=\"base\"):\n",
    "    raw_columns = [\n",
    "            \"index\",\n",
    "            \"NOM\",\n",
    "            \"PRENOM\",\n",
    "            \"N°\",\n",
    "            \"MontantFactureSurEleve\",\n",
    "            \"Montant Bourses 2022/2023\",\n",
    "        ]\n",
    "    \n",
    "    if source == \"insee\":\n",
    "        raw_columns.insert(0, \"sample_id\")\n",
    "    bourse_data = df_cours_crr.merge(\n",
    "        df_crr_bourses_raw_subset,\n",
    "        how=\"right\",\n",
    "        left_on=[\"Nom\", \"Prenom\"],\n",
    "        right_on=[\"NOM\", \"PRENOM\"],\n",
    "    )[raw_columns].rename(\n",
    "        columns={\n",
    "            \"MontantFactureSurEleve\": \"Tarif\",\n",
    "            \"Montant Bourses 2022/2023\": \"Bourse\",\n",
    "            \"NOM\": \"Nom\",\n",
    "            \"PRENOM\": \"Prenom\",\n",
    "        }\n",
    "    )\n",
    "    \n",
    "    if source == \"insee\":\n",
    "        sample_count = 10\n",
    "        assert (bourse_data[bourse_data.Tarif.isna()]['N°'] == [64]).all()\n",
    "    else:\n",
    "        sample_count = 1\n",
    "        assert bourse_data[bourse_data.Tarif.isna()].shape[0] == 0\n",
    "    bourse_rows = bourse_data.groupby(\"N°\").first()\n",
    "    bourse_rows[\"TotalPayé\"] = bourse_data.groupby(\"N°\").Tarif.sum() / sample_count\n",
    "    bourses = bourse_data.merge(\n",
    "        bourse_rows[[\"Nom\", \"Prenom\", \"TotalPayé\"]], on=[\"Nom\", \"Prenom\"]\n",
    "    )\n",
    "    bourses[\"Proportion\"] = bourses.Tarif / bourses.TotalPayé\n",
    "    bourses[\"strasbourg_conservatoire_bourse_historique\"] = (\n",
    "        bourses.Proportion * bourses.Bourse\n",
    "    )\n",
    "\n",
    "    if source == \"insee\":\n",
    "        assert (\n",
    "            bourses.groupby(\"index\").strasbourg_conservatoire_bourse_historique.count().max()\n",
    "            == sample_count\n",
    "        )\n",
    "\n",
    "    columns = [\n",
    "        \"index\",\n",
    "        \"MontantFactureSurEleve\",\n",
    "        \"service\",\n",
    "        \"Cycle.1\",\n",
    "        \"agent\",\n",
    "        \"Tranche\",\n",
    "        \"habitant.EMS\",\n",
    "    ]\n",
    "    \n",
    "    base_columns = [\"index\", \"strasbourg_conservatoire_bourse_historique\"]\n",
    "    join_columns = ['index']\n",
    "    if source == \"insee\":\n",
    "        columns.append(\"sample_id\")\n",
    "        columns.append(\"QFEMS\")\n",
    "        base_columns.insert(0, \"sample_id\")\n",
    "        join_columns.insert(0, \"sample_id\")\n",
    "\n",
    "    df_crr = df_cours_crr[columns].merge(\n",
    "        bourses[base_columns],\n",
    "        on=join_columns,\n",
    "        how=\"left\",\n",
    "    )\n",
    "    df_crr.strasbourg_conservatoire_bourse_historique.fillna(0, inplace=True)\n",
    "    df_crr.strasbourg_conservatoire_bourse_historique.sum()\n",
    "    if source == \"insee\":\n",
    "        assert (\n",
    "            df_crr.groupby(\"sample_id\").strasbourg_conservatoire_bourse_historique.sum()\n",
    "            == 14800\n",
    "        ).all()\n",
    "    else:\n",
    "        assert (\n",
    "            df_crr.strasbourg_conservatoire_bourse_historique.sum()\n",
    "            == 15000\n",
    "        ).all()\n",
    "\n",
    "    return df_crr"
   ]
  },
  {
   "cell_type": "code",
   "execution_count": null,
   "id": "b0490b37",
   "metadata": {},
   "outputs": [],
   "source": [
    "version = 6"
   ]
  },
  {
   "cell_type": "code",
   "execution_count": null,
   "id": "f97405c5",
   "metadata": {},
   "outputs": [],
   "source": [
    "crr_base = build(df_cours_crr_base)\n",
    "crr_base.to_excel(\n",
    "    f\"{os.getenv('DATA_FOLDER')}minimales/conservatoire_{source}_v{version}.xlsx\",\n",
    "    index=False,\n",
    ")"
   ]
  },
  {
   "cell_type": "code",
   "execution_count": null,
   "id": "dff84810",
   "metadata": {},
   "outputs": [],
   "source": [
    "insee_df = pd.read_csv(\n",
    "    f\"{os.getenv('DATA_FOLDER')}culture/Conservatoire/2023-10-10_CRR_QFMES.csv\",\n",
    "    delimiter=\";\",\n",
    "    encoding=\"windows-1250\",\n",
    "    index_col=0,\n",
    "    decimal=\",\",\n",
    ")\n",
    "source = \"insee\"\n",
    "insee_df.rename(columns={\"SERIE\": \"sample_id\"}, inplace=True)"
   ]
  },
  {
   "cell_type": "code",
   "execution_count": null,
   "id": "c2fe7849",
   "metadata": {},
   "outputs": [],
   "source": [
    "sample_count = (insee_df.ID == insee_df.ID.iloc[0]).sum()\n",
    "count = len(insee_df) / sample_count\n",
    "insee_df[\"sample_id\"] = np.repeat(list(range(sample_count)), count)"
   ]
  },
  {
   "cell_type": "code",
   "execution_count": null,
   "id": "8e51b4ee",
   "metadata": {},
   "outputs": [],
   "source": [
    "crr_insee = build(insee_df, \"insee\")\n",
    "crr_insee.to_excel(\n",
    "    f\"{os.getenv('DATA_FOLDER')}minimales/conservatoire_{source}_v{version}.xlsx\",\n",
    "    index=False,\n",
    ")"
   ]
  }
 ],
 "metadata": {
  "kernelspec": {
   "display_name": "Python 3 (ipykernel)",
   "language": "python",
   "name": "python3"
  },
  "language_info": {
   "codemirror_mode": {
    "name": "ipython",
    "version": 3
   },
   "file_extension": ".py",
   "mimetype": "text/x-python",
   "name": "python",
   "nbconvert_exporter": "python",
   "pygments_lexer": "ipython3",
   "version": "3.9.16"
  }
 },
 "nbformat": 4,
 "nbformat_minor": 5
}
