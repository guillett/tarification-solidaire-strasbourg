{
 "cells": [
  {
   "cell_type": "code",
   "execution_count": null,
   "id": "975c89d9",
   "metadata": {},
   "outputs": [],
   "source": [
    "1"
   ]
  },
  {
   "cell_type": "code",
   "execution_count": null,
   "id": "8462d957",
   "metadata": {},
   "outputs": [],
   "source": [
    "from dotenv import load_dotenv\n",
    "\n",
    "load_dotenv()\n",
    "import os\n",
    "import sys\n",
    "\n",
    "sys.path.append(\"../technique\")\n",
    "import pandas as pd\n",
    "import numpy as np"
   ]
  },
  {
   "cell_type": "code",
   "execution_count": null,
   "id": "389c294c",
   "metadata": {},
   "outputs": [],
   "source": [
    "df_cours_crr = pd.read_excel(\n",
    "    f\"{os.getenv('DATA_FOLDER')}culture/Conservatoire/Copie de Copie de Elèves 2022-23 - dominantes + montant facturé + tranche HA v2.xlsx\"\n",
    ")"
   ]
  },
  {
   "cell_type": "code",
   "execution_count": null,
   "id": "ecd0f094",
   "metadata": {},
   "outputs": [],
   "source": [
    "columns = [\n",
    "    \"index\",\n",
    "    \"MontantFactureSurEleve\",\n",
    "    \"produit\",\n",
    "    \"Cycle.1\",\n",
    "    \"agent\",\n",
    "    \"habitant EMS\",\n",
    "    \"Tranche\",\n",
    "]"
   ]
  },
  {
   "cell_type": "code",
   "execution_count": null,
   "id": "a68ba170",
   "metadata": {},
   "outputs": [],
   "source": [
    "df_crr_bourses_raw = pd.read_excel(\n",
    "    f\"{os.getenv('DATA_FOLDER')}culture/Conservatoire/PV commission d'attribution bourses 2022-23.xlsx\",\n",
    "    skiprows=1,\n",
    ")"
   ]
  },
  {
   "cell_type": "code",
   "execution_count": null,
   "id": "2fd74c28",
   "metadata": {},
   "outputs": [],
   "source": [
    "df_crr_bourses_raw_subset = df_crr_bourses_raw[\n",
    "    (~df_crr_bourses_raw.NIVEAU.isna())\n",
    "    * (~df_crr_bourses_raw[\"Montant Bourses 2022/2023\"].isna())\n",
    "]\n",
    "df_crr_bourses = pd.DataFrame(\n",
    "    {\n",
    "        \"index\": df_crr_bourses_raw_subset[\"N°\"] + 10000,\n",
    "        \"MontantFactureSurEleve\": -df_crr_bourses_raw_subset[\n",
    "            \"Montant Bourses 2022/2023\"\n",
    "        ],\n",
    "        \"produit\": \"bourse\",\n",
    "        \"Cycle.1\": 0,\n",
    "        \"agent\": 0,\n",
    "        \"habitant EMS\": 1,\n",
    "        \"Tranche\": np.nan,\n",
    "        \"qf\": df_crr_bourses_raw_subset[\"QUOTIENT FAMILIAL\"],\n",
    "    }\n",
    ")"
   ]
  },
  {
   "cell_type": "code",
   "execution_count": null,
   "id": "90325ffe",
   "metadata": {},
   "outputs": [],
   "source": [
    "assert df_crr_bourses.MontantFactureSurEleve.sum() == -15000"
   ]
  },
  {
   "cell_type": "code",
   "execution_count": null,
   "id": "93af816f",
   "metadata": {},
   "outputs": [],
   "source": [
    "df_crr = pd.concat([df_cours_crr[columns], df_crr_bourses])"
   ]
  },
  {
   "cell_type": "code",
   "execution_count": null,
   "id": "25cdd689",
   "metadata": {},
   "outputs": [],
   "source": [
    "df_crr.qf.fillna(10000, inplace=True)"
   ]
  },
  {
   "cell_type": "code",
   "execution_count": null,
   "id": "260b53ef",
   "metadata": {},
   "outputs": [],
   "source": [
    "df_crr.to_excel(f\"{os.getenv('DATA_FOLDER')}minimales/conservatoire.xlsx\", index=False)"
   ]
  }
 ],
 "metadata": {
  "kernelspec": {
   "display_name": "Python 3 (ipykernel)",
   "language": "python",
   "name": "python3"
  },
  "language_info": {
   "codemirror_mode": {
    "name": "ipython",
    "version": 3
   },
   "file_extension": ".py",
   "mimetype": "text/x-python",
   "name": "python",
   "nbconvert_exporter": "python",
   "pygments_lexer": "ipython3",
   "version": "3.9.16"
  }
 },
 "nbformat": 4,
 "nbformat_minor": 5
}
