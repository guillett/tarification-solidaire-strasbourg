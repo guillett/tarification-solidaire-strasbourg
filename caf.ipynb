{
 "cells": [
  {
   "cell_type": "markdown",
   "id": "6a730232",
   "metadata": {},
   "source": [
    "# Statistiques descriptives des données CAF/EMS"
   ]
  },
  {
   "cell_type": "code",
   "execution_count": null,
   "id": "5dd63f16",
   "metadata": {
    "tags": [
     "hide-input"
    ]
   },
   "outputs": [],
   "source": [
    "import pandas as pd\n",
    "import numpy as np"
   ]
  },
  {
   "cell_type": "code",
   "execution_count": null,
   "id": "da54916c",
   "metadata": {},
   "outputs": [],
   "source": [
    "df_stbg = pd.read_excel(\n",
    "    \"/home/thomas/Nextcloud/CodeursEnLiberte/EMS/données caf/CALCUL_STBG_anonymisé_V2.xlsx\"\n",
    ")\n",
    "df_ems = pd.read_excel(\n",
    "    \"/home/thomas/Nextcloud/CodeursEnLiberte/EMS/données caf/CALCUL_EMS_anonymisé_V2.xlsx\"\n",
    ")\n",
    "df = pd.concat([df_stbg, df_ems])"
   ]
  },
  {
   "cell_type": "code",
   "execution_count": null,
   "id": "254ef26b",
   "metadata": {},
   "outputs": [],
   "source": [
    "pd.options.display.float_format = lambda v: \"{:_.4f}\".format(v).replace(\"_\", \" \")"
   ]
  },
  {
   "cell_type": "code",
   "execution_count": null,
   "id": "cb9462f3",
   "metadata": {},
   "outputs": [],
   "source": [
    "(df_stbg.shape, df_ems.shape)"
   ]
  },
  {
   "cell_type": "code",
   "execution_count": null,
   "id": "29315252",
   "metadata": {
    "tags": [
     "hide-input"
    ]
   },
   "outputs": [],
   "source": [
    "percentiles = [0.01, 0.1, 0.25, 0.5, 0.75, 0.9, 0.99]"
   ]
  },
  {
   "cell_type": "code",
   "execution_count": null,
   "id": "c80ba7b1",
   "metadata": {},
   "outputs": [],
   "source": [
    "df.describe(percentiles=percentiles)"
   ]
  },
  {
   "cell_type": "code",
   "execution_count": null,
   "id": "3c09e8eb",
   "metadata": {},
   "outputs": [],
   "source": [
    "(df[\"QFEMS\"] > 820).sum() / df.shape[0]"
   ]
  },
  {
   "cell_type": "code",
   "execution_count": null,
   "id": "7151f09b",
   "metadata": {},
   "outputs": [],
   "source": [
    "(df[\"MONTANT QF CNAF\"] > 820).sum() / df.shape[0]"
   ]
  },
  {
   "cell_type": "code",
   "execution_count": null,
   "id": "113ed74f",
   "metadata": {},
   "outputs": [],
   "source": [
    "0.35904097846355065 / 0.2969237431179688"
   ]
  },
  {
   "cell_type": "code",
   "execution_count": null,
   "id": "918f4e1b",
   "metadata": {},
   "outputs": [],
   "source": [
    "ddf = df.groupby(\"SITUATION FAMILIALE\").describe(percentiles=percentiles).transpose()\n",
    "ddf"
   ]
  },
  {
   "cell_type": "code",
   "execution_count": null,
   "id": "102bc7ed",
   "metadata": {},
   "outputs": [],
   "source": [
    "(df == 0).sum() / (df == 0).count()"
   ]
  },
  {
   "cell_type": "code",
   "execution_count": null,
   "id": "c3628ae4",
   "metadata": {},
   "outputs": [],
   "source": [
    "import seaborn"
   ]
  },
  {
   "cell_type": "code",
   "execution_count": null,
   "id": "e91e4ea9",
   "metadata": {},
   "outputs": [],
   "source": [
    "l = 2500\n",
    "df[\"MONTANT QF CNAF C\"] = np.minimum(df[\"MONTANT QF CNAF\"], l)\n",
    "df[\"QFEMS C\"] = np.minimum(df[\"QFEMS\"], l)\n",
    "seaborn.scatterplot(\n",
    "    df[(df[\"QFEMS C\"] != 0) * ~((df[\"QFEMS C\"] == l) * (df[\"MONTANT QF CNAF C\"] == l))],\n",
    "    x=\"MONTANT QF CNAF C\",\n",
    "    y=\"QFEMS C\",\n",
    "    hue=\"SITUATION FAMILIALE\",\n",
    "    s=1,\n",
    "    alpha=0.1,\n",
    ").set(xlim=[0, l], ylim=[0, l])"
   ]
  },
  {
   "cell_type": "code",
   "execution_count": null,
   "id": "397d3168",
   "metadata": {},
   "outputs": [],
   "source": [
    "l = 4000\n",
    "df[\"MONTANT QF CNAF C\"] = np.minimum(df[\"MONTANT QF CNAF\"], l)\n",
    "df[\"QFEMS C\"] = np.minimum(df[\"QFEMS\"], l)\n",
    "\n",
    "for g, gdf in df[\n",
    "    (df[\"QFEMS C\"] != 0) * (df[\"QFEMS C\"] < l) * (df[\"MONTANT QF CNAF C\"] < l)\n",
    "].groupby(\"SITUATION FAMILIALE\"):\n",
    "    display(g)\n",
    "    display(gdf.describe())\n",
    "    p = seaborn.jointplot(\n",
    "        gdf,\n",
    "        x=\"MONTANT QF CNAF C\",\n",
    "        y=\"QFEMS C\",\n",
    "        kind=\"hist\",\n",
    "        xlim=[0, l],\n",
    "        ylim=[0, l],\n",
    "        bins=50,\n",
    "    )\n",
    "    p.fig.suptitle(g)"
   ]
  },
  {
   "cell_type": "code",
   "execution_count": null,
   "id": "2f7a4ec5",
   "metadata": {},
   "outputs": [],
   "source": [
    "l = 1000\n",
    "df[\"MONTANT QF CNAF C\"] = np.minimum(df[\"MONTANT QF CNAF\"], l)\n",
    "df[\"QFEMS C\"] = np.minimum(df[\"QFEMS\"], l)\n",
    "p = seaborn.jointplot(\n",
    "    df[(df[\"QFEMS C\"] != 0) * ~((df[\"QFEMS C\"] == l) * (df[\"MONTANT QF CNAF C\"] == l))],\n",
    "    x=\"MONTANT QF CNAF C\",\n",
    "    y=\"QFEMS C\",\n",
    "    kind=\"hist\",\n",
    "    xlim=[0, l],\n",
    "    ylim=[0, l],\n",
    ")  # .set(title=\"ok\")\n",
    "p"
   ]
  },
  {
   "cell_type": "code",
   "execution_count": null,
   "id": "927a4abf",
   "metadata": {},
   "outputs": [],
   "source": [
    "l = 1000\n",
    "seaborn.jointplot(\n",
    "    df[(df[\"MONTANT QF CNAF\"] < l) * (df[\"QFEMS\"] < l) * (df[\"QFEMS\"] != 0)],\n",
    "    x=\"MONTANT QF CNAF\",\n",
    "    y=\"QFEMS\",\n",
    "    kind=\"hist\",\n",
    "    xlim=[0, l],\n",
    "    ylim=[0, l],\n",
    ")"
   ]
  },
  {
   "cell_type": "code",
   "execution_count": null,
   "id": "ace6cd70",
   "metadata": {},
   "outputs": [],
   "source": [
    "import seaborn\n",
    "\n",
    "seaborn.ecdfplot(df).set(title=\"Distribution cumulatives des QF\", xlim=[0, 4000])"
   ]
  },
  {
   "cell_type": "markdown",
   "id": "e0d10149",
   "metadata": {},
   "source": [
    "## QF EMS nuls"
   ]
  },
  {
   "cell_type": "code",
   "execution_count": null,
   "id": "dbc076fe",
   "metadata": {},
   "outputs": [],
   "source": [
    "df[\"MONTANT QF CNAF\"][df[\"QFEMS\"] == 0].describe(percentiles=percentiles)"
   ]
  },
  {
   "cell_type": "code",
   "execution_count": null,
   "id": "66d5b4a9",
   "metadata": {},
   "outputs": [],
   "source": [
    "df[\"MONTANT QF CNAF\"][df[\"QFEMS\"] == 248].plot.hist(\n",
    "    bins=10, title=\"Distribution des QF CAF pour les QF EMS nuls\"\n",
    ")"
   ]
  },
  {
   "cell_type": "code",
   "execution_count": null,
   "id": "a857e243",
   "metadata": {},
   "outputs": [],
   "source": [
    "c = df[\"QFEMS\"] == 0\n",
    "df[\"MONTANT QF CNAF\"][c].plot.hist(\n",
    "    bins=50, title=\"Distribution des QF CAF pour les QF EMS nuls\"\n",
    ")"
   ]
  },
  {
   "cell_type": "code",
   "execution_count": null,
   "id": "59fdc4cb",
   "metadata": {},
   "outputs": [],
   "source": [
    "seaborn.ecdfplot(df[\"MONTANT QF CNAF\"][c]).set(xlim=[0, 800])"
   ]
  },
  {
   "cell_type": "code",
   "execution_count": null,
   "id": "4ce5bd4a",
   "metadata": {},
   "outputs": [],
   "source": [
    "l = 0.002\n",
    "v = 271\n",
    "c = ((df[\"MONTANT QF CNAF\"] - v) / v).abs() <= l"
   ]
  },
  {
   "cell_type": "code",
   "execution_count": null,
   "id": "c7956174",
   "metadata": {},
   "outputs": [],
   "source": [
    "df[\"QFEMS\"][c].sort_values()  #'QFEMSE ESTIME')"
   ]
  },
  {
   "cell_type": "code",
   "execution_count": null,
   "id": "cf928d2f",
   "metadata": {},
   "outputs": [],
   "source": [
    "df[\"QFEMS\"][c].plot.hist(bins=10, title=\"Distribution des QF CAF pour les QF EMS nuls\")"
   ]
  },
  {
   "cell_type": "code",
   "execution_count": null,
   "id": "820fd487",
   "metadata": {},
   "outputs": [],
   "source": [
    "seaborn.ecdfplot(df[\"QFEMS\"][c]).set(xlim=[0, 800])"
   ]
  },
  {
   "cell_type": "markdown",
   "id": "537b0a7b",
   "metadata": {},
   "source": [
    "## Lien QF CAF / QF EMS"
   ]
  },
  {
   "cell_type": "code",
   "execution_count": null,
   "id": "b510474c",
   "metadata": {},
   "outputs": [],
   "source": [
    "lims = [0, 4000]\n",
    "df.plot.scatter(\n",
    "    x=\"MONTANT QF CNAF\",\n",
    "    y=\"QFEMS\",\n",
    "    xlim=lims,\n",
    "    ylim=lims,\n",
    "    s=0.05,\n",
    "    title=\"QFEMS = f(QF CAF)\",\n",
    ")"
   ]
  },
  {
   "cell_type": "markdown",
   "id": "93fe57aa",
   "metadata": {},
   "source": [
    "La diagonale (0,0) (4000, 4000) sépare les personnes dont le QF EMS est supérieur au CAF CAF (au dessus) et celles dont le QF EMS est inférieur (en dessous).\n",
    "\n",
    "Les pentes qui apparaissent correspondent au rapport entre le nombre de parts CAF et celui du fisc. En effet, on peut dire\n",
    "QF CAF = (R(essources) + P(restations))/ NbPartsCAF\n",
    "QF EMS = R / NbPartsFiscales\n",
    "QF EMS = QF CAF * (NbPartsCAF / NbPartsFiscales) - P / NbPartsFiscales\n",
    "\n",
    "Pour une personne isolée, on a une pente de 2 (2/1) et pour une personne avec enfant 2,5/1,5 = 1,66."
   ]
  },
  {
   "cell_type": "markdown",
   "id": "9384ebe8",
   "metadata": {},
   "source": [
    "## Déplacement / modification des QF"
   ]
  },
  {
   "cell_type": "code",
   "execution_count": null,
   "id": "4fa740a4",
   "metadata": {},
   "outputs": [],
   "source": [
    "ratio = df[\"QFEMS\"] / df[\"MONTANT QF CNAF\"]"
   ]
  },
  {
   "cell_type": "code",
   "execution_count": null,
   "id": "20aa885c",
   "metadata": {},
   "outputs": [],
   "source": [
    "ratio.describe(percentiles=percentiles)"
   ]
  },
  {
   "cell_type": "code",
   "execution_count": null,
   "id": "9a781770",
   "metadata": {},
   "outputs": [],
   "source": [
    "ratio[(ratio != 0) * (ratio < 4)].plot.hist(\n",
    "    bins=50, title=\"Distribution du rapport QFEMS/QFCAF (hors QFEMS nuls)\"\n",
    ")"
   ]
  },
  {
   "cell_type": "code",
   "execution_count": null,
   "id": "b0a5680d",
   "metadata": {},
   "outputs": [],
   "source": [
    "seaborn.ecdfplot(ratio).set(xlim=[0, 4])"
   ]
  },
  {
   "cell_type": "code",
   "execution_count": null,
   "id": "82546e33",
   "metadata": {},
   "outputs": [],
   "source": [
    "diff = df[\"QFEMS\"] - df[\"MONTANT QF CNAF\"]"
   ]
  },
  {
   "cell_type": "code",
   "execution_count": null,
   "id": "dfa57d96",
   "metadata": {},
   "outputs": [],
   "source": [
    "diff.describe(percentiles=percentiles)"
   ]
  },
  {
   "cell_type": "code",
   "execution_count": null,
   "id": "3437803c",
   "metadata": {},
   "outputs": [],
   "source": [
    "diff[(-1000 < diff) * (diff < 1000)].plot.hist(\n",
    "    bins=200, title=\"Distribution de la différence QFEMS-QFCAF\"\n",
    ")"
   ]
  },
  {
   "cell_type": "code",
   "execution_count": null,
   "id": "49778c6b",
   "metadata": {},
   "outputs": [],
   "source": [
    "seaborn.ecdfplot(diff).set(xlim=[-1000, 1000])"
   ]
  },
  {
   "cell_type": "code",
   "execution_count": null,
   "id": "6ef43180",
   "metadata": {},
   "outputs": [],
   "source": [
    "dest = df.rename(\n",
    "    columns={\n",
    "        \"MONTANT QF CNAF\": \"CAF\",\n",
    "        \"QFEMS ESTIME\": \"EMS\",\n",
    "        \"QFEMS\": \"EMS\",\n",
    "        \"SITUATION FAMILIALE\": \"TYPOLOGIE\",\n",
    "    }\n",
    ").drop(columns=[\"MONTANT QF CNAF C\", \"QFEMS C\"])"
   ]
  },
  {
   "cell_type": "code",
   "execution_count": null,
   "id": "10fa30bf",
   "metadata": {},
   "outputs": [],
   "source": [
    "dest.CAF = dest.CAF.round().astype(\"int64\")\n",
    "dest.EMS = dest.EMS.round().astype(\"int64\")"
   ]
  },
  {
   "cell_type": "code",
   "execution_count": null,
   "id": "af5b8b75",
   "metadata": {},
   "outputs": [],
   "source": [
    "dest"
   ]
  },
  {
   "cell_type": "code",
   "execution_count": null,
   "id": "413472ab",
   "metadata": {},
   "outputs": [],
   "source": [
    "# dest.to_pickle('mapping_qf_caf_ems.pickle')\n",
    "# dest.to_pickle('mapping_qf_caf_ems_V2.pickle')"
   ]
  }
 ],
 "metadata": {
  "celltoolbar": "Format de la Cellule Texte Brut",
  "kernelspec": {
   "display_name": "Python 3 (ipykernel)",
   "language": "python",
   "name": "python3"
  },
  "language_info": {
   "codemirror_mode": {
    "name": "ipython",
    "version": 3
   },
   "file_extension": ".py",
   "mimetype": "text/x-python",
   "name": "python",
   "nbconvert_exporter": "python",
   "pygments_lexer": "ipython3",
   "version": "3.9.16"
  }
 },
 "nbformat": 4,
 "nbformat_minor": 5
}
