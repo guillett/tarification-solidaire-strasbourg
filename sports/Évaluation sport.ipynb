{
 "cells": [
  {
   "cell_type": "code",
   "execution_count": null,
   "id": "079931b8",
   "metadata": {},
   "outputs": [],
   "source": [
    "1"
   ]
  },
  {
   "cell_type": "code",
   "execution_count": null,
   "id": "8fd762c3",
   "metadata": {},
   "outputs": [],
   "source": [
    "import numpy as np\n",
    "import pandas as pd\n",
    "\n",
    "pd.options.display.float_format = lambda v: \"{:_.2f}\".format(v).replace(\"_\", \" \")"
   ]
  },
  {
   "cell_type": "code",
   "execution_count": null,
   "id": "9ef631bb",
   "metadata": {},
   "outputs": [],
   "source": [
    "from openfisca_france import CountryTaxBenefitSystem\n",
    "from openfisca_core.parameters.parameter_scale import ParameterScale\n",
    "from openfisca_core.reforms import Reform"
   ]
  },
  {
   "cell_type": "code",
   "execution_count": null,
   "id": "141d0f8d",
   "metadata": {},
   "outputs": [],
   "source": [
    "from sports import compute, fields, get_df, get_results, build_data"
   ]
  },
  {
   "cell_type": "code",
   "execution_count": null,
   "id": "a60aecec",
   "metadata": {},
   "outputs": [],
   "source": [
    "from scenario import (\n",
    "    QfFiscalReform,\n",
    "    StatutReform,\n",
    "    CEReform,\n",
    "    gristSimulationReform,\n",
    "    period,\n",
    ")"
   ]
  },
  {
   "cell_type": "code",
   "execution_count": null,
   "id": "d30d22e5",
   "metadata": {},
   "outputs": [],
   "source": [
    "import sys\n",
    "\n",
    "sys.path.append(\"../technique\")\n",
    "from utils import *"
   ]
  },
  {
   "cell_type": "code",
   "execution_count": null,
   "id": "4351996a",
   "metadata": {},
   "outputs": [],
   "source": [
    "base = CountryTaxBenefitSystem()\n",
    "base.load_extension(\"openfisca_france_local\")"
   ]
  },
  {
   "cell_type": "code",
   "execution_count": null,
   "id": "fd2131d9",
   "metadata": {},
   "outputs": [],
   "source": [
    "StatutReform(base)"
   ]
  },
  {
   "cell_type": "code",
   "execution_count": null,
   "id": "769a5687",
   "metadata": {},
   "outputs": [],
   "source": [
    "for f in fields:\n",
    "    bareme = fields[f][\"bareme\"]\n",
    "    if bareme:\n",
    "        p = bareme(base.parameters)\n",
    "        assert type(p) == ParameterScale"
   ]
  },
  {
   "cell_type": "code",
   "execution_count": null,
   "id": "19fc8521",
   "metadata": {},
   "outputs": [],
   "source": [
    "from scenario import (\n",
    "    QfFiscalReform,\n",
    "    StatutReform,\n",
    "    CEReform,\n",
    "    gristSimulationReform,\n",
    "    period,\n",
    "    new_bracket,\n",
    ")"
   ]
  },
  {
   "cell_type": "code",
   "execution_count": null,
   "id": "209c3b05",
   "metadata": {},
   "outputs": [],
   "source": [
    "qf_fiscal_reform = QfFiscalReform(base)\n",
    "statuts_reform = StatutReform(qf_fiscal_reform)\n",
    "ce_reform = CEReform(statuts_reform)\n",
    "reform = ce_reform"
   ]
  },
  {
   "cell_type": "code",
   "execution_count": null,
   "id": "eb7dbc29",
   "metadata": {},
   "outputs": [],
   "source": [
    "(recap, dfs) = get_results(base, 1, reform)"
   ]
  },
  {
   "cell_type": "code",
   "execution_count": null,
   "id": "8df30649",
   "metadata": {},
   "outputs": [],
   "source": [
    "recap"
   ]
  },
  {
   "cell_type": "code",
   "execution_count": null,
   "id": "d3567d19",
   "metadata": {},
   "outputs": [],
   "source": [
    "for n, df in dfs:\n",
    "    print((n, df.shape))"
   ]
  },
  {
   "cell_type": "code",
   "execution_count": null,
   "id": "e66abd34",
   "metadata": {},
   "outputs": [],
   "source": [
    "sum([df.shape[0] for (n, df) in dfs])"
   ]
  },
  {
   "cell_type": "code",
   "execution_count": null,
   "id": "9b8df85f",
   "metadata": {},
   "outputs": [],
   "source": [
    "dfs[0][1]"
   ]
  },
  {
   "cell_type": "code",
   "execution_count": null,
   "id": "2d5d43af",
   "metadata": {},
   "outputs": [],
   "source": [
    "full = recap\n",
    "if reform:\n",
    "    full[(\"Écart\", \"euros\")] = (\n",
    "        full[((\"Recettes réforme\", \"Moyenne\"))] - full[((\"Recettes base\", \"Moyenne\"))]\n",
    "    )\n",
    "    full[(\"Écart\", \"%\")] = (\n",
    "        full[((\"Écart\", \"euros\"))] / full[((\"Recettes base\", \"Moyenne\"))]\n",
    "    )\n",
    "    resume = (\n",
    "        full.groupby((\"Direction\", \"\"))\n",
    "        .sum(numeric_only=True)\n",
    "        .sort_values((\"Recettes base\", \"Moyenne\"), ascending=False)\n",
    "    )\n",
    "    resume[(\"Écart\", \"%\")] = (\n",
    "        resume[((\"Écart\", \"euros\"))] / resume[((\"Recettes base\", \"Moyenne\"))]\n",
    "    )\n",
    "    resume"
   ]
  },
  {
   "cell_type": "code",
   "execution_count": null,
   "id": "aa33ea23",
   "metadata": {},
   "outputs": [],
   "source": [
    "resume[\n",
    "    [\n",
    "        (\"Recettes base\", \"Moyenne\"),\n",
    "        (\"Recettes réforme\", \"Moyenne\"),\n",
    "        (\"Écart\", \"euros\"),\n",
    "        (\"Écart\", \"%\"),\n",
    "    ]\n",
    "]"
   ]
  },
  {
   "cell_type": "code",
   "execution_count": null,
   "id": "e288c12d",
   "metadata": {},
   "outputs": [],
   "source": [
    "full[\n",
    "    [\n",
    "        (\"Service\", \"\"),\n",
    "        (\"Recettes base\", \"Moyenne\"),\n",
    "        (\"Recettes réforme\", \"Moyenne\"),\n",
    "        (\"Écart\", \"euros\"),\n",
    "        (\"Écart\", \"%\"),\n",
    "    ]\n",
    "]"
   ]
  },
  {
   "cell_type": "code",
   "execution_count": null,
   "id": "7aaec001",
   "metadata": {},
   "outputs": [],
   "source": [
    "full[\n",
    "    [\n",
    "        (\"Service\", \"\"),\n",
    "        (\"Recettes base\", \"Moyenne\"),\n",
    "        (\"Recettes réforme\", \"Moyenne\"),\n",
    "        (\"Écart\", \"euros\"),\n",
    "        (\"Écart\", \"%\"),\n",
    "    ]\n",
    "]"
   ]
  },
  {
   "cell_type": "code",
   "execution_count": null,
   "id": "6b7d4bbc",
   "metadata": {},
   "outputs": [],
   "source": [
    "base_res_agent_df = pd.DataFrame(\n",
    "    {\n",
    "        \"Service\": [n for (n, df) in dfs],\n",
    "        \"Recettes base\": [\n",
    "            df[df.agent_ems].groupby(\"sample_id\").prix.sum().median() for (n, df) in dfs\n",
    "        ],\n",
    "        \"Quantité base\": [\n",
    "            df[df.agent_ems].groupby(\"sample_id\").prix.count().median()\n",
    "            for (n, df) in dfs\n",
    "        ],\n",
    "        \"Recettes réforme\": [\n",
    "            df[df.agent_ems].groupby(\"sample_id\").prix_r.sum().median()\n",
    "            for (n, df) in dfs\n",
    "        ],\n",
    "    }\n",
    ")\n",
    "base_res_agent_df[\"Écart €\"] = (\n",
    "    base_res_agent_df[\"Recettes réforme\"] - base_res_agent_df[\"Recettes base\"]\n",
    ")\n",
    "base_res_agent_df[\"Écart %\"] = (\n",
    "    base_res_agent_df[\"Écart €\"] / base_res_agent_df[\"Recettes base\"]\n",
    ")\n",
    "res_agent_df = base_res_agent_df[base_res_agent_df[\"Recettes base\"] != 0]\n",
    "res_agent_df"
   ]
  },
  {
   "cell_type": "code",
   "execution_count": null,
   "id": "ec196e4e",
   "metadata": {},
   "outputs": [],
   "source": [
    "for n, df in dfs:\n",
    "    df[df.agent_ems][[\"prix\", \"prix_r\"]].sum()"
   ]
  },
  {
   "cell_type": "code",
   "execution_count": null,
   "id": "d94e185d",
   "metadata": {},
   "outputs": [],
   "source": [
    "df = dfs[0][1]"
   ]
  },
  {
   "cell_type": "code",
   "execution_count": null,
   "id": "66e6776e",
   "metadata": {},
   "outputs": [],
   "source": [
    "df"
   ]
  },
  {
   "cell_type": "code",
   "execution_count": null,
   "id": "85e0d433",
   "metadata": {},
   "outputs": [],
   "source": [
    "df[df.agent_ems][[\"prix\", \"prix_r\"]].sum()"
   ]
  },
  {
   "cell_type": "code",
   "execution_count": null,
   "id": "9030e087",
   "metadata": {},
   "outputs": [],
   "source": [
    "quantite_qf_caf = (\n",
    "    df.groupby([\"sample_id\", \"prix\"]).quantité.sum().groupby(\"prix\").median()\n",
    ")\n",
    "quantite_qf_caf"
   ]
  },
  {
   "cell_type": "code",
   "execution_count": null,
   "id": "410ccc09",
   "metadata": {},
   "outputs": [],
   "source": [
    "quantite_qf_ems = (\n",
    "    df.groupby([\"sample_id\", \"prix_r\"]).quantité.sum().groupby(\"prix_r\").median()\n",
    ")\n",
    "quantite_qf_ems"
   ]
  },
  {
   "cell_type": "code",
   "execution_count": null,
   "id": "8b20d75a",
   "metadata": {},
   "outputs": [],
   "source": [
    "df"
   ]
  },
  {
   "cell_type": "code",
   "execution_count": null,
   "id": "d4324bd5",
   "metadata": {},
   "outputs": [],
   "source": [
    "df[\n",
    "    (df.prix_r == 1) * (df.qf_fiscal != 0)\n",
    "]  # .groupby('sample_id').quantité.sum().describe()"
   ]
  },
  {
   "cell_type": "code",
   "execution_count": null,
   "id": "a707d3a3",
   "metadata": {},
   "outputs": [],
   "source": [
    "if True:\n",
    "    writer = pd.ExcelWriter(\"tables_sport.xlsx\")\n",
    "    df_qf = pd.DataFrame(\n",
    "        {\n",
    "            \"quantité QF CAF\": quantite_qf_caf,\n",
    "            \"quantité QF EMS\": quantite_qf_ems,\n",
    "        },\n",
    "        index=quantite_qf_caf.index,\n",
    "    )\n",
    "    resume[\n",
    "        [\n",
    "            (\"Recettes base\", \"Moyenne\"),\n",
    "            (\"Recettes réforme\", \"Moyenne\"),\n",
    "            (\"Écart\", \"euros\"),\n",
    "            (\"Écart\", \"%\"),\n",
    "        ]\n",
    "    ].to_excel(writer, sheet_name=\"recettes\")\n",
    "    full[\n",
    "        [\n",
    "            (\"Service\", \"\"),\n",
    "            (\"Recettes base\", \"Moyenne\"),\n",
    "            (\"Recettes réforme\", \"Moyenne\"),\n",
    "            (\"Écart\", \"euros\"),\n",
    "            (\"Écart\", \"%\"),\n",
    "        ]\n",
    "    ].to_excel(writer, sheet_name=\"recettes détaillées\")\n",
    "    df_qf.to_excel(writer, sheet_name=\"Prix\")\n",
    "    qf_nul = pd.DataFrame(\n",
    "        {\n",
    "            \"quantité\": [\n",
    "                df[df.qf_fiscal == 0].groupby(\"sample_id\").quantité.sum().median()\n",
    "            ]\n",
    "        }\n",
    "    )\n",
    "    qf_nul.to_excel(writer, sheet_name=\"QF_fiscal_nul\")\n",
    "    writer.close()"
   ]
  },
  {
   "cell_type": "code",
   "execution_count": null,
   "id": "db7e5108",
   "metadata": {},
   "outputs": [],
   "source": [
    "for n, df in dfs:\n",
    "    df[\"name\"] = n"
   ]
  },
  {
   "cell_type": "code",
   "execution_count": null,
   "id": "8c3611a4",
   "metadata": {},
   "outputs": [],
   "source": [
    "full = pd.concat([d for (_, d) in dfs])"
   ]
  },
  {
   "cell_type": "code",
   "execution_count": null,
   "id": "d64d1458",
   "metadata": {},
   "outputs": [],
   "source": [
    "df = full"
   ]
  },
  {
   "cell_type": "code",
   "execution_count": null,
   "id": "c0a32373",
   "metadata": {},
   "outputs": [],
   "source": [
    "pd.pivot_table(df, index=\"prix\", columns=\"name\", values=\"quantité\", aggfunc=sum)"
   ]
  },
  {
   "cell_type": "code",
   "execution_count": null,
   "id": "8a272ada",
   "metadata": {},
   "outputs": [],
   "source": [
    "pd.pivot_table(df, index=\"prix_r\", columns=\"name\", values=\"quantité\", aggfunc=sum)"
   ]
  },
  {
   "cell_type": "code",
   "execution_count": null,
   "id": "318fc3c5",
   "metadata": {},
   "outputs": [],
   "source": [
    "pd.pivot_table(\n",
    "    df, index=\"prix_r\", columns=\"prix\", values=\"quantité\", aggfunc=sum, fill_value=\"\"\n",
    ").to_excel(\"matrice_prix.xlsx\")"
   ]
  },
  {
   "cell_type": "code",
   "execution_count": null,
   "id": "4492ff72",
   "metadata": {},
   "outputs": [],
   "source": [
    "resume"
   ]
  },
  {
   "cell_type": "code",
   "execution_count": null,
   "id": "63dddb73",
   "metadata": {},
   "outputs": [],
   "source": [
    "full"
   ]
  },
  {
   "cell_type": "code",
   "execution_count": null,
   "id": "4ef6a6ef",
   "metadata": {},
   "outputs": [],
   "source": [
    "pd.pivot_table(\n",
    "    dfs[0][1],\n",
    "    index=[\"prix\", \"sample_id\"],\n",
    "    columns=\"prix_r\",\n",
    "    values=\"quantité\",\n",
    "    aggfunc=sum,\n",
    ").reset_index(\"prix\").groupby([\"prix\"]).median()"
   ]
  },
  {
   "cell_type": "code",
   "execution_count": null,
   "id": "eee0a60d",
   "metadata": {},
   "outputs": [],
   "source": [
    "(recap, dfs) = get_results(base, 3, reform)\n",
    "recap"
   ]
  },
  {
   "cell_type": "code",
   "execution_count": null,
   "id": "f99c5876",
   "metadata": {},
   "outputs": [],
   "source": [
    "for v, df in dfs:\n",
    "    print(v)\n",
    "    display(df[~df.res])\n",
    "    assert df[~df.res].shape[0] == 0"
   ]
  },
  {
   "cell_type": "code",
   "execution_count": null,
   "id": "6af9ad59",
   "metadata": {},
   "outputs": [],
   "source": [
    "prices = pd.Series(dtype=\"int64\")\n",
    "ddfs = []\n",
    "for n, df in dfs:\n",
    "    if n == \"abo_annuel_ce\" or n == \"5 entrées ce\" or n == \"patinoire 5 entrees ce\":\n",
    "        continue\n",
    "    print(n)\n",
    "    sdf = df[df.sample_id == 0]\n",
    "    bracket_limits = sdf.groupby(\"prix\").quantité.sum().cumsum()\n",
    "    limite_prix = bracket_limits[bracket_limits.index[-2]]\n",
    "    print((bracket_limits, limite_prix))\n",
    "\n",
    "    def determine_same_plein_tarif_qf(gdf):\n",
    "        first_ranks = gdf.qf_fiscal.rank(method=\"first\")\n",
    "        max_ranks = gdf.qf_fiscal.rank(method=\"max\")\n",
    "        limit_rank = max_ranks[first_ranks == limite_prix].iloc[0]\n",
    "        next_index = first_ranks[first_ranks == limit_rank + 1].index[0]\n",
    "        next_row = gdf[gdf.index == next_index]\n",
    "        return pd.DataFrame({n: [next_row.qf_fiscal.iloc[0]]})\n",
    "\n",
    "    gdfs = df.groupby(by=\"sample_id\")\n",
    "    qf_plein_tarif = gdfs.apply(determine_same_plein_tarif_qf)\n",
    "    ddfs.append(qf_plein_tarif)\n",
    "    prices[n] = bracket_limits.index[-1]\n",
    "    break"
   ]
  },
  {
   "cell_type": "code",
   "execution_count": null,
   "id": "b3219f66",
   "metadata": {},
   "outputs": [],
   "source": [
    "tb = pd.pivot_table(\n",
    "    dfs[0][1],\n",
    "    index=[\"prix\", \"sample_id\"],\n",
    "    columns=\"prix_r\",\n",
    "    values=\"quantité\",\n",
    "    aggfunc=sum,\n",
    ")\n",
    "res_tb = tb.reset_index().groupby([\"prix\"]).describe()\n",
    "res_tb"
   ]
  },
  {
   "cell_type": "code",
   "execution_count": null,
   "id": "270ca6a1",
   "metadata": {},
   "outputs": [],
   "source": [
    "tb.reset_index(\"prix\").groupby([\"prix\"]).describe().transpose()"
   ]
  },
  {
   "cell_type": "code",
   "execution_count": null,
   "id": "e3f252b9",
   "metadata": {},
   "outputs": [],
   "source": [
    "tb.reset_index(\"prix\").groupby([\"prix\"]).median()"
   ]
  },
  {
   "cell_type": "code",
   "execution_count": null,
   "id": "015bf396",
   "metadata": {},
   "outputs": [],
   "source": [
    "dfs[0][1].groupby([\"prix\", \"sample_id\"]).quantité.sum().reset_index(\"prix\").groupby(\n",
    "    \"prix\"\n",
    ").median()"
   ]
  },
  {
   "cell_type": "code",
   "execution_count": null,
   "id": "e19ad57a",
   "metadata": {},
   "outputs": [],
   "source": [
    "dfs[0][1].groupby([\"prix_r\", \"sample_id\"]).quantité.sum().reset_index(\"prix_r\").groupby(\n",
    "    \"prix_r\"\n",
    ").median()"
   ]
  },
  {
   "cell_type": "code",
   "execution_count": null,
   "id": "2e8672f4",
   "metadata": {},
   "outputs": [],
   "source": [
    "levels = (\n",
    "    pd.DataFrame(data=[dd[dd.columns[0]] for dd in ddfs])\n",
    "    .transpose()\n",
    "    .median()\n",
    "    .round()\n",
    "    .astype(\"int\")\n",
    ")"
   ]
  },
  {
   "cell_type": "code",
   "execution_count": null,
   "id": "890aa418",
   "metadata": {},
   "outputs": [],
   "source": [
    "p_df = pd.DataFrame(data={\"price\": prices, \"qf\": levels})\n",
    "p_df"
   ]
  },
  {
   "cell_type": "code",
   "execution_count": null,
   "id": "36cf725b",
   "metadata": {},
   "outputs": [],
   "source": [
    "p_df[p_df.index == p_df.index[0]].price.iloc[0]"
   ]
  },
  {
   "cell_type": "code",
   "execution_count": null,
   "id": "a18bfd87",
   "metadata": {},
   "outputs": [],
   "source": [
    "def replace(local_parameters):\n",
    "    for r in p_df.transpose():\n",
    "        rdf = p_df[p_df.index == r]\n",
    "        bf = fields[r][\"bareme\"]\n",
    "        bb = bf(local_parameters)\n",
    "        brackets = [\n",
    "            new_bracket(0, 0),\n",
    "            new_bracket(\n",
    "                rdf.qf.iloc[0].astype(\"float\"), rdf.price.iloc[0].astype(\"float\")\n",
    "            ),\n",
    "        ]\n",
    "        bb.brackets = brackets\n",
    "\n",
    "    return local_parameters"
   ]
  },
  {
   "cell_type": "code",
   "execution_count": null,
   "id": "16748b7a",
   "metadata": {},
   "outputs": [],
   "source": [
    "class customReform(Reform):\n",
    "    def __init__(self, tbs):\n",
    "        super().__init__(tbs)\n",
    "\n",
    "    def apply(self):\n",
    "        self.modify_parameters(modifier_function=replace)"
   ]
  },
  {
   "cell_type": "code",
   "execution_count": null,
   "id": "9611becd",
   "metadata": {},
   "outputs": [],
   "source": [
    "ld = levels.describe()\n",
    "ld"
   ]
  },
  {
   "cell_type": "code",
   "execution_count": null,
   "id": "1edba8be",
   "metadata": {},
   "outputs": [],
   "source": [
    "ld[ld.index == \"50%\"]"
   ]
  },
  {
   "cell_type": "code",
   "execution_count": null,
   "id": "f9ea972e",
   "metadata": {},
   "outputs": [],
   "source": [
    "rebase = CountryTaxBenefitSystem()\n",
    "rebase.load_extension(\"openfisca_france_local\")"
   ]
  },
  {
   "cell_type": "code",
   "execution_count": null,
   "id": "67e4edce",
   "metadata": {},
   "outputs": [],
   "source": [
    "re_qf_fiscal_reform = QfFiscalReform(rebase)\n",
    "re_grist_reform = gristSimulationReform(re_qf_fiscal_reform)\n",
    "# re_max_reform = customReform(re_qf_fiscal_reform)\n",
    "# re_statuts_reform = StatutReform(re_qf_fiscal_reform)\n",
    "# re_statuts_reform = StatutReform(re_max_reform)\n",
    "re_statuts_reform = StatutReform(re_qf_fiscal_reform)\n",
    "re_ce_reform = CEReform(re_statuts_reform)\n",
    "full_reform = re_ce_reform"
   ]
  },
  {
   "cell_type": "code",
   "execution_count": null,
   "id": "ba854dbd",
   "metadata": {},
   "outputs": [],
   "source": [
    "sss = get_results(rebase, 1, full_reform)"
   ]
  },
  {
   "cell_type": "code",
   "execution_count": null,
   "id": "4862b7be",
   "metadata": {},
   "outputs": [],
   "source": [
    "sss[0]"
   ]
  },
  {
   "cell_type": "code",
   "execution_count": null,
   "id": "e5e58c0c",
   "metadata": {},
   "outputs": [],
   "source": [
    "sss[0][(\"Recettes base\", \"Moyenne\")].sum()"
   ]
  },
  {
   "cell_type": "code",
   "execution_count": null,
   "id": "b5d4a2da",
   "metadata": {},
   "outputs": [],
   "source": [
    "sss[0][(\"Recettes réforme\", \"Moyenne\")].sum()"
   ]
  },
  {
   "cell_type": "code",
   "execution_count": null,
   "id": "2cb61497",
   "metadata": {},
   "outputs": [],
   "source": [
    "(sss[1][0][1].prix_r == sss[1][0][1].prix.max()).sum()"
   ]
  },
  {
   "cell_type": "code",
   "execution_count": null,
   "id": "ac58be33",
   "metadata": {},
   "outputs": [],
   "source": [
    "(sss[1][0][1].prix == sss[1][0][1].prix.max()).sum()"
   ]
  },
  {
   "cell_type": "code",
   "execution_count": null,
   "id": "546cf14e",
   "metadata": {},
   "outputs": [],
   "source": [
    "pd.pivot_table(\n",
    "    sss[1][0][1],\n",
    "    index=[\"prix\", \"sample_id\"],\n",
    "    columns=\"prix_r\",\n",
    "    values=\"quantité\",\n",
    "    aggfunc=sum,\n",
    ").reset_index(\"prix\").groupby([\"prix\"]).median()"
   ]
  },
  {
   "cell_type": "code",
   "execution_count": null,
   "id": "6f8212be",
   "metadata": {},
   "outputs": [],
   "source": [
    "from scipy.optimize import fsolve, bisect\n",
    "\n",
    "field = \"entrée unitaire\"\n",
    "\n",
    "\n",
    "def solve_function(threshold):\n",
    "    print(f\"here {threshold}\")\n",
    "\n",
    "    def f_replace(local_parameters):\n",
    "        bf = fields[field][\"bareme\"]\n",
    "        bb = bf(local_parameters)\n",
    "        brackets = [new_bracket(0, 0), new_bracket(threshold, 5)]\n",
    "        bb.brackets = brackets\n",
    "\n",
    "        return local_parameters\n",
    "\n",
    "    class FCustomReform(Reform):\n",
    "        def __init__(self, tbs):\n",
    "            super().__init__(tbs)\n",
    "\n",
    "        def apply(self):\n",
    "            self.modify_parameters(modifier_function=f_replace)\n",
    "\n",
    "    re_max_reform = FCustomReform(re_qf_fiscal_reform)\n",
    "    re_statuts_reform = StatutReform(re_max_reform)\n",
    "    # re_statuts_reform = StatutReform(re_grist_reform)\n",
    "    re_ce_reform = CEReform(re_statuts_reform)\n",
    "    full_reform = re_ce_reform\n",
    "    sss = get_results(rebase, 1, full_reform, field)\n",
    "    prix_max = sss[1][0][1].prix.max().sum()\n",
    "    base = (sss[1][0][1].prix == sss[1][0][1].prix.max()).sum()\n",
    "    result = (sss[1][0][1].prix_r == sss[1][0][1].prix.max()).sum()\n",
    "    # print((prix_max, base, result))\n",
    "    return result - base"
   ]
  },
  {
   "cell_type": "code",
   "execution_count": null,
   "id": "406964aa",
   "metadata": {},
   "outputs": [],
   "source": [
    "# bisect(solve_function, 680, 720, xtol=0.5)"
   ]
  },
  {
   "cell_type": "code",
   "execution_count": null,
   "id": "c2903914",
   "metadata": {},
   "outputs": [],
   "source": [
    "pd.pivot_table(\n",
    "    sss[1][1][1],\n",
    "    index=[\"prix\", \"sample_id\"],\n",
    "    columns=\"prix_r\",\n",
    "    values=\"quantité\",\n",
    "    aggfunc=sum,\n",
    ").reset_index(\"prix\").groupby([\"prix\"]).median()"
   ]
  },
  {
   "cell_type": "code",
   "execution_count": null,
   "id": "a15016b8",
   "metadata": {},
   "outputs": [],
   "source": [
    "sss[0][(\"Recettes base\", \"Moyenne\")].sum()"
   ]
  },
  {
   "cell_type": "code",
   "execution_count": null,
   "id": "c4220bd2",
   "metadata": {},
   "outputs": [],
   "source": [
    "sss[0][(\"Recettes réforme\", \"Moyenne\")].sum()"
   ]
  },
  {
   "cell_type": "code",
   "execution_count": null,
   "id": "6aec084e",
   "metadata": {},
   "outputs": [],
   "source": [
    "pd.pivot_table(\n",
    "    sss[1][0][1],\n",
    "    index=[\"prix\", \"sample_id\"],\n",
    "    columns=\"prix_r\",\n",
    "    values=\"quantité\",\n",
    "    aggfunc=sum,\n",
    ").reset_index(\"prix\").groupby([\"prix\"]).median()"
   ]
  },
  {
   "cell_type": "code",
   "execution_count": null,
   "id": "65e37789",
   "metadata": {},
   "outputs": [],
   "source": [
    "sss[1][0][1].groupby([\"prix\", \"sample_id\"]).quantité.sum().reset_index(\"prix\").groupby(\n",
    "    \"prix\"\n",
    ").median()"
   ]
  },
  {
   "cell_type": "code",
   "execution_count": null,
   "id": "3f3deaf8",
   "metadata": {},
   "outputs": [],
   "source": [
    "sss[1][0][1].groupby([\"prix_r\", \"sample_id\"]).quantité.sum().reset_index(\n",
    "    \"prix_r\"\n",
    ").groupby(\"prix_r\").median()"
   ]
  },
  {
   "cell_type": "code",
   "execution_count": null,
   "id": "4d137526",
   "metadata": {},
   "outputs": [],
   "source": [
    "if False:\n",
    "    df = get_df()\n",
    "\n",
    "    get_total = lambda r: sum(r.prix * r.quantité)\n",
    "    rows = []\n",
    "    dfs = []\n",
    "    for v in fields:\n",
    "        if single and v != single:\n",
    "            continue\n",
    "        data, res = build_data(df, v, sample_count)\n",
    "        openfisca_output_variable = fields[v][\"openfisca_output_variable\"]\n",
    "        compute(tbs, data, res, openfisca_output_variable)\n",
    "\n",
    "        count, value = extract(res, \"prix\")\n",
    "        row = [\"Sport\", v]\n",
    "        row.extend([count[\"mean\"], count[\"count\"]])\n",
    "        row.extend(value)\n",
    "        if reform:\n",
    "            compute(reform, data, res, openfisca_output_variable, \"_r\")\n",
    "            _, value = extract(res, \"prix_r\")\n",
    "            row.extend(value)\n",
    "        rows.append(row)\n",
    "        dfs.append((v, res))"
   ]
  },
  {
   "cell_type": "code",
   "execution_count": null,
   "id": "b6cec5d9",
   "metadata": {},
   "outputs": [],
   "source": [
    "if False:\n",
    "    l = [\n",
    "        (\"entrée unitaire\", 710.3125),\n",
    "        (\"10 entrées\", 820.90625),\n",
    "        (\"abo_annuel\", 926.96435546875),\n",
    "        (\"cycle\", 901.6875),\n",
    "        (\"stage été\", 769.875),\n",
    "        (\"stage vacances\", 813.94140625),\n",
    "        (\"stage 5 séances\", 318.0),\n",
    "        (\"patinoire entree unitaire\", 776.1640625),\n",
    "        (\"patinoire 10 entrees\", 1094.21875),\n",
    "        (\"entrée unitaire\", 707.8125),\n",
    "        (\"10 entrées\", 817.78125),\n",
    "        (\"abo_annuel\", 917.484375),\n",
    "        (\"cycle\", 808.875),\n",
    "    ]\n",
    "\n",
    "    for n, v in l:\n",
    "        LimitContainer.set(n, v)"
   ]
  },
  {
   "cell_type": "code",
   "execution_count": null,
   "id": "714b6823",
   "metadata": {},
   "outputs": [],
   "source": [
    "import warnings"
   ]
  },
  {
   "cell_type": "code",
   "execution_count": null,
   "id": "e6bad5c6",
   "metadata": {},
   "outputs": [],
   "source": [
    "from scipy.optimize import fsolve, bisect\n",
    "import warnings\n",
    "\n",
    "df = get_df()\n",
    "sample_count = 1"
   ]
  },
  {
   "cell_type": "code",
   "execution_count": null,
   "id": "4d068e6e",
   "metadata": {},
   "outputs": [],
   "source": [
    "# for i in range(5):\n",
    "#    for field in fields:\n",
    "while False:\n",
    "    r = LimitContainer.raw()\n",
    "    l = [(i, len(r[i])) for i in r if i != \"stage 5 séances\"]\n",
    "    l.sort(key=lambda i: i[1])\n",
    "    for field in [l[0][0]]:\n",
    "        bf = fields[field][\"bareme\"]\n",
    "        if not bf:\n",
    "            continue\n",
    "        print(field)\n",
    "\n",
    "        data, res = build_data(df, field, sample_count)\n",
    "        openfisca_output_variable = fields[field][\"openfisca_output_variable\"]\n",
    "        compute(rebase, data, res, openfisca_output_variable)\n",
    "\n",
    "        def solve_function_in(threshold):\n",
    "            # print(threshold)\n",
    "            def f_replace(local_parameters):\n",
    "                bf = fields[field][\"bareme\"]\n",
    "                bb = bf(local_parameters)\n",
    "                brackets = [\n",
    "                    new_bracket(0, 0),\n",
    "                    new_bracket(threshold, res.prix.max().astype(\"float\")),\n",
    "                ]\n",
    "                bb.brackets = brackets\n",
    "\n",
    "                return local_parameters\n",
    "\n",
    "            class FCustomReform(Reform):\n",
    "                def __init__(self, tbs):\n",
    "                    super().__init__(tbs)\n",
    "\n",
    "                def apply(self):\n",
    "                    self.modify_parameters(modifier_function=f_replace)\n",
    "\n",
    "            re_max_reform = FCustomReform(re_qf_fiscal_reform)\n",
    "            re_statuts_reform = StatutReform(re_max_reform)\n",
    "            # re_statuts_reform = StatutReform(re_grist_reform)\n",
    "            re_ce_reform = CEReform(re_statuts_reform)\n",
    "            full_reform = re_ce_reform\n",
    "            compute(full_reform, data, res, openfisca_output_variable, \"_r\")\n",
    "            prix_max = res.prix.max().sum()\n",
    "            base = (res.prix == res.prix.max()).sum()\n",
    "            result = (res.prix_r == res.prix.max()).sum()\n",
    "            # print((prix_max, base, result))\n",
    "            return result - base\n",
    "\n",
    "        rr = None\n",
    "        bands = [0, 20, 50, 100, 500, 1000]  # , 2000, 5000]\n",
    "        # bands = [2000]\n",
    "        previous = LimitContainer.get(field)\n",
    "        error = None\n",
    "        if len(previous) == 0:\n",
    "            n = [500, 1000]\n",
    "        else:\n",
    "            std = max(5, np.std(previous))\n",
    "            mid = np.median(previous)\n",
    "            n = [mid - 2 * std, mid + 2 * std]\n",
    "        for b in bands:\n",
    "            interval = [n[0] - b, n[1] + b]\n",
    "            print(interval)\n",
    "            try:\n",
    "                rr = bisect(solve_function_in, interval[0], interval[1], xtol=0.5)\n",
    "                break\n",
    "            except ValueError as e:\n",
    "                error = e\n",
    "                pass\n",
    "        if rr == None:\n",
    "            warnings.warn(\"What a mess!\")\n",
    "            # raise ValueError('What a mess!')\n",
    "\n",
    "        print((field, rr))\n",
    "        LimitContainer.set(field, rr)"
   ]
  },
  {
   "cell_type": "markdown",
   "id": "39c02add",
   "metadata": {},
   "source": [
    "```python\n",
    "\"What a mess!\"\n",
    "\"stage 5 séances\"\n",
    "[-1716.933966519941, 2322.933966519941]\n",
    "[-2064.4076545177413, 2670.4076545177413]\n",
    "[-2064.4076545177413, 2670.4076545177413]\n",
    "[-2080.8878586135247, 2691.8878586135247]\n",
    "```"
   ]
  }
 ],
 "metadata": {
  "kernelspec": {
   "display_name": "Python 3 (ipykernel)",
   "language": "python",
   "name": "python3"
  },
  "language_info": {
   "codemirror_mode": {
    "name": "ipython",
    "version": 3
   },
   "file_extension": ".py",
   "mimetype": "text/x-python",
   "name": "python",
   "nbconvert_exporter": "python",
   "pygments_lexer": "ipython3",
   "version": "3.9.16"
  }
 },
 "nbformat": 4,
 "nbformat_minor": 5
}
