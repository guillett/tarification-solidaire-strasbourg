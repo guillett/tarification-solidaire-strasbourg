{
 "cells": [
  {
   "cell_type": "code",
   "execution_count": null,
   "id": "8fd762c3",
   "metadata": {},
   "outputs": [],
   "source": [
    "import numpy as np\n",
    "import pandas as pd"
   ]
  },
  {
   "cell_type": "code",
   "execution_count": null,
   "id": "9ef631bb",
   "metadata": {},
   "outputs": [],
   "source": [
    "from openfisca_france import CountryTaxBenefitSystem"
   ]
  },
  {
   "cell_type": "code",
   "execution_count": null,
   "id": "141d0f8d",
   "metadata": {},
   "outputs": [],
   "source": [
    "from sports import compute, fields, get_df, get_results"
   ]
  },
  {
   "cell_type": "code",
   "execution_count": null,
   "id": "d30d22e5",
   "metadata": {},
   "outputs": [],
   "source": [
    "import sys\n",
    "\n",
    "sys.path.append(\"../technique\")\n",
    "from utils import *"
   ]
  },
  {
   "cell_type": "code",
   "execution_count": null,
   "id": "e5686f0d",
   "metadata": {},
   "outputs": [],
   "source": [
    "df = get_df()"
   ]
  },
  {
   "cell_type": "code",
   "execution_count": null,
   "id": "6c751781",
   "metadata": {},
   "outputs": [],
   "source": [
    "df.shape"
   ]
  },
  {
   "cell_type": "code",
   "execution_count": null,
   "id": "4351996a",
   "metadata": {},
   "outputs": [],
   "source": [
    "base = CountryTaxBenefitSystem()\n",
    "base.load_extension(\"openfisca_france_local\")"
   ]
  },
  {
   "cell_type": "code",
   "execution_count": null,
   "id": "192a1184",
   "metadata": {},
   "outputs": [],
   "source": [
    "get_results(base)"
   ]
  },
  {
   "cell_type": "code",
   "execution_count": null,
   "id": "62122ccc",
   "metadata": {},
   "outputs": [],
   "source": [
    "done_indexes = {}\n",
    "for v in fields:\n",
    "    done_indexes[v] = ~df[v].isna()"
   ]
  },
  {
   "cell_type": "code",
   "execution_count": null,
   "id": "d70ce5ca",
   "metadata": {},
   "outputs": [],
   "source": [
    "done = pd.DataFrame(data=done_indexes)"
   ]
  },
  {
   "cell_type": "code",
   "execution_count": null,
   "id": "1edab25e",
   "metadata": {},
   "outputs": [],
   "source": [
    "df[(~done.any(axis=1)) * df.exclu.isna()]  # *(df.type == \"Piscine\")]"
   ]
  },
  {
   "cell_type": "code",
   "execution_count": null,
   "id": "fb4fd9b6",
   "metadata": {},
   "outputs": [],
   "source": [
    "len(fields)"
   ]
  },
  {
   "cell_type": "code",
   "execution_count": null,
   "id": "462df15a",
   "metadata": {},
   "outputs": [],
   "source": [
    "for v in fields:\n",
    "    print(v)\n",
    "    res = compute(base, df, v)\n",
    "    display(res[~res.res])\n",
    "    assert res[~res.res].shape[0] == 0"
   ]
  },
  {
   "cell_type": "code",
   "execution_count": null,
   "id": "b1b12f26",
   "metadata": {},
   "outputs": [],
   "source": [
    "def build_sample(product_df, sample_count):\n",
    "    count = sum(product_df.quantité)\n",
    "    sample_ids = np.repeat(list(range(sample_count)), count)\n",
    "    sample_qfrule = np.tile(\n",
    "        np.repeat(product_df.qfrule, product_df.quantité), sample_count\n",
    "    )\n",
    "    sample_individu_df = pd.DataFrame(\n",
    "        {\n",
    "            \"sample_id\": sample_ids,\n",
    "            \"famille_id\": list(range(count * sample_count)),\n",
    "            \"agerule\": np.tile(\n",
    "                np.repeat(product_df.age, product_df.quantité), sample_count\n",
    "            ),\n",
    "            \"taux_incapacite\": np.tile(\n",
    "                np.repeat(\n",
    "                    np.where(product_df.qfrule.str.contains(\"HANDICAP\"), 0.8, 0),\n",
    "                    product_df.quantité,\n",
    "                ),\n",
    "                sample_count,\n",
    "            ),\n",
    "        }\n",
    "    )\n",
    "\n",
    "    determine_age(sample_individu_df)\n",
    "\n",
    "    sample_famille_df = pd.DataFrame(\n",
    "        {\n",
    "            \"qfrule\": sample_qfrule,\n",
    "        }\n",
    "    )\n",
    "    determine_qf(sample_famille_df, qfrules_constant)\n",
    "\n",
    "    sample_menage_df = pd.DataFrame({})\n",
    "    sample_foyerfiscaux_df = pd.DataFrame({})\n",
    "\n",
    "    sample_individu_df[\"famille_role_index\"] = 0\n",
    "    sample_individu_df[\"foyer_fiscal_id\"] = sample_individu_df.famille_id\n",
    "    sample_individu_df[\"foyer_fiscal_role_index\"] = 0\n",
    "    sample_individu_df[\"menage_id\"] = sample_individu_df.famille_id\n",
    "    sample_individu_df[\"menage_role_index\"] = 0\n",
    "\n",
    "    sample_data = dict(\n",
    "        input_data_frame_by_entity=dict(\n",
    "            individu=sample_individu_df,\n",
    "            famille=sample_famille_df,\n",
    "            menage=sample_menage_df,\n",
    "            foyer_fiscal=sample_foyerfiscaux_df,\n",
    "        )\n",
    "    )\n",
    "\n",
    "    return sample_data, sample_ids\n",
    "\n",
    "\n",
    "def compute_sample(categorie, sample_count=2):\n",
    "    champ_pu = fields[categorie][\"champ_pu\"]\n",
    "    openfisca_input_variable = fields[categorie][\"openfisca_input_variable\"]\n",
    "    openfisca_output_variable = fields[categorie][\"openfisca_output_variable\"]\n",
    "\n",
    "    product_df = df[~df[categorie].isna()]\n",
    "\n",
    "    sample_data, sample_ids = build_sample(product_df, sample_count)\n",
    "    prix = np.tile(np.repeat(product_df[champ_pu], product_df.quantité), sample_count)\n",
    "\n",
    "    sample_data[\"input_data_frame_by_entity\"][\"individu\"][openfisca_input_variable] = 1\n",
    "\n",
    "    sample_scenario = StrasbourgSurveyScenario(base, data=sample_data)\n",
    "    sample_prix = sample_scenario.simulation.calculate(\n",
    "        openfisca_output_variable, base_period\n",
    "    )\n",
    "\n",
    "    sample_res_df = pd.DataFrame(\n",
    "        data={\n",
    "            \"prestation\": np.tile(\n",
    "                np.repeat(product_df.prestation, product_df.quantité), sample_count\n",
    "            ),\n",
    "            \"categorie\": np.tile(\n",
    "                np.repeat(product_df.categorie, product_df.quantité), sample_count\n",
    "            ),\n",
    "            \"index\": np.tile(\n",
    "                np.repeat(product_df.index, product_df.quantité), sample_count\n",
    "            ),\n",
    "            \"sample_id\": sample_ids,\n",
    "            \"input_prix\": prix,\n",
    "            \"output_prix\": sample_prix,\n",
    "        }\n",
    "    )\n",
    "    return sample_res_df"
   ]
  },
  {
   "cell_type": "code",
   "execution_count": null,
   "id": "5eb23965",
   "metadata": {},
   "outputs": [],
   "source": [
    "categorie = \"entrée unitaire\"\n",
    "v = compute_sample(categorie)\n",
    "v"
   ]
  },
  {
   "cell_type": "code",
   "execution_count": null,
   "id": "da48dfcd",
   "metadata": {},
   "outputs": [],
   "source": [
    "df_interest = df[df.categorie.isin(fields.keys())]"
   ]
  },
  {
   "cell_type": "code",
   "execution_count": null,
   "id": "dedd0e38",
   "metadata": {},
   "outputs": [],
   "source": [
    "sample_data, sample_ids = build_sample(df[df.categorie.isin(fields.keys())], 2)"
   ]
  },
  {
   "cell_type": "code",
   "execution_count": null,
   "id": "6f9d7c7d",
   "metadata": {},
   "outputs": [],
   "source": [
    "sample_scenario = StrasbourgSurveyScenario(base, data=sample_data)"
   ]
  },
  {
   "cell_type": "code",
   "execution_count": null,
   "id": "cc3992ca",
   "metadata": {},
   "outputs": [],
   "source": [
    "results = pd.DataFrame(\n",
    "    data={\n",
    "        v: sample_scenario.simulation.calculate(\n",
    "            fields[v][\"openfisca_output_variable\"], base_period\n",
    "        )\n",
    "        for v in fields\n",
    "    }\n",
    ")\n",
    "results"
   ]
  },
  {
   "cell_type": "code",
   "execution_count": null,
   "id": "0cf1e831",
   "metadata": {},
   "outputs": [],
   "source": [
    "results[df_interest.categorie]"
   ]
  },
  {
   "cell_type": "code",
   "execution_count": null,
   "id": "e9437177",
   "metadata": {},
   "outputs": [],
   "source": [
    "v.groupby(by=[\"sample_id\", \"categorie\"]).sum(numeric_only=True)"
   ]
  },
  {
   "cell_type": "code",
   "execution_count": null,
   "id": "50ee7b06",
   "metadata": {},
   "outputs": [],
   "source": [
    "df[df.categorie == \"patinoire entree unitaire\"][\"euros\"].sum()"
   ]
  },
  {
   "cell_type": "code",
   "execution_count": null,
   "id": "c1889dd7",
   "metadata": {},
   "outputs": [],
   "source": [
    "sample_res_df = v"
   ]
  },
  {
   "cell_type": "code",
   "execution_count": null,
   "id": "da05a524",
   "metadata": {},
   "outputs": [],
   "source": [
    "sample_sum = sample_res_df.groupby([\"sample_id\"]).sum(numeric_only=True)\n",
    "sample_sum"
   ]
  },
  {
   "cell_type": "code",
   "execution_count": null,
   "id": "e58b6b3a",
   "metadata": {},
   "outputs": [],
   "source": [
    "sample_sum"
   ]
  }
 ],
 "metadata": {
  "kernelspec": {
   "display_name": "Python 3 (ipykernel)",
   "language": "python",
   "name": "python3"
  },
  "language_info": {
   "codemirror_mode": {
    "name": "ipython",
    "version": 3
   },
   "file_extension": ".py",
   "mimetype": "text/x-python",
   "name": "python",
   "nbconvert_exporter": "python",
   "pygments_lexer": "ipython3",
   "version": "3.9.16"
  }
 },
 "nbformat": 4,
 "nbformat_minor": 5
}
