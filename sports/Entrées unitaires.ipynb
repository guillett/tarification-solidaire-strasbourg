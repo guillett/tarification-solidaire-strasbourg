{
 "cells": [
  {
   "cell_type": "code",
   "execution_count": null,
   "id": "8fd762c3",
   "metadata": {},
   "outputs": [],
   "source": [
    "import numpy as np\n",
    "import pandas as pd"
   ]
  },
  {
   "cell_type": "code",
   "execution_count": null,
   "id": "4008e0be",
   "metadata": {},
   "outputs": [],
   "source": [
    "df = pd.read_excel('/home/thomas/Nextcloud/CodeursEnLiberte/EMS/sports/extractions_denombrement.ods')"
   ]
  },
  {
   "cell_type": "code",
   "execution_count": null,
   "id": "6c751781",
   "metadata": {},
   "outputs": [],
   "source": [
    "df"
   ]
  },
  {
   "cell_type": "code",
   "execution_count": null,
   "id": "02b237d8",
   "metadata": {},
   "outputs": [],
   "source": [
    "df.qfrule = df.qfrule.astype('category')"
   ]
  },
  {
   "cell_type": "code",
   "execution_count": null,
   "id": "0e3c92bd",
   "metadata": {},
   "outputs": [],
   "source": [
    "entree_unitaire = df[df['entrée unitaire'] == 'x']"
   ]
  },
  {
   "cell_type": "code",
   "execution_count": null,
   "id": "1a672db2",
   "metadata": {},
   "outputs": [],
   "source": [
    "entree_unitaire"
   ]
  },
  {
   "cell_type": "code",
   "execution_count": null,
   "id": "8ba247f8",
   "metadata": {},
   "outputs": [],
   "source": [
    "len(entree_unitaire)"
   ]
  },
  {
   "cell_type": "code",
   "execution_count": null,
   "id": "3d7ed7c6",
   "metadata": {},
   "outputs": [],
   "source": [
    "sum(entree_unitaire.quantité * entree_unitaire.pu)"
   ]
  },
  {
   "cell_type": "code",
   "execution_count": null,
   "id": "699ce425",
   "metadata": {},
   "outputs": [],
   "source": [
    "entree_unitaire"
   ]
  },
  {
   "cell_type": "code",
   "execution_count": null,
   "id": "c3c6a2bb",
   "metadata": {},
   "outputs": [],
   "source": [
    "from openfisca_survey_manager.scenarios import AbstractSurveyScenario\n",
    "from openfisca_france import CountryTaxBenefitSystem\n",
    "from openfisca_france.model.base import Famille, FoyerFiscal, Menage\n",
    "from openfisca_core import periods"
   ]
  },
  {
   "cell_type": "code",
   "execution_count": null,
   "id": "921599fe",
   "metadata": {},
   "outputs": [],
   "source": [
    "individu_df = pd.DataFrame({\n",
    "    'famille_id': list(range(len(entree_unitaire))),\n",
    "    'strasbourg_piscine_quotient_familial': entree_unitaire.qf,\n",
    "    'age': entree_unitaire.age,\n",
    "    'strasbourg_piscine_entree_unitaire': entree_unitaire.quantité\n",
    "})\n",
    "individu_df"
   ]
  },
  {
   "cell_type": "code",
   "execution_count": null,
   "id": "8cad39a6",
   "metadata": {},
   "outputs": [],
   "source": [
    "famille_df = pd.DataFrame({})\n",
    "menage_df = pd.DataFrame({})\n",
    "foyerfiscaux_df = pd.DataFrame({})\n",
    "\n",
    "individu_df['famille_role_index'] = 0\n",
    "individu_df['foyer_fiscal_id'] = individu_df.famille_id\n",
    "individu_df['foyer_fiscal_role_index'] = 0\n",
    "individu_df['menage_id'] = individu_df.famille_id\n",
    "individu_df['menage_role_index'] = 0"
   ]
  },
  {
   "cell_type": "code",
   "execution_count": null,
   "id": "bda9f7b7",
   "metadata": {},
   "outputs": [],
   "source": [
    "data = dict(input_data_frame_by_entity = dict(\n",
    "individu=individu_df,\n",
    "famille=famille_df,\n",
    "menage=menage_df,\n",
    "foyer_fiscal=foyerfiscaux_df))"
   ]
  },
  {
   "cell_type": "code",
   "execution_count": null,
   "id": "5c7a2eee",
   "metadata": {},
   "outputs": [],
   "source": [
    "base_year = \"2023\"\n",
    "\n",
    "base = CountryTaxBenefitSystem()\n",
    "base.load_extension('openfisca_france_local')\n",
    "\n",
    "class StrasbourgSurveyScenario(AbstractSurveyScenario):\n",
    "    def __init__(self, data = None,):\n",
    "        super(StrasbourgSurveyScenario, self).__init__()\n",
    "\n",
    "        self.year = base_year\n",
    "\n",
    "        if 'input_data_frame_by_entity' in data:\n",
    "            period = periods.period(self.year)\n",
    "            dataframe_variables = set()\n",
    "            for entity_dataframe in data['input_data_frame_by_entity'].values():\n",
    "                if not isinstance(entity_dataframe, pd.DataFrame):\n",
    "                    continue\n",
    "                dataframe_variables = dataframe_variables.union(set(entity_dataframe.columns))\n",
    "            self.used_as_input_variables = list(\n",
    "                set(base.variables.keys()).intersection(dataframe_variables)\n",
    "                )\n",
    "\n",
    "        self.set_tax_benefit_systems(base)\n",
    "        self.init_from_data(data = data)\n"
   ]
  },
  {
   "cell_type": "code",
   "execution_count": null,
   "id": "1bcebeb5",
   "metadata": {},
   "outputs": [],
   "source": [
    "scenario = StrasbourgSurveyScenario(data = data)"
   ]
  },
  {
   "cell_type": "code",
   "execution_count": null,
   "id": "78e0f968",
   "metadata": {},
   "outputs": [],
   "source": [
    "prix = scenario.simulation.calculate('strasbourg_piscine_prix_entree_unitaire', base_year)\n",
    "prix"
   ]
  },
  {
   "cell_type": "code",
   "execution_count": null,
   "id": "f5579805",
   "metadata": {},
   "outputs": [],
   "source": [
    "res_prix = pd.DataFrame(data={\"res\":prix == entree_unitaire.pu, \"prix_input\": entree_unitaire.pu, \"prix_output\": prix})\n",
    "res_prix"
   ]
  },
  {
   "cell_type": "code",
   "execution_count": null,
   "id": "0fc9550e",
   "metadata": {},
   "outputs": [],
   "source": [
    "cout = scenario.simulation.calculate('strasbourg_piscine_cout_entree_unitaire', base_year)\n",
    "cout"
   ]
  },
  {
   "cell_type": "code",
   "execution_count": null,
   "id": "f8870734",
   "metadata": {},
   "outputs": [],
   "source": [
    "res_cout = pd.DataFrame(data={\"res\":cout == entree_unitaire.euros, \"prix_input\": entree_unitaire.euros, \"prix_output\": cout})\n",
    "res_cout"
   ]
  },
  {
   "cell_type": "code",
   "execution_count": null,
   "id": "257f851d",
   "metadata": {},
   "outputs": [],
   "source": [
    "entree_unitaire.qfrule.dtype"
   ]
  },
  {
   "cell_type": "code",
   "execution_count": null,
   "id": "01642188",
   "metadata": {},
   "outputs": [],
   "source": []
  },
  {
   "cell_type": "code",
   "execution_count": null,
   "id": "5eb23965",
   "metadata": {},
   "outputs": [],
   "source": [
    "count = sum(entree_unitaire.quantité)"
   ]
  },
  {
   "cell_type": "code",
   "execution_count": null,
   "id": "e9437177",
   "metadata": {},
   "outputs": [],
   "source": [
    "sample_count = 10"
   ]
  },
  {
   "cell_type": "code",
   "execution_count": null,
   "id": "50ee7b06",
   "metadata": {},
   "outputs": [],
   "source": [
    "sample_ids = np.repeat(list(range(sample_count)), count)\n",
    "sample_qfrule = np.tile(np.repeat(entree_unitaire.qfrule, entree_unitaire.quantité), sample_count)\n",
    "sample_individu_df = pd.DataFrame({\n",
    "    'sample_id': sample_ids,\n",
    "    'famille_id': list(range(count * sample_count)),\n",
    "    'strasbourg_piscine_quotient_familial': np.zeros(count * sample_count),\n",
    "    'qfrule': sample_qfrule,\n",
    "    'age': np.tile(np.repeat(entree_unitaire.age, entree_unitaire.quantité), sample_count),\n",
    "    'strasbourg_piscine_entree_unitaire': np.ones(count * sample_count),\n",
    "})\n",
    "prix = np.tile(np.repeat(entree_unitaire.pu, entree_unitaire.quantité), sample_count)"
   ]
  },
  {
   "cell_type": "code",
   "execution_count": null,
   "id": "3fb76a8b",
   "metadata": {},
   "outputs": [],
   "source": [
    "qfrules = {\n",
    "    \"QF==0\": lambda s=1: np.zeros(s),\n",
    "    \"1<=QF<=820\": lambda s=1: np.random.randint(1, 821, size=s),\n",
    "    \"QF>820\": lambda s=1: np.random.randint(821, 2000, size=s),\n",
    "    \"QFETU\": lambda s=1: np.random.randint(0, 1000, size=s),\n",
    "}\n",
    "\n",
    "qf_groups = sample_individu_df.groupby(by=['qfrule']).groups\n",
    "\n",
    "for key in qf_groups:\n",
    "    indexes_in_group = qf_groups[key]\n",
    "    v = qfrules[key](len(indexes_in_group))\n",
    "    sample_individu_df.loc[indexes_in_group, 'strasbourg_piscine_quotient_familial'] = v"
   ]
  },
  {
   "cell_type": "code",
   "execution_count": null,
   "id": "0d85705d",
   "metadata": {},
   "outputs": [],
   "source": [
    "sample_individu_df"
   ]
  },
  {
   "cell_type": "code",
   "execution_count": null,
   "id": "3543dacc",
   "metadata": {},
   "outputs": [],
   "source": [
    "sample_famille_df = pd.DataFrame({})\n",
    "sample_menage_df = pd.DataFrame({})\n",
    "sample_foyerfiscaux_df = pd.DataFrame({})\n",
    "\n",
    "sample_individu_df['famille_role_index'] = 0\n",
    "sample_individu_df['foyer_fiscal_id'] = sample_individu_df.famille_id\n",
    "sample_individu_df['foyer_fiscal_role_index'] = 0\n",
    "sample_individu_df['menage_id'] = sample_individu_df.famille_id\n",
    "sample_individu_df['menage_role_index'] = 0\n",
    "\n",
    "sample_data = dict(input_data_frame_by_entity = dict(\n",
    "individu=sample_individu_df,\n",
    "famille=sample_famille_df,\n",
    "menage=sample_menage_df,\n",
    "foyer_fiscal=sample_foyerfiscaux_df))\n",
    "\n",
    "sample_scenario = StrasbourgSurveyScenario(data = sample_data)"
   ]
  },
  {
   "cell_type": "code",
   "execution_count": null,
   "id": "110d18b7",
   "metadata": {},
   "outputs": [],
   "source": [
    "sample_prix = sample_scenario.simulation.calculate('strasbourg_piscine_prix_entree_unitaire', base_year)\n",
    "sum(sample_prix)"
   ]
  },
  {
   "cell_type": "code",
   "execution_count": null,
   "id": "8b1ec718",
   "metadata": {},
   "outputs": [],
   "source": [
    "sample_res_df = pd.DataFrame(data={\n",
    "    \"qfrule\": sample_qfrule,\n",
    "    \"sample_id\": sample_ids,\n",
    "    \"input_prix\": prix,\n",
    "    \"output_prix\": sample_prix\n",
    "})\n",
    "sample_res_df"
   ]
  },
  {
   "cell_type": "code",
   "execution_count": null,
   "id": "da05a524",
   "metadata": {},
   "outputs": [],
   "source": [
    "sample_sum = sample_res_df.groupby([\"sample_id\"]).sum()\n",
    "sample_sum"
   ]
  },
  {
   "cell_type": "code",
   "execution_count": null,
   "id": "fb26262e",
   "metadata": {},
   "outputs": [],
   "source": [
    "sample_sum_qfrule = sample_res_df.groupby([\"qfrule\"]).sum()\n",
    "sample_sum_qfrule"
   ]
  },
  {
   "cell_type": "code",
   "execution_count": null,
   "id": "7058e3f1",
   "metadata": {},
   "outputs": [],
   "source": [
    "sample_sum.hist()"
   ]
  },
  {
   "cell_type": "code",
   "execution_count": null,
   "id": "681987a4",
   "metadata": {},
   "outputs": [],
   "source": [
    "463950/3"
   ]
  },
  {
   "cell_type": "code",
   "execution_count": null,
   "id": "610f65df",
   "metadata": {},
   "outputs": [],
   "source": [
    "463950/3*4/5*3 + 463950/3*1/5*5"
   ]
  },
  {
   "cell_type": "code",
   "execution_count": null,
   "id": "b17b89de",
   "metadata": {},
   "outputs": [],
   "source": []
  }
 ],
 "metadata": {
  "kernelspec": {
   "display_name": "Python 3 (ipykernel)",
   "language": "python",
   "name": "python3"
  },
  "language_info": {
   "codemirror_mode": {
    "name": "ipython",
    "version": 3
   },
   "file_extension": ".py",
   "mimetype": "text/x-python",
   "name": "python",
   "nbconvert_exporter": "python",
   "pygments_lexer": "ipython3",
   "version": "3.9.16"
  }
 },
 "nbformat": 4,
 "nbformat_minor": 5
}
