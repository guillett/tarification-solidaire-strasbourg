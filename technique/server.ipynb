{
 "cells": [
  {
   "cell_type": "code",
   "execution_count": null,
   "id": "1b9b5c5a",
   "metadata": {},
   "outputs": [],
   "source": [
    "import sys\n",
    "\n",
    "sys.path.append(\"../technique\")\n",
    "from utils import *"
   ]
  },
  {
   "cell_type": "code",
   "execution_count": null,
   "id": "e23c6336",
   "metadata": {},
   "outputs": [],
   "source": [
    "from openfisca_france import CountryTaxBenefitSystem"
   ]
  },
  {
   "cell_type": "code",
   "execution_count": null,
   "id": "2930a432",
   "metadata": {},
   "outputs": [],
   "source": [
    "base = CountryTaxBenefitSystem()\n",
    "base.load_extension(\"openfisca_france_local\")"
   ]
  },
  {
   "cell_type": "code",
   "execution_count": null,
   "id": "a9034fd3",
   "metadata": {},
   "outputs": [],
   "source": [
    "p = base.parameters.communes.strasbourg.centre_choregraphique.adulte"
   ]
  },
  {
   "cell_type": "code",
   "execution_count": null,
   "id": "b123a6aa",
   "metadata": {},
   "outputs": [],
   "source": [
    "p.name"
   ]
  },
  {
   "cell_type": "code",
   "execution_count": null,
   "id": "2f9038e5",
   "metadata": {},
   "outputs": [],
   "source": [
    "sys.path.append(\"../dee\")"
   ]
  },
  {
   "cell_type": "code",
   "execution_count": null,
   "id": "8e74f9bd",
   "metadata": {},
   "outputs": [],
   "source": [
    "import dee"
   ]
  },
  {
   "cell_type": "code",
   "execution_count": null,
   "id": "6a2714e8",
   "metadata": {},
   "outputs": [],
   "source": [
    "deres = dee.get_results(base, 2, base)"
   ]
  },
  {
   "cell_type": "code",
   "execution_count": null,
   "id": "75f6f5ad",
   "metadata": {},
   "outputs": [],
   "source": [
    "sum(d.shape[0] for (_, d) in deres[1])"
   ]
  },
  {
   "cell_type": "code",
   "execution_count": null,
   "id": "0d0381a2",
   "metadata": {},
   "outputs": [],
   "source": [
    "res = [(\"base\", deres)]"
   ]
  },
  {
   "cell_type": "code",
   "execution_count": null,
   "id": "1368743a",
   "metadata": {},
   "outputs": [],
   "source": [
    "deres[0]"
   ]
  },
  {
   "cell_type": "code",
   "execution_count": null,
   "id": "f154e4bd",
   "metadata": {},
   "outputs": [],
   "source": [
    "import pandas as pd"
   ]
  },
  {
   "cell_type": "code",
   "execution_count": null,
   "id": "52f2ea7b",
   "metadata": {},
   "outputs": [],
   "source": [
    "resumes = []\n",
    "gdfs = []"
   ]
  },
  {
   "cell_type": "code",
   "execution_count": null,
   "id": "a085d4d4",
   "metadata": {},
   "outputs": [],
   "source": [
    "for scenario, values in res:\n",
    "    dfs = values[1]\n",
    "    for service, df in dfs:\n",
    "        df[\"service\"] = service\n",
    "    gdf = pd.concat([df for (_, df) in dfs], ignore_index=True)\n",
    "    gdfs.append(gdf)\n",
    "    resume = (\n",
    "        gdf.groupby(\"sample_id\")[[\"prix\", \"prix_r\"]]\n",
    "        .sum()\n",
    "        .agg([\"count\", \"average\", \"median\", \"std\"])\n",
    "        .rename(\n",
    "            columns={\"prix\": \"Recettes actuelles\", \"prix_r\": \"Recette simulées\"},\n",
    "            index={\n",
    "                \"count\": \"Nombre d'estimations\",\n",
    "                \"average\": \"Moyenne des recettes\",\n",
    "                \"median\": \"Médiane des recettes\",\n",
    "                \"std\": \"Écart-type des recettes\",\n",
    "            },\n",
    "        )\n",
    "        .transpose()\n",
    "        .reset_index(names=\"Indicateurs\")\n",
    "    )\n",
    "    resume.insert(loc=0, column=\"Scénario\", value=scenario)\n",
    "    resumes.append(resume)"
   ]
  },
  {
   "cell_type": "code",
   "execution_count": null,
   "id": "11cdf204",
   "metadata": {},
   "outputs": [],
   "source": [
    "details = (\n",
    "    gdfs[0].groupby([\"service\", \"sample_id\"]).prix_r.sum().groupby(\"service\").describe()\n",
    ")\n",
    "details"
   ]
  },
  {
   "cell_type": "code",
   "execution_count": null,
   "id": "10be3d8f",
   "metadata": {},
   "outputs": [],
   "source": [
    "details[\"mean\"].sum()"
   ]
  },
  {
   "cell_type": "code",
   "execution_count": null,
   "id": "ff30d7c3",
   "metadata": {},
   "outputs": [],
   "source": [
    "gdfs[0].groupby([\"sample_id\"]).prix_r.sum().describe()"
   ]
  },
  {
   "cell_type": "code",
   "execution_count": null,
   "id": "f9c17f98",
   "metadata": {},
   "outputs": [],
   "source": [
    "base = CountryTaxBenefitSystem()\n",
    "base.load_extension(\"openfisca_france_local\")"
   ]
  },
  {
   "cell_type": "code",
   "execution_count": null,
   "id": "af9b7578",
   "metadata": {},
   "outputs": [],
   "source": [
    "base"
   ]
  },
  {
   "cell_type": "code",
   "execution_count": null,
   "id": "04c13d01",
   "metadata": {},
   "outputs": [],
   "source": [
    "import ezodf\n",
    "\n",
    "ods = ezodf.newdoc(\"ods\", \"test_unempty_cells.ods\")\n",
    "sheet = ezodf.Sheet(\"base\", size=(6, 1))\n",
    "ods.sheets += sheet\n",
    "\n",
    "sheet[0, 0].set_value(\"Column 1\")\n",
    "for i in range(1, 6, 2):\n",
    "    sheet[i, 0].set_value(i)\n",
    "    # sheet[i, 0].append(ezodf.Paragraph(str(i)))\n",
    "ods.save()"
   ]
  },
  {
   "cell_type": "code",
   "execution_count": null,
   "id": "13d94711",
   "metadata": {},
   "outputs": [],
   "source": [
    "import pandas as pd\n",
    "\n",
    "df = pd.read_excel(\"test_unempty_cells.ods\", sheet_name=\"base\")\n",
    "df"
   ]
  },
  {
   "cell_type": "code",
   "execution_count": null,
   "id": "b5cf85df",
   "metadata": {},
   "outputs": [],
   "source": [
    "print(df.to_markdown())"
   ]
  },
  {
   "cell_type": "code",
   "execution_count": null,
   "id": "bad374e4",
   "metadata": {},
   "outputs": [],
   "source": [
    "print(df.to_markdown())"
   ]
  },
  {
   "cell_type": "code",
   "execution_count": null,
   "id": "60e78855",
   "metadata": {},
   "outputs": [],
   "source": [
    "import numpy as np"
   ]
  },
  {
   "cell_type": "code",
   "execution_count": null,
   "id": "eccc48ea",
   "metadata": {},
   "outputs": [],
   "source": [
    "import pandas._testing as tm"
   ]
  },
  {
   "cell_type": "code",
   "execution_count": null,
   "id": "ab115f38",
   "metadata": {},
   "outputs": [],
   "source": [
    "expected = pd.DataFrame(\n",
    "    [1, np.nan, 3, np.nan, 5],\n",
    "    columns=[\"Column 1\"],\n",
    ")\n",
    "result = pd.read_excel(\"test_empty.ods\")\n",
    "tm.assert_frame_equal(result, expected)"
   ]
  },
  {
   "cell_type": "code",
   "execution_count": null,
   "id": "ab72976c",
   "metadata": {},
   "outputs": [],
   "source": [
    "df.dtypes"
   ]
  },
  {
   "cell_type": "code",
   "execution_count": null,
   "id": "fcc7fe6e",
   "metadata": {},
   "outputs": [],
   "source": [
    "file = \"scenario_ccs2334.ods\"\n",
    "build_sheet(base, \"ccs\", file)"
   ]
  },
  {
   "cell_type": "code",
   "execution_count": null,
   "id": "65af6c86",
   "metadata": {},
   "outputs": [],
   "source": [
    "import pandas as pd"
   ]
  },
  {
   "cell_type": "code",
   "execution_count": null,
   "id": "1f2ddb1a",
   "metadata": {},
   "outputs": [],
   "source": [
    "baremes = pd.read_excel(\n",
    "    \"/home/thomas/Téléchargements/ccs_2023-09-19T23-41-26_thomas.ods\", sheet_name=None\n",
    ")\n",
    "df[\"base\"].to_excel"
   ]
  },
  {
   "cell_type": "code",
   "execution_count": null,
   "id": "acd741de",
   "metadata": {},
   "outputs": [],
   "source": [
    "df = pd.read_excel(\n",
    "    \"/home/thomas/repos/tarification-solidaire-strasbourg/server/files/baremes_ccs_2023-09-20T16-53-38_yolo.ods\",\n",
    "    sheet_name=None,\n",
    ")\n",
    "df"
   ]
  },
  {
   "cell_type": "code",
   "execution_count": null,
   "id": "682f6429",
   "metadata": {},
   "outputs": [],
   "source": [
    "doc = ezodf.opendoc(file)"
   ]
  },
  {
   "cell_type": "code",
   "execution_count": null,
   "id": "da590b0b",
   "metadata": {},
   "outputs": [],
   "source": [
    "[s.name for s in doc.sheets]"
   ]
  },
  {
   "cell_type": "code",
   "execution_count": null,
   "id": "6c137771",
   "metadata": {},
   "outputs": [],
   "source": [
    "doc.sheets[\"base\"]"
   ]
  },
  {
   "cell_type": "code",
   "execution_count": null,
   "id": "0408c577",
   "metadata": {},
   "outputs": [],
   "source": [
    "e = pd.ExcelFile(\"test_empty.ods\")"
   ]
  },
  {
   "cell_type": "code",
   "execution_count": null,
   "id": "93e031ad",
   "metadata": {},
   "outputs": [],
   "source": [
    "e"
   ]
  },
  {
   "cell_type": "code",
   "execution_count": null,
   "id": "8a41af10",
   "metadata": {},
   "outputs": [],
   "source": [
    "e.parse(\"base\")"
   ]
  },
  {
   "cell_type": "code",
   "execution_count": null,
   "id": "710d71e4",
   "metadata": {},
   "outputs": [],
   "source": [
    "from pandas.io.excel._openpyxl import OpenpyxlReader"
   ]
  },
  {
   "cell_type": "code",
   "execution_count": null,
   "id": "83ce5a41",
   "metadata": {},
   "outputs": [],
   "source": [
    "e._reader"
   ]
  },
  {
   "cell_type": "code",
   "execution_count": null,
   "id": "6ac921c9",
   "metadata": {},
   "outputs": [],
   "source": [
    "e._reader.sheet_names"
   ]
  },
  {
   "cell_type": "code",
   "execution_count": null,
   "id": "1f0fb68d",
   "metadata": {},
   "outputs": [],
   "source": [
    "e._reader._calc_rows(None, None, None, None)"
   ]
  },
  {
   "cell_type": "code",
   "execution_count": null,
   "id": "8b161eb0",
   "metadata": {},
   "outputs": [],
   "source": [
    "file2 = \"scenario_ccs233 (autre copie).ods\""
   ]
  },
  {
   "cell_type": "code",
   "execution_count": null,
   "id": "db1246c9",
   "metadata": {},
   "outputs": [],
   "source": [
    "pd.read_excel(file2)"
   ]
  },
  {
   "cell_type": "code",
   "execution_count": null,
   "id": "1d77162c",
   "metadata": {},
   "outputs": [],
   "source": [
    "e2 = pd.ExcelFile(file2)"
   ]
  },
  {
   "cell_type": "code",
   "execution_count": null,
   "id": "ef716875",
   "metadata": {},
   "outputs": [],
   "source": [
    "e2._reader._calc_rows(None, None, None, None)"
   ]
  },
  {
   "cell_type": "code",
   "execution_count": null,
   "id": "3c0be8f7",
   "metadata": {},
   "outputs": [],
   "source": [
    "e2._reader.get_sheet_data(e2._reader.get_sheet_by_name(\"base\"), None)"
   ]
  },
  {
   "cell_type": "code",
   "execution_count": null,
   "id": "d5fea0c2",
   "metadata": {},
   "outputs": [],
   "source": [
    "e._reader.get_sheet_data(e._reader.get_sheet_by_name(\"base\"), None)"
   ]
  },
  {
   "cell_type": "code",
   "execution_count": null,
   "id": "c19e07c1",
   "metadata": {},
   "outputs": [],
   "source": []
  },
  {
   "cell_type": "code",
   "execution_count": null,
   "id": "bae7f637",
   "metadata": {},
   "outputs": [],
   "source": [
    "s = e._reader.get_sheet_by_name(\"base\")\n",
    "s"
   ]
  },
  {
   "cell_type": "code",
   "execution_count": null,
   "id": "3b658062",
   "metadata": {},
   "outputs": [],
   "source": [
    "s2 = e2._reader.get_sheet_by_name(\"base\")\n",
    "s2"
   ]
  },
  {
   "cell_type": "code",
   "execution_count": null,
   "id": "ca10f8a7",
   "metadata": {},
   "outputs": [],
   "source": [
    "s.getElementsByType(TableRow)"
   ]
  },
  {
   "cell_type": "code",
   "execution_count": null,
   "id": "c3a6ec4a",
   "metadata": {},
   "outputs": [],
   "source": [
    "s2.getElementsByType(TableRow)"
   ]
  },
  {
   "cell_type": "code",
   "execution_count": null,
   "id": "74976e0e",
   "metadata": {},
   "outputs": [],
   "source": [
    "v = e\n",
    "self = v._reader\n",
    "sheet = self.get_sheet_by_name(\"base\")\n",
    "file_rows_needed = None"
   ]
  },
  {
   "cell_type": "code",
   "execution_count": null,
   "id": "b377c17d",
   "metadata": {},
   "outputs": [],
   "source": [
    "from odf.table import (\n",
    "    CoveredTableCell,\n",
    "    TableCell,\n",
    "    TableRow,\n",
    ")\n",
    "\n",
    "sheet.getElementsByType(TableRow)"
   ]
  },
  {
   "cell_type": "code",
   "execution_count": null,
   "id": "a71d4b90",
   "metadata": {},
   "outputs": [],
   "source": [
    "covered_cell_name = CoveredTableCell().qname\n",
    "table_cell_name = TableCell().qname\n",
    "cell_names = {covered_cell_name, table_cell_name}\n",
    "\n",
    "sheet_rows = sheet.getElementsByType(TableRow)\n",
    "empty_rows = 0\n",
    "max_row_len = 0\n",
    "\n",
    "table = []\n",
    "\n",
    "for sheet_row in sheet_rows:\n",
    "    print(\"sheet_row\")\n",
    "    print(sheet_row)\n",
    "    sheet_cells = [\n",
    "        x for x in sheet_row.childNodes if hasattr(x, \"qname\") and x.qname in cell_names\n",
    "    ]\n",
    "    print(\"sheet_cells\")\n",
    "    print(sheet_cells)\n",
    "    empty_cells = 0\n",
    "    table_row = []\n",
    "\n",
    "    for sheet_cell in sheet_cells:\n",
    "        print(\"sheet_cell\")\n",
    "        if sheet_cell.qname == table_cell_name:\n",
    "            value = self._get_cell_value(sheet_cell, False)\n",
    "        else:\n",
    "            value = self.empty_value\n",
    "        # print(sheet_cell)\n",
    "        # print(value)\n",
    "\n",
    "        column_repeat = self._get_column_repeat(sheet_cell)\n",
    "\n",
    "        # Queue up empty values, writing only if content succeeds them\n",
    "        if value == self.empty_value:\n",
    "            empty_cells += column_repeat\n",
    "        else:\n",
    "            table_row.extend([self.empty_value] * empty_cells)\n",
    "            empty_cells = 0\n",
    "            table_row.extend([value] * column_repeat)\n",
    "\n",
    "    if max_row_len < len(table_row):\n",
    "        max_row_len = len(table_row)\n",
    "\n",
    "    import pdb\n",
    "\n",
    "    pdb.set_trace()\n",
    "\n",
    "    row_repeat = self._get_row_repeat(sheet_row)\n",
    "    if self._is_empty_row(sheet_row):\n",
    "        empty_rows += row_repeat\n",
    "    else:\n",
    "        # add blank rows to our table\n",
    "        table.extend([[self.empty_value]] * empty_rows)\n",
    "        empty_rows = 0\n",
    "        table.extend(table_row for _ in range(row_repeat))\n",
    "    if file_rows_needed is not None and len(table) >= file_rows_needed:\n",
    "        break\n",
    "\n",
    "# Make our table square\n",
    "for row in table:\n",
    "    if len(row) < max_row_len:\n",
    "        row.extend([self.empty_value] * (max_row_len - len(row)))"
   ]
  },
  {
   "cell_type": "code",
   "execution_count": null,
   "id": "c9a7a800",
   "metadata": {},
   "outputs": [],
   "source": [
    "table"
   ]
  },
  {
   "cell_type": "code",
   "execution_count": null,
   "id": "9d78a1eb",
   "metadata": {},
   "outputs": [],
   "source": [
    "sheet_cell.attributes"
   ]
  },
  {
   "cell_type": "code",
   "execution_count": null,
   "id": "f823c9d5",
   "metadata": {},
   "outputs": [],
   "source": [
    "self._get_cell_value(cell, False)"
   ]
  },
  {
   "cell_type": "code",
   "execution_count": null,
   "id": "8c34699c",
   "metadata": {},
   "outputs": [],
   "source": [
    "cell = sheet_cell"
   ]
  },
  {
   "cell_type": "code",
   "execution_count": null,
   "id": "7736630f",
   "metadata": {},
   "outputs": [],
   "source": [
    "cell.attributes.get((OFFICENS, \"value-type\"))"
   ]
  },
  {
   "cell_type": "code",
   "execution_count": null,
   "id": "888c0144",
   "metadata": {},
   "outputs": [],
   "source": [
    "from odf.namespaces import OFFICENS"
   ]
  },
  {
   "cell_type": "code",
   "execution_count": null,
   "id": "09210d31",
   "metadata": {},
   "outputs": [],
   "source": [
    "sheet_cells"
   ]
  },
  {
   "cell_type": "code",
   "execution_count": null,
   "id": "eb990417",
   "metadata": {},
   "outputs": [],
   "source": [
    "table"
   ]
  },
  {
   "cell_type": "code",
   "execution_count": null,
   "id": "3ef434eb",
   "metadata": {},
   "outputs": [],
   "source": [
    "self._get_cell_value"
   ]
  },
  {
   "cell_type": "code",
   "execution_count": null,
   "id": "9515d840",
   "metadata": {},
   "outputs": [],
   "source": []
  }
 ],
 "metadata": {
  "kernelspec": {
   "display_name": "Python 3 (ipykernel)",
   "language": "python",
   "name": "python3"
  },
  "language_info": {
   "codemirror_mode": {
    "name": "ipython",
    "version": 3
   },
   "file_extension": ".py",
   "mimetype": "text/x-python",
   "name": "python",
   "nbconvert_exporter": "python",
   "pygments_lexer": "ipython3",
   "version": "3.9.16"
  }
 },
 "nbformat": 4,
 "nbformat_minor": 5
}
