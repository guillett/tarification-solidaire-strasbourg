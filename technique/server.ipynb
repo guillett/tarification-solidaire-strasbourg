{
 "cells": [
  {
   "cell_type": "code",
   "execution_count": null,
   "id": "1b9b5c5a",
   "metadata": {},
   "outputs": [],
   "source": [
    "import sys\n",
    "\n",
    "sys.path.append(\"../technique\")\n",
    "from utils import *"
   ]
  },
  {
   "cell_type": "code",
   "execution_count": null,
   "id": "103403d5",
   "metadata": {},
   "outputs": [],
   "source": [
    "from baremes import baremes, build_sheet"
   ]
  },
  {
   "cell_type": "code",
   "execution_count": null,
   "id": "e23c6336",
   "metadata": {},
   "outputs": [],
   "source": [
    "from openfisca_france import CountryTaxBenefitSystem"
   ]
  },
  {
   "cell_type": "code",
   "execution_count": null,
   "id": "f9c17f98",
   "metadata": {},
   "outputs": [],
   "source": [
    "base = CountryTaxBenefitSystem()\n",
    "base.load_extension(\"openfisca_france_local\")"
   ]
  },
  {
   "cell_type": "code",
   "execution_count": null,
   "id": "fcc7fe6e",
   "metadata": {},
   "outputs": [],
   "source": [
    "build_sheet(base, \"ccs\", \"scenario_ccs23.ods\")"
   ]
  },
  {
   "cell_type": "code",
   "execution_count": null,
   "id": "65af6c86",
   "metadata": {},
   "outputs": [],
   "source": [
    "import ezodf"
   ]
  },
  {
   "cell_type": "code",
   "execution_count": null,
   "id": "682f6429",
   "metadata": {},
   "outputs": [],
   "source": [
    "doc = ezodf.opendoc(\"scenario_ccs23.ods\")"
   ]
  },
  {
   "cell_type": "code",
   "execution_count": null,
   "id": "da590b0b",
   "metadata": {},
   "outputs": [],
   "source": [
    "[s.name for s in doc.sheets]"
   ]
  },
  {
   "cell_type": "code",
   "execution_count": null,
   "id": "6c137771",
   "metadata": {},
   "outputs": [],
   "source": [
    "doc.sheets[\"base\"]"
   ]
  }
 ],
 "metadata": {
  "kernelspec": {
   "display_name": "Python 3 (ipykernel)",
   "language": "python",
   "name": "python3"
  },
  "language_info": {
   "codemirror_mode": {
    "name": "ipython",
    "version": 3
   },
   "file_extension": ".py",
   "mimetype": "text/x-python",
   "name": "python",
   "nbconvert_exporter": "python",
   "pygments_lexer": "ipython3",
   "version": "3.9.16"
  }
 },
 "nbformat": 4,
 "nbformat_minor": 5
}
