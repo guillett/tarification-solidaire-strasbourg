{
 "cells": [
  {
   "cell_type": "code",
   "execution_count": 1,
   "id": "d281b1bd",
   "metadata": {},
   "outputs": [],
   "source": [
    "import ast"
   ]
  },
  {
   "cell_type": "code",
   "execution_count": 11,
   "id": "1cd44e99",
   "metadata": {},
   "outputs": [],
   "source": [
    "n = 13"
   ]
  },
  {
   "cell_type": "code",
   "execution_count": 12,
   "id": "1fa4188d",
   "metadata": {},
   "outputs": [
    {
     "data": {
      "text/plain": [
       "True"
      ]
     },
     "execution_count": 12,
     "metadata": {},
     "output_type": "execute_result"
    }
   ],
   "source": [
    "0 <= n"
   ]
  },
  {
   "cell_type": "code",
   "execution_count": 13,
   "id": "1afa5f47",
   "metadata": {},
   "outputs": [
    {
     "data": {
      "text/plain": [
       "True"
      ]
     },
     "execution_count": 13,
     "metadata": {},
     "output_type": "execute_result"
    }
   ],
   "source": [
    "n <= 40"
   ]
  },
  {
   "cell_type": "code",
   "execution_count": 24,
   "id": "f4d7ce58",
   "metadata": {},
   "outputs": [
    {
     "data": {
      "text/plain": [
       "True"
      ]
     },
     "execution_count": 24,
     "metadata": {},
     "output_type": "execute_result"
    }
   ],
   "source": [
    "0 <= n <= 40"
   ]
  },
  {
   "cell_type": "code",
   "execution_count": 107,
   "id": "f698f5b4",
   "metadata": {},
   "outputs": [],
   "source": [
    "v = '11/12'"
   ]
  },
  {
   "cell_type": "code",
   "execution_count": 108,
   "id": "f53dee25",
   "metadata": {},
   "outputs": [
    {
     "data": {
      "text/plain": [
       "<ast.Module at 0x7fdbd22d0e80>"
      ]
     },
     "execution_count": 108,
     "metadata": {},
     "output_type": "execute_result"
    }
   ],
   "source": [
    "res = ast.parse(v)\n",
    "res"
   ]
  },
  {
   "cell_type": "code",
   "execution_count": 109,
   "id": "0799096c",
   "metadata": {},
   "outputs": [],
   "source": [
    "e = res.body[0]"
   ]
  },
  {
   "cell_type": "code",
   "execution_count": 110,
   "id": "0adea0a8",
   "metadata": {},
   "outputs": [
    {
     "data": {
      "text/plain": [
       "<ast.Expr at 0x7fdbd22d0dc0>"
      ]
     },
     "execution_count": 110,
     "metadata": {},
     "output_type": "execute_result"
    }
   ],
   "source": [
    "e"
   ]
  },
  {
   "cell_type": "code",
   "execution_count": 118,
   "id": "545f468b",
   "metadata": {},
   "outputs": [
    {
     "ename": "AttributeError",
     "evalue": "module 'ast' has no attribute 'eval'",
     "output_type": "error",
     "traceback": [
      "\u001b[0;31m---------------------------------------------------------------------------\u001b[0m",
      "\u001b[0;31mAttributeError\u001b[0m                            Traceback (most recent call last)",
      "Cell \u001b[0;32mIn[118], line 1\u001b[0m\n\u001b[0;32m----> 1\u001b[0m \u001b[43mast\u001b[49m\u001b[38;5;241;43m.\u001b[39;49m\u001b[43meval\u001b[49m(\u001b[38;5;124m\"\u001b[39m\u001b[38;5;124me = 11.2\u001b[39m\u001b[38;5;124m\"\u001b[39m)\n",
      "\u001b[0;31mAttributeError\u001b[0m: module 'ast' has no attribute 'eval'"
     ]
    }
   ],
   "source": [
    "ast.literal_eval"
   ]
  },
  {
   "cell_type": "code",
   "execution_count": 123,
   "id": "60cd92c0",
   "metadata": {},
   "outputs": [],
   "source": [
    "eval(\"None\")"
   ]
  },
  {
   "cell_type": "code",
   "execution_count": 76,
   "id": "68d4a08d",
   "metadata": {},
   "outputs": [
    {
     "data": {
      "text/plain": [
       "True"
      ]
     },
     "execution_count": 76,
     "metadata": {},
     "output_type": "execute_result"
    }
   ],
   "source": [
    "type(e.value.comparators[0]) == ast.Name"
   ]
  },
  {
   "cell_type": "code",
   "execution_count": 71,
   "id": "2c0885d7",
   "metadata": {},
   "outputs": [
    {
     "data": {
      "text/plain": [
       "420"
      ]
     },
     "execution_count": 71,
     "metadata": {},
     "output_type": "execute_result"
    }
   ],
   "source": [
    "e.value.comparators[1].value"
   ]
  },
  {
   "cell_type": "code",
   "execution_count": 78,
   "id": "4777f0d4",
   "metadata": {},
   "outputs": [],
   "source": [
    "d = {}"
   ]
  },
  {
   "cell_type": "code",
   "execution_count": 79,
   "id": "fe9c711d",
   "metadata": {},
   "outputs": [
    {
     "ename": "KeyError",
     "evalue": "'o'",
     "output_type": "error",
     "traceback": [
      "\u001b[0;31m---------------------------------------------------------------------------\u001b[0m",
      "\u001b[0;31mKeyError\u001b[0m                                  Traceback (most recent call last)",
      "Cell \u001b[0;32mIn[79], line 1\u001b[0m\n\u001b[0;32m----> 1\u001b[0m \u001b[43md\u001b[49m\u001b[43m[\u001b[49m\u001b[38;5;124;43m'\u001b[39;49m\u001b[38;5;124;43mo\u001b[39;49m\u001b[38;5;124;43m'\u001b[39;49m\u001b[43m]\u001b[49m\n",
      "\u001b[0;31mKeyError\u001b[0m: 'o'"
     ]
    }
   ],
   "source": [
    "d['o']"
   ]
  },
  {
   "cell_type": "code",
   "execution_count": 84,
   "id": "5f0d1547",
   "metadata": {},
   "outputs": [
    {
     "data": {
      "text/plain": [
       "<function dict.get(key, default=None, /)>"
      ]
     },
     "execution_count": 84,
     "metadata": {},
     "output_type": "execute_result"
    }
   ],
   "source": [
    "d.get"
   ]
  },
  {
   "cell_type": "code",
   "execution_count": 85,
   "id": "a5a4caa5",
   "metadata": {},
   "outputs": [],
   "source": [
    "import numpy as np"
   ]
  },
  {
   "cell_type": "code",
   "execution_count": 86,
   "id": "234da583",
   "metadata": {},
   "outputs": [
    {
     "ename": "TypeError",
     "evalue": "int() argument must be a string, a bytes-like object or a number, not 'NoneType'",
     "output_type": "error",
     "traceback": [
      "\u001b[0;31m---------------------------------------------------------------------------\u001b[0m",
      "\u001b[0;31mTypeError\u001b[0m                                 Traceback (most recent call last)",
      "Cell \u001b[0;32mIn[86], line 1\u001b[0m\n\u001b[0;32m----> 1\u001b[0m \u001b[43mnp\u001b[49m\u001b[38;5;241;43m.\u001b[39;49m\u001b[43mrandom\u001b[49m\u001b[38;5;241;43m.\u001b[39;49m\u001b[43mrandint\u001b[49m\u001b[43m(\u001b[49m\u001b[38;5;28;43;01mNone\u001b[39;49;00m\u001b[43m,\u001b[49m\u001b[43m \u001b[49m\u001b[38;5;241;43m40\u001b[39;49m\u001b[43m)\u001b[49m\n",
      "File \u001b[0;32mmtrand.pyx:765\u001b[0m, in \u001b[0;36mnumpy.random.mtrand.RandomState.randint\u001b[0;34m()\u001b[0m\n",
      "File \u001b[0;32m_bounded_integers.pyx:1236\u001b[0m, in \u001b[0;36mnumpy.random._bounded_integers._rand_int64\u001b[0;34m()\u001b[0m\n",
      "\u001b[0;31mTypeError\u001b[0m: int() argument must be a string, a bytes-like object or a number, not 'NoneType'"
     ]
    }
   ],
   "source": [
    "np.random.randint(None, 40)\n"
   ]
  },
  {
   "cell_type": "code",
   "execution_count": null,
   "id": "866c27f6",
   "metadata": {},
   "outputs": [],
   "source": []
  }
 ],
 "metadata": {
  "kernelspec": {
   "display_name": "Python 3 (ipykernel)",
   "language": "python",
   "name": "python3"
  },
  "language_info": {
   "codemirror_mode": {
    "name": "ipython",
    "version": 3
   },
   "file_extension": ".py",
   "mimetype": "text/x-python",
   "name": "python",
   "nbconvert_exporter": "python",
   "pygments_lexer": "ipython3",
   "version": "3.9.16"
  }
 },
 "nbformat": 4,
 "nbformat_minor": 5
}
