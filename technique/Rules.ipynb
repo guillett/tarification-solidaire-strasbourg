{
 "cells": [
  {
   "cell_type": "code",
   "execution_count": null,
   "id": "d281b1bd",
   "metadata": {},
   "outputs": [],
   "source": [
    "import ast"
   ]
  },
  {
   "cell_type": "code",
   "execution_count": null,
   "id": "1cd44e99",
   "metadata": {},
   "outputs": [],
   "source": [
    "n = 13"
   ]
  },
  {
   "cell_type": "code",
   "execution_count": null,
   "id": "1fa4188d",
   "metadata": {},
   "outputs": [],
   "source": [
    "0 <= n"
   ]
  },
  {
   "cell_type": "code",
   "execution_count": null,
   "id": "1afa5f47",
   "metadata": {},
   "outputs": [],
   "source": [
    "n <= 40"
   ]
  },
  {
   "cell_type": "code",
   "execution_count": null,
   "id": "f4d7ce58",
   "metadata": {},
   "outputs": [],
   "source": [
    "0 <= n <= 40"
   ]
  },
  {
   "cell_type": "code",
   "execution_count": null,
   "id": "f698f5b4",
   "metadata": {},
   "outputs": [],
   "source": [
    "v = \"11/12\""
   ]
  },
  {
   "cell_type": "code",
   "execution_count": null,
   "id": "f53dee25",
   "metadata": {},
   "outputs": [],
   "source": [
    "res = ast.parse(v)\n",
    "res"
   ]
  },
  {
   "cell_type": "code",
   "execution_count": null,
   "id": "0799096c",
   "metadata": {},
   "outputs": [],
   "source": [
    "e = res.body[0]"
   ]
  },
  {
   "cell_type": "code",
   "execution_count": null,
   "id": "0adea0a8",
   "metadata": {},
   "outputs": [],
   "source": [
    "e"
   ]
  },
  {
   "cell_type": "code",
   "execution_count": null,
   "id": "545f468b",
   "metadata": {},
   "outputs": [],
   "source": [
    "ast.literal_eval"
   ]
  },
  {
   "cell_type": "code",
   "execution_count": null,
   "id": "60cd92c0",
   "metadata": {},
   "outputs": [],
   "source": [
    "eval(\"None\")"
   ]
  },
  {
   "cell_type": "code",
   "execution_count": null,
   "id": "2c0885d7",
   "metadata": {},
   "outputs": [],
   "source": [
    "# e.value.comparators[1].value"
   ]
  },
  {
   "cell_type": "code",
   "execution_count": null,
   "id": "4777f0d4",
   "metadata": {},
   "outputs": [],
   "source": [
    "d = {}"
   ]
  },
  {
   "cell_type": "code",
   "execution_count": null,
   "id": "fe9c711d",
   "metadata": {},
   "outputs": [],
   "source": [
    "\"o\" in d"
   ]
  },
  {
   "cell_type": "code",
   "execution_count": null,
   "id": "5f0d1547",
   "metadata": {},
   "outputs": [],
   "source": [
    "d.get"
   ]
  },
  {
   "cell_type": "code",
   "execution_count": null,
   "id": "a5a4caa5",
   "metadata": {},
   "outputs": [],
   "source": [
    "import numpy as np"
   ]
  },
  {
   "cell_type": "code",
   "execution_count": null,
   "id": "234da583",
   "metadata": {},
   "outputs": [],
   "source": [
    "np.random.randint(12, 40)"
   ]
  },
  {
   "cell_type": "code",
   "execution_count": null,
   "id": "866c27f6",
   "metadata": {},
   "outputs": [],
   "source": []
  },
  {
   "cell_type": "code",
   "execution_count": null,
   "id": "ee78be2f",
   "metadata": {},
   "outputs": [],
   "source": []
  }
 ],
 "metadata": {
  "kernelspec": {
   "display_name": "Python 3 (ipykernel)",
   "language": "python",
   "name": "python3"
  },
  "language_info": {
   "codemirror_mode": {
    "name": "ipython",
    "version": 3
   },
   "file_extension": ".py",
   "mimetype": "text/x-python",
   "name": "python",
   "nbconvert_exporter": "python",
   "pygments_lexer": "ipython3",
   "version": "3.9.16"
  }
 },
 "nbformat": 4,
 "nbformat_minor": 5
}
