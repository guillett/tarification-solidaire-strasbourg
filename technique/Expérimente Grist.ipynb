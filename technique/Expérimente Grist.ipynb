{
 "cells": [
  {
   "cell_type": "code",
   "execution_count": null,
   "id": "6cc46930",
   "metadata": {},
   "outputs": [],
   "source": [
    "from grist import api"
   ]
  },
  {
   "cell_type": "code",
   "execution_count": null,
   "id": "67b1f4b6",
   "metadata": {},
   "outputs": [],
   "source": [
    "import requests"
   ]
  },
  {
   "cell_type": "code",
   "execution_count": null,
   "id": "94488105",
   "metadata": {},
   "outputs": [],
   "source": [
    "from dotenv import load_dotenv\n",
    "\n",
    "load_dotenv()"
   ]
  },
  {
   "cell_type": "code",
   "execution_count": null,
   "id": "5d4f5954",
   "metadata": {},
   "outputs": [],
   "source": [
    "import os"
   ]
  },
  {
   "cell_type": "code",
   "execution_count": null,
   "id": "da5a656b",
   "metadata": {},
   "outputs": [],
   "source": [
    "GRIST_DOC_ID = os.getenv(\"GRIST_DOC_ID\")\n",
    "GRIST_API_KEY = os.getenv(\"GRIST_API_KEY\")\n",
    "GRIST_SERVER = os.getenv(\"GRIST_SERVER\")"
   ]
  },
  {
   "cell_type": "code",
   "execution_count": null,
   "id": "1e14595b",
   "metadata": {},
   "outputs": [],
   "source": [
    "f\"{GRIST_SERVER}/api/docs/{GRIST_DOC_ID}/tables\""
   ]
  },
  {
   "cell_type": "code",
   "execution_count": null,
   "id": "1d6f02a5",
   "metadata": {},
   "outputs": [],
   "source": [
    "requests.get(\n",
    "    f\"{GRIST_SERVER}/api/docs/{GRIST_DOC_ID}/tables\",\n",
    "    headers={\"Authorization\": f\"Bearer {GRIST_API_KEY}\"},\n",
    ").json()"
   ]
  },
  {
   "cell_type": "code",
   "execution_count": null,
   "id": "6666c6be",
   "metadata": {},
   "outputs": [],
   "source": [
    "requests.get(\n",
    "    f\"{GRIST_SERVER}/api/docs/{GRIST_DOC_ID}/tables/Baremes_transports/columns\",\n",
    "    headers={\"Authorization\": f\"Bearer {GRIST_API_KEY}\"},\n",
    ").json()"
   ]
  },
  {
   "cell_type": "code",
   "execution_count": null,
   "id": "8fbb242e",
   "metadata": {},
   "outputs": [],
   "source": [
    "import json"
   ]
  },
  {
   "cell_type": "code",
   "execution_count": null,
   "id": "a97bdb2e",
   "metadata": {},
   "outputs": [],
   "source": [
    "requests.post(\n",
    "    f\"{GRIST_SERVER}/api/docs/{GRIST_DOC_ID}/tables\",\n",
    "    data=json.dumps({\"tables\": [{\"id\": \"Tableau QF été\", \"columns\": [{\"id\": \"QF\"}]}]}),\n",
    "    headers={\n",
    "        \"Authorization\": f\"Bearer {GRIST_API_KEY}\",\n",
    "        \"Content-Type\": \"application/json\",\n",
    "    },\n",
    ").json()"
   ]
  },
  {
   "cell_type": "code",
   "execution_count": null,
   "id": "1cba68d3",
   "metadata": {},
   "outputs": [],
   "source": [
    "baremes = {\n",
    "    \"apl_j\": lambda p: p.communes.strasbourg.periscolaire_loisirs.journee.bareme,\n",
    "    \"apl_1/2j\": lambda p: p.communes.strasbourg.periscolaire_loisirs.demi_journee.bareme,\n",
    "    \"apm\": lambda p: p.communes.strasbourg.periscolaire_maternelle.bareme,\n",
    "    \"dee_std\": lambda p: p.metropoles.strasbourg.tarifs_cantine,\n",
    "    \"dee_veg\": lambda p: p.metropoles.strasbourg.tarifs_repas_vege,\n",
    "    \"dee_pan\": lambda p: p.metropoles.strasbourg.tarifs_repas_panier,\n",
    "    \"ccs_eveil\": lambda p: p.communes.strasbourg.centre_choregraphique.eveil.bareme,\n",
    "    \"ccs_enf_1c\": lambda p: p.communes.strasbourg.centre_choregraphique.enfant._1_cours.bareme,\n",
    "    \"ccs_enf_2c\": lambda p: p.communes.strasbourg.centre_choregraphique.enfant._2_cours.bareme,\n",
    "    \"ccs_enf_3c\": lambda p: p.communes.strasbourg.centre_choregraphique.enfant._3_cours.bareme,\n",
    "    \"ccs_enf_4c\": lambda p: p.communes.strasbourg.centre_choregraphique.enfant._4_cours.bareme,\n",
    "    \"ccs_adu_1c_tri\": lambda p: p.communes.strasbourg.centre_choregraphique.adulte._1_cours_trimestre.bareme,\n",
    "    \"ccs_adu_1c\": lambda p: p.communes.strasbourg.centre_choregraphique.adulte._1_cours.bareme,\n",
    "    \"ccs_adu_2c\": lambda p: p.communes.strasbourg.centre_choregraphique.adulte._2_cours.bareme,\n",
    "    \"ccs_adu_3c\": lambda p: p.communes.strasbourg.centre_choregraphique.adulte._3_cours.bareme,\n",
    "    \"ccs_adu_4c\": lambda p: p.communes.strasbourg.centre_choregraphique.adulte._4_cours.bareme,\n",
    "    \"pat_pu\": lambda p: p.communes.strasbourg.patinoire.entree_unitaire.bareme_qf,\n",
    "    \"pat_10\": lambda p: p.communes.strasbourg.patinoire._10_entrees.bareme_qf,\n",
    "    \"pis_abo_ann\": lambda p: p.communes.strasbourg.piscine.abonnement_annuel,\n",
    "    \"pis_abo_ete\": lambda p: p.communes.strasbourg.piscine.abonnement_ete,\n",
    "    \"pis_cycle\": lambda p: p.communes.strasbourg.piscine.cycle.bareme,\n",
    "    \"pis_stage_ete\": lambda p: p.communes.strasbourg.piscine.stage_ete.bareme,\n",
    "    \"pis_stage_vac\": lambda p: p.communes.strasbourg.piscine.stage_vacances.bareme,\n",
    "    \"pis_stage_5s\": lambda p: p.communes.strasbourg.piscine.stage_5_seances.bareme,\n",
    "    \"mob_base\": lambda p: p.metropoles.strasbourg.tarification_solidaire.bareme_reduit,\n",
    "    \"mob_reduit\": lambda p: p.metropoles.strasbourg.tarification_solidaire.bareme,\n",
    "}"
   ]
  },
  {
   "cell_type": "code",
   "execution_count": null,
   "id": "f3e11b38",
   "metadata": {},
   "outputs": [],
   "source": [
    "columns = [{\"id\": \"QF\"}]\n",
    "for b in baremes:\n",
    "    columns.append({\"id\": b})"
   ]
  },
  {
   "cell_type": "code",
   "execution_count": null,
   "id": "b97e493f",
   "metadata": {},
   "outputs": [],
   "source": [
    "columns"
   ]
  },
  {
   "cell_type": "code",
   "execution_count": null,
   "id": "0406a84c",
   "metadata": {},
   "outputs": [],
   "source": [
    "requests.post(\n",
    "    f\"{GRIST_SERVER}/api/docs/{GRIST_DOC_ID}/tables\",\n",
    "    data=json.dumps({\"tables\": [{\"id\": \"Tableau QF été\", \"columns\": columns}]}),\n",
    "    headers={\n",
    "        \"Authorization\": f\"Bearer {GRIST_API_KEY}\",\n",
    "        \"Content-Type\": \"application/json\",\n",
    "    },\n",
    ").json()"
   ]
  },
  {
   "cell_type": "code",
   "execution_count": null,
   "id": "b55d947c",
   "metadata": {},
   "outputs": [],
   "source": []
  }
 ],
 "metadata": {
  "kernelspec": {
   "display_name": "Python 3 (ipykernel)",
   "language": "python",
   "name": "python3"
  },
  "language_info": {
   "codemirror_mode": {
    "name": "ipython",
    "version": 3
   },
   "file_extension": ".py",
   "mimetype": "text/x-python",
   "name": "python",
   "nbconvert_exporter": "python",
   "pygments_lexer": "ipython3",
   "version": "3.9.16"
  }
 },
 "nbformat": 4,
 "nbformat_minor": 5
}
