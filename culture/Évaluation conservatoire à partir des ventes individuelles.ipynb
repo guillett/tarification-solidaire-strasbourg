{
 "cells": [
  {
   "cell_type": "code",
   "execution_count": null,
   "id": "e63c768d",
   "metadata": {},
   "outputs": [],
   "source": [
    "1"
   ]
  },
  {
   "cell_type": "code",
   "execution_count": null,
   "id": "759620c9",
   "metadata": {},
   "outputs": [],
   "source": [
    "import numpy as np\n",
    "import pandas as pd\n",
    "\n",
    "pd.options.display.float_format = lambda v: \"{:_.2f}\".format(v).replace(\"_\", \" \")"
   ]
  },
  {
   "cell_type": "code",
   "execution_count": null,
   "id": "3a9a34e4",
   "metadata": {},
   "outputs": [],
   "source": [
    "df = pd.read_excel(\n",
    "    \"/home/thomas/Nextcloud/CodeursEnLiberte/EMS/culture/Conservatoire/Copie de Copie de Elèves 2022-23 - dominantes + montant facturé + tranche HA v2.xlsx\",\n",
    ")\n",
    "df"
   ]
  },
  {
   "cell_type": "code",
   "execution_count": null,
   "id": "f29b1566",
   "metadata": {},
   "outputs": [],
   "source": [
    "df[\"Indication géographique\"].fillna(\"Hors EMS\", inplace=True)\n",
    "df[\"Enfant de la fratrie\"].fillna(1, inplace=True)\n",
    "df.Dominante.fillna(1, inplace=True)"
   ]
  },
  {
   "cell_type": "code",
   "execution_count": null,
   "id": "b997666d",
   "metadata": {},
   "outputs": [],
   "source": [
    "df.groupby(\"produit\").Nom.count().sum()"
   ]
  },
  {
   "cell_type": "code",
   "execution_count": null,
   "id": "900ced1b",
   "metadata": {},
   "outputs": [],
   "source": [
    "from openfisca_france import CountryTaxBenefitSystem"
   ]
  },
  {
   "cell_type": "code",
   "execution_count": null,
   "id": "6de07cca",
   "metadata": {},
   "outputs": [],
   "source": [
    "base = CountryTaxBenefitSystem()\n",
    "base.load_extension(\"openfisca_france_local\")"
   ]
  },
  {
   "cell_type": "code",
   "execution_count": null,
   "id": "852d8da3",
   "metadata": {},
   "outputs": [],
   "source": [
    "import sys\n",
    "\n",
    "sys.path.append(\"../technique\")\n",
    "from utils import *"
   ]
  },
  {
   "cell_type": "code",
   "execution_count": null,
   "id": "ca9ca297",
   "metadata": {},
   "outputs": [],
   "source": [
    "from utils import StrasbourgSurveyScenario"
   ]
  },
  {
   "cell_type": "code",
   "execution_count": null,
   "id": "f97d53ea",
   "metadata": {},
   "outputs": [],
   "source": [
    "count = len(df)\n",
    "sample_count = 1\n",
    "individu_df = pd.DataFrame(\n",
    "    {\n",
    "        \"famille_id\": list(range(count * sample_count)),\n",
    "    }\n",
    ")\n",
    "sample_ids = np.repeat(list(range(sample_count)), count)\n",
    "indiv_ids = np.tile(list(range(count)), sample_count)\n",
    "# sample_qfrule = np.tile(product_df.qfrule, sample_count)\n",
    "\n",
    "agent = df[\"Indication géographique\"].str.contains(\"Agent\")\n",
    "habitant = df[\"Indication géographique\"].str.contains(\"Habitant\")\n",
    "famille_df = pd.DataFrame(\n",
    "    {\n",
    "        \"sample_id\": sample_ids,\n",
    "        \"strasbourg_conservatoire_base_ressources\": 100000,\n",
    "        \"agent_ems\": np.tile(agent, sample_count),\n",
    "        \"habitant_ems\": np.tile(habitant, sample_count),\n",
    "    }\n",
    ")\n",
    "\n",
    "menage_df = pd.DataFrame({})\n",
    "foyerfiscaux_df = pd.DataFrame({})\n",
    "\n",
    "individu_df[\"famille_role_index\"] = 0\n",
    "individu_df[\"foyer_fiscal_id\"] = individu_df.famille_id\n",
    "individu_df[\"foyer_fiscal_role_index\"] = 0\n",
    "individu_df[\"menage_id\"] = individu_df.famille_id\n",
    "individu_df[\"menage_role_index\"] = 0\n",
    "\n",
    "data = dict(\n",
    "    input_data_frame_by_entity=dict(\n",
    "        individu=individu_df,\n",
    "        famille=famille_df,\n",
    "        menage=menage_df,\n",
    "        foyer_fiscal=foyerfiscaux_df,\n",
    "    )\n",
    ")"
   ]
  },
  {
   "cell_type": "code",
   "execution_count": null,
   "id": "90215fa0",
   "metadata": {},
   "outputs": [],
   "source": [
    "scenario = StrasbourgSurveyScenario(base, data)"
   ]
  },
  {
   "cell_type": "code",
   "execution_count": null,
   "id": "95804758",
   "metadata": {},
   "outputs": [],
   "source": [
    "v = scenario.simulation.calculate(\n",
    "    \"strasbourg_conservatoire_traditionnel_enf12\", base_period\n",
    ")"
   ]
  },
  {
   "cell_type": "code",
   "execution_count": null,
   "id": "0319e21e",
   "metadata": {},
   "outputs": [],
   "source": [
    "pd.Series(v).unique()"
   ]
  },
  {
   "cell_type": "code",
   "execution_count": null,
   "id": "453d03c9",
   "metadata": {},
   "outputs": [],
   "source": [
    "df[(~(df.MontantFactureSurEleve == v)) * (df.produit == \"traditionnel_enf12\")]"
   ]
  },
  {
   "cell_type": "code",
   "execution_count": null,
   "id": "0532e3d5",
   "metadata": {},
   "outputs": [],
   "source": [
    "(df.produit == \"traditionnel_enf12\").sum()"
   ]
  },
  {
   "cell_type": "code",
   "execution_count": null,
   "id": "ba13797b",
   "metadata": {},
   "outputs": [],
   "source": []
  }
 ],
 "metadata": {
  "kernelspec": {
   "display_name": "Python 3 (ipykernel)",
   "language": "python",
   "name": "python3"
  },
  "language_info": {
   "codemirror_mode": {
    "name": "ipython",
    "version": 3
   },
   "file_extension": ".py",
   "mimetype": "text/x-python",
   "name": "python",
   "nbconvert_exporter": "python",
   "pygments_lexer": "ipython3",
   "version": "3.9.16"
  }
 },
 "nbformat": 4,
 "nbformat_minor": 5
}
