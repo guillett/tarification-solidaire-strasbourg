{
 "cells": [
  {
   "cell_type": "code",
   "execution_count": null,
   "id": "e63c768d",
   "metadata": {},
   "outputs": [],
   "source": [
    "1"
   ]
  },
  {
   "cell_type": "code",
   "execution_count": null,
   "id": "81692524",
   "metadata": {},
   "outputs": [],
   "source": [
    "import conservatoire"
   ]
  },
  {
   "cell_type": "code",
   "execution_count": null,
   "id": "759620c9",
   "metadata": {},
   "outputs": [],
   "source": [
    "import numpy as np\n",
    "import pandas as pd\n",
    "\n",
    "pd.options.display.float_format = lambda v: \"{:_.2f}\".format(v).replace(\"_\", \" \")"
   ]
  },
  {
   "cell_type": "code",
   "execution_count": null,
   "id": "852d8da3",
   "metadata": {},
   "outputs": [],
   "source": [
    "import sys\n",
    "\n",
    "sys.path.append(\"../technique\")\n",
    "from utils import *"
   ]
  },
  {
   "cell_type": "code",
   "execution_count": null,
   "id": "e8dfa9a1",
   "metadata": {},
   "outputs": [],
   "source": [
    "import conservatoire"
   ]
  },
  {
   "cell_type": "code",
   "execution_count": null,
   "id": "5dc23e19",
   "metadata": {},
   "outputs": [],
   "source": [
    "from openfisca_france import CountryTaxBenefitSystem"
   ]
  },
  {
   "cell_type": "code",
   "execution_count": null,
   "id": "09911816",
   "metadata": {},
   "outputs": [],
   "source": [
    "base = CountryTaxBenefitSystem()\n",
    "base.load_extension(\"openfisca_france_local\")"
   ]
  },
  {
   "cell_type": "code",
   "execution_count": null,
   "id": "39cba2d7",
   "metadata": {},
   "outputs": [],
   "source": [
    "res = conservatoire.get_results(base, 1)"
   ]
  },
  {
   "cell_type": "code",
   "execution_count": null,
   "id": "ca9ca297",
   "metadata": {},
   "outputs": [],
   "source": [
    "for n, df in res[1]:\n",
    "    print(n)\n",
    "    display(df[df.prix != df.prix_input])\n",
    "    assert df[df.prix != df.prix_input].shape[0] == 0"
   ]
  },
  {
   "cell_type": "code",
   "execution_count": null,
   "id": "3993781a",
   "metadata": {},
   "outputs": [],
   "source": [
    "from utils import StrasbourgSurveyScenario"
   ]
  },
  {
   "cell_type": "code",
   "execution_count": null,
   "id": "3bd31d66",
   "metadata": {},
   "outputs": [],
   "source": [
    "if True:\n",
    "    df = conservatoire.get_df()\n",
    "    data, extra = conservatoire.build_data(df)\n",
    "    determine_qf(data[\"input_data_frame_by_entity\"][\"famille\"])\n",
    "    scenario = StrasbourgSurveyScenario(base, data)\n",
    "\n",
    "    names = [\n",
    "        n\n",
    "        for n in base.variables\n",
    "        if n.startswith(\"strasbourg_conservatoire\")\n",
    "        and not n.endswith(\"base_ressources\")\n",
    "        and \"nombre\" not in n\n",
    "    ]\n",
    "    for n in names:\n",
    "        v = scenario.simulation.calculate(n, base_period)\n",
    "        df[n] = v\n",
    "\n",
    "    res = (\n",
    "        df[[\"index\", \"MontantFactureSurEleve\", *names]]\n",
    "        .set_index([\"index\", \"MontantFactureSurEleve\"])\n",
    "        .stack()\n",
    "        .reset_index()\n",
    "        .rename(columns={0: \"Montant calculé\", \"level_2\": \"variable\"})\n",
    "    )\n",
    "\n",
    "    res[\"match\"] = (res[\"Montant calculé\"] - res[\"MontantFactureSurEleve\"]).abs() < 0.1\n",
    "    ns = res[res.match].groupby(\"index\").variable.last()\n",
    "    # res.groupby(\"index\").variable.first().to_excel(\"crr_correspondances_test2.xlsx\")\n",
    "    row_data = pd.DataFrame({\"match\": res.groupby(\"index\").match.sum()}).reset_index()\n",
    "    display(row_data.groupby(\"match\").count())\n",
    "\n",
    "    rdf = df.merge(row_data, on=\"index\")\n",
    "    display(rdf[rdf.match == 0].groupby(\"MontantFactureSurEleve\").service.count())\n",
    "    assert len(rdf[rdf.match == 0]) == 0"
   ]
  }
 ],
 "metadata": {
  "kernelspec": {
   "display_name": "Python 3 (ipykernel)",
   "language": "python",
   "name": "python3"
  },
  "language_info": {
   "codemirror_mode": {
    "name": "ipython",
    "version": 3
   },
   "file_extension": ".py",
   "mimetype": "text/x-python",
   "name": "python",
   "nbconvert_exporter": "python",
   "pygments_lexer": "ipython3",
   "version": "3.9.16"
  }
 },
 "nbformat": 4,
 "nbformat_minor": 5
}
