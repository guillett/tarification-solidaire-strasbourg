{
 "cells": [
  {
   "cell_type": "code",
   "execution_count": null,
   "id": "e63c768d",
   "metadata": {},
   "outputs": [],
   "source": [
    "1"
   ]
  },
  {
   "cell_type": "code",
   "execution_count": null,
   "id": "81692524",
   "metadata": {},
   "outputs": [],
   "source": [
    "import conservatoire"
   ]
  },
  {
   "cell_type": "code",
   "execution_count": null,
   "id": "759620c9",
   "metadata": {},
   "outputs": [],
   "source": [
    "import numpy as np\n",
    "import pandas as pd\n",
    "\n",
    "pd.options.display.float_format = lambda v: \"{:_.2f}\".format(v).replace(\"_\", \" \")"
   ]
  },
  {
   "cell_type": "code",
   "execution_count": null,
   "id": "900ced1b",
   "metadata": {},
   "outputs": [],
   "source": [
    "from openfisca_france import CountryTaxBenefitSystem"
   ]
  },
  {
   "cell_type": "code",
   "execution_count": null,
   "id": "6de07cca",
   "metadata": {},
   "outputs": [],
   "source": [
    "base = CountryTaxBenefitSystem()\n",
    "base.load_extension(\"openfisca_france_local\")"
   ]
  },
  {
   "cell_type": "code",
   "execution_count": null,
   "id": "852d8da3",
   "metadata": {},
   "outputs": [],
   "source": [
    "import sys\n",
    "\n",
    "sys.path.append(\"../technique\")\n",
    "from utils import *"
   ]
  },
  {
   "cell_type": "code",
   "execution_count": null,
   "id": "e8dfa9a1",
   "metadata": {},
   "outputs": [],
   "source": [
    "import conservatoire"
   ]
  },
  {
   "cell_type": "code",
   "execution_count": null,
   "id": "39cba2d7",
   "metadata": {},
   "outputs": [],
   "source": [
    "res = conservatoire.get_results(base, 2)"
   ]
  },
  {
   "cell_type": "code",
   "execution_count": null,
   "id": "2b7c3065",
   "metadata": {},
   "outputs": [],
   "source": [
    "res[0]"
   ]
  },
  {
   "cell_type": "code",
   "execution_count": null,
   "id": "ca9ca297",
   "metadata": {},
   "outputs": [],
   "source": [
    "from utils import StrasbourgSurveyScenario"
   ]
  },
  {
   "cell_type": "code",
   "execution_count": null,
   "id": "ea491c53",
   "metadata": {},
   "outputs": [],
   "source": [
    "conservatoire"
   ]
  },
  {
   "cell_type": "code",
   "execution_count": null,
   "id": "f97d53ea",
   "metadata": {},
   "outputs": [],
   "source": [
    "count = len(df)\n",
    "sample_count = 1\n",
    "individu_df = pd.DataFrame(\n",
    "    {\n",
    "        \"famille_id\": list(range(count * sample_count)),\n",
    "    }\n",
    ")\n",
    "sample_ids = np.repeat(list(range(sample_count)), count)\n",
    "indiv_ids = np.tile(list(range(count)), sample_count)\n",
    "# sample_qfrule = np.tile(product_df.qfrule, sample_count)\n",
    "\n",
    "famille_df = pd.DataFrame(\n",
    "    {\n",
    "        \"sample_id\": sample_ids,\n",
    "        \"strasbourg_conservatoire_base_ressources\": np.tile(\n",
    "            df[\"ressources\"], sample_count\n",
    "        ),\n",
    "        \"strasbourg_conservatoire_nombre_cycles\": np.tile(df[\"Cycle.1\"], sample_count),\n",
    "        \"agent_ems\": np.tile(df.agent, sample_count),\n",
    "        \"habitant_ems\": np.tile(df[\"habitant EMS\"], sample_count),\n",
    "    }\n",
    ")\n",
    "\n",
    "menage_df = pd.DataFrame({})\n",
    "foyerfiscaux_df = pd.DataFrame({})\n",
    "\n",
    "individu_df[\"famille_role_index\"] = 0\n",
    "individu_df[\"foyer_fiscal_id\"] = individu_df.famille_id\n",
    "individu_df[\"foyer_fiscal_role_index\"] = 0\n",
    "individu_df[\"menage_id\"] = individu_df.famille_id\n",
    "individu_df[\"menage_role_index\"] = 0\n",
    "\n",
    "data = dict(\n",
    "    input_data_frame_by_entity=dict(\n",
    "        individu=individu_df,\n",
    "        famille=famille_df,\n",
    "        menage=menage_df,\n",
    "        foyer_fiscal=foyerfiscaux_df,\n",
    "    )\n",
    ")"
   ]
  },
  {
   "cell_type": "code",
   "execution_count": null,
   "id": "0e1b351a",
   "metadata": {},
   "outputs": [],
   "source": [
    "df = conservatoire.get_df()\n",
    "data = conservatoire.build_data(df)"
   ]
  },
  {
   "cell_type": "code",
   "execution_count": null,
   "id": "90215fa0",
   "metadata": {},
   "outputs": [],
   "source": [
    "scenario = StrasbourgSurveyScenario(base, data)"
   ]
  },
  {
   "cell_type": "code",
   "execution_count": null,
   "id": "3bd31d66",
   "metadata": {},
   "outputs": [],
   "source": [
    "names = [\n",
    "    n\n",
    "    for n in base.variables\n",
    "    if n.startswith(\"strasbourg_conservatoire\")\n",
    "    and not n.endswith(\"base_ressources\")\n",
    "    and \"nombre\" not in n\n",
    "]"
   ]
  },
  {
   "cell_type": "code",
   "execution_count": null,
   "id": "fd1232ee",
   "metadata": {},
   "outputs": [],
   "source": [
    "for n in names:\n",
    "    v = scenario.simulation.calculate(n, base_period)\n",
    "    df[n] = v"
   ]
  },
  {
   "cell_type": "code",
   "execution_count": null,
   "id": "d6913e5a",
   "metadata": {},
   "outputs": [],
   "source": [
    "res = (\n",
    "    df[[\"index\", \"MontantFactureSurEleve\", *names]]\n",
    "    .set_index([\"index\", \"MontantFactureSurEleve\"])\n",
    "    .stack()\n",
    "    .reset_index()\n",
    "    .rename(columns={0: \"Montant calculé\", \"level_2\": \"variable\"})\n",
    ")\n",
    "res"
   ]
  },
  {
   "cell_type": "code",
   "execution_count": null,
   "id": "f9b06be5",
   "metadata": {},
   "outputs": [],
   "source": [
    "res[\"match\"] = (res[\"Montant calculé\"] - res[\"MontantFactureSurEleve\"]).abs() < 0.1"
   ]
  },
  {
   "cell_type": "code",
   "execution_count": null,
   "id": "b4b5d59e",
   "metadata": {},
   "outputs": [],
   "source": [
    "res[res.match]  # .to_excel('crr_correspondances.xlsx')"
   ]
  },
  {
   "cell_type": "code",
   "execution_count": null,
   "id": "c3369e1b",
   "metadata": {},
   "outputs": [],
   "source": [
    "res[res.match].groupby(\n",
    "    \"index\"\n",
    ").variable.first()  # .to_excel('crr_correspondances_test.xlsx')"
   ]
  },
  {
   "cell_type": "code",
   "execution_count": null,
   "id": "86ba72c7",
   "metadata": {},
   "outputs": [],
   "source": [
    "pd.DataFrame({\"match\": res.groupby(\"index\").match.sum()}).reset_index()"
   ]
  },
  {
   "cell_type": "code",
   "execution_count": null,
   "id": "4d50a59d",
   "metadata": {},
   "outputs": [],
   "source": [
    "row_data = pd.DataFrame({\"match\": res.groupby(\"index\").match.sum()}).reset_index()"
   ]
  },
  {
   "cell_type": "code",
   "execution_count": null,
   "id": "6137f1c9",
   "metadata": {},
   "outputs": [],
   "source": [
    "row_data.groupby(\"match\").count()"
   ]
  },
  {
   "cell_type": "code",
   "execution_count": null,
   "id": "0cde6c34",
   "metadata": {},
   "outputs": [],
   "source": [
    "rdf = df.merge(row_data, on=\"index\")"
   ]
  },
  {
   "cell_type": "code",
   "execution_count": null,
   "id": "47df6d3a",
   "metadata": {},
   "outputs": [],
   "source": [
    "assert len(rdf[rdf.match == 0]) == 1"
   ]
  },
  {
   "cell_type": "code",
   "execution_count": null,
   "id": "4177d15f",
   "metadata": {},
   "outputs": [],
   "source": []
  }
 ],
 "metadata": {
  "kernelspec": {
   "display_name": "Python 3 (ipykernel)",
   "language": "python",
   "name": "python3"
  },
  "language_info": {
   "codemirror_mode": {
    "name": "ipython",
    "version": 3
   },
   "file_extension": ".py",
   "mimetype": "text/x-python",
   "name": "python",
   "nbconvert_exporter": "python",
   "pygments_lexer": "ipython3",
   "version": "3.9.16"
  }
 },
 "nbformat": 4,
 "nbformat_minor": 5
}
