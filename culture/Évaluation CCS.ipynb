{
 "cells": [
  {
   "cell_type": "code",
   "execution_count": null,
   "id": "d3776cfa",
   "metadata": {},
   "outputs": [],
   "source": [
    "1"
   ]
  },
  {
   "cell_type": "code",
   "execution_count": null,
   "id": "de99f08c",
   "metadata": {},
   "outputs": [],
   "source": [
    "import numpy as np\n",
    "import pandas as pd\n",
    "\n",
    "pd.options.display.float_format = lambda v: \"{:_.2f}\".format(v).replace(\"_\", \" \")"
   ]
  },
  {
   "cell_type": "code",
   "execution_count": null,
   "id": "b2b857db",
   "metadata": {},
   "outputs": [],
   "source": [
    "from dotenv import load_dotenv\n",
    "\n",
    "load_dotenv()\n",
    "import os"
   ]
  },
  {
   "cell_type": "code",
   "execution_count": null,
   "id": "1a4496be",
   "metadata": {},
   "outputs": [],
   "source": [
    "raw_df = pd.read_csv(\n",
    "    f\"{os.getenv('DATA_FOLDER')}culture/CCS_ELEVES_FULL.csv\",\n",
    "    delimiter=\";\",\n",
    "    encoding=\"windows-1250\",\n",
    "    index_col=0,\n",
    "    decimal=\",\",\n",
    ")"
   ]
  },
  {
   "cell_type": "code",
   "execution_count": null,
   "id": "505be5c2",
   "metadata": {},
   "outputs": [],
   "source": [
    "raw_df[[\"Montant.facturé\", \"LABEL\"]].to_pickle(\n",
    "    f\"{os.getenv('DATA_FOLDER')}culture/CCS_ELEVES_anon.pickle\"\n",
    ")"
   ]
  },
  {
   "cell_type": "code",
   "execution_count": null,
   "id": "1ed0a4dd",
   "metadata": {},
   "outputs": [],
   "source": [
    "from openfisca_france import CountryTaxBenefitSystem"
   ]
  },
  {
   "cell_type": "code",
   "execution_count": null,
   "id": "a2c33907",
   "metadata": {},
   "outputs": [],
   "source": [
    "import sys\n",
    "\n",
    "sys.path.append(\"../technique\")\n",
    "from utils import *"
   ]
  },
  {
   "cell_type": "code",
   "execution_count": null,
   "id": "4b6d88ab",
   "metadata": {},
   "outputs": [],
   "source": [
    "from scenario import (\n",
    "    QfFiscalReform,\n",
    "    StatutReform,\n",
    "    CEReform,\n",
    "    new_bracket,\n",
    "    extract_max_value,\n",
    "    SheetBasedReform,\n",
    ")"
   ]
  },
  {
   "cell_type": "code",
   "execution_count": null,
   "id": "3e9c9233",
   "metadata": {},
   "outputs": [],
   "source": [
    "from centre_choregraphique import compute, build_data, get_df, fields, get_results"
   ]
  },
  {
   "cell_type": "code",
   "execution_count": null,
   "id": "49e57075",
   "metadata": {},
   "outputs": [],
   "source": [
    "base = CountryTaxBenefitSystem()\n",
    "base.load_extension(\"openfisca_france_local\")"
   ]
  },
  {
   "cell_type": "code",
   "execution_count": null,
   "id": "2c9c9554",
   "metadata": {},
   "outputs": [],
   "source": [
    "qf_fiscal_reform = QfFiscalReform(base)\n",
    "statut_reform = StatutReform(qf_fiscal_reform)\n",
    "ce_reform = CEReform(statut_reform)\n",
    "reform = ce_reform"
   ]
  },
  {
   "cell_type": "code",
   "execution_count": null,
   "id": "e50ea1a0",
   "metadata": {},
   "outputs": [],
   "source": [
    "recap, dfs = get_results(base, 1, reform)"
   ]
  },
  {
   "cell_type": "code",
   "execution_count": null,
   "id": "2e84825d",
   "metadata": {},
   "outputs": [],
   "source": [
    "recap"
   ]
  },
  {
   "cell_type": "code",
   "execution_count": null,
   "id": "f8cd1d95",
   "metadata": {},
   "outputs": [],
   "source": [
    "dfs[0][1]  # .groupby(\"sample_id\").prix_r.sum().describe()"
   ]
  },
  {
   "cell_type": "code",
   "execution_count": null,
   "id": "96f1a31c",
   "metadata": {},
   "outputs": [],
   "source": [
    "recap.sort_values((\"Recettes base\", \"Moyenne\"), ascending=False)"
   ]
  },
  {
   "cell_type": "code",
   "execution_count": null,
   "id": "a1866226",
   "metadata": {},
   "outputs": [],
   "source": [
    "for v, res in dfs:\n",
    "    print(v)\n",
    "    display(res[~res.res])\n",
    "    assert res[~res.res].shape[0] == 0"
   ]
  },
  {
   "cell_type": "code",
   "execution_count": null,
   "id": "07449067",
   "metadata": {},
   "outputs": [],
   "source": [
    "recap[(\"Recettes base\", \"Moyenne\")].sum()"
   ]
  },
  {
   "cell_type": "code",
   "execution_count": null,
   "id": "8826f5e2",
   "metadata": {},
   "outputs": [],
   "source": [
    "recap[(\"Recettes réforme\", \"Moyenne\")].sum()"
   ]
  },
  {
   "cell_type": "code",
   "execution_count": null,
   "id": "e776e384",
   "metadata": {},
   "outputs": [],
   "source": [
    "recap[(\"Recettes réforme\", \"Moyenne\")].sum() / recap[(\"Recettes base\", \"Moyenne\")].sum()"
   ]
  },
  {
   "cell_type": "code",
   "execution_count": null,
   "id": "866782c2",
   "metadata": {},
   "outputs": [],
   "source": [
    "qf_fiscal_reform = QfFiscalReform(base)"
   ]
  },
  {
   "cell_type": "code",
   "execution_count": null,
   "id": "b035f1ba",
   "metadata": {},
   "outputs": [],
   "source": [
    "(vv, _) = get_results(base, 2, qf_fiscal_reform)\n",
    "vv.sort_values((\"Recettes base\", \"Moyenne\"), ascending=False)"
   ]
  },
  {
   "cell_type": "code",
   "execution_count": null,
   "id": "3c9aa8cd",
   "metadata": {},
   "outputs": [],
   "source": [
    "df = get_df()"
   ]
  },
  {
   "cell_type": "code",
   "execution_count": null,
   "id": "52d06445",
   "metadata": {},
   "outputs": [],
   "source": [
    "df[[\"Cours complet\", \"Montant.facturé\"]].groupby(by=\"Cours complet\").describe()"
   ]
  },
  {
   "cell_type": "code",
   "execution_count": null,
   "id": "9aa2b0a3",
   "metadata": {},
   "outputs": [],
   "source": [
    "df[[\"Cours complet\", \"Montant.facturé\"]].groupby(by=\"Cours complet\").sum().sort_values(\n",
    "    \"Montant.facturé\", ascending=False\n",
    ")  # .cumsum()"
   ]
  },
  {
   "cell_type": "code",
   "execution_count": null,
   "id": "4e8719cd",
   "metadata": {},
   "outputs": [],
   "source": [
    "df[[\"Tarif\", \"Montant.facturé\"]].groupby(by=\"Tarif\").count()"
   ]
  },
  {
   "cell_type": "code",
   "execution_count": null,
   "id": "2cd3fbbd",
   "metadata": {},
   "outputs": [],
   "source": [
    "pd.pivot_table(df, columns=\"Tarif\", values=\"Montant.facturé\", aggfunc=len)"
   ]
  },
  {
   "cell_type": "code",
   "execution_count": null,
   "id": "6a2cc9c7",
   "metadata": {},
   "outputs": [],
   "source": [
    "pd.pivot_table(\n",
    "    df, columns=\"Tarif\", index=\"Cours complet\", values=\"Montant.facturé\", aggfunc=len\n",
    ")"
   ]
  },
  {
   "cell_type": "code",
   "execution_count": null,
   "id": "a06ca8a6",
   "metadata": {},
   "outputs": [],
   "source": [
    "df[\"qfrule\"] = \"QF_CCS_\" + df.Tarif"
   ]
  },
  {
   "cell_type": "code",
   "execution_count": null,
   "id": "9bcb0d87",
   "metadata": {},
   "outputs": [],
   "source": [
    "from openfisca_core.reforms import Reform"
   ]
  },
  {
   "cell_type": "code",
   "execution_count": null,
   "id": "d1f9dc2d",
   "metadata": {},
   "outputs": [],
   "source": [
    "base.parameters.communes.strasbourg.centre_choregraphique.enfant._1_cours"
   ]
  },
  {
   "cell_type": "code",
   "execution_count": null,
   "id": "25e2ba27",
   "metadata": {},
   "outputs": [],
   "source": [
    "class CCSReform(Reform):\n",
    "    def apply(self):\n",
    "        def modify_ce_parameters(local_parameters):\n",
    "            P = local_parameters.communes.strasbourg.centre_choregraphique\n",
    "            reductions = [\n",
    "                (P.eveil, []),\n",
    "                (\n",
    "                    P.enfant._1_cours,\n",
    "                    [\n",
    "                        P.enfant._2_cours,\n",
    "                        P.enfant._3_cours,\n",
    "                        P.enfant._4_cours,\n",
    "                    ],\n",
    "                ),\n",
    "                (\n",
    "                    P.adulte._1_cours,\n",
    "                    [\n",
    "                        P.adulte._2_cours,\n",
    "                        P.adulte._3_cours,\n",
    "                        P.adulte._4_cours,\n",
    "                    ],\n",
    "                ),\n",
    "            ]\n",
    "            for node, nexts in reductions:\n",
    "                tp = extract_max_value(node.TP)\n",
    "                rb = tp * 0.5  # extract_max_value(node.RB)\n",
    "                ra = tp * 0.8\n",
    "                node.TP.brackets = [\n",
    "                    new_bracket(threshold=0, amount=rb),\n",
    "                    new_bracket(threshold=1, amount=ra),\n",
    "                    new_bracket(threshold=1200, amount=tp),\n",
    "                ]\n",
    "                for i, n in enumerate(nexts):\n",
    "                    coef = (i + 2) * (1 - (i + 2) * 0.05)\n",
    "                    brackets = [\n",
    "                        new_bracket(threshold=0, amount=rb * coef),\n",
    "                        new_bracket(threshold=1, amount=tp * coef),\n",
    "                    ]\n",
    "                    n.TP.brackets = brackets\n",
    "            return local_parameters\n",
    "\n",
    "        self.modify_parameters(modifier_function=modify_ce_parameters)"
   ]
  },
  {
   "cell_type": "code",
   "execution_count": null,
   "id": "a267d512",
   "metadata": {},
   "outputs": [],
   "source": [
    "ccs_reform = CCSReform(qf_fiscal_reform)\n",
    "statut_reform_r = StatutReform(ccs_reform)\n",
    "ce_reform_r = CEReform(statut_reform_r)\n",
    "full_reform = ce_reform_r"
   ]
  },
  {
   "cell_type": "code",
   "execution_count": null,
   "id": "9575cfd8",
   "metadata": {},
   "outputs": [],
   "source": [
    "recap_r, rdfs_r = get_results(base, 2, full_reform)\n",
    "recap_r"
   ]
  },
  {
   "cell_type": "code",
   "execution_count": null,
   "id": "e7f6a56b",
   "metadata": {},
   "outputs": [],
   "source": [
    "rdfs_r"
   ]
  },
  {
   "cell_type": "code",
   "execution_count": null,
   "id": "6ef45b5f",
   "metadata": {},
   "outputs": [],
   "source": [
    "recap_r[(\"Recettes base\", \"Moyenne\")].sum()"
   ]
  },
  {
   "cell_type": "code",
   "execution_count": null,
   "id": "ed36b670",
   "metadata": {},
   "outputs": [],
   "source": [
    "recap_r[(\"Recettes réforme\", \"Moyenne\")].sum()"
   ]
  },
  {
   "cell_type": "code",
   "execution_count": null,
   "id": "e577fcf3",
   "metadata": {},
   "outputs": [],
   "source": [
    "recap_r[(\"Recettes réforme\", \"Moyenne\")].sum() / recap_r[\n",
    "    (\"Recettes base\", \"Moyenne\")\n",
    "].sum()"
   ]
  },
  {
   "cell_type": "code",
   "execution_count": null,
   "id": "247fc5ee",
   "metadata": {},
   "outputs": [],
   "source": [
    "recap_r[(\"Recettes réforme\", \"Moyenne\")].sum() / recap_r[\n",
    "    (\"Recettes base\", \"Moyenne\")\n",
    "].sum()"
   ]
  },
  {
   "cell_type": "code",
   "execution_count": null,
   "id": "0eb30ff5",
   "metadata": {},
   "outputs": [],
   "source": [
    "recap_r[(\"Recettes réforme\", \"Moyenne\")].sum() / recap_r[\n",
    "    (\"Recettes base\", \"Moyenne\")\n",
    "].sum()"
   ]
  },
  {
   "cell_type": "code",
   "execution_count": null,
   "id": "182c648f",
   "metadata": {},
   "outputs": [],
   "source": [
    "recap_r[(\"Recettes réforme\", \"Moyenne\")].sum() / recap_r[\n",
    "    (\"Recettes base\", \"Moyenne\")\n",
    "].sum()"
   ]
  },
  {
   "cell_type": "code",
   "execution_count": null,
   "id": "9243481c",
   "metadata": {},
   "outputs": [],
   "source": [
    "recap_r[(\"Recettes réforme\", \"Moyenne\")].sum() / recap_r[\n",
    "    (\"Recettes base\", \"Moyenne\")\n",
    "].sum()"
   ]
  },
  {
   "cell_type": "code",
   "execution_count": null,
   "id": "7542bf65",
   "metadata": {},
   "outputs": [],
   "source": []
  }
 ],
 "metadata": {
  "kernelspec": {
   "display_name": "Python 3 (ipykernel)",
   "language": "python",
   "name": "python3"
  },
  "language_info": {
   "codemirror_mode": {
    "name": "ipython",
    "version": 3
   },
   "file_extension": ".py",
   "mimetype": "text/x-python",
   "name": "python",
   "nbconvert_exporter": "python",
   "pygments_lexer": "ipython3",
   "version": "3.9.16"
  }
 },
 "nbformat": 4,
 "nbformat_minor": 5
}
