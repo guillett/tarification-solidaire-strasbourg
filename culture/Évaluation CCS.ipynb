{
 "cells": [
  {
   "cell_type": "code",
   "execution_count": null,
   "id": "d3776cfa",
   "metadata": {},
   "outputs": [],
   "source": [
    "1"
   ]
  },
  {
   "cell_type": "code",
   "execution_count": null,
   "id": "de99f08c",
   "metadata": {},
   "outputs": [],
   "source": [
    "import numpy as np\n",
    "import pandas as pd\n",
    "\n",
    "pd.options.display.float_format = lambda v: \"{:_.2f}\".format(v).replace(\"_\", \" \")"
   ]
  },
  {
   "cell_type": "code",
   "execution_count": null,
   "id": "b2b857db",
   "metadata": {},
   "outputs": [],
   "source": [
    "from dotenv import load_dotenv\n",
    "\n",
    "load_dotenv()\n",
    "import os"
   ]
  },
  {
   "cell_type": "code",
   "execution_count": null,
   "id": "1ed0a4dd",
   "metadata": {},
   "outputs": [],
   "source": [
    "from openfisca_france import CountryTaxBenefitSystem"
   ]
  },
  {
   "cell_type": "code",
   "execution_count": null,
   "id": "a2c33907",
   "metadata": {},
   "outputs": [],
   "source": [
    "import sys\n",
    "\n",
    "sys.path.append(\"../technique\")\n",
    "from utils import *"
   ]
  },
  {
   "cell_type": "code",
   "execution_count": null,
   "id": "4b6d88ab",
   "metadata": {},
   "outputs": [],
   "source": [
    "from scenario import (\n",
    "    QfFiscalReform,\n",
    "    StatutReform,\n",
    "    CEReform,\n",
    "    new_bracket,\n",
    "    extract_max_value,\n",
    "    SheetBasedReform,\n",
    ")"
   ]
  },
  {
   "cell_type": "code",
   "execution_count": null,
   "id": "3e9c9233",
   "metadata": {},
   "outputs": [],
   "source": [
    "from centre_choregraphique import compute, build_data, get_df, fields, get_results"
   ]
  },
  {
   "cell_type": "code",
   "execution_count": null,
   "id": "49e57075",
   "metadata": {},
   "outputs": [],
   "source": [
    "base = CountryTaxBenefitSystem()\n",
    "base.load_extension(\"openfisca_france_local\")"
   ]
  },
  {
   "cell_type": "code",
   "execution_count": null,
   "id": "2c9c9554",
   "metadata": {},
   "outputs": [],
   "source": [
    "qf_fiscal_reform = QfFiscalReform(base)\n",
    "statut_reform = StatutReform(qf_fiscal_reform)\n",
    "ce_reform = CEReform(statut_reform)\n",
    "reform = ce_reform"
   ]
  },
  {
   "cell_type": "code",
   "execution_count": null,
   "id": "e50ea1a0",
   "metadata": {},
   "outputs": [],
   "source": [
    "recap, dfs = get_results(base, 2, reform)"
   ]
  },
  {
   "cell_type": "code",
   "execution_count": null,
   "id": "a1866226",
   "metadata": {},
   "outputs": [],
   "source": [
    "for v, res in dfs:\n",
    "    if res[~res.res].shape[0]:\n",
    "        print(v)\n",
    "        display(res)\n",
    "        # assert res[~res.res].shape[0] == 0"
   ]
  },
  {
   "cell_type": "code",
   "execution_count": null,
   "id": "a101d99e",
   "metadata": {},
   "outputs": [],
   "source": [
    "recap_i, dfs_i = get_results(base, \"sample_id#QFEMS\", reform, \"insee\")"
   ]
  },
  {
   "cell_type": "code",
   "execution_count": null,
   "id": "7cab401c",
   "metadata": {},
   "outputs": [],
   "source": [
    "for v, res in dfs_i:\n",
    "    if res[~res.res].shape[0]:\n",
    "        print(v)\n",
    "        display(res)\n",
    "        # assert res[~res.res].shape[0] == 0"
   ]
  }
 ],
 "metadata": {
  "kernelspec": {
   "display_name": "Python 3 (ipykernel)",
   "language": "python",
   "name": "python3"
  },
  "language_info": {
   "codemirror_mode": {
    "name": "ipython",
    "version": 3
   },
   "file_extension": ".py",
   "mimetype": "text/x-python",
   "name": "python",
   "nbconvert_exporter": "python",
   "pygments_lexer": "ipython3",
   "version": "3.9.16"
  }
 },
 "nbformat": 4,
 "nbformat_minor": 5
}
