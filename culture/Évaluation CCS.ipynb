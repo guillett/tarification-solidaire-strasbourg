{
 "cells": [
  {
   "cell_type": "code",
   "execution_count": null,
   "id": "d3776cfa",
   "metadata": {},
   "outputs": [],
   "source": [
    "1"
   ]
  },
  {
   "cell_type": "code",
   "execution_count": null,
   "id": "de99f08c",
   "metadata": {},
   "outputs": [],
   "source": [
    "import numpy as np\n",
    "import pandas as pd"
   ]
  },
  {
   "cell_type": "code",
   "execution_count": null,
   "id": "1ed0a4dd",
   "metadata": {},
   "outputs": [],
   "source": [
    "from openfisca_france import CountryTaxBenefitSystem"
   ]
  },
  {
   "cell_type": "code",
   "execution_count": null,
   "id": "a2c33907",
   "metadata": {},
   "outputs": [],
   "source": [
    "import sys\n",
    "\n",
    "sys.path.append(\"../technique\")\n",
    "from utils import *"
   ]
  },
  {
   "cell_type": "code",
   "execution_count": null,
   "id": "4b6d88ab",
   "metadata": {},
   "outputs": [],
   "source": [
    "from scenario import QfFiscalReform"
   ]
  },
  {
   "cell_type": "code",
   "execution_count": null,
   "id": "3e9c9233",
   "metadata": {},
   "outputs": [],
   "source": [
    "from centre_choregraphique import compute, build_data, get_df, fields, get_results"
   ]
  },
  {
   "cell_type": "code",
   "execution_count": null,
   "id": "49e57075",
   "metadata": {},
   "outputs": [],
   "source": [
    "base = CountryTaxBenefitSystem()\n",
    "base.load_extension(\"openfisca_france_local\")"
   ]
  },
  {
   "cell_type": "code",
   "execution_count": null,
   "id": "e50ea1a0",
   "metadata": {},
   "outputs": [],
   "source": [
    "rr = get_results(base, 2)"
   ]
  },
  {
   "cell_type": "code",
   "execution_count": null,
   "id": "f8568ced",
   "metadata": {},
   "outputs": [],
   "source": [
    "rr.sort_values((\"Recettes base\", \"Moyenne\"), ascending=False)"
   ]
  },
  {
   "cell_type": "code",
   "execution_count": null,
   "id": "866782c2",
   "metadata": {},
   "outputs": [],
   "source": [
    "qf_fiscal_reform = QfFiscalReform(base)"
   ]
  },
  {
   "cell_type": "code",
   "execution_count": null,
   "id": "b035f1ba",
   "metadata": {},
   "outputs": [],
   "source": [
    "vv = get_results(base, 2, qf_fiscal_reform)\n",
    "vv.sort_values((\"Recettes base\", \"Moyenne\"), ascending=False)"
   ]
  },
  {
   "cell_type": "code",
   "execution_count": null,
   "id": "3c9aa8cd",
   "metadata": {},
   "outputs": [],
   "source": [
    "df = get_df()"
   ]
  },
  {
   "cell_type": "code",
   "execution_count": null,
   "id": "a4435d4f",
   "metadata": {},
   "outputs": [],
   "source": [
    "df[[\"Cours complet\", \"Nom\"]].groupby(by=\"Cours complet\").count().sort_values(\n",
    "    \"Nom\", ascending=False\n",
    ")"
   ]
  },
  {
   "cell_type": "code",
   "execution_count": null,
   "id": "52d06445",
   "metadata": {},
   "outputs": [],
   "source": [
    "df[[\"Cours complet\", \"Montant.facturé\"]].groupby(by=\"Cours complet\").describe()"
   ]
  },
  {
   "cell_type": "code",
   "execution_count": null,
   "id": "9aa2b0a3",
   "metadata": {},
   "outputs": [],
   "source": [
    "df[[\"Cours complet\", \"Montant.facturé\"]].groupby(by=\"Cours complet\").sum().sort_values(\n",
    "    \"Montant.facturé\", ascending=False\n",
    ")  # .cumsum()"
   ]
  },
  {
   "cell_type": "code",
   "execution_count": null,
   "id": "4e8719cd",
   "metadata": {},
   "outputs": [],
   "source": [
    "df[[\"Tarif\", \"Montant.facturé\"]].groupby(by=\"Tarif\").count()"
   ]
  },
  {
   "cell_type": "code",
   "execution_count": null,
   "id": "2cd3fbbd",
   "metadata": {},
   "outputs": [],
   "source": [
    "pd.pivot_table(df, columns=\"Tarif\", values=\"Montant.facturé\", aggfunc=len)"
   ]
  },
  {
   "cell_type": "code",
   "execution_count": null,
   "id": "6a2cc9c7",
   "metadata": {},
   "outputs": [],
   "source": [
    "pd.pivot_table(\n",
    "    df, columns=\"Tarif\", index=\"Cours complet\", values=\"Montant.facturé\", aggfunc=len\n",
    ")"
   ]
  },
  {
   "cell_type": "code",
   "execution_count": null,
   "id": "a06ca8a6",
   "metadata": {},
   "outputs": [],
   "source": [
    "df[\"qfrule\"] = \"QF_CCS_\" + df.Tarif"
   ]
  },
  {
   "cell_type": "code",
   "execution_count": null,
   "id": "9bcb0d87",
   "metadata": {},
   "outputs": [],
   "source": [
    "for v in fields:\n",
    "    print(v)\n",
    "    data, base_df = build_data(df, v)\n",
    "    res = compute(base, data, base_df, fields[v])\n",
    "    display(res)\n",
    "    display(res[~res.res])\n",
    "    assert res[~res.res].shape[0] == 0"
   ]
  },
  {
   "cell_type": "code",
   "execution_count": null,
   "id": "25e2ba27",
   "metadata": {},
   "outputs": [],
   "source": []
  }
 ],
 "metadata": {
  "kernelspec": {
   "display_name": "Python 3 (ipykernel)",
   "language": "python",
   "name": "python3"
  },
  "language_info": {
   "codemirror_mode": {
    "name": "ipython",
    "version": 3
   },
   "file_extension": ".py",
   "mimetype": "text/x-python",
   "name": "python",
   "nbconvert_exporter": "python",
   "pygments_lexer": "ipython3",
   "version": "3.9.16"
  }
 },
 "nbformat": 4,
 "nbformat_minor": 5
}
