{
 "cells": [
  {
   "cell_type": "code",
   "execution_count": null,
   "id": "de99f08c",
   "metadata": {},
   "outputs": [],
   "source": [
    "import numpy as np\n",
    "import pandas as pd"
   ]
  },
  {
   "cell_type": "code",
   "execution_count": null,
   "id": "1ed0a4dd",
   "metadata": {},
   "outputs": [],
   "source": [
    "from openfisca_france import CountryTaxBenefitSystem"
   ]
  },
  {
   "cell_type": "code",
   "execution_count": null,
   "id": "a2c33907",
   "metadata": {},
   "outputs": [],
   "source": [
    "import sys\n",
    "\n",
    "sys.path.append(\"../technique\")\n",
    "from utils import *"
   ]
  },
  {
   "cell_type": "code",
   "execution_count": null,
   "id": "3e9c9233",
   "metadata": {},
   "outputs": [],
   "source": [
    "from centre_choregraphique import compute, get_df, fields, get_results"
   ]
  },
  {
   "cell_type": "code",
   "execution_count": null,
   "id": "49e57075",
   "metadata": {},
   "outputs": [],
   "source": [
    "base = CountryTaxBenefitSystem()\n",
    "base.load_extension(\"openfisca_france_local\")"
   ]
  },
  {
   "cell_type": "code",
   "execution_count": null,
   "id": "e50ea1a0",
   "metadata": {},
   "outputs": [],
   "source": [
    "get_results(base)"
   ]
  },
  {
   "cell_type": "code",
   "execution_count": null,
   "id": "3c9aa8cd",
   "metadata": {},
   "outputs": [],
   "source": [
    "df = get_df()"
   ]
  },
  {
   "cell_type": "code",
   "execution_count": null,
   "id": "a4435d4f",
   "metadata": {},
   "outputs": [],
   "source": [
    "df[[\"Cours complet\", \"Nom\"]].groupby(by=\"Cours complet\").count().sort_values(\n",
    "    \"Nom\", ascending=False\n",
    ")"
   ]
  },
  {
   "cell_type": "code",
   "execution_count": null,
   "id": "52d06445",
   "metadata": {},
   "outputs": [],
   "source": [
    "df[[\"Cours complet\", \"Montant.facturé\"]].groupby(by=\"Cours complet\").describe()"
   ]
  },
  {
   "cell_type": "code",
   "execution_count": null,
   "id": "9aa2b0a3",
   "metadata": {},
   "outputs": [],
   "source": [
    "df[[\"Cours complet\", \"Montant.facturé\"]].groupby(by=\"Cours complet\").sum().sort_values(\n",
    "    \"Montant.facturé\", ascending=False\n",
    ")  # .cumsum()"
   ]
  },
  {
   "cell_type": "code",
   "execution_count": null,
   "id": "4e8719cd",
   "metadata": {},
   "outputs": [],
   "source": [
    "df[[\"Tarif\", \"Montant.facturé\"]].groupby(by=\"Tarif\").count()"
   ]
  },
  {
   "cell_type": "code",
   "execution_count": null,
   "id": "2cd3fbbd",
   "metadata": {},
   "outputs": [],
   "source": [
    "pd.pivot_table(df, columns=\"Tarif\", values=\"Montant.facturé\", aggfunc=len)"
   ]
  },
  {
   "cell_type": "code",
   "execution_count": null,
   "id": "6a2cc9c7",
   "metadata": {},
   "outputs": [],
   "source": [
    "pd.pivot_table(\n",
    "    df, columns=\"Tarif\", index=\"Cours complet\", values=\"Montant.facturé\", aggfunc=len\n",
    ")"
   ]
  },
  {
   "cell_type": "code",
   "execution_count": null,
   "id": "a06ca8a6",
   "metadata": {},
   "outputs": [],
   "source": [
    "df[\"qfrule\"] = \"QF_CCS_\" + df.Tarif"
   ]
  },
  {
   "cell_type": "code",
   "execution_count": null,
   "id": "9bcb0d87",
   "metadata": {},
   "outputs": [],
   "source": [
    "for v in fields:\n",
    "    print(v)\n",
    "    res = compute(base, df, v)\n",
    "    display(res[~res.res])\n",
    "    assert res[~res.res].shape[0] == 0"
   ]
  },
  {
   "cell_type": "code",
   "execution_count": null,
   "id": "63c2c5fd",
   "metadata": {},
   "outputs": [],
   "source": []
  }
 ],
 "metadata": {
  "kernelspec": {
   "display_name": "Python 3 (ipykernel)",
   "language": "python",
   "name": "python3"
  },
  "language_info": {
   "codemirror_mode": {
    "name": "ipython",
    "version": 3
   },
   "file_extension": ".py",
   "mimetype": "text/x-python",
   "name": "python",
   "nbconvert_exporter": "python",
   "pygments_lexer": "ipython3",
   "version": "3.9.16"
  }
 },
 "nbformat": 4,
 "nbformat_minor": 5
}
