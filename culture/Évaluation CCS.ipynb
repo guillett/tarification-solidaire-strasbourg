{
 "cells": [
  {
   "cell_type": "code",
   "execution_count": null,
   "id": "de99f08c",
   "metadata": {},
   "outputs": [],
   "source": [
    "import numpy as np\n",
    "import pandas as pd"
   ]
  },
  {
   "cell_type": "code",
   "execution_count": null,
   "id": "1ed0a4dd",
   "metadata": {},
   "outputs": [],
   "source": [
    "from openfisca_survey_manager.scenarios import AbstractSurveyScenario\n",
    "from openfisca_france import CountryTaxBenefitSystem\n",
    "from openfisca_france.model.base import Famille, FoyerFiscal, Menage\n",
    "from openfisca_core import periods"
   ]
  },
  {
   "cell_type": "code",
   "execution_count": null,
   "id": "a2c33907",
   "metadata": {},
   "outputs": [],
   "source": [
    "import sys\n",
    "\n",
    "sys.path.append(\"../technique\")\n",
    "from utils import *"
   ]
  },
  {
   "cell_type": "code",
   "execution_count": null,
   "id": "49e57075",
   "metadata": {},
   "outputs": [],
   "source": [
    "base = CountryTaxBenefitSystem()\n",
    "base.load_extension(\"openfisca_france_local\")"
   ]
  },
  {
   "cell_type": "code",
   "execution_count": null,
   "id": "99e85e60",
   "metadata": {},
   "outputs": [],
   "source": [
    "raw_df = pd.read_csv(\n",
    "    \"/home/thomas/Nextcloud/CodeursEnLiberte/EMS/culture/CCS_ELEVES_FULL.csv\",\n",
    "    delimiter=\";\",\n",
    "    encoding=\"windows-1250\",\n",
    "    index_col=0,\n",
    "    decimal=\",\",\n",
    ")"
   ]
  },
  {
   "cell_type": "code",
   "execution_count": null,
   "id": "c1449e42",
   "metadata": {},
   "outputs": [],
   "source": [
    "df_types = pd.read_excel(\n",
    "    \"/home/thomas/Nextcloud/CodeursEnLiberte/EMS/culture/CSS_Tarifs20230720.xlsx\",\n",
    "    names=[\"Nom complet\", \"Profil\", \"Cours\", \"Type\", \"Tarif\", \"Période\", \"Montant\"],\n",
    "    index_col=None,\n",
    ")"
   ]
  },
  {
   "cell_type": "code",
   "execution_count": null,
   "id": "4592cc93",
   "metadata": {},
   "outputs": [],
   "source": [
    "df = raw_df.merge(df_types, how=\"left\", left_on=\"LABEL\", right_on=\"Nom complet\")\n",
    "df[\"Montant.facturé\"] = (\n",
    "    df[\"Montant.facturé\"]\n",
    "    .str.extract(\"(\\d*,\\d*) €\")[0]\n",
    "    .str.replace(\",\", \".\")\n",
    "    .astype(\"float\")\n",
    ")"
   ]
  },
  {
   "cell_type": "code",
   "execution_count": null,
   "id": "04524d6d",
   "metadata": {},
   "outputs": [],
   "source": [
    "df[\"Cours complet\"] = df.Profil + \"_\" + df.Cours + \"_\" + df.Type + \"_\" + df.Période"
   ]
  },
  {
   "cell_type": "code",
   "execution_count": null,
   "id": "a4435d4f",
   "metadata": {},
   "outputs": [],
   "source": [
    "df[[\"Cours complet\", \"Nom\"]].groupby(by=\"Cours complet\").count().sort_values(\n",
    "    \"Nom\", ascending=False\n",
    ")"
   ]
  },
  {
   "cell_type": "code",
   "execution_count": null,
   "id": "52d06445",
   "metadata": {},
   "outputs": [],
   "source": [
    "df[[\"Cours complet\", \"Montant.facturé\"]].groupby(by=\"Cours complet\").describe()"
   ]
  },
  {
   "cell_type": "code",
   "execution_count": null,
   "id": "9aa2b0a3",
   "metadata": {},
   "outputs": [],
   "source": [
    "df[[\"Cours complet\", \"Montant.facturé\"]].groupby(by=\"Cours complet\").sum().sort_values(\n",
    "    \"Montant.facturé\", ascending=False\n",
    ")  # .cumsum()"
   ]
  },
  {
   "cell_type": "code",
   "execution_count": null,
   "id": "4e8719cd",
   "metadata": {},
   "outputs": [],
   "source": [
    "df[[\"Tarif\", \"Montant.facturé\"]].groupby(by=\"Tarif\").count()"
   ]
  },
  {
   "cell_type": "code",
   "execution_count": null,
   "id": "2cd3fbbd",
   "metadata": {},
   "outputs": [],
   "source": [
    "pd.pivot_table(df, columns=\"Tarif\", values=\"Montant.facturé\", aggfunc=len)"
   ]
  },
  {
   "cell_type": "code",
   "execution_count": null,
   "id": "5d818c74",
   "metadata": {},
   "outputs": [],
   "source": [
    "248 / (248 + 155)"
   ]
  },
  {
   "cell_type": "code",
   "execution_count": null,
   "id": "a8117060",
   "metadata": {},
   "outputs": [],
   "source": [
    "10777 / 12"
   ]
  },
  {
   "cell_type": "code",
   "execution_count": null,
   "id": "6a2cc9c7",
   "metadata": {},
   "outputs": [],
   "source": [
    "pd.pivot_table(\n",
    "    df, columns=\"Tarif\", index=\"Cours complet\", values=\"Montant.facturé\", aggfunc=len\n",
    ")"
   ]
  },
  {
   "cell_type": "code",
   "execution_count": null,
   "id": "a06ca8a6",
   "metadata": {},
   "outputs": [],
   "source": [
    "df[\"qfrule\"] = \"QF_CCS_\" + df.Tarif"
   ]
  },
  {
   "cell_type": "code",
   "execution_count": null,
   "id": "7827ec7b",
   "metadata": {},
   "outputs": [],
   "source": [
    "fields = {\n",
    "    \"ENF_CP_EI_AN\": \"strasbourg_centre_choregraphique_eveil_prix\",\n",
    "    \"ADU_xx_1C_TR\": \"strasbourg_centre_choregraphique_adulte_1_cours_trimestre_prix\",\n",
    "    \"ADU_xx_1C_AN\": \"strasbourg_centre_choregraphique_adulte_1_cours_prix\",\n",
    "    \"ADU_xx_2C_AN\": \"strasbourg_centre_choregraphique_adulte_2_cours_prix\",\n",
    "    \"ADU_xx_3C_AN\": \"strasbourg_centre_choregraphique_adulte_3_cours_prix\",\n",
    "    \"ADU_xx_4C_AN\": \"strasbourg_centre_choregraphique_adulte_4_cours_prix\",\n",
    "    \"ENF_CL_1C_AN\": \"strasbourg_centre_choregraphique_enfant_1_cours_prix\",\n",
    "    \"ENF_CL_2C_AN\": \"strasbourg_centre_choregraphique_enfant_2_cours_prix\",\n",
    "    \"ENF_CL_3C_AN\": \"strasbourg_centre_choregraphique_enfant_3_cours_prix\",\n",
    "    \"ENF_CL_4C_AN\": \"strasbourg_centre_choregraphique_enfant_4_cours_prix\",\n",
    "}"
   ]
  },
  {
   "cell_type": "code",
   "execution_count": null,
   "id": "16470f75",
   "metadata": {},
   "outputs": [],
   "source": [
    "def compute(categorie):\n",
    "    openfisca_output_variable = fields[categorie]\n",
    "    product_df = df[df[\"Cours complet\"] == categorie]\n",
    "    individu_df = pd.DataFrame(\n",
    "        {\n",
    "            \"famille_id\": list(range(len(product_df))),\n",
    "        }\n",
    "    )\n",
    "\n",
    "    famille_df = pd.DataFrame(\n",
    "        {\n",
    "            \"qfrule\": product_df.qfrule,\n",
    "        }\n",
    "    )\n",
    "    determine_qf(famille_df, qfrules_constant)\n",
    "\n",
    "    menage_df = pd.DataFrame({})\n",
    "    foyerfiscaux_df = pd.DataFrame({})\n",
    "\n",
    "    individu_df[\"famille_role_index\"] = 0\n",
    "    individu_df[\"foyer_fiscal_id\"] = individu_df.famille_id\n",
    "    individu_df[\"foyer_fiscal_role_index\"] = 0\n",
    "    individu_df[\"menage_id\"] = individu_df.famille_id\n",
    "    individu_df[\"menage_role_index\"] = 0\n",
    "\n",
    "    data = dict(\n",
    "        input_data_frame_by_entity=dict(\n",
    "            individu=individu_df,\n",
    "            famille=famille_df,\n",
    "            menage=menage_df,\n",
    "            foyer_fiscal=foyerfiscaux_df,\n",
    "        )\n",
    "    )\n",
    "\n",
    "    scenario = StrasbourgSurveyScenario(base, data=data)\n",
    "\n",
    "    prix = scenario.simulation.calculate(openfisca_output_variable, base_period)\n",
    "    res_prix = pd.DataFrame(\n",
    "        data={\n",
    "            \"qf_caf\": famille_df.qf_caf,\n",
    "            \"res\": (prix - product_df[\"Montant.facturé\"]).abs() < 0.001,\n",
    "            \"prix_input\": product_df[\"Montant.facturé\"],\n",
    "            \"prix_output\": prix,\n",
    "        }\n",
    "    )\n",
    "    return res_prix"
   ]
  },
  {
   "cell_type": "code",
   "execution_count": null,
   "id": "9bcb0d87",
   "metadata": {},
   "outputs": [],
   "source": [
    "for v in fields:\n",
    "    print(v)\n",
    "    res = compute(v)\n",
    "    display(res[~res.res])\n",
    "    assert res[~res.res].shape[0] == 0"
   ]
  }
 ],
 "metadata": {
  "kernelspec": {
   "display_name": "Python 3 (ipykernel)",
   "language": "python",
   "name": "python3"
  },
  "language_info": {
   "codemirror_mode": {
    "name": "ipython",
    "version": 3
   },
   "file_extension": ".py",
   "mimetype": "text/x-python",
   "name": "python",
   "nbconvert_exporter": "python",
   "pygments_lexer": "ipython3",
   "version": "3.9.16"
  }
 },
 "nbformat": 4,
 "nbformat_minor": 5
}
