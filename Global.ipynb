{
 "cells": [
  {
   "cell_type": "code",
   "execution_count": null,
   "id": "8fd5f16d",
   "metadata": {},
   "outputs": [],
   "source": [
    "1"
   ]
  },
  {
   "cell_type": "code",
   "execution_count": null,
   "id": "117b8d5a",
   "metadata": {},
   "outputs": [],
   "source": [
    "import sys\n",
    "\n",
    "sys.path.append(\"technique\")\n",
    "from utils import *"
   ]
  },
  {
   "cell_type": "code",
   "execution_count": null,
   "id": "5b842271",
   "metadata": {},
   "outputs": [],
   "source": [
    "import pandas as pd"
   ]
  },
  {
   "cell_type": "code",
   "execution_count": null,
   "id": "7f506012",
   "metadata": {},
   "outputs": [],
   "source": [
    "import culture.centre_choregraphique\n",
    "import dee.activite\n",
    "import dee.cantine\n",
    "import mobilite.mobilite\n",
    "import sports.sports"
   ]
  },
  {
   "cell_type": "code",
   "execution_count": null,
   "id": "b282f887",
   "metadata": {},
   "outputs": [],
   "source": [
    "from openfisca_france import CountryTaxBenefitSystem"
   ]
  },
  {
   "cell_type": "code",
   "execution_count": null,
   "id": "986d16c1",
   "metadata": {},
   "outputs": [],
   "source": [
    "tbs = CountryTaxBenefitSystem()\n",
    "tbs.load_extension(\"openfisca_france_local\")"
   ]
  },
  {
   "cell_type": "code",
   "execution_count": null,
   "id": "5a913da9",
   "metadata": {},
   "outputs": [],
   "source": [
    "from scenario import QfFiscalReform, StatutReform, CEReform"
   ]
  },
  {
   "cell_type": "code",
   "execution_count": null,
   "id": "4dda7a44",
   "metadata": {},
   "outputs": [],
   "source": [
    "qf_fiscal_reform = QfFiscalReform(tbs)\n",
    "statut_reform = StatutReform(qf_fiscal_reform)\n",
    "ce_reform = CEReform(statut_reform)\n",
    "reform = ce_reform  # qf_fiscal_reform\n",
    "reform = qf_fiscal_reform"
   ]
  },
  {
   "cell_type": "code",
   "execution_count": null,
   "id": "ea20e6c6",
   "metadata": {},
   "outputs": [],
   "source": [
    "def ex(res):\n",
    "    if type(res) == tuple:\n",
    "        return res[0]\n",
    "    else:\n",
    "        return res"
   ]
  },
  {
   "cell_type": "code",
   "execution_count": null,
   "id": "23236834",
   "metadata": {},
   "outputs": [],
   "source": [
    "sample_count = 1"
   ]
  },
  {
   "cell_type": "code",
   "execution_count": null,
   "id": "98932c01",
   "metadata": {},
   "outputs": [],
   "source": [
    "res = [\n",
    "    culture.centre_choregraphique.get_results(tbs, sample_count, reform),\n",
    "    dee.activite.get_results(tbs, sample_count, reform),\n",
    "    dee.cantine.get_results(tbs, sample_count, reform),\n",
    "    mobilite.mobilite.get_results(tbs, sample_count, reform),\n",
    "    sports.sports.get_results(tbs, sample_count, reform),\n",
    "]"
   ]
  },
  {
   "cell_type": "code",
   "execution_count": null,
   "id": "75dee601",
   "metadata": {},
   "outputs": [],
   "source": [
    "pd.options.display.float_format = lambda v: \"{:_.2f}\".format(v).replace(\"_\", \" \")"
   ]
  },
  {
   "cell_type": "code",
   "execution_count": null,
   "id": "0cba7d51",
   "metadata": {},
   "outputs": [],
   "source": [
    "full = pd.concat([ex(r) for r in res])"
   ]
  },
  {
   "cell_type": "code",
   "execution_count": null,
   "id": "480b3660",
   "metadata": {},
   "outputs": [],
   "source": [
    "totals = (\n",
    "    full.groupby((\"Direction\", \"\"))\n",
    "    .sum(numeric_only=True)\n",
    "    .sort_values((\"Recettes base\", \"Moyenne\"), ascending=False)[\n",
    "        [(\"Recettes base\", \"Moyenne\")]\n",
    "    ]\n",
    "    .round()\n",
    "    .reset_index()\n",
    ")\n",
    "totals.columns = pd.Index([(\"Direction\", \"\"), (\"Direction\", \"Total\")])\n",
    "totals"
   ]
  },
  {
   "cell_type": "code",
   "execution_count": null,
   "id": "ac61460e",
   "metadata": {},
   "outputs": [],
   "source": [
    "writer = pd.ExcelWriter(\"Global_tables.xlsx\")\n",
    "totals.to_excel(writer, sheet_name=\"Direction Total\")\n",
    "writer.close()"
   ]
  },
  {
   "cell_type": "code",
   "execution_count": null,
   "id": "9c9c19b7",
   "metadata": {},
   "outputs": [],
   "source": [
    "details = pd.merge(\n",
    "    full, totals, left_on=[(\"Direction\", \"\")], right_on=[(\"Direction\", \"\")]\n",
    ").sort_values([(\"Direction\", \"Total\"), (\"Recettes base\", \"Moyenne\")], ascending=False)\n",
    "main_details = details[\n",
    "    [(\"Direction\", \"\"), (\"Service\", \"\"), (\"Quantité\", \"\"), (\"Recettes base\", \"Moyenne\")]\n",
    "]\n",
    "main_details"
   ]
  },
  {
   "cell_type": "code",
   "execution_count": null,
   "id": "26d62fc6",
   "metadata": {},
   "outputs": [],
   "source": [
    "if reform:\n",
    "    full[(\"Écart\", \"euros\")] = (\n",
    "        full[((\"Recettes réforme\", \"Moyenne\"))] - full[((\"Recettes base\", \"Moyenne\"))]\n",
    "    )\n",
    "    full[(\"Écart\", \"%\")] = (\n",
    "        full[((\"Écart\", \"euros\"))] / full[((\"Recettes base\", \"Moyenne\"))]\n",
    "    )\n",
    "    resume = (\n",
    "        full.groupby((\"Direction\", \"\"))\n",
    "        .sum(numeric_only=True)\n",
    "        .sort_values((\"Recettes base\", \"Moyenne\"), ascending=False)\n",
    "    )\n",
    "    resume[(\"Écart\", \"%\")] = (\n",
    "        resume[((\"Écart\", \"euros\"))] / resume[((\"Recettes base\", \"Moyenne\"))]\n",
    "    )\n",
    "    resume"
   ]
  },
  {
   "cell_type": "code",
   "execution_count": null,
   "id": "398a9871",
   "metadata": {},
   "outputs": [],
   "source": [
    "resume"
   ]
  },
  {
   "cell_type": "code",
   "execution_count": null,
   "id": "f64fc594",
   "metadata": {},
   "outputs": [],
   "source": [
    "from openfisca_core.parameters.parameter_scale import (\n",
    "    ParameterScale,\n",
    "    SingleAmountTaxScale,\n",
    ")\n",
    "from openfisca_core import parameters"
   ]
  },
  {
   "cell_type": "code",
   "execution_count": null,
   "id": "babdb7cb",
   "metadata": {},
   "outputs": [],
   "source": [
    "from baremes import baremes, build_table_data"
   ]
  },
  {
   "cell_type": "code",
   "execution_count": null,
   "id": "011e69f7",
   "metadata": {},
   "outputs": [],
   "source": [
    "for b in baremes:\n",
    "    assert type(baremes[b](tbs.parameters)) == ParameterScale\n",
    "    assert (\n",
    "        type(baremes[b](tbs.get_parameters_at_instant(base_period)))\n",
    "        == SingleAmountTaxScale\n",
    "    )"
   ]
  },
  {
   "cell_type": "code",
   "execution_count": null,
   "id": "4868b6da",
   "metadata": {},
   "outputs": [],
   "source": [
    "len(baremes)"
   ]
  },
  {
   "cell_type": "code",
   "execution_count": null,
   "id": "d0402c35",
   "metadata": {},
   "outputs": [],
   "source": [
    "if False:\n",
    "    from dotenv import load_dotenv\n",
    "\n",
    "    load_dotenv()\n",
    "    import os\n",
    "    import requests\n",
    "    import json\n",
    "\n",
    "    GRIST_DOC_ID = os.getenv(\"GRIST_DOC_ID\")\n",
    "    GRIST_API_KEY = os.getenv(\"GRIST_API_KEY\")\n",
    "    GRIST_SERVER = os.getenv(\"GRIST_SERVER\")\n",
    "\n",
    "    columns, records = build_table_data(tbs)\n",
    "    res_table = requests.post(\n",
    "        f\"{GRIST_SERVER}/api/docs/{GRIST_DOC_ID}/tables\",\n",
    "        data=json.dumps({\"tables\": [{\"id\": \"Tableau QF\", \"columns\": columns}]}),\n",
    "        headers={\n",
    "            \"Authorization\": f\"Bearer {GRIST_API_KEY}\",\n",
    "            \"Content-Type\": \"application/json\",\n",
    "        },\n",
    "    ).json()\n",
    "    table_id = res_table[\"tables\"][0][\"id\"]\n",
    "    requests.post(\n",
    "        f\"{GRIST_SERVER}/api/docs/{GRIST_DOC_ID}/tables/{table_id}/records\",\n",
    "        data=json.dumps({\"records\": records}),\n",
    "        headers={\n",
    "            \"Authorization\": f\"Bearer {GRIST_API_KEY}\",\n",
    "            \"Content-Type\": \"application/json\",\n",
    "        },\n",
    "    )\n",
    "    res_records = requests.get(\n",
    "        f\"{GRIST_SERVER}/api/docs/{GRIST_DOC_ID}/tables/{table_id}/records\",\n",
    "        headers={\n",
    "            \"Authorization\": f\"Bearer {GRIST_API_KEY}\",\n",
    "        },\n",
    "    ).json()\n",
    "    res_records"
   ]
  },
  {
   "cell_type": "code",
   "execution_count": null,
   "id": "1e14a0a1",
   "metadata": {},
   "outputs": [],
   "source": [
    "df, compens_constant = mobilite.mobilite.get_df()\n",
    "rdf = pd.DataFrame(\n",
    "    data={\n",
    "        \"pu_fichier\": df.PU,\n",
    "        \"pu_calc\": df.PU * 0,\n",
    "        \"tp\": df.PU * 0,\n",
    "    }\n",
    ")\n",
    "data, complement_df = mobilite.mobilite.build_data(df, rdf)"
   ]
  },
  {
   "cell_type": "code",
   "execution_count": null,
   "id": "55a32283",
   "metadata": {},
   "outputs": [],
   "source": [
    "btbs = CountryTaxBenefitSystem()\n",
    "btbs.load_extension(\"openfisca_france_local\")"
   ]
  },
  {
   "cell_type": "code",
   "execution_count": null,
   "id": "4b37fac8",
   "metadata": {},
   "outputs": [],
   "source": [
    "b_scenario = StrasbourgSurveyScenario(btbs, data=data)\n",
    "(b_res, b_recettes) = mobilite.mobilite.compute_result(\n",
    "    b_scenario, complement_df, 0, compens_constant\n",
    ")"
   ]
  },
  {
   "cell_type": "code",
   "execution_count": null,
   "id": "90f9688b",
   "metadata": {},
   "outputs": [],
   "source": [
    "btbs = CountryTaxBenefitSystem()\n",
    "btbs.load_extension(\"openfisca_france_local\")\n",
    "b_scenario = StrasbourgSurveyScenario(btbs, data=data)\n",
    "(b_res, b_recettes) = mobilite.mobilite.compute_result(\n",
    "    b_scenario, complement_df, 0, compens_constant\n",
    ")"
   ]
  },
  {
   "cell_type": "code",
   "execution_count": null,
   "id": "2335d972",
   "metadata": {},
   "outputs": [],
   "source": [
    "rtbs = gristSimulationReform(btbs)"
   ]
  },
  {
   "cell_type": "code",
   "execution_count": null,
   "id": "42dfde66",
   "metadata": {},
   "outputs": [],
   "source": [
    "r_scenario = StrasbourgSurveyScenario(rtbs, data=data)\n",
    "(r_res, r_recettes) = mobilite.mobilite.compute_result(\n",
    "    r_scenario, complement_df, 0, compens_constant\n",
    ")"
   ]
  },
  {
   "cell_type": "code",
   "execution_count": null,
   "id": "106e5b54",
   "metadata": {},
   "outputs": [],
   "source": [
    "comp_res = b_res.merge(\n",
    "    r_res, left_index=True, right_index=True, suffixes=[\"_pre\", \"_post\"]\n",
    ")"
   ]
  },
  {
   "cell_type": "code",
   "execution_count": null,
   "id": "958c8bb5",
   "metadata": {},
   "outputs": [],
   "source": [
    "full.__dict__"
   ]
  },
  {
   "cell_type": "code",
   "execution_count": null,
   "id": "902d72de",
   "metadata": {},
   "outputs": [],
   "source": [
    "comp_res.sample_id_pre.unique()"
   ]
  },
  {
   "cell_type": "code",
   "execution_count": null,
   "id": "2c725edb",
   "metadata": {},
   "outputs": [],
   "source": [
    "pd.options.display.float_format = lambda v: \"{:_.2f}\".format(v).replace(\"_\", \" \")"
   ]
  },
  {
   "cell_type": "code",
   "execution_count": null,
   "id": "ee6a3373",
   "metadata": {},
   "outputs": [],
   "source": [
    "pd.pivot_table(\n",
    "    comp_res,\n",
    "    index=\"pu_calc_ht_pre\",\n",
    "    columns=\"pu_calc_ht_post\",\n",
    "    values=\"sample_id_pre\",\n",
    "    aggfunc=len,\n",
    "    fill_value=0,\n",
    ")"
   ]
  },
  {
   "cell_type": "code",
   "execution_count": null,
   "id": "4286433c",
   "metadata": {},
   "outputs": [],
   "source": [
    "b_res.groupby(\"sample_id\").pu_calc_ht.sum(numeric_only=True)"
   ]
  }
 ],
 "metadata": {
  "kernelspec": {
   "display_name": "Python 3 (ipykernel)",
   "language": "python",
   "name": "python3"
  },
  "language_info": {
   "codemirror_mode": {
    "name": "ipython",
    "version": 3
   },
   "file_extension": ".py",
   "mimetype": "text/x-python",
   "name": "python",
   "nbconvert_exporter": "python",
   "pygments_lexer": "ipython3",
   "version": "3.9.16"
  }
 },
 "nbformat": 4,
 "nbformat_minor": 5
}
