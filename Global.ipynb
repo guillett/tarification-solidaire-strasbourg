{
 "cells": [
  {
   "cell_type": "code",
   "execution_count": 1,
   "id": "117b8d5a",
   "metadata": {},
   "outputs": [],
   "source": [
    "import sys\n",
    "\n",
    "sys.path.append(\"technique\")\n",
    "from utils import *"
   ]
  },
  {
   "cell_type": "code",
   "execution_count": 2,
   "id": "027d73c3",
   "metadata": {},
   "outputs": [],
   "source": [
    "from qf import qftype_override\n",
    "\n",
    "qftype_override.accesses"
   ]
  },
  {
   "cell_type": "code",
   "execution_count": 3,
   "id": "5b842271",
   "metadata": {},
   "outputs": [],
   "source": [
    "import pandas as pd"
   ]
  },
  {
   "cell_type": "code",
   "execution_count": 4,
   "id": "7f506012",
   "metadata": {},
   "outputs": [],
   "source": [
    "import culture.centre_choregraphique\n",
    "import dee.activite\n",
    "import dee.cantine\n",
    "import mobilite.mobilite\n",
    "import sports.sports"
   ]
  },
  {
   "cell_type": "code",
   "execution_count": 5,
   "id": "b282f887",
   "metadata": {},
   "outputs": [],
   "source": [
    "from openfisca_france import CountryTaxBenefitSystem"
   ]
  },
  {
   "cell_type": "code",
   "execution_count": 6,
   "id": "986d16c1",
   "metadata": {},
   "outputs": [],
   "source": [
    "tbs = CountryTaxBenefitSystem()\n",
    "tbs.load_extension(\"openfisca_france_local\")"
   ]
  },
  {
   "cell_type": "code",
   "execution_count": 7,
   "id": "98932c01",
   "metadata": {},
   "outputs": [],
   "source": [
    "full = pd.concat(\n",
    "    [\n",
    "        culture.centre_choregraphique.get_results(tbs),\n",
    "        dee.activite.get_results(tbs),\n",
    "        dee.cantine.get_results(tbs),\n",
    "        mobilite.mobilite.get_results(tbs),\n",
    "        sports.sports.get_results(tbs),\n",
    "    ],\n",
    "    ignore_index=True,\n",
    ")"
   ]
  },
  {
   "cell_type": "code",
   "execution_count": 8,
   "id": "d7e98aac",
   "metadata": {},
   "outputs": [],
   "source": [
    "qftype_override.accesses"
   ]
  },
  {
   "cell_type": "code",
   "execution_count": 9,
   "id": "c6505fef",
   "metadata": {},
   "outputs": [],
   "source": [
    "def t(*arg):\n",
    "    print(arg)"
   ]
  },
  {
   "cell_type": "code",
   "execution_count": 10,
   "id": "d4861d5b",
   "metadata": {},
   "outputs": [],
   "source": [
    "t(1, 2, 3)"
   ]
  },
  {
   "cell_type": "code",
   "execution_count": 11,
   "id": "ec2873c9",
   "metadata": {},
   "outputs": [],
   "source": [
    "t(*(1, 2, 3))"
   ]
  },
  {
   "cell_type": "code",
   "execution_count": null,
   "id": "b0472674",
   "metadata": {},
   "outputs": [],
   "source": []
  },
  {
   "cell_type": "code",
   "execution_count": 12,
   "id": "3ce458aa",
   "metadata": {},
   "outputs": [],
   "source": [
    "for k in qftype_override:\n",
    "    if k not in qftype_override.accesses:\n",
    "        print(k)"
   ]
  },
  {
   "cell_type": "code",
   "execution_count": 13,
   "id": "35c9a718",
   "metadata": {},
   "outputs": [],
   "source": [
    "pd.options.display.float_format = lambda v: \"{:_.0f}\".format(v).replace(\"_\", \" \")"
   ]
  },
  {
   "cell_type": "code",
   "execution_count": 14,
   "id": "0a8df7a7",
   "metadata": {},
   "outputs": [],
   "source": [
    "598224 + 648576"
   ]
  },
  {
   "cell_type": "code",
   "execution_count": 15,
   "id": "4b7738b9",
   "metadata": {},
   "outputs": [],
   "source": [
    "full.sort_values(\"Recettes\", ascending=False, ignore_index=True)"
   ]
  },
  {
   "cell_type": "code",
   "execution_count": 16,
   "id": "f64fc594",
   "metadata": {},
   "outputs": [],
   "source": [
    "from openfisca_core.parameters.parameter_scale import (\n",
    "    ParameterScale,\n",
    "    SingleAmountTaxScale,\n",
    ")\n",
    "from openfisca_core import parameters"
   ]
  },
  {
   "cell_type": "code",
   "execution_count": 17,
   "id": "a72c66c5",
   "metadata": {},
   "outputs": [],
   "source": [
    "baremes = {\n",
    "    \"apl_1_2j\": lambda p: p.communes.strasbourg.periscolaire_loisirs.demi_journee.bareme,\n",
    "    \"apl_j\": lambda p: p.communes.strasbourg.periscolaire_loisirs.journee.bareme,\n",
    "    \"apm\": lambda p: p.communes.strasbourg.periscolaire_maternelle.bareme,\n",
    "    \"dee_std\": lambda p: p.metropoles.strasbourg.tarifs_cantine,\n",
    "    \"dee_veg\": lambda p: p.metropoles.strasbourg.tarifs_repas_vege,\n",
    "    \"dee_pan\": lambda p: p.metropoles.strasbourg.tarifs_repas_panier,\n",
    "    \"ccs_eveil_tp\": lambda p: p.communes.strasbourg.centre_choregraphique.eveil.TP,\n",
    "    \"ccs_eveil_ra\": lambda p: p.communes.strasbourg.centre_choregraphique.eveil.RA,\n",
    "    \"ccs_eveil_rb\": lambda p: p.communes.strasbourg.centre_choregraphique.eveil.RB,\n",
    "    \"ccs_enf_1c_tp\": lambda p: p.communes.strasbourg.centre_choregraphique.enfant._1_cours.TP,\n",
    "    \"ccs_enf_1c_ra\": lambda p: p.communes.strasbourg.centre_choregraphique.enfant._1_cours.RA,\n",
    "    \"ccs_enf_1c_rb\": lambda p: p.communes.strasbourg.centre_choregraphique.enfant._1_cours.RB,\n",
    "    \"ccs_enf_2c_tp\": lambda p: p.communes.strasbourg.centre_choregraphique.enfant._2_cours.TP,\n",
    "    \"ccs_enf_2c_ra\": lambda p: p.communes.strasbourg.centre_choregraphique.enfant._2_cours.RA,\n",
    "    \"ccs_enf_2c_rb\": lambda p: p.communes.strasbourg.centre_choregraphique.enfant._2_cours.RB,\n",
    "    \"ccs_enf_3c_tp\": lambda p: p.communes.strasbourg.centre_choregraphique.enfant._3_cours.TP,\n",
    "    \"ccs_enf_3c_ra\": lambda p: p.communes.strasbourg.centre_choregraphique.enfant._3_cours.RA,\n",
    "    \"ccs_enf_3c_rb\": lambda p: p.communes.strasbourg.centre_choregraphique.enfant._3_cours.RB,\n",
    "    \"ccs_enf_4c_tp\": lambda p: p.communes.strasbourg.centre_choregraphique.enfant._4_cours.TP,\n",
    "    \"ccs_enf_4c_ra\": lambda p: p.communes.strasbourg.centre_choregraphique.enfant._4_cours.RA,\n",
    "    \"ccs_enf_4c_rb\": lambda p: p.communes.strasbourg.centre_choregraphique.enfant._4_cours.RB,\n",
    "    \"ccs_adu_1c_tri_tp\": lambda p: p.communes.strasbourg.centre_choregraphique.adulte._1_cours_trimestre.TP,\n",
    "    \"ccs_adu_1c_tri_ra\": lambda p: p.communes.strasbourg.centre_choregraphique.adulte._1_cours_trimestre.RA,\n",
    "    \"ccs_adu_1c_tri_rb\": lambda p: p.communes.strasbourg.centre_choregraphique.adulte._1_cours_trimestre.RB,\n",
    "    \"ccs_adu_1c_tp\": lambda p: p.communes.strasbourg.centre_choregraphique.adulte._1_cours.TP,\n",
    "    \"ccs_adu_1c_ra\": lambda p: p.communes.strasbourg.centre_choregraphique.adulte._1_cours.RA,\n",
    "    \"ccs_adu_1c_rb\": lambda p: p.communes.strasbourg.centre_choregraphique.adulte._1_cours.RB,\n",
    "    \"ccs_adu_2c_tp\": lambda p: p.communes.strasbourg.centre_choregraphique.adulte._2_cours.TP,\n",
    "    \"ccs_adu_2c_ra\": lambda p: p.communes.strasbourg.centre_choregraphique.adulte._2_cours.RA,\n",
    "    \"ccs_adu_2c_rb\": lambda p: p.communes.strasbourg.centre_choregraphique.adulte._2_cours.RB,\n",
    "    \"ccs_adu_3c_tp\": lambda p: p.communes.strasbourg.centre_choregraphique.adulte._3_cours.TP,\n",
    "    \"ccs_adu_3c_ra\": lambda p: p.communes.strasbourg.centre_choregraphique.adulte._3_cours.RA,\n",
    "    \"ccs_adu_3c_rb\": lambda p: p.communes.strasbourg.centre_choregraphique.adulte._3_cours.RB,\n",
    "    \"ccs_adu_4c_tp\": lambda p: p.communes.strasbourg.centre_choregraphique.adulte._4_cours.TP,\n",
    "    \"ccs_adu_4c_ra\": lambda p: p.communes.strasbourg.centre_choregraphique.adulte._4_cours.RA,\n",
    "    \"ccs_adu_4c_rb\": lambda p: p.communes.strasbourg.centre_choregraphique.adulte._4_cours.RB,\n",
    "    \"cons_enf12_agent\": lambda p: p.communes.strasbourg.conservatoire.traditionnel.agent_ems.enfant_12,\n",
    "    \"cons_enf12_ems\": lambda p: p.communes.strasbourg.conservatoire.traditionnel.habitant_ems.enfant_12,\n",
    "    \"cons_enf12_ext\": lambda p: p.communes.strasbourg.conservatoire.traditionnel.hors_ems.enfant_12,\n",
    "    \"cons_enf3\": lambda p: p.communes.strasbourg.conservatoire.traditionnel.enfant_3,\n",
    "    \"cons_ha_ems_1\": lambda p: p.communes.strasbourg.conservatoire.horaires_amenages.habitant_ems.enfant_1,\n",
    "    \"cons_ha_ext_1\": lambda p: p.communes.strasbourg.conservatoire.horaires_amenages.hors_ems.enfant_1,\n",
    "    \"cons_ha_ems_2\": lambda p: p.communes.strasbourg.conservatoire.horaires_amenages.habitant_ems.enfant_2,\n",
    "    \"cons_ha_ext_2\": lambda p: p.communes.strasbourg.conservatoire.horaires_amenages.hors_ems.enfant_2,\n",
    "    \"cons_ha_ems_3\": lambda p: p.communes.strasbourg.conservatoire.horaires_amenages.habitant_ems.enfant_3,\n",
    "    \"cons_ha_ext_3\": lambda p: p.communes.strasbourg.conservatoire.horaires_amenages.hors_ems.enfant_3,\n",
    "    \"cons_ha_ems_4\": lambda p: p.communes.strasbourg.conservatoire.horaires_amenages.habitant_ems.enfant_4,\n",
    "    \"cons_ha_ext_4\": lambda p: p.communes.strasbourg.conservatoire.horaires_amenages.hors_ems.enfant_4,\n",
    "    \"cts_reduit\": lambda p: p.metropoles.strasbourg.tarification_solidaire.bareme,\n",
    "    \"cts_base\": lambda p: p.metropoles.strasbourg.tarification_solidaire.bareme_reduit,\n",
    "    \"cts_emeraude\": lambda p: p.metropoles.strasbourg.tarification_solidaire.bareme_emeraude,\n",
    "    \"pat_pu\": lambda p: p.communes.strasbourg.patinoire.entree_unitaire.bareme_qf,\n",
    "    \"pat_pu_reduit\": lambda p: p.communes.strasbourg.patinoire.entree_unitaire.bareme_qf_reduit,\n",
    "    \"pat_10\": lambda p: p.communes.strasbourg.patinoire._10_entrees.bareme_qf,\n",
    "    \"pat_10_reduit\": lambda p: p.communes.strasbourg.patinoire._10_entrees.bareme_qf_reduit,\n",
    "    \"pat_5_ce\": lambda p: p.communes.strasbourg.patinoire.ce.entrees,\n",
    "    \"pis_pu\": lambda p: p.communes.strasbourg.piscine.entree_unitaire.bareme_qf,\n",
    "    \"pis_pu_reduit\": lambda p: p.communes.strasbourg.piscine.entree_unitaire.bareme_qf_reduit,\n",
    "    \"pis_10\": lambda p: p.communes.strasbourg.piscine._10_entrees.bareme_qf,\n",
    "    \"pis_10_reduit\": lambda p: p.communes.strasbourg.piscine._10_entrees.bareme_qf_reduit,\n",
    "    \"pis_5ce\": lambda p: p.communes.strasbourg.piscine.ce.entrees,\n",
    "    \"pis_abo_ann\": lambda p: p.communes.strasbourg.piscine.abonnement_annuel.bareme,\n",
    "    \"pis_abo_ann_reduit\": lambda p: p.communes.strasbourg.piscine.abonnement_annuel.bareme_reduit,\n",
    "    \"pis_abo_ann_ce\": lambda p: p.communes.strasbourg.piscine.ce.abonnement,\n",
    "    \"pis_abo_ete\": lambda p: p.communes.strasbourg.piscine.abonnement_ete,\n",
    "    \"pis_cycle\": lambda p: p.communes.strasbourg.piscine.cycle.bareme,\n",
    "    \"pis_stage_ete\": lambda p: p.communes.strasbourg.piscine.stage_ete.bareme,\n",
    "    \"pis_stage_vac\": lambda p: p.communes.strasbourg.piscine.stage_vacances.bareme,\n",
    "    \"pis_stage_5s\": lambda p: p.communes.strasbourg.piscine.stage_5_seances.bareme,\n",
    "}\n",
    "baremes_ = {\n",
    "    \"apl_1_2j\": lambda p: p.communes.strasbourg.periscolaire_loisirs.demi_journee.bareme,\n",
    "}"
   ]
  },
  {
   "cell_type": "code",
   "execution_count": 18,
   "id": "011e69f7",
   "metadata": {},
   "outputs": [],
   "source": [
    "for b in baremes:\n",
    "    assert type(baremes[b](tbs.parameters)) == ParameterScale"
   ]
  },
  {
   "cell_type": "code",
   "execution_count": 19,
   "id": "4868b6da",
   "metadata": {},
   "outputs": [],
   "source": [
    "len(baremes)"
   ]
  },
  {
   "cell_type": "code",
   "execution_count": 20,
   "id": "625356ac",
   "metadata": {},
   "outputs": [],
   "source": [
    "p = tbs.get_parameters_at_instant(base_period)\n",
    "threshold_rows = {}\n",
    "for column in baremes:\n",
    "    bareme = baremes[column](p)\n",
    "    for index, level in enumerate(bareme.thresholds):\n",
    "        if level not in threshold_rows:\n",
    "            threshold_rows[level] = {\"QF\": level}\n",
    "        threshold_rows[level][column] = bareme.amounts[index]"
   ]
  },
  {
   "cell_type": "code",
   "execution_count": 21,
   "id": "24fedd02",
   "metadata": {},
   "outputs": [],
   "source": [
    "level_data = [*threshold_rows.keys()]\n",
    "level_data.sort()"
   ]
  },
  {
   "cell_type": "code",
   "execution_count": 22,
   "id": "207d5511",
   "metadata": {},
   "outputs": [],
   "source": [
    "for b in baremes:\n",
    "    assert type(baremes[b](p)) == SingleAmountTaxScale"
   ]
  },
  {
   "cell_type": "code",
   "execution_count": 23,
   "id": "4ea29910",
   "metadata": {},
   "outputs": [],
   "source": [
    "from dotenv import load_dotenv\n",
    "\n",
    "load_dotenv()"
   ]
  },
  {
   "cell_type": "code",
   "execution_count": 24,
   "id": "3103d86e",
   "metadata": {},
   "outputs": [],
   "source": [
    "import os\n",
    "import requests\n",
    "import json"
   ]
  },
  {
   "cell_type": "code",
   "execution_count": 25,
   "id": "debfab7f",
   "metadata": {},
   "outputs": [],
   "source": [
    "GRIST_DOC_ID = os.getenv(\"GRIST_DOC_ID\")\n",
    "GRIST_API_KEY = os.getenv(\"GRIST_API_KEY\")\n",
    "GRIST_SERVER = os.getenv(\"GRIST_SERVER\")"
   ]
  },
  {
   "cell_type": "code",
   "execution_count": 26,
   "id": "948e082a",
   "metadata": {},
   "outputs": [],
   "source": [
    "columns = [{\"id\": \"QF\", \"fields\": {\"type\": \"Numeric\"}}]\n",
    "for b in baremes:\n",
    "    columns.append({\"id\": b, \"fields\": {\"type\": \"Numeric\"}})"
   ]
  },
  {
   "cell_type": "code",
   "execution_count": 27,
   "id": "d0402c35",
   "metadata": {},
   "outputs": [],
   "source": [
    "res_table = requests.post(\n",
    "    f\"{GRIST_SERVER}/api/docs/{GRIST_DOC_ID}/tables\",\n",
    "    data=json.dumps({\"tables\": [{\"id\": \"Tableau QF\", \"columns\": columns}]}),\n",
    "    headers={\n",
    "        \"Authorization\": f\"Bearer {GRIST_API_KEY}\",\n",
    "        \"Content-Type\": \"application/json\",\n",
    "    },\n",
    ").json()\n",
    "res_table"
   ]
  },
  {
   "cell_type": "code",
   "execution_count": null,
   "id": "9bb0c4bc",
   "metadata": {},
   "outputs": [],
   "source": [
    "table_id = res_table[\"tables\"][0][\"id\"]\n",
    "table_id"
   ]
  },
  {
   "cell_type": "code",
   "execution_count": null,
   "id": "b2537897",
   "metadata": {},
   "outputs": [],
   "source": [
    "records = [{\"fields\": threshold_rows[i]} for i in level_data]"
   ]
  },
  {
   "cell_type": "code",
   "execution_count": null,
   "id": "8686e027",
   "metadata": {},
   "outputs": [],
   "source": [
    "res_table = requests.post(\n",
    "    f\"{GRIST_SERVER}/api/docs/{GRIST_DOC_ID}/tables/{table_id}/records\",\n",
    "    data=json.dumps({\"records\": records}),\n",
    "    headers={\n",
    "        \"Authorization\": f\"Bearer {GRIST_API_KEY}\",\n",
    "        \"Content-Type\": \"application/json\",\n",
    "    },\n",
    ").json()\n",
    "res_table"
   ]
  },
  {
   "cell_type": "code",
   "execution_count": null,
   "id": "73423358",
   "metadata": {},
   "outputs": [],
   "source": [
    "table_id = \"Tableau_QF\"\n",
    "res_records = requests.get(\n",
    "    f\"{GRIST_SERVER}/api/docs/{GRIST_DOC_ID}/tables/{table_id}/records\",\n",
    "    headers={\n",
    "        \"Authorization\": f\"Bearer {GRIST_API_KEY}\",\n",
    "    },\n",
    ").json()\n",
    "res_records"
   ]
  },
  {
   "cell_type": "code",
   "execution_count": null,
   "id": "0bba9c57",
   "metadata": {},
   "outputs": [],
   "source": [
    "atbs = CountryTaxBenefitSystem()\n",
    "atbs.load_extension(\"openfisca_france_local\")"
   ]
  },
  {
   "cell_type": "code",
   "execution_count": null,
   "id": "fe9aa827",
   "metadata": {},
   "outputs": [],
   "source": [
    "rtbs = CountryTaxBenefitSystem()\n",
    "rtbs.load_extension(\"openfisca_france_local\")"
   ]
  },
  {
   "cell_type": "code",
   "execution_count": null,
   "id": "e0b614f1",
   "metadata": {},
   "outputs": [],
   "source": [
    "base_period\n",
    "period = \"2022-01\""
   ]
  },
  {
   "cell_type": "code",
   "execution_count": null,
   "id": "af146b1a",
   "metadata": {},
   "outputs": [],
   "source": [
    "for b in baremes:\n",
    "    brackets = []\n",
    "    for r in res_records[\"records\"]:\n",
    "        if b in r[\"fields\"] and r[\"fields\"][b] is not None:\n",
    "            brackets.append(\n",
    "                parameters.ParameterScaleBracket(\n",
    "                    data={\n",
    "                        \"threshold\": {period: {\"value\": r[\"fields\"][\"QF\"]}},\n",
    "                        \"amount\": {period: {\"value\": r[\"fields\"][b]}},\n",
    "                    }\n",
    "                )\n",
    "            )\n",
    "    bb = baremes[b](rtbs.parameters)\n",
    "    bb.brackets = brackets"
   ]
  },
  {
   "cell_type": "code",
   "execution_count": null,
   "id": "c41517e5",
   "metadata": {},
   "outputs": [],
   "source": [
    "df, compens_constant = mobilite.mobilite.get_df()"
   ]
  },
  {
   "cell_type": "code",
   "execution_count": null,
   "id": "b2466cf2",
   "metadata": {},
   "outputs": [],
   "source": [
    "rdf = pd.DataFrame(\n",
    "    data={\n",
    "        \"pu_fichier\": df.PU,\n",
    "        \"pu_calc\": df.PU * 0,\n",
    "        \"tp\": df.PU * 0,\n",
    "    }\n",
    ")\n",
    "data, complement_df = mobilite.mobilite.build_data(df, rdf)"
   ]
  },
  {
   "cell_type": "code",
   "execution_count": null,
   "id": "ff8779c0",
   "metadata": {},
   "outputs": [],
   "source": [
    "scenario = StrasbourgSurveyScenario(rtbs, data=data)"
   ]
  },
  {
   "cell_type": "code",
   "execution_count": null,
   "id": "f61ecf4e",
   "metadata": {},
   "outputs": [],
   "source": [
    "variable_name = \"eurometropole_strasbourg_tarification_transport\"\n",
    "variable = scenario.simulation.tax_benefit_system.get_variable(\n",
    "    variable_name, check_existence=True\n",
    ")"
   ]
  },
  {
   "cell_type": "code",
   "execution_count": null,
   "id": "a0f04c4f",
   "metadata": {},
   "outputs": [],
   "source": [
    "full_r = pd.concat(\n",
    "    [\n",
    "        culture.centre_choregraphique.get_results(rtbs),\n",
    "        dee.activite.get_results(rtbs),\n",
    "        dee.cantine.get_results(rtbs),\n",
    "        mobilite.mobilite.get_results(rtbs),\n",
    "        sports.sports.get_results(rtbs),\n",
    "    ],\n",
    "    ignore_index=True,\n",
    ")"
   ]
  },
  {
   "cell_type": "code",
   "execution_count": null,
   "id": "71111e03",
   "metadata": {},
   "outputs": [],
   "source": [
    "full_r"
   ]
  },
  {
   "cell_type": "code",
   "execution_count": null,
   "id": "b87dcabc",
   "metadata": {},
   "outputs": [],
   "source": [
    "comp_df = full.merge(full_r, on=[\"SERVICE\"], suffixes=[\"\", \"_R\"]).sort_values(\n",
    "    \"RECETTES\", ascending=False\n",
    ")"
   ]
  },
  {
   "cell_type": "code",
   "execution_count": null,
   "id": "59b2e435",
   "metadata": {},
   "outputs": [],
   "source": [
    "comp_df"
   ]
  },
  {
   "cell_type": "code",
   "execution_count": null,
   "id": "ee37fdea",
   "metadata": {},
   "outputs": [],
   "source": []
  }
 ],
 "metadata": {
  "kernelspec": {
   "display_name": "Python 3 (ipykernel)",
   "language": "python",
   "name": "python3"
  },
  "language_info": {
   "codemirror_mode": {
    "name": "ipython",
    "version": 3
   },
   "file_extension": ".py",
   "mimetype": "text/x-python",
   "name": "python",
   "nbconvert_exporter": "python",
   "pygments_lexer": "ipython3",
   "version": "3.9.16"
  }
 },
 "nbformat": 4,
 "nbformat_minor": 5
}
